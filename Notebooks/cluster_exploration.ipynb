{
 "cells": [
  {
   "cell_type": "code",
   "execution_count": 2,
   "id": "39b93523-db82-4e2f-9725-bae5edef9a96",
   "metadata": {},
   "outputs": [
    {
     "name": "stdout",
     "output_type": "stream",
     "text": [
      "60273_clusters.pq\n",
      "8707_clusters.pq\n",
      "clusters__umap_freiburg_100.pq\n",
      "clusters_umap_freiburg_100_3_gaussian_euclidean_complete_chebyshev_3.pq\n",
      "clusters_umap_freiburg_100_3_gaussian_euclidean_ward_2.pq\n",
      "morphotopes_freiburg_100_3_gaussian.pq\n"
     ]
    }
   ],
   "source": [
    "!ls /data/cluster_data/"
   ]
  },
  {
   "cell_type": "code",
   "execution_count": null,
   "id": "acbb0b3d-4062-439f-af32-1bea30e1db21",
   "metadata": {},
   "outputs": [],
   "source": []
  }
 ],
 "metadata": {
  "kernelspec": {
   "display_name": "Python 3 (ipykernel)",
   "language": "python",
   "name": "python3"
  },
  "language_info": {
   "codemirror_mode": {
    "name": "ipython",
    "version": 3
   },
   "file_extension": ".py",
   "mimetype": "text/x-python",
   "name": "python",
   "nbconvert_exporter": "python",
   "pygments_lexer": "ipython3",
   "version": "3.11.9"
  }
 },
 "nbformat": 4,
 "nbformat_minor": 5
}
