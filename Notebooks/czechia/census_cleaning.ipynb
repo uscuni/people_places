{
 "cells": [
  {
   "cell_type": "markdown",
   "id": "b8300df7-4a74-413f-9cd8-5ea775d6ee31",
   "metadata": {},
   "source": [
    "# Census data cleaning\n",
    "\n",
    "This notebook removes unnecessary columns from the original files and creates new files with relevant information."
   ]
  },
  {
   "cell_type": "code",
   "execution_count": 83,
   "id": "1337342e-b1c1-4376-809d-50e75afa0b32",
   "metadata": {},
   "outputs": [],
   "source": [
    "from glob import glob\n",
    "import pandas as pd\n",
    "import geopandas as gpd\n",
    "from pathlib import Path"
   ]
  },
  {
   "cell_type": "code",
   "execution_count": 395,
   "id": "42da9c65-91c0-49a2-a28e-c2289fe085de",
   "metadata": {},
   "outputs": [
    {
     "name": "stdout",
     "output_type": "stream",
     "text": [
      "nadzsjd_education_2021.csv   nadzsjd_housing_2021.csv\n",
      "nadzsjd_employed_2021.csv    nadzsjd_population_2021.csv\n",
      "nadzsjd_households_2021.csv\n"
     ]
    }
   ],
   "source": [
    "ls  /data/uscuni-restricted/ready_census"
   ]
  },
  {
   "cell_type": "code",
   "execution_count": 396,
   "id": "eb6b679f-ade1-4a7b-86fc-5cb1d5ce3939",
   "metadata": {},
   "outputs": [
    {
     "name": "stderr",
     "output_type": "stream",
     "text": [
      "/tmp/ipykernel_2866267/3623801890.py:21: DtypeWarning: Columns (11) have mixed types. Specify dtype option on import or set low_memory=False.\n",
      "  data = pd.read_csv(path)\n"
     ]
    }
   ],
   "source": [
    "# Load files\n",
    "files = glob('/data/uscuni-restricted/preprocessed_census/*')\n",
    "\n",
    "# Load file with relevant column information\n",
    "names = pd.read_csv('/data/uscuni-restricted/preprocessed_census/_col_names.csv').set_index('File/Column Name')\n",
    "\n",
    "# Choose columns to drop\n",
    "drop = names[names['use'] == 0]\n",
    "\n",
    "#Remove unnecessary columns\n",
    "drop = drop.drop(columns={'use','name'})\n",
    "\n",
    "# Process all files\n",
    "for file in files:\n",
    "    # Read path of the files\n",
    "    path = Path(file)\n",
    "    # Exclude files that start with _\n",
    "    if path.stem.startswith(\"_\"):\n",
    "        continue\n",
    "    # Open data \n",
    "    data = pd.read_csv(path)\n",
    "    # Clean data\n",
    "    data_cleaned = data.drop(columns=drop.index, errors='ignore')\n",
    "    # Save the new dataset    \n",
    "    data_cleaned.to_csv(f'/data/uscuni-restricted/cleaned_preprocessed_census/{path.stem}_cleaned.csv', index= False)"
   ]
  },
  {
   "cell_type": "code",
   "execution_count": 398,
   "id": "fdc81a2f-7508-4c1a-a245-0b93dca89b05",
   "metadata": {},
   "outputs": [],
   "source": [
    "# Load cleaned files\n",
    "cleaned_files = glob('/data/uscuni-restricted/cleaned_preprocessed_census/*')"
   ]
  },
  {
   "cell_type": "code",
   "execution_count": 401,
   "id": "d9e3f73c-5085-4c7e-b177-c8aef1b4abcf",
   "metadata": {},
   "outputs": [],
   "source": [
    "# Define common columns\n",
    "common_columns = ['NUTS_2', 'naz_oblast', 'NUTS_3', 'naz_kraj', 'kod_okres', 'naz_okres','kod_orp', 'naz_orp', 'kod_obec', 'naz_obec', 'kod_mco', 'nazev_mco','nadzsjd']  "
   ]
  },
  {
   "cell_type": "code",
   "execution_count": 399,
   "id": "e98e5bd9-291e-40ad-b3d7-f69e68d81bae",
   "metadata": {},
   "outputs": [],
   "source": [
    "# Load all data for households and safe them to a new folder\n",
    "households = pd.read_csv(cleaned_files[11])\n",
    "households.to_csv('/data/uscuni-restricted/ready_census/nadzsjd_households_2021.csv', index= False)"
   ]
  },
  {
   "cell_type": "code",
   "execution_count": 402,
   "id": "754cba97-54e2-4b83-8d85-21e5c7b9f6c9",
   "metadata": {},
   "outputs": [],
   "source": [
    "# Load all data for housing\n",
    "housing1 = pd.read_csv(cleaned_files[8])\n",
    "housing2 = pd.read_csv(cleaned_files[6])\n",
    "housing3 = pd.read_csv(cleaned_files[1])"
   ]
  },
  {
   "cell_type": "code",
   "execution_count": 343,
   "id": "7f2cf635-5665-4bae-8a07-b0e6230b913e",
   "metadata": {},
   "outputs": [],
   "source": [
    "# Merge data for housing\n",
    "housing4 = pd.merge(housing1, housing2, on=common_columns, how='outer')\n",
    "housing5 = pd.merge(housing3, housing4, on=common_columns, how='outer')"
   ]
  },
  {
   "cell_type": "code",
   "execution_count": 346,
   "id": "48cbef77-7209-4ccd-9ea8-4c6ff2cfc846",
   "metadata": {},
   "outputs": [],
   "source": [
    "# Save merged housing data\n",
    "housing5.to_csv('/data/uscuni-restricted/ready_census/nadzsjd_housing_2021.csv', index= False)"
   ]
  },
  {
   "cell_type": "code",
   "execution_count": 347,
   "id": "1b7a5262-4a82-4ccb-9a6c-83b8f2bf1ba1",
   "metadata": {},
   "outputs": [],
   "source": [
    "# Load all data for education and safe them to a new folder\n",
    "education = pd.read_csv(cleaned_files[14])\n",
    "education.to_csv('/data/uscuni-restricted/ready_census/nadzsjd_education_2021.csv', index= False)"
   ]
  },
  {
   "cell_type": "code",
   "execution_count": 373,
   "id": "07d7464e-f415-4b25-8bb4-593424da3a3b",
   "metadata": {},
   "outputs": [
    {
     "name": "stderr",
     "output_type": "stream",
     "text": [
      "/tmp/ipykernel_2866267/89411794.py:1: DtypeWarning: Columns (11) have mixed types. Specify dtype option on import or set low_memory=False.\n",
      "  emp1 = pd.read_csv(cleaned_files[16])\n"
     ]
    }
   ],
   "source": [
    "# Load all data for the employed population\n",
    "emp1 = pd.read_csv(cleaned_files[16])\n",
    "emp2 = pd.read_csv(cleaned_files[2])\n",
    "emp3 = pd.read_csv(cleaned_files[7])"
   ]
  },
  {
   "cell_type": "code",
   "execution_count": 374,
   "id": "acae94a8-f9de-46e3-973a-908efdce94f7",
   "metadata": {},
   "outputs": [],
   "source": [
    "# Rename columns \n",
    "emp1 = emp1.rename(columns={'nuts_2_regs':'NUTS_2',\n",
    "                            'nazev_regionu_soudrznosti': 'naz_oblast',\n",
    "                            'nuts3_kraj': 'NUTS_3',\n",
    "                            'nazev_kraje':'naz_kraj',\n",
    "                            'nazev_okresu':'naz_okres',\n",
    "                            'nazev_orp': 'naz_orp',\n",
    "                            'nazev_obec':'naz_obec'})"
   ]
  },
  {
   "cell_type": "code",
   "execution_count": 375,
   "id": "39619a2e-c82a-412b-8b73-a1e847c77513",
   "metadata": {},
   "outputs": [],
   "source": [
    "# Merge data for employment\n",
    "emp4 = pd.merge(emp1, emp2, on=common_columns, how='outer')\n",
    "emp5 = pd.merge(emp3, emp4, on=common_columns, how='outer')"
   ]
  },
  {
   "cell_type": "code",
   "execution_count": 376,
   "id": "10ba10c1-96fb-40eb-8e47-3c659bf02591",
   "metadata": {},
   "outputs": [],
   "source": [
    "# Save merged employment data\n",
    "emp5.to_csv('/data/uscuni-restricted/ready_census/nadzsjd_employed_2021.csv', index= False)"
   ]
  },
  {
   "cell_type": "code",
   "execution_count": 377,
   "id": "beb3fa1c-f0e1-425d-b98b-b4aa87dbf95e",
   "metadata": {},
   "outputs": [],
   "source": [
    "# Load all data for population\n",
    "pop1 = pd.read_csv(cleaned_files[1])\n",
    "pop2 = pd.read_csv(cleaned_files[3])\n",
    "pop3 = pd.read_csv(cleaned_files[4])\n",
    "pop4 = pd.read_csv(cleaned_files[5])\n",
    "pop5 = pd.read_csv(cleaned_files[12])\n",
    "pop6 = pd.read_csv(cleaned_files[15])"
   ]
  },
  {
   "cell_type": "code",
   "execution_count": 385,
   "id": "910621c6-2a39-4f33-b1b0-15f6ac66dd1e",
   "metadata": {},
   "outputs": [],
   "source": [
    "# Rename columns\n",
    "pop2 = pop2.rename(columns={'nuts_2_regs':'NUTS_2',\n",
    "                           'nazev_regionu_soudrznosti': 'naz_oblast',\n",
    "                            'nuts3_kraj': 'NUTS_3',\n",
    "                            'nazev_kraje':'naz_kraj',\n",
    "                            'nazev_okresu':'naz_okres',\n",
    "                            'nazev_orp': 'naz_orp',\n",
    "                            'nazev_obec':'naz_obec'})"
   ]
  },
  {
   "cell_type": "code",
   "execution_count": 389,
   "id": "f29636ce-8dd9-4a01-a029-c1fa3d21b7b0",
   "metadata": {},
   "outputs": [],
   "source": [
    "# Merge data for population\n",
    "pop7 = pd.merge(pop1, pop2, on=common_columns, how='outer')\n",
    "pop8 = pd.merge(pop3, pop4, on=common_columns, how='outer')\n",
    "pop9 = pd.merge(pop5, pop6, on=common_columns, how='outer')\n",
    "pop10 = pd.merge(pop7, pop8, on=common_columns, how='outer')\n",
    "pop11 = pd.merge(pop9, pop10, on=common_columns, how='outer')"
   ]
  },
  {
   "cell_type": "code",
   "execution_count": 391,
   "id": "c874a313-66f6-4e73-87ca-356945add46f",
   "metadata": {},
   "outputs": [],
   "source": [
    "# Save merged popualtion data\n",
    "pop11.to_csv('/data/uscuni-restricted/ready_census/nadzsjd_population_2021.csv', index= False)"
   ]
  }
 ],
 "metadata": {
  "kernelspec": {
   "display_name": "Python 3 (ipykernel)",
   "language": "python",
   "name": "python3"
  },
  "language_info": {
   "codemirror_mode": {
    "name": "ipython",
    "version": 3
   },
   "file_extension": ".py",
   "mimetype": "text/x-python",
   "name": "python",
   "nbconvert_exporter": "python",
   "pygments_lexer": "ipython3",
   "version": "3.12.7"
  }
 },
 "nbformat": 4,
 "nbformat_minor": 5
}
