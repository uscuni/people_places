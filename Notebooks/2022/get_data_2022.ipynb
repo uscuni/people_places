{
 "cells": [
  {
   "cell_type": "code",
   "execution_count": 11,
   "id": "d34879d7-a021-4966-9cc5-4354e61d71e8",
   "metadata": {},
   "outputs": [],
   "source": [
    "import httpx\n",
    "import requests\n",
    "import pooch"
   ]
  },
  {
   "cell_type": "code",
   "execution_count": 12,
   "id": "4ddc464f-deb4-4ae0-a590-09afa76b0e5d",
   "metadata": {},
   "outputs": [],
   "source": [
    "#specify data directory\n",
    "DATADIR = \"/data/2022/\""
   ]
  },
  {
   "cell_type": "code",
   "execution_count": 13,
   "id": "ca7fba7a-6a76-4e26-8bd8-a550a5386660",
   "metadata": {},
   "outputs": [],
   "source": [
    "rent = 'https://www.zensus2022.de/static/Zensus_Veroeffentlichung/Zensus2022_Durchschn_Nettokaltmiete.zip'"
   ]
  },
  {
   "cell_type": "code",
   "execution_count": 14,
   "id": "2342f7f5-fa3f-47ea-98a5-f6399b2b9d71",
   "metadata": {},
   "outputs": [],
   "source": [
    "#get response\n",
    "response_rent = httpx.get(rent)\n"
   ]
  },
  {
   "cell_type": "code",
   "execution_count": 15,
   "id": "a4346e8d-51b2-4296-8312-1d0979e2e296",
   "metadata": {},
   "outputs": [
    {
     "data": {
      "text/plain": [
       "<Response [200 OK]>"
      ]
     },
     "execution_count": 15,
     "metadata": {},
     "output_type": "execute_result"
    }
   ],
   "source": [
    "response_rent"
   ]
  },
  {
   "cell_type": "code",
   "execution_count": 16,
   "id": "a49aa105-487a-43fd-8af8-3a9096d83748",
   "metadata": {},
   "outputs": [],
   "source": [
    "#save\n",
    "with open(DATADIR + \"rent.zip\", \"wb\") as f:\n",
    "    f.write(response_income.content)"
   ]
  },
  {
   "cell_type": "code",
   "execution_count": 17,
   "id": "cbd9df64-26a0-4b44-b7ca-8c33f296627f",
   "metadata": {},
   "outputs": [
    {
     "name": "stdout",
     "output_type": "stream",
     "text": [
      "Datensatzbeschreibung_Durchschn_Nettokaltmiete_Gitterzellen.xlsx\n",
      "Zensus2022_Durchschn_Nettokaltmiete_100m-Gitter.csv\n",
      "Zensus2022_Durchschn_Nettokaltmiete_10km-Gitter.csv\n",
      "Zensus2022_Durchschn_Nettokaltmiete_1km-Gitter.csv\n",
      "income.zip\n",
      "rent.zip\n"
     ]
    }
   ],
   "source": [
    "!ls /data/2022"
   ]
  },
  {
   "cell_type": "code",
   "execution_count": 10,
   "id": "e1eb68c1-e1d9-4e59-b302-feecb9e89242",
   "metadata": {},
   "outputs": [
    {
     "name": "stdout",
     "output_type": "stream",
     "text": [
      "total 9160\n",
      "-rw-r--r-- 1 lisa crew 9379271 Aug  1 14:35 income.zip\n"
     ]
    }
   ],
   "source": [
    "!ls -l /data/2022"
   ]
  },
  {
   "cell_type": "code",
   "execution_count": null,
   "id": "d98318e1-ba34-41a6-ba6b-54436c9f7c4b",
   "metadata": {},
   "outputs": [],
   "source": [
    "unzip file.zip"
   ]
  }
 ],
 "metadata": {
  "kernelspec": {
   "display_name": "Python 3 (ipykernel)",
   "language": "python",
   "name": "python3"
  },
  "language_info": {
   "codemirror_mode": {
    "name": "ipython",
    "version": 3
   },
   "file_extension": ".py",
   "mimetype": "text/x-python",
   "name": "python",
   "nbconvert_exporter": "python",
   "pygments_lexer": "ipython3",
   "version": "3.11.9"
  }
 },
 "nbformat": 4,
 "nbformat_minor": 5
}
