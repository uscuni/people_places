{
 "cells": [
  {
   "cell_type": "code",
   "execution_count": 1,
   "id": "d34879d7-a021-4966-9cc5-4354e61d71e8",
   "metadata": {},
   "outputs": [],
   "source": [
    "import httpx"
   ]
  },
  {
   "cell_type": "code",
   "execution_count": 2,
   "id": "6e655aa6-4bd0-42be-8d2a-7eec67df784d",
   "metadata": {},
   "outputs": [],
   "source": [
    "data = 'https://www.zensus2011.de/SharedDocs/Downloads/DE/Pressemitteilung/DemografischeGrunddaten/csv_Bevoelkerung_100m_Gitter.zip?__blob=publicationFile&v=2'"
   ]
  },
  {
   "cell_type": "code",
   "execution_count": 3,
   "id": "2342f7f5-fa3f-47ea-98a5-f6399b2b9d71",
   "metadata": {},
   "outputs": [],
   "source": [
    "response = httpx.get(data)"
   ]
  },
  {
   "cell_type": "code",
   "execution_count": 10,
   "id": "a49aa105-487a-43fd-8af8-3a9096d83748",
   "metadata": {},
   "outputs": [],
   "source": [
    "with open(\"/data/population.zip\", \"wb\") as f:\n",
    "    f.write(response.content)"
   ]
  },
  {
   "cell_type": "code",
   "execution_count": 11,
   "id": "61960598-d164-4776-a641-a13af3441f4c",
   "metadata": {},
   "outputs": [
    {
     "name": "stdout",
     "output_type": "stream",
     "text": [
      "population.zip\ttest.npy  test.txt\n"
     ]
    }
   ],
   "source": [
    "!ls /data/"
   ]
  },
  {
   "cell_type": "code",
   "execution_count": null,
   "id": "a2b21451-0daf-43c7-b6dd-466720b0f36c",
   "metadata": {},
   "outputs": [],
   "source": []
  },
  {
   "cell_type": "code",
   "execution_count": null,
   "id": "9a10bbcd-b937-4598-b5ed-5bbf2a7457ba",
   "metadata": {},
   "outputs": [],
   "source": []
  }
 ],
 "metadata": {
  "kernelspec": {
   "display_name": "Python 3 (ipykernel)",
   "language": "python",
   "name": "python3"
  },
  "language_info": {
   "codemirror_mode": {
    "name": "ipython",
    "version": 3
   },
   "file_extension": ".py",
   "mimetype": "text/x-python",
   "name": "python",
   "nbconvert_exporter": "python",
   "pygments_lexer": "ipython3",
   "version": "3.11.9"
  }
 },
 "nbformat": 4,
 "nbformat_minor": 5
}
