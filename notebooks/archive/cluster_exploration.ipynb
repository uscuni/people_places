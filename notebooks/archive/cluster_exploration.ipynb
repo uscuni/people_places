{
 "cells": [
  {
   "cell_type": "code",
   "execution_count": null,
   "id": "39b93523-db82-4e2f-9725-bae5edef9a96",
   "metadata": {},
   "outputs": [],
   "source": [
    "!ls /data/cluster_data/"
   ]
  },
  {
   "cell_type": "code",
   "execution_count": null,
   "id": "acbb0b3d-4062-439f-af32-1bea30e1db21",
   "metadata": {},
   "outputs": [],
   "source": []
  }
 ],
 "metadata": {
  "kernelspec": {
   "display_name": "Python 3 (ipykernel)",
   "language": "python",
   "name": "python3"
  },
  "language_info": {
   "codemirror_mode": {
    "name": "ipython",
    "version": 3
   },
   "file_extension": ".py",
   "mimetype": "text/x-python",
   "name": "python",
   "nbconvert_exporter": "python",
   "pygments_lexer": "ipython3"
  }
 },
 "nbformat": 4,
 "nbformat_minor": 5
}
