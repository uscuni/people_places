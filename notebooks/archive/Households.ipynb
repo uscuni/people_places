{
 "cells": [
  {
   "cell_type": "code",
   "execution_count": null,
   "metadata": {},
   "outputs": [],
   "source": [
    "import pandas as pd"
   ]
  },
  {
   "cell_type": "code",
   "execution_count": null,
   "metadata": {},
   "outputs": [],
   "source": [
    "path = \"/Users/lisawinkler/Documents/PhD/Data/Germany_Census_2011/\""
   ]
  },
  {
   "cell_type": "code",
   "execution_count": null,
   "metadata": {},
   "outputs": [],
   "source": [
    "translation = pd.read_excel(path + \"Data_Format_Census.xlsx\", sheet_name=\"Translations\")"
   ]
  },
  {
   "cell_type": "code",
   "execution_count": null,
   "metadata": {},
   "outputs": [],
   "source": [
    "translation"
   ]
  },
  {
   "cell_type": "code",
   "execution_count": null,
   "metadata": {},
   "outputs": [],
   "source": [
    "translation_dict = translation.set_index(\"Original\")[\"Translated\"].to_dict()"
   ]
  },
  {
   "cell_type": "code",
   "execution_count": null,
   "metadata": {},
   "outputs": [],
   "source": [
    "translation_dict"
   ]
  },
  {
   "cell_type": "code",
   "execution_count": null,
   "metadata": {},
   "outputs": [],
   "source": [
    "households = pd.read_csv(\n",
    "    path + \"csv_Haushalte_100m_Gitter/Haushalte100m.csv\",\n",
    "    delimiter=\",\",\n",
    "    encoding=\"cp1252\",\n",
    ")"
   ]
  },
  {
   "cell_type": "code",
   "execution_count": null,
   "metadata": {},
   "outputs": [],
   "source": [
    "households"
   ]
  },
  {
   "cell_type": "code",
   "execution_count": null,
   "metadata": {},
   "outputs": [],
   "source": [
    "pivot_df = households.pivot(\n",
    "    index=\"Gitter_ID_100m\", columns=[\"Merkmal\", \"Auspraegung_Text\"], values=\"Anzahl\"\n",
    ")"
   ]
  },
  {
   "cell_type": "code",
   "execution_count": null,
   "metadata": {},
   "outputs": [],
   "source": [
    "pivot_df"
   ]
  },
  {
   "cell_type": "markdown",
   "metadata": {},
   "source": [
    "0 and missing information is different. exclude NaNs from calculations. treat them in the formula e.g. 0 replacement (only if nans mean 0), or exclude them (mask isna)"
   ]
  },
  {
   "cell_type": "markdown",
   "metadata": {},
   "source": [
    "read documentation on what nan means"
   ]
  },
  {
   "cell_type": "code",
   "execution_count": null,
   "metadata": {},
   "outputs": [],
   "source": [
    "pivot_df = pivot_df.rename(columns=translation_dict)"
   ]
  },
  {
   "cell_type": "code",
   "execution_count": null,
   "metadata": {},
   "outputs": [],
   "source": [
    "pivot_df"
   ]
  },
  {
   "cell_type": "code",
   "execution_count": null,
   "metadata": {},
   "outputs": [],
   "source": [
    "pivot_df[\"TOTAL\"][\"Total\"].sum()"
   ]
  },
  {
   "cell_type": "code",
   "execution_count": null,
   "metadata": {},
   "outputs": [],
   "source": [
    "pivot_df[\"HHSIZE_DC\"] = pivot_df[\"HHSIZE\"].sum(axis=1) / pivot_df[\"TOTAL\"][\"Total\"]"
   ]
  },
  {
   "cell_type": "code",
   "execution_count": null,
   "metadata": {},
   "outputs": [],
   "source": [
    "pivot_df[\"HHSIZE_DC\"].hist(bins=10)"
   ]
  },
  {
   "cell_type": "code",
   "execution_count": null,
   "metadata": {},
   "outputs": [],
   "source": [
    "import matplotlib.pyplot as plt\n",
    "import numpy as np\n",
    "\n",
    "# Assuming pivot_df['HHSIZE_DC'] is a pandas Series\n",
    "data = pivot_df[\"HHSIZE_DC\"]\n",
    "\n",
    "# Calculate the histogram (bin counts) and bin edges\n",
    "counts, bins = np.histogram(data)\n",
    "\n",
    "# Normalize the counts to get percentage\n",
    "counts = counts / counts.sum() * 100\n",
    "\n",
    "# Create the histogram using plt.hist, using the bins from np.histogram\n",
    "plt.hist(bins[:-1], bins, weights=counts)\n",
    "\n",
    "plt.xlabel(\"HHSIZE_DC\")\n",
    "plt.ylabel(\"%\")\n",
    "plt.title(\"Histogram of HHSIZE_DC\")\n",
    "\n",
    "plt.show()"
   ]
  },
  {
   "cell_type": "code",
   "execution_count": null,
   "metadata": {},
   "outputs": [],
   "source": [
    "pivot_df.to_csv(path + \"Households100m_pivot.csv\", sep=\",\", encoding=\"cp1252\")"
   ]
  },
  {
   "cell_type": "code",
   "execution_count": null,
   "metadata": {},
   "outputs": [],
   "source": [
    "pivot_df[\"HHTYP_LS\"].sum().sum()"
   ]
  },
  {
   "cell_type": "code",
   "execution_count": null,
   "metadata": {},
   "outputs": [],
   "source": [
    "pivot_df[\"HHSIZE\"].sum().sum()"
   ]
  },
  {
   "cell_type": "code",
   "execution_count": null,
   "metadata": {},
   "outputs": [],
   "source": [
    "pivot_df[\"HHTYP_FAM\"].sum().sum()"
   ]
  },
  {
   "cell_type": "code",
   "execution_count": null,
   "metadata": {},
   "outputs": [],
   "source": []
  }
 ],
 "metadata": {
  "kernelspec": {
   "display_name": "py312_uscuni_buildingfootprints",
   "language": "python",
   "name": "python3"
  },
  "language_info": {
   "codemirror_mode": {
    "name": "ipython",
    "version": 3
   },
   "file_extension": ".py",
   "mimetype": "text/x-python",
   "name": "python",
   "nbconvert_exporter": "python",
   "pygments_lexer": "ipython3"
  }
 },
 "nbformat": 4,
 "nbformat_minor": 2
}
