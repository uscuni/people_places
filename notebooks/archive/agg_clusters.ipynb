{
 "cells": [
  {
   "cell_type": "code",
   "execution_count": null,
   "id": "c9271f0f-8f8c-4875-8160-676a1daddc7a",
   "metadata": {},
   "outputs": [],
   "source": [
    "import geopandas as gpd\n",
    "import pandas as pd"
   ]
  },
  {
   "cell_type": "code",
   "execution_count": null,
   "id": "590cc335-b800-4f6f-9190-9d01f49c0347",
   "metadata": {},
   "outputs": [],
   "source": [
    "clusters = gpd.read_parquet(\"clusters_freiburg_ward_300.parquet\").reset_index()"
   ]
  },
  {
   "cell_type": "code",
   "execution_count": null,
   "id": "9fe0ea43-f594-444d-a3b7-b1bfd6b8736a",
   "metadata": {},
   "outputs": [],
   "source": [
    "clusters"
   ]
  },
  {
   "cell_type": "code",
   "execution_count": null,
   "id": "fa64765e-4632-4a1b-9830-b1bbb30b5c3c",
   "metadata": {},
   "outputs": [],
   "source": [
    "clusters.explore(column=clusters.index, cmap=\"tab20\")"
   ]
  },
  {
   "cell_type": "code",
   "execution_count": null,
   "id": "f23edf5f-058f-404e-b941-3839700f13da",
   "metadata": {},
   "outputs": [],
   "source": [
    "data = pd.read_parquet(\"/data/processed_data/Bevoelkerung100M.parquet\").reset_index()"
   ]
  },
  {
   "cell_type": "code",
   "execution_count": null,
   "id": "efbbdebe-1264-4467-b37f-9635c67a43ef",
   "metadata": {},
   "outputs": [],
   "source": [
    "data"
   ]
  },
  {
   "cell_type": "code",
   "execution_count": null,
   "id": "51dba8c6-342b-4331-9ff0-54b87104ee7f",
   "metadata": {},
   "outputs": [],
   "source": [
    "gdf = gpd.GeoDataFrame(\n",
    "    data, geometry=gpd.points_from_xy(data[(\"\", \"E\")], data[(\"\", \"N\")]), crs=\"EPSG:3035\"\n",
    ")\n",
    "gdf = gdf.rename(columns={\"\": \"geometry\"})\n",
    "gdf = gdf.drop([\"N\", \"E\"], axis=1, level=1)"
   ]
  },
  {
   "cell_type": "code",
   "execution_count": null,
   "id": "804569f1-d56f-40a4-b9d4-f0f127a65be4",
   "metadata": {},
   "outputs": [],
   "source": [
    "# Buffer the points using a square cap style\n",
    "# Note cap_style: round = 1, flat = 2, square = 3\n",
    "gdf[\"geometry\"] = gdf[\"geometry\"].buffer(50, cap_style=3)"
   ]
  },
  {
   "cell_type": "code",
   "execution_count": null,
   "id": "4158f8d2-f467-4812-8a16-acae0760cacc",
   "metadata": {},
   "outputs": [],
   "source": [
    "gdf"
   ]
  },
  {
   "cell_type": "code",
   "execution_count": null,
   "id": "1076a59b-6d57-4c4c-9348-428a8e61c988",
   "metadata": {},
   "outputs": [],
   "source": [
    "ntn = gdf[[\"NATIONALITY\", \"geometry\"]]\n",
    "ntn.columns = ntn[[\"NATIONALITY\", \"geometry\"]].columns.get_level_values(1)"
   ]
  },
  {
   "cell_type": "code",
   "execution_count": null,
   "id": "7020df65-0cb1-49d1-8802-4a866c939ee3",
   "metadata": {},
   "outputs": [],
   "source": [
    "ntn"
   ]
  },
  {
   "cell_type": "code",
   "execution_count": null,
   "id": "08448050-c75a-4954-a4a3-3164cfe8ec18",
   "metadata": {},
   "outputs": [],
   "source": [
    "m = ntn.cx[4150000:4170000, 2760000:2780000].explore(column=\"Germany\")\n",
    "clusters.explore(m=m, column=clusters.index, cmap=\"tab20\")"
   ]
  },
  {
   "cell_type": "markdown",
   "id": "37f30a7a-5da4-44ff-babf-c95991c3cde4",
   "metadata": {},
   "source": [
    "determine which cluster each 100m grid cell is in. choose the cluster covering the largest proportion of the cell"
   ]
  },
  {
   "cell_type": "code",
   "execution_count": null,
   "id": "c5074d0b-acf9-4d12-9086-29ce866062b1",
   "metadata": {},
   "outputs": [],
   "source": [
    "cells = gdf[[\"ID\", \"geometry\"]]"
   ]
  },
  {
   "cell_type": "code",
   "execution_count": null,
   "id": "c6b44044-792c-4fa2-85fd-45968f694106",
   "metadata": {},
   "outputs": [],
   "source": [
    "cells.columns.get_level_values(0)"
   ]
  },
  {
   "cell_type": "code",
   "execution_count": null,
   "id": "b2f578c7-7118-41f8-bf56-e6318c207add",
   "metadata": {},
   "outputs": [],
   "source": [
    "cells.columns = cells.columns.get_level_values(0)"
   ]
  },
  {
   "cell_type": "code",
   "execution_count": null,
   "id": "6290bc11-31af-43f4-85d5-495d6e2d8d73",
   "metadata": {},
   "outputs": [],
   "source": [
    "cells"
   ]
  },
  {
   "cell_type": "code",
   "execution_count": null,
   "id": "c50c8590-ed75-42e8-a3cd-a8d52a11bfd7",
   "metadata": {},
   "outputs": [],
   "source": [
    "clusters"
   ]
  },
  {
   "cell_type": "code",
   "execution_count": null,
   "id": "2276448c-3873-4a17-bc34-a8bb9a365533",
   "metadata": {},
   "outputs": [],
   "source": [
    "# Overlay cells with clusters to get intersections\n",
    "overlap = gpd.overlay(cells, clusters, how=\"intersection\")\n",
    "\n",
    "# Calculate the area of overlap\n",
    "overlap[\"area\"] = overlap.geometry.area"
   ]
  },
  {
   "cell_type": "code",
   "execution_count": null,
   "id": "60cf3439-9674-4dbe-9b2d-f3fb4e0b14b9",
   "metadata": {},
   "outputs": [],
   "source": [
    "overlap.columns"
   ]
  },
  {
   "cell_type": "code",
   "execution_count": null,
   "id": "ae43c5ba-e79c-4226-8b84-db678cce709e",
   "metadata": {},
   "outputs": [],
   "source": [
    "overlap"
   ]
  },
  {
   "cell_type": "code",
   "execution_count": null,
   "id": "286b4d08-8c4d-4c3d-95b3-19aba8b3c994",
   "metadata": {},
   "outputs": [],
   "source": [
    "overlap.explore(column=\"label\")"
   ]
  },
  {
   "cell_type": "code",
   "execution_count": null,
   "id": "849f6191-a5ae-4d90-878b-17d34fac543d",
   "metadata": {},
   "outputs": [],
   "source": [
    "# Find the cluster with the largest overlap for each cell\n",
    "largest_overlap = overlap.loc[overlap.groupby(overlap[\"ID\"])[\"area\"].idxmax()]"
   ]
  },
  {
   "cell_type": "code",
   "execution_count": null,
   "id": "478a4730-ee5b-486f-b78e-0f802b2e18b7",
   "metadata": {},
   "outputs": [],
   "source": [
    "largest_overlap"
   ]
  },
  {
   "cell_type": "code",
   "execution_count": null,
   "id": "2e4a5bdd-c144-4240-b8b0-4739a7353bff",
   "metadata": {},
   "outputs": [],
   "source": [
    "# Merge this back with the original cells DataFrame to attach cluster information\n",
    "result = cells.merge(largest_overlap[[\"ID\", \"label\"]], on=\"ID\")"
   ]
  },
  {
   "cell_type": "code",
   "execution_count": null,
   "id": "e87a433f-31f9-465e-90bc-037bc3d4d0cd",
   "metadata": {},
   "outputs": [],
   "source": [
    "result"
   ]
  },
  {
   "cell_type": "code",
   "execution_count": null,
   "id": "dc5b1d23-404d-435b-a6d8-d73317434816",
   "metadata": {},
   "outputs": [],
   "source": [
    "result.explore(\"label\")"
   ]
  },
  {
   "cell_type": "code",
   "execution_count": null,
   "id": "a226a2d2-7023-47f5-8eb4-bc16817463b6",
   "metadata": {},
   "outputs": [],
   "source": [
    "data"
   ]
  },
  {
   "cell_type": "code",
   "execution_count": null,
   "id": "4c06c363-8204-4efd-9406-1fdf7dd675a3",
   "metadata": {},
   "outputs": [],
   "source": [
    "result = data.droplevel(0, axis=1).merge(largest_overlap[[\"ID\", \"label\"]], on=\"ID\")"
   ]
  },
  {
   "cell_type": "code",
   "execution_count": null,
   "id": "634f15cb-0ed7-4f15-a01e-3c7dc390ae4e",
   "metadata": {},
   "outputs": [],
   "source": [
    "data"
   ]
  },
  {
   "cell_type": "code",
   "execution_count": null,
   "id": "52d8d71e-f532-43cb-a920-0e809325139f",
   "metadata": {},
   "outputs": [],
   "source": [
    "data.droplevel(1, axis=1)"
   ]
  },
  {
   "cell_type": "code",
   "execution_count": null,
   "id": "199a3615-f106-4a06-900d-2ca75e66f797",
   "metadata": {},
   "outputs": [],
   "source": []
  }
 ],
 "metadata": {
  "kernelspec": {
   "display_name": "Python 3 (ipykernel)",
   "language": "python",
   "name": "python3"
  },
  "language_info": {
   "codemirror_mode": {
    "name": "ipython",
    "version": 3
   },
   "file_extension": ".py",
   "mimetype": "text/x-python",
   "name": "python",
   "nbconvert_exporter": "python",
   "pygments_lexer": "ipython3"
  }
 },
 "nbformat": 4,
 "nbformat_minor": 5
}
