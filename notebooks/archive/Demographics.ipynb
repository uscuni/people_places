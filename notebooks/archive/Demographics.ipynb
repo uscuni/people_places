{
 "cells": [
  {
   "cell_type": "code",
   "execution_count": null,
   "metadata": {},
   "outputs": [],
   "source": [
    "import zipfile\n",
    "\n",
    "import matplotlib.pyplot as plt\n",
    "import numpy as np\n",
    "import pandas as pd"
   ]
  },
  {
   "cell_type": "code",
   "execution_count": null,
   "metadata": {},
   "outputs": [],
   "source": [
    "# demography = pd.read_csv('csv_Demographie_100m_Gitter/Bevoelkerung100M.csv', delimiter=';', encoding=\"cp1252\")\n",
    "zf = zipfile.ZipFile(\"/data/demographics.zip\")\n",
    "demography = pd.read_csv(\n",
    "    zf.open(\"Bevoelkerung100M.csv\"), delimiter=\";\", encoding=\"cp1252\"\n",
    ")"
   ]
  },
  {
   "cell_type": "code",
   "execution_count": null,
   "metadata": {},
   "outputs": [],
   "source": [
    "demography"
   ]
  },
  {
   "cell_type": "code",
   "execution_count": null,
   "metadata": {},
   "outputs": [],
   "source": [
    "# read excel\n",
    "translations = pd.read_excel(\"Data_Format_Census.xlsx\", sheet_name=\"Translations\")"
   ]
  },
  {
   "cell_type": "code",
   "execution_count": null,
   "metadata": {},
   "outputs": [],
   "source": [
    "translations"
   ]
  },
  {
   "cell_type": "code",
   "execution_count": null,
   "metadata": {},
   "outputs": [],
   "source": [
    "# tansfrom to dictionary with original as key and translation as value\n",
    "translation_dict = translations.set_index(\"Original\")[\"Translated\"].to_dict()\n",
    "# translations_dict = dict(zip(translations['Original'], translations['Translated']))"
   ]
  },
  {
   "cell_type": "code",
   "execution_count": null,
   "metadata": {},
   "outputs": [],
   "source": [
    "pivot_df = demography.pivot(\n",
    "    index=\"Gitter_ID_100m\", columns=[\"Merkmal\", \"Auspraegung_Text\"], values=\"Anzahl\"\n",
    ")"
   ]
  },
  {
   "cell_type": "code",
   "execution_count": null,
   "metadata": {},
   "outputs": [],
   "source": [
    "# rename columns with trtanslation_dict\n",
    "pivot_df = pivot_df.rename(columns=translation_dict)"
   ]
  },
  {
   "cell_type": "code",
   "execution_count": null,
   "metadata": {},
   "outputs": [],
   "source": [
    "pivot_df = pivot_df.rename(columns={\" INSGESAMT\": \"TOTAL\"})\n",
    "pivot_df"
   ]
  },
  {
   "cell_type": "code",
   "execution_count": null,
   "metadata": {},
   "outputs": [],
   "source": [
    "# print unique columns\n",
    "print(pivot_df.columns.get_level_values(0).unique())"
   ]
  },
  {
   "cell_type": "code",
   "execution_count": null,
   "metadata": {},
   "outputs": [],
   "source": [
    "total = pivot_df[\"TOTAL\"][\"Total\"].sum()"
   ]
  },
  {
   "cell_type": "code",
   "execution_count": null,
   "metadata": {},
   "outputs": [],
   "source": [
    "pivot_df[[\"TOTAL\", \"AGE_5\"]]"
   ]
  },
  {
   "cell_type": "code",
   "execution_count": null,
   "metadata": {},
   "outputs": [],
   "source": [
    "pivot_df[\"AGE_5_DC\"] = pivot_df[\"AGE_5\"].sum(axis=1) / pivot_df[\"TOTAL\"][\"Total\"]\n",
    "pivot_df[\"MARITAL_STATUS_DC\"] = (\n",
    "    pivot_df[\"MARITAL_STATUS\"].sum(axis=1) / pivot_df[\"TOTAL\"][\"Total\"]\n",
    ")\n",
    "pivot_df[\"COUNTRY_OF_BIRTH_DC\"] = (\n",
    "    pivot_df[\"COUNTRY_OF_BIRTH\"].sum(axis=1) / pivot_df[\"TOTAL\"][\"Total\"]\n",
    ")\n",
    "pivot_df[\"GENDER_DC\"] = pivot_df[\"GENDER\"].sum(axis=1) / pivot_df[\"TOTAL\"][\"Total\"]\n",
    "pivot_df[\"RELIGION_DC\"] = pivot_df[\"RELIGION\"].sum(axis=1) / pivot_df[\"TOTAL\"][\"Total\"]\n",
    "pivot_df[\"NATIONALITY_GROUP_DC\"] = (\n",
    "    pivot_df[\"NATIONALITY_GROUP\"].sum(axis=1) / pivot_df[\"TOTAL\"][\"Total\"]\n",
    ")\n",
    "pivot_df[\"NATIONALITY_COUNTRY_DC\"] = (\n",
    "    pivot_df[\"NATIONALITY_COUNTRY\"].sum(axis=1) / pivot_df[\"TOTAL\"][\"Total\"]\n",
    ")\n",
    "pivot_df[\"NATIONALITY_DC\"] = (\n",
    "    pivot_df[\"NATIONALITY\"].sum(axis=1) / pivot_df[\"TOTAL\"][\"Total\"]\n",
    ")\n",
    "pivot_df[\"NATIONALITY_NO_DC\"] = (\n",
    "    pivot_df[\"NATIONALITY_NO\"].sum(axis=1) / pivot_df[\"TOTAL\"][\"Total\"]\n",
    ")\n",
    "pivot_df[\"AGE_10_DC\"] = pivot_df[\"AGE_10\"].sum(axis=1) / pivot_df[\"TOTAL\"][\"Total\"]"
   ]
  },
  {
   "cell_type": "code",
   "execution_count": null,
   "metadata": {},
   "outputs": [],
   "source": [
    "pivot_df[[\"TOTAL\", \"AGE_5\", \"AGE_5_DC\"]]"
   ]
  },
  {
   "cell_type": "code",
   "execution_count": null,
   "metadata": {},
   "outputs": [],
   "source": [
    "age5 = pivot_df[\"AGE_5\"].sum().sum()\n",
    "marital_status = pivot_df[\"MARITAL_STATUS_DC\"].sum().sum()\n",
    "country_of_birth = pivot_df[\"COUNTRY_OF_BIRTH_DC\"].sum().sum()\n",
    "gender = pivot_df[\"GENDER_DC\"].sum().sum()\n",
    "religion = pivot_df[\"RELIGION_DC\"].sum().sum()\n",
    "nationality_group = pivot_df[\"NATIONALITY_GROUP_DC\"].sum().sum()\n",
    "nationality_country = pivot_df[\"NATIONALITY_COUNTRY_DC\"].sum().sum()\n",
    "nationality = pivot_df[\"NATIONALITY_DC\"].sum().sum()\n",
    "nationality_no = pivot_df[\"NATIONALITY_NO_DC\"].sum().sum()\n",
    "age10 = pivot_df[\"AGE_10_DC\"].sum().sum()"
   ]
  },
  {
   "cell_type": "code",
   "execution_count": null,
   "metadata": {},
   "outputs": [],
   "source": [
    "print(\"age5:\", age5 / total * 100)\n",
    "print(\"marital_status:\", marital_status / total * 100)\n",
    "print(\"country_of_birth:\", country_of_birth / total * 100)\n",
    "print(\"gender:\", gender / total * 100)\n",
    "print(\"religion:\", religion / total * 100)\n",
    "print(\"national_grp: \", nationality_group / total * 100)\n",
    "print(\"national_country:\", nationality_country / total * 100)\n",
    "print(\"nationality:\", nationality / total * 100)\n",
    "print(\"national_no: \", nationality_no / total * 100)\n",
    "print(\"age10:\", age10 / total * 100)"
   ]
  },
  {
   "cell_type": "code",
   "execution_count": null,
   "metadata": {},
   "outputs": [],
   "source": [
    "data1 = pivot_df[\"AGE_5_DC\"]\n",
    "data2 = pivot_df[\"MARITAL_STATUS_DC\"]\n",
    "data3 = pivot_df[\"COUNTRY_OF_BIRTH_DC\"]\n",
    "data4 = pivot_df[\"GENDER_DC\"]\n",
    "data5 = pivot_df[\"RELIGION_DC\"]\n",
    "data6 = pivot_df[\"NATIONALITY_GROUP_DC\"]\n",
    "data7 = pivot_df[\"NATIONALITY_COUNTRY_DC\"]\n",
    "data8 = pivot_df[\"NATIONALITY_DC\"]\n",
    "data9 = pivot_df[\"NATIONALITY_NO_DC\"]\n",
    "data10 = pivot_df[\"AGE_10_DC\"]\n",
    "\n",
    "\n",
    "counts1, bins1 = np.histogram(data1)\n",
    "counts1 = counts1 / counts1.sum() * 100\n",
    "\n",
    "counts2, bins2 = np.histogram(data2)\n",
    "counts2 = counts2 / counts2.sum() * 100\n",
    "\n",
    "counts3, bins3 = np.histogram(data3)\n",
    "counts3 = counts3 / counts3.sum() * 100\n",
    "\n",
    "counts4, bins4 = np.histogram(data4)\n",
    "counts4 = counts4 / counts4.sum() * 100\n",
    "\n",
    "counts5, bins5 = np.histogram(data5)\n",
    "counts5 = counts5 / counts5.sum() * 100\n",
    "\n",
    "counts6, bins6 = np.histogram(data6)\n",
    "counts6 = counts6 / counts6.sum() * 100\n",
    "\n",
    "counts7, bins7 = np.histogram(data7)\n",
    "counts7 = counts7 / counts7.sum() * 100\n",
    "\n",
    "counts8, bins8 = np.histogram(data8)\n",
    "counts8 = counts8 / counts8.sum() * 100\n",
    "\n",
    "counts9, bins9 = np.histogram(data9)\n",
    "counts9 = counts9 / counts9.sum() * 100\n",
    "\n",
    "counts10, bins10 = np.histogram(data10)\n",
    "counts10 = counts10 / counts10.sum() * 100\n",
    "\n",
    "\n",
    "plt.figure(figsize=(15, 7))\n",
    "plt.subplot(2, 5, 1)\n",
    "plt.hist(bins1[:-1], bins1, weights=counts1)\n",
    "plt.xlabel(\"Age 5\")\n",
    "plt.ylabel(\"Percentage of total\")\n",
    "plt.ylim(0, 100)\n",
    "plt.subplot(2, 5, 2)\n",
    "plt.hist(bins2[:-1], bins2, weights=counts2)\n",
    "plt.xlabel(\"Marital Status\")\n",
    "plt.ylim(0, 100)\n",
    "plt.subplot(2, 5, 3)\n",
    "plt.hist(bins3[:-1], bins3, weights=counts3)\n",
    "plt.xlabel(\"Country of Birth\")\n",
    "plt.ylim(0, 100)\n",
    "plt.subplot(2, 5, 4)\n",
    "plt.hist(bins4[:-1], bins4, weights=counts4)\n",
    "plt.xlabel(\"Gender\")\n",
    "plt.ylim(0, 100)\n",
    "plt.subplot(2, 5, 5)\n",
    "plt.hist(bins5[:-1], bins5, weights=counts5)\n",
    "plt.xlabel(\"Religion\")\n",
    "plt.ylim(0, 100)\n",
    "plt.subplot(2, 5, 6)\n",
    "plt.hist(bins6[:-1], bins6, weights=counts6)\n",
    "plt.xlabel(\"Nationality Group\")\n",
    "plt.ylim(0, 100)\n",
    "plt.subplot(2, 5, 7)\n",
    "plt.hist(bins7[:-1], bins7, weights=counts7)\n",
    "plt.xlabel(\"Nationality Country\")\n",
    "plt.ylim(0, 100)\n",
    "plt.subplot(2, 5, 8)\n",
    "plt.hist(bins8[:-1], bins8, weights=counts8)\n",
    "plt.xlabel(\"Nationality\")\n",
    "plt.ylim(0, 100)\n",
    "plt.subplot(2, 5, 9)\n",
    "plt.hist(bins9[:-1], bins9, weights=counts9)\n",
    "plt.xlabel(\"Nationality No\")\n",
    "plt.ylim(0, 100)\n",
    "plt.subplot(2, 5, 10)\n",
    "plt.hist(bins10[:-1], bins10, weights=counts10)\n",
    "plt.xlabel(\"Age 10\")\n",
    "plt.ylim(0, 100)\n",
    "\n",
    "\n",
    "plt.tight_layout()\n",
    "\n",
    "\n",
    "plt.show()"
   ]
  },
  {
   "cell_type": "code",
   "execution_count": null,
   "metadata": {},
   "outputs": [],
   "source": [
    "pivot_df.to_csv(\"Demographics_100m_pivot.csv\", sep=\",\", encoding=\"cp1252\")"
   ]
  },
  {
   "cell_type": "code",
   "execution_count": null,
   "metadata": {},
   "outputs": [],
   "source": []
  },
  {
   "cell_type": "code",
   "execution_count": null,
   "metadata": {},
   "outputs": [],
   "source": []
  }
 ],
 "metadata": {
  "kernelspec": {
   "display_name": "Python 3 (ipykernel)",
   "language": "python",
   "name": "python3"
  },
  "language_info": {
   "codemirror_mode": {
    "name": "ipython",
    "version": 3
   },
   "file_extension": ".py",
   "mimetype": "text/x-python",
   "name": "python",
   "nbconvert_exporter": "python",
   "pygments_lexer": "ipython3"
  }
 },
 "nbformat": 4,
 "nbformat_minor": 2
}
