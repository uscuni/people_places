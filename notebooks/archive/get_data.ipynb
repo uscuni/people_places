{
 "cells": [
  {
   "cell_type": "code",
   "execution_count": 36,
   "id": "d34879d7-a021-4966-9cc5-4354e61d71e8",
   "metadata": {},
   "outputs": [],
   "source": [
    "import httpx\n",
    "import requests\n",
    "import pooch"
   ]
  },
  {
   "cell_type": "code",
   "execution_count": 5,
   "id": "4ddc464f-deb4-4ae0-a590-09afa76b0e5d",
   "metadata": {},
   "outputs": [],
   "source": [
    "#specify data directory\n",
    "DATADIR = \"/data/\""
   ]
  },
  {
   "cell_type": "code",
   "execution_count": 43,
   "id": "6e655aa6-4bd0-42be-8d2a-7eec67df784d",
   "metadata": {},
   "outputs": [],
   "source": [
    "#specify urls\n",
    "population = 'https://www.zensus2011.de/SharedDocs/Downloads/DE/Pressemitteilung/DemografischeGrunddaten/csv_Bevoelkerung_100m_Gitter.zip?__blob=publicationFile&v=2'\n",
    "#demographics = 'https://www.zensus2011.de/SharedDocs/Downloads/DE/Pressemitteilung/DemografischeGrunddaten/csv_Demographie_100m_Gitter.zip?__blob=publicationFile&v=2'\n",
    "families = 'https://www.zensus2011.de/SharedDocs/Downloads/DE/Pressemitteilung/DemografischeGrunddaten/csv_Familien_100m_Gitter.zip?__blob=publicationFile&v=2'\n",
    "households = 'https://www.zensus2011.de/SharedDocs/Downloads/DE/Pressemitteilung/DemografischeGrunddaten/csv_Haushalte_100m_Gitter.zip?__blob=publicationFile&v=2'\n",
    "apartments = 'https://www.zensus2011.de/SharedDocs/Downloads/DE/Pressemitteilung/DemografischeGrunddaten/csv_Wohnungen_100m_Gitter.zip?__blob=publicationFile&v=2'\n",
    "buildings = 'https://www.zensus2011.de/SharedDocs/Downloads/DE/Pressemitteilung/DemografischeGrunddaten/csv_Gebaeude_100m_Gitter.zip?__blob=publicationFile&v=2'"
   ]
  },
  {
   "cell_type": "code",
   "execution_count": 44,
   "id": "2342f7f5-fa3f-47ea-98a5-f6399b2b9d71",
   "metadata": {},
   "outputs": [],
   "source": [
    "#get response\n",
    "response_pop = httpx.get(population)\n"
   ]
  },
  {
   "cell_type": "code",
   "execution_count": 45,
   "id": "69ba6a1d-06ee-47c6-a0f0-b8009a776348",
   "metadata": {},
   "outputs": [],
   "source": [
    "#response_dem = httpx.get(demographics, timeout=600) TIMEOUT.....\n"
   ]
  },
  {
   "cell_type": "code",
   "execution_count": 13,
   "id": "9bcd3b68-1b09-4e42-9570-84642f092140",
   "metadata": {},
   "outputs": [],
   "source": [
    "response_fam = httpx.get(families)\n"
   ]
  },
  {
   "cell_type": "code",
   "execution_count": 17,
   "id": "b080c4b7-c4ff-4645-92f4-62d8fa84b895",
   "metadata": {},
   "outputs": [],
   "source": [
    "response_hou = httpx.get(households)\n"
   ]
  },
  {
   "cell_type": "code",
   "execution_count": 18,
   "id": "a396f081-a9de-4cbf-b1a4-b232a30c06a1",
   "metadata": {},
   "outputs": [],
   "source": [
    "response_apt = httpx.get(apartments)\n"
   ]
  },
  {
   "cell_type": "code",
   "execution_count": 19,
   "id": "9ccec3b4-c8c6-4ce0-8a49-0388ac860dd0",
   "metadata": {},
   "outputs": [],
   "source": [
    "response_bld = httpx.get(buildings)"
   ]
  },
  {
   "cell_type": "code",
   "execution_count": 8,
   "id": "a49aa105-487a-43fd-8af8-3a9096d83748",
   "metadata": {},
   "outputs": [],
   "source": [
    "#save\n",
    "with open(DATADIR + \"population.zip\", \"wb\") as f:\n",
    "    f.write(response_pop.content)"
   ]
  },
  {
   "cell_type": "code",
   "execution_count": 32,
   "id": "61960598-d164-4776-a641-a13af3441f4c",
   "metadata": {},
   "outputs": [],
   "source": [
    "with open(DATADIR + \"demographics.zip\", \"wb\") as f:\n",
    "    f.write(response_dem.content)"
   ]
  },
  {
   "cell_type": "code",
   "execution_count": 24,
   "id": "a2b21451-0daf-43c7-b6dd-466720b0f36c",
   "metadata": {},
   "outputs": [],
   "source": [
    "with open(DATADIR + \"families.zip\", \"wb\") as f:\n",
    "    f.write(response_fam.content)"
   ]
  },
  {
   "cell_type": "code",
   "execution_count": 26,
   "id": "9a10bbcd-b937-4598-b5ed-5bbf2a7457ba",
   "metadata": {},
   "outputs": [],
   "source": [
    "with open(DATADIR + \"households.zip\", \"wb\") as f:\n",
    "    f.write(response_hou.content)"
   ]
  },
  {
   "cell_type": "code",
   "execution_count": 27,
   "id": "104d263f-f5ed-4d82-a8d0-3a2bb3b2924c",
   "metadata": {},
   "outputs": [],
   "source": [
    "with open(DATADIR + \"apartments.zip\", \"wb\") as f:\n",
    "    f.write(response_apt.content)"
   ]
  },
  {
   "cell_type": "code",
   "execution_count": 28,
   "id": "f658c83c-0a8c-4b98-892a-c9a314db5fe0",
   "metadata": {},
   "outputs": [],
   "source": [
    "with open(DATADIR + \"buildings.zip\", \"wb\") as f:\n",
    "    f.write(response_bld.content)"
   ]
  },
  {
   "cell_type": "code",
   "execution_count": 49,
   "id": "cbd9df64-26a0-4b44-b7ca-8c33f296627f",
   "metadata": {},
   "outputs": [
    {
     "name": "stdout",
     "output_type": "stream",
     "text": [
      "apartments.zip\tdemographics.zip  households.zip  test.npy\n",
      "buildings.zip\tfamilies.zip\t  population.zip  test.txt\n"
     ]
    }
   ],
   "source": [
    "!ls /data/"
   ]
  },
  {
   "cell_type": "code",
   "execution_count": 53,
   "id": "e1eb68c1-e1d9-4e59-b302-feecb9e89242",
   "metadata": {},
   "outputs": [
    {
     "name": "stdout",
     "output_type": "stream",
     "text": [
      "total 966340\n",
      "-rw-r--r-- 1 anna crew 268238266 Jun 25 12:59 apartments.zip\n",
      "-rw-r--r-- 1 anna crew 119829513 Jun 25 12:59 buildings.zip\n",
      "-rw-r--r-- 1 anna crew 330090008 Jun 25 13:59 demographics.zip\n",
      "-rw-r--r-- 1 anna crew  71117781 Jun 25 12:59 families.zip\n",
      "-rw-r--r-- 1 anna crew  90558609 Jun 25 12:59 households.zip\n",
      "-rw-r--r-- 1 anna crew 109662106 Jun 25 12:46 population.zip\n",
      "-rw-r--r-- 1 1005 crew        80 Jun 24 15:57 test.npy\n",
      "-rw-r--r-- 1 1000 crew        24 Jun 24 17:20 test.txt\n"
     ]
    }
   ],
   "source": [
    "!ls -l /data/"
   ]
  },
  {
   "cell_type": "code",
   "execution_count": null,
   "id": "d98318e1-ba34-41a6-ba6b-54436c9f7c4b",
   "metadata": {},
   "outputs": [],
   "source": []
  }
 ],
 "metadata": {
  "kernelspec": {
   "display_name": "Python 3 (ipykernel)",
   "language": "python",
   "name": "python3"
  },
  "language_info": {
   "codemirror_mode": {
    "name": "ipython",
    "version": 3
   },
   "file_extension": ".py",
   "mimetype": "text/x-python",
   "name": "python",
   "nbconvert_exporter": "python",
   "pygments_lexer": "ipython3",
   "version": "3.11.9"
  }
 },
 "nbformat": 4,
 "nbformat_minor": 5
}
