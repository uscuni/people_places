{
 "cells": [
  {
   "cell_type": "code",
   "execution_count": null,
   "id": "d34879d7-a021-4966-9cc5-4354e61d71e8",
   "metadata": {},
   "outputs": [],
   "source": [
    "import httpx"
   ]
  },
  {
   "cell_type": "code",
   "execution_count": null,
   "id": "4ddc464f-deb4-4ae0-a590-09afa76b0e5d",
   "metadata": {},
   "outputs": [],
   "source": [
    "# specify data directory\n",
    "DATADIR = \"/data/\""
   ]
  },
  {
   "cell_type": "code",
   "execution_count": null,
   "id": "6e655aa6-4bd0-42be-8d2a-7eec67df784d",
   "metadata": {},
   "outputs": [],
   "source": [
    "# specify urls\n",
    "population = \"https://www.zensus2011.de/SharedDocs/Downloads/DE/Pressemitteilung/DemografischeGrunddaten/csv_Bevoelkerung_100m_Gitter.zip?__blob=publicationFile&v=2\"\n",
    "# demographics = 'https://www.zensus2011.de/SharedDocs/Downloads/DE/Pressemitteilung/DemografischeGrunddaten/csv_Demographie_100m_Gitter.zip?__blob=publicationFile&v=2'\n",
    "families = \"https://www.zensus2011.de/SharedDocs/Downloads/DE/Pressemitteilung/DemografischeGrunddaten/csv_Familien_100m_Gitter.zip?__blob=publicationFile&v=2\"\n",
    "households = \"https://www.zensus2011.de/SharedDocs/Downloads/DE/Pressemitteilung/DemografischeGrunddaten/csv_Haushalte_100m_Gitter.zip?__blob=publicationFile&v=2\"\n",
    "apartments = \"https://www.zensus2011.de/SharedDocs/Downloads/DE/Pressemitteilung/DemografischeGrunddaten/csv_Wohnungen_100m_Gitter.zip?__blob=publicationFile&v=2\"\n",
    "buildings = \"https://www.zensus2011.de/SharedDocs/Downloads/DE/Pressemitteilung/DemografischeGrunddaten/csv_Gebaeude_100m_Gitter.zip?__blob=publicationFile&v=2\""
   ]
  },
  {
   "cell_type": "code",
   "execution_count": null,
   "id": "2342f7f5-fa3f-47ea-98a5-f6399b2b9d71",
   "metadata": {},
   "outputs": [],
   "source": [
    "# get response\n",
    "response_pop = httpx.get(population)"
   ]
  },
  {
   "cell_type": "code",
   "execution_count": null,
   "id": "69ba6a1d-06ee-47c6-a0f0-b8009a776348",
   "metadata": {},
   "outputs": [],
   "source": [
    "# response_dem = httpx.get(demographics, timeout=600) TIMEOUT.....\n"
   ]
  },
  {
   "cell_type": "code",
   "execution_count": null,
   "id": "9bcd3b68-1b09-4e42-9570-84642f092140",
   "metadata": {},
   "outputs": [],
   "source": [
    "response_fam = httpx.get(families)"
   ]
  },
  {
   "cell_type": "code",
   "execution_count": null,
   "id": "b080c4b7-c4ff-4645-92f4-62d8fa84b895",
   "metadata": {},
   "outputs": [],
   "source": [
    "response_hou = httpx.get(households)"
   ]
  },
  {
   "cell_type": "code",
   "execution_count": null,
   "id": "a396f081-a9de-4cbf-b1a4-b232a30c06a1",
   "metadata": {},
   "outputs": [],
   "source": [
    "response_apt = httpx.get(apartments)"
   ]
  },
  {
   "cell_type": "code",
   "execution_count": null,
   "id": "9ccec3b4-c8c6-4ce0-8a49-0388ac860dd0",
   "metadata": {},
   "outputs": [],
   "source": [
    "response_bld = httpx.get(buildings)"
   ]
  },
  {
   "cell_type": "code",
   "execution_count": null,
   "id": "a49aa105-487a-43fd-8af8-3a9096d83748",
   "metadata": {},
   "outputs": [],
   "source": [
    "# save\n",
    "with open(DATADIR + \"population.zip\", \"wb\") as f:\n",
    "    f.write(response_pop.content)"
   ]
  },
  {
   "cell_type": "code",
   "execution_count": null,
   "id": "61960598-d164-4776-a641-a13af3441f4c",
   "metadata": {},
   "outputs": [],
   "source": [
    "with open(DATADIR + \"demographics.zip\", \"wb\") as f:\n",
    "    f.write(response_dem.content)"
   ]
  },
  {
   "cell_type": "code",
   "execution_count": null,
   "id": "a2b21451-0daf-43c7-b6dd-466720b0f36c",
   "metadata": {},
   "outputs": [],
   "source": [
    "with open(DATADIR + \"families.zip\", \"wb\") as f:\n",
    "    f.write(response_fam.content)"
   ]
  },
  {
   "cell_type": "code",
   "execution_count": null,
   "id": "9a10bbcd-b937-4598-b5ed-5bbf2a7457ba",
   "metadata": {},
   "outputs": [],
   "source": [
    "with open(DATADIR + \"households.zip\", \"wb\") as f:\n",
    "    f.write(response_hou.content)"
   ]
  },
  {
   "cell_type": "code",
   "execution_count": null,
   "id": "104d263f-f5ed-4d82-a8d0-3a2bb3b2924c",
   "metadata": {},
   "outputs": [],
   "source": [
    "with open(DATADIR + \"apartments.zip\", \"wb\") as f:\n",
    "    f.write(response_apt.content)"
   ]
  },
  {
   "cell_type": "code",
   "execution_count": null,
   "id": "f658c83c-0a8c-4b98-892a-c9a314db5fe0",
   "metadata": {},
   "outputs": [],
   "source": [
    "with open(DATADIR + \"buildings.zip\", \"wb\") as f:\n",
    "    f.write(response_bld.content)"
   ]
  },
  {
   "cell_type": "code",
   "execution_count": null,
   "id": "cbd9df64-26a0-4b44-b7ca-8c33f296627f",
   "metadata": {},
   "outputs": [],
   "source": [
    "!ls /data/"
   ]
  },
  {
   "cell_type": "code",
   "execution_count": null,
   "id": "e1eb68c1-e1d9-4e59-b302-feecb9e89242",
   "metadata": {},
   "outputs": [],
   "source": [
    "!ls -l /data/"
   ]
  },
  {
   "cell_type": "code",
   "execution_count": null,
   "id": "d98318e1-ba34-41a6-ba6b-54436c9f7c4b",
   "metadata": {},
   "outputs": [],
   "source": []
  }
 ],
 "metadata": {
  "kernelspec": {
   "display_name": "Python 3 (ipykernel)",
   "language": "python",
   "name": "python3"
  },
  "language_info": {
   "codemirror_mode": {
    "name": "ipython",
    "version": 3
   },
   "file_extension": ".py",
   "mimetype": "text/x-python",
   "name": "python",
   "nbconvert_exporter": "python",
   "pygments_lexer": "ipython3"
  }
 },
 "nbformat": 4,
 "nbformat_minor": 5
}
