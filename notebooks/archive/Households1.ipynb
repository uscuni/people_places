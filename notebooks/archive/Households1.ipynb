{
 "cells": [
  {
   "cell_type": "code",
   "execution_count": null,
   "metadata": {},
   "outputs": [],
   "source": [
    "import zipfile\n",
    "\n",
    "import matplotlib.pyplot as plt\n",
    "import numpy as np\n",
    "import pandas as pd"
   ]
  },
  {
   "cell_type": "code",
   "execution_count": null,
   "metadata": {},
   "outputs": [],
   "source": [
    "zf = zipfile.ZipFile(\"/data/households.zip\")\n",
    "households = pd.read_csv(zf.open(\"Haushalte100m.csv\"), delimiter=\",\", encoding=\"cp1252\")"
   ]
  },
  {
   "cell_type": "code",
   "execution_count": null,
   "metadata": {},
   "outputs": [],
   "source": [
    "households"
   ]
  },
  {
   "cell_type": "code",
   "execution_count": null,
   "metadata": {},
   "outputs": [],
   "source": [
    "# read excel\n",
    "translations = pd.read_excel(\"Data_Format_Census.xlsx\", sheet_name=\"Translations\")"
   ]
  },
  {
   "cell_type": "code",
   "execution_count": null,
   "metadata": {},
   "outputs": [],
   "source": [
    "translations"
   ]
  },
  {
   "cell_type": "code",
   "execution_count": null,
   "metadata": {},
   "outputs": [],
   "source": [
    "# tansfrom to dictionary with original as key and translation as value\n",
    "translation_dict = translations.set_index(\"Original\")[\"Translated\"].to_dict()\n",
    "# translations_dict = dict(zip(translations['Original'], translations['Translated']))"
   ]
  },
  {
   "cell_type": "code",
   "execution_count": null,
   "metadata": {},
   "outputs": [],
   "source": [
    "pivot_df = households.pivot(\n",
    "    index=\"Gitter_ID_100m\", columns=[\"Merkmal\", \"Auspraegung_Text\"], values=\"Anzahl\"\n",
    ")"
   ]
  },
  {
   "cell_type": "markdown",
   "metadata": {},
   "source": [
    "instead of replacing nan with 0, exclude these cells"
   ]
  },
  {
   "cell_type": "code",
   "execution_count": null,
   "metadata": {},
   "outputs": [],
   "source": [
    "# rename columns with trtanslation_dict\n",
    "pivot_df = pivot_df.rename(columns=translation_dict)"
   ]
  },
  {
   "cell_type": "code",
   "execution_count": null,
   "metadata": {},
   "outputs": [],
   "source": [
    "pivot_df"
   ]
  },
  {
   "cell_type": "code",
   "execution_count": null,
   "metadata": {},
   "outputs": [],
   "source": [
    "# print unique columns\n",
    "print(pivot_df.columns.get_level_values(0).unique())"
   ]
  },
  {
   "cell_type": "code",
   "execution_count": null,
   "metadata": {},
   "outputs": [],
   "source": [
    "total = pivot_df[\"TOTAL\"][\"Total\"].sum()"
   ]
  },
  {
   "cell_type": "code",
   "execution_count": null,
   "metadata": {},
   "outputs": [],
   "source": [
    "pivot_df[[\"TOTAL\", \"HOUSEHOLD_LIFESTYLE\"]]"
   ]
  },
  {
   "cell_type": "code",
   "execution_count": null,
   "metadata": {},
   "outputs": [],
   "source": [
    "pivot_df[\"HOUSEHOLD_LIFESTYLE_DC\"] = (\n",
    "    pivot_df[\"HOUSEHOLD_LIFESTYLE\"].sum(axis=1) / pivot_df[\"TOTAL\"][\"Total\"]\n",
    ")\n",
    "pivot_df[\"HOUSEHOLD_SIZE_DC\"] = (\n",
    "    pivot_df[\"HOUSEHOLD_SIZE\"].sum(axis=1) / pivot_df[\"TOTAL\"][\"Total\"]\n",
    ")\n",
    "pivot_df[\"HOUSEHOLD_TYPE_DC\"] = (\n",
    "    pivot_df[\"HOUSEHOLD_TYPE\"].sum(axis=1) / pivot_df[\"TOTAL\"][\"Total\"]\n",
    ")"
   ]
  },
  {
   "cell_type": "code",
   "execution_count": null,
   "metadata": {},
   "outputs": [],
   "source": [
    "pivot_df[[\"TOTAL\", \"HOUSEHOLD_LIFESTYLE\", \"HOUSEHOLD_LIFESTYLE_DC\"]]"
   ]
  },
  {
   "cell_type": "code",
   "execution_count": null,
   "metadata": {},
   "outputs": [],
   "source": [
    "pivot_df[[\"TOTAL\", \"HOUSEHOLD_SIZE\", \"HOUSEHOLD_SIZE_DC\"]]"
   ]
  },
  {
   "cell_type": "code",
   "execution_count": null,
   "metadata": {},
   "outputs": [],
   "source": [
    "pivot_df[[\"TOTAL\", \"HOUSEHOLD_TYPE\", \"HOUSEHOLD_TYPE_DC\"]]"
   ]
  },
  {
   "cell_type": "code",
   "execution_count": null,
   "metadata": {},
   "outputs": [],
   "source": [
    "lifestyle = pivot_df[\"HOUSEHOLD_LIFESTYLE_DC\"].sum().sum()\n",
    "size = pivot_df[\"HOUSEHOLD_SIZE_DC\"].sum().sum()\n",
    "type = pivot_df[\"HOUSEHOLD_TYPE_DC\"].sum().sum()"
   ]
  },
  {
   "cell_type": "code",
   "execution_count": null,
   "metadata": {},
   "outputs": [],
   "source": [
    "print(\"life:\", lifestyle / total * 100)\n",
    "print(\"size:\", size / total * 100)\n",
    "print(\"type:\", type / total * 100)"
   ]
  },
  {
   "cell_type": "code",
   "execution_count": null,
   "metadata": {},
   "outputs": [],
   "source": [
    "data1 = pivot_df[\"HOUSEHOLD_LIFESTYLE_DC\"]\n",
    "data2 = pivot_df[\"HOUSEHOLD_SIZE_DC\"]\n",
    "data3 = pivot_df[\"HOUSEHOLD_TYPE_DC\"]\n",
    "\n",
    "\n",
    "counts1, bins1 = np.histogram(data1)\n",
    "counts1 = counts1 / counts1.sum() * 100\n",
    "\n",
    "counts2, bins2 = np.histogram(data2)\n",
    "counts2 = counts2 / counts2.sum() * 100\n",
    "\n",
    "counts3, bins3 = np.histogram(data3)\n",
    "counts3 = counts3 / counts3.sum() * 100\n",
    "\n",
    "\n",
    "plt.figure(figsize=(15, 5))\n",
    "plt.subplot(1, 3, 1)\n",
    "plt.hist(bins1[:-1], bins1, weights=counts1)\n",
    "plt.xlabel(\"Lifestyle\")\n",
    "plt.ylabel(\"Percentage of total\")\n",
    "plt.ylim(0, 100)\n",
    "plt.subplot(1, 3, 2)\n",
    "plt.hist(bins2[:-1], bins2, weights=counts2)\n",
    "plt.xlabel(\"Size\")\n",
    "plt.ylim(0, 100)\n",
    "plt.subplot(1, 3, 3)\n",
    "plt.hist(bins3[:-1], bins3, weights=counts3)\n",
    "plt.xlabel(\"Type\")\n",
    "plt.ylim(0, 100)\n",
    "\n",
    "\n",
    "plt.tight_layout()\n",
    "\n",
    "\n",
    "plt.show()"
   ]
  },
  {
   "cell_type": "code",
   "execution_count": null,
   "metadata": {},
   "outputs": [],
   "source": [
    "pivot_df.to_csv(\"Households_100m_pivot.csv\", sep=\",\", encoding=\"cp1252\")"
   ]
  },
  {
   "cell_type": "code",
   "execution_count": null,
   "metadata": {},
   "outputs": [],
   "source": []
  },
  {
   "cell_type": "code",
   "execution_count": null,
   "metadata": {},
   "outputs": [],
   "source": []
  }
 ],
 "metadata": {
  "kernelspec": {
   "display_name": "Python 3 (ipykernel)",
   "language": "python",
   "name": "python3"
  },
  "language_info": {
   "codemirror_mode": {
    "name": "ipython",
    "version": 3
   },
   "file_extension": ".py",
   "mimetype": "text/x-python",
   "name": "python",
   "nbconvert_exporter": "python",
   "pygments_lexer": "ipython3"
  }
 },
 "nbformat": 4,
 "nbformat_minor": 2
}
