{
 "cells": [
  {
   "cell_type": "code",
   "execution_count": null,
   "id": "9e9b916b-0f43-4c68-a230-1d9d6c0c4731",
   "metadata": {},
   "outputs": [],
   "source": [
    "import geopandas as gpd\n",
    "import numpy as np\n",
    "import pandas as pd"
   ]
  },
  {
   "cell_type": "code",
   "execution_count": null,
   "id": "0ebe8261-8f86-413a-b96c-10d841841992",
   "metadata": {},
   "outputs": [],
   "source": [
    "etcs = gpd.read_parquet(\"/data/uscuni-ulce/processed_data/clusters/66593_clusters.pq\")"
   ]
  },
  {
   "cell_type": "code",
   "execution_count": null,
   "id": "5de05fb7-28ff-4c08-be94-678955c58d1d",
   "metadata": {},
   "outputs": [],
   "source": [
    "subset = etcs[\"final\"].isin([6, 14, 5, 15, 17])"
   ]
  },
  {
   "cell_type": "code",
   "execution_count": null,
   "id": "8a22f0e1-df2a-4e4d-9844-29262596a3be",
   "metadata": {},
   "outputs": [],
   "source": [
    "import lonboard\n",
    "\n",
    "layer = lonboard.SolidPolygonLayer.from_geopandas(etcs, opacity=0.7)\n",
    "\n",
    "from sidecar import Sidecar\n",
    "\n",
    "sc = Sidecar(title=\"Final Clusters\")\n",
    "m = lonboard.Map(layer, basemap_style=lonboard.basemap.CartoBasemap.DarkMatter)\n",
    "with sc:\n",
    "    display(m)"
   ]
  },
  {
   "cell_type": "code",
   "execution_count": null,
   "id": "64ada469-ca2a-4287-a7f6-cfc6caf3f5ed",
   "metadata": {},
   "outputs": [],
   "source": []
  },
  {
   "cell_type": "code",
   "execution_count": null,
   "id": "897140d8-ba89-4da4-8da2-91ef16eb7344",
   "metadata": {},
   "outputs": [],
   "source": [
    "from palettable.colorbrewer.qualitative import Set3_12\n",
    "from lonboard.colormap import apply_categorical_cmap\n",
    "\n",
    "\n",
    "def get_color(labels_to_color, noise_color=[0, 0, 0]):\n",
    "    \"\"\"Generate n colors for n labels. Labels with -1 are black.\"\"\"\n",
    "    import glasbey\n",
    "\n",
    "    def hex_to_rgb(hexa):\n",
    "        return tuple(int(hexa[i : i + 2], 16) for i in (0, 2, 4))\n",
    "\n",
    "    if labels_to_color.max() >= 11:\n",
    "        gb_cols = glasbey.extend_palette(\n",
    "            Set3_12.hex_colors, palette_size=np.unique(labels_to_color).shape[0] + 1\n",
    "        )\n",
    "    else:\n",
    "        gb_cols = Set3_12.hex_colors\n",
    "\n",
    "    gb_cols = [hex_to_rgb(c[1:]) for c in gb_cols]\n",
    "\n",
    "    colors = apply_categorical_cmap(\n",
    "        labels_to_color,\n",
    "        cmap=dict(zip(np.unique(labels_to_color), gb_cols, strict=False)),\n",
    "    )\n",
    "    colors[labels_to_color == -1] = noise_color\n",
    "    return colors"
   ]
  },
  {
   "cell_type": "code",
   "execution_count": null,
   "id": "a08bf8a7-5e1c-416b-afab-3a30ff207b65",
   "metadata": {},
   "outputs": [],
   "source": [
    "all_colors = get_color(labels_to_color=etcs.final)\n",
    "unique_clusters = np.array(np.arange(-1, 34))\n",
    "all_colors = get_color(labels_to_color=unique_clusters)\n",
    "color_df = pd.DataFrame(\n",
    "    data={\"final_without_noise\": unique_clusters, \"color\": all_colors.tolist()}\n",
    ")\n",
    "layer.get_fill_color = np.array(\n",
    "    etcs.merge(color_df, on=\"final_without_noise\", how=\"left\")[\"color\"].tolist(),\n",
    "    dtype=\"uint8\",\n",
    ")"
   ]
  },
  {
   "cell_type": "code",
   "execution_count": null,
   "id": "b4e125da-0517-4c18-b0cd-20440abcd2d1",
   "metadata": {},
   "outputs": [],
   "source": [
    "import pandas as pd\n",
    "\n",
    "fdata = pd.read_parquet(\"/data/uscuni-ulce/processed_data/clusters/fdata.pq\")"
   ]
  },
  {
   "cell_type": "code",
   "execution_count": null,
   "id": "84c3baff-4458-44bd-a9c0-c0c34a05c50c",
   "metadata": {},
   "outputs": [],
   "source": [
    "fdata.loc[[15, 16]].style.background_gradient(axis=1, cmap=\"BuGn\")"
   ]
  },
  {
   "cell_type": "code",
   "execution_count": null,
   "id": "b0dddb3c-9c46-4894-8f78-1bdf9fabc3d7",
   "metadata": {},
   "outputs": [],
   "source": [
    "regions_datadir = \"/data/uscuni-ulce/\"\n",
    "region_hulls = gpd.read_parquet(\n",
    "    regions_datadir + \"regions/\" + \"cadastre_regions_hull.parquet\"\n",
    ")"
   ]
  },
  {
   "cell_type": "code",
   "execution_count": null,
   "id": "c8a4fdc9-702e-431c-a095-793ea4bc6117",
   "metadata": {},
   "outputs": [],
   "source": [
    "region_hulls.explore()"
   ]
  },
  {
   "cell_type": "code",
   "execution_count": null,
   "id": "8e1c9dd5-ec36-4882-8cde-b14aa5e626aa",
   "metadata": {},
   "outputs": [],
   "source": []
  }
 ],
 "metadata": {
  "kernelspec": {
   "display_name": "Python 3 (ipykernel)",
   "language": "python",
   "name": "python3"
  },
  "language_info": {
   "codemirror_mode": {
    "name": "ipython",
    "version": 3
   },
   "file_extension": ".py",
   "mimetype": "text/x-python",
   "name": "python",
   "nbconvert_exporter": "python",
   "pygments_lexer": "ipython3"
  }
 },
 "nbformat": 4,
 "nbformat_minor": 5
}
