{
 "cells": [
  {
   "cell_type": "code",
   "execution_count": null,
   "id": "28f2d901-2e0e-41b6-b473-8e28d51bc0a9",
   "metadata": {},
   "outputs": [],
   "source": [
    "import geopandas as gpd\n",
    "import pandas as pd"
   ]
  },
  {
   "cell_type": "code",
   "execution_count": null,
   "id": "59f6eee5-4b59-4397-b9e0-e93c6fc5719f",
   "metadata": {},
   "outputs": [],
   "source": [
    "data = pd.read_parquet(\"/data/processed_data/Bevoelkerung100M.parquet\")"
   ]
  },
  {
   "cell_type": "code",
   "execution_count": null,
   "id": "4b81f1b1-b91a-47ec-9899-21e1ba33ccb2",
   "metadata": {},
   "outputs": [],
   "source": [
    "data"
   ]
  },
  {
   "cell_type": "code",
   "execution_count": null,
   "id": "0d2e5ec8-18da-4c47-a7a7-0b8aca09792c",
   "metadata": {},
   "outputs": [],
   "source": [
    "gdf = gpd.GeoDataFrame(\n",
    "    data, geometry=gpd.points_from_xy(data[(\"\", \"E\")], data[(\"\", \"N\")]), crs=\"EPSG:3035\"\n",
    ")\n",
    "gdf = gdf.rename(columns={\"\": \"geometry\"})\n",
    "gdf = gdf.drop([\"N\", \"E\"], axis=1, level=1)"
   ]
  },
  {
   "cell_type": "code",
   "execution_count": null,
   "id": "017acff0-4563-4614-8b0b-29a42a3c017d",
   "metadata": {},
   "outputs": [],
   "source": [
    "# Buffer the points using a square cap style\n",
    "# Note cap_style: round = 1, flat = 2, square = 3\n",
    "gdf[\"geometry\"] = gdf[\"geometry\"].buffer(50, cap_style=3)"
   ]
  },
  {
   "cell_type": "code",
   "execution_count": null,
   "id": "3ce2ce1c-6d1b-4745-b112-4707276bfc5d",
   "metadata": {},
   "outputs": [],
   "source": [
    "gdf"
   ]
  },
  {
   "cell_type": "code",
   "execution_count": null,
   "id": "74379a6f-2a33-4c70-aa6f-50860e63a20f",
   "metadata": {},
   "outputs": [],
   "source": [
    "gdf.columns.get_level_values(0)"
   ]
  },
  {
   "cell_type": "markdown",
   "id": "13cc9e54-3319-4a28-bd8c-519fc10a9412",
   "metadata": {},
   "source": [
    "# Nationality"
   ]
  },
  {
   "cell_type": "code",
   "execution_count": null,
   "id": "c291c881-087b-4f17-9fc3-a020ddb9e4d0",
   "metadata": {},
   "outputs": [],
   "source": [
    "ntn = gdf[[\"NATIONALITY\", \"geometry\"]]"
   ]
  },
  {
   "cell_type": "code",
   "execution_count": null,
   "id": "27256490-5351-4fd1-9030-1ac17bf493be",
   "metadata": {},
   "outputs": [],
   "source": [
    "ntn.columns = ntn[[\"NATIONALITY\", \"geometry\"]].columns.get_level_values(1)"
   ]
  },
  {
   "cell_type": "code",
   "execution_count": null,
   "id": "e8afb079-49af-42ba-98f6-3d99c8db79e4",
   "metadata": {},
   "outputs": [],
   "source": [
    "ntn"
   ]
  },
  {
   "cell_type": "code",
   "execution_count": null,
   "id": "36bd77dc-b2ca-48d6-9ff3-a97d20715eb6",
   "metadata": {},
   "outputs": [],
   "source": [
    "ntn[\"% German\"] = ntn[\"Germany\"] / (ntn[\"Germany\"].fillna(0) + ntn[\"Abroad\"].fillna(0))"
   ]
  },
  {
   "cell_type": "code",
   "execution_count": null,
   "id": "cd9f6b13-a2b6-429d-99c4-dec59e6eb36a",
   "metadata": {},
   "outputs": [],
   "source": [
    "fbg_ntn = ntn.cx[4150000:4170000, 2760000:2780000]"
   ]
  },
  {
   "cell_type": "code",
   "execution_count": null,
   "id": "d0d6ca8c-3f6f-460b-8f31-eece416d84df",
   "metadata": {},
   "outputs": [],
   "source": [
    "fbg_ntn.explore(column=\"% German\")"
   ]
  },
  {
   "cell_type": "markdown",
   "id": "8298b41f-becc-45f6-a01b-e6d681854c72",
   "metadata": {},
   "source": [
    "# Religion "
   ]
  },
  {
   "cell_type": "code",
   "execution_count": null,
   "id": "8fed47ed-1ead-4ff6-ba62-08fc55a4471b",
   "metadata": {},
   "outputs": [],
   "source": [
    "gdf.RELIGION"
   ]
  },
  {
   "cell_type": "code",
   "execution_count": null,
   "id": "c2eabb54-4f24-47fd-ae02-8f45d3253f58",
   "metadata": {},
   "outputs": [],
   "source": [
    "rgn = gdf[[\"RELIGION\", \"geometry\"]]\n",
    "rgn.columns = rgn[[\"RELIGION\", \"geometry\"]].columns.get_level_values(1)"
   ]
  },
  {
   "cell_type": "code",
   "execution_count": null,
   "id": "47d7a2f6-a9e6-4722-9f6b-4b0a45147290",
   "metadata": {},
   "outputs": [],
   "source": [
    "rgn"
   ]
  },
  {
   "cell_type": "code",
   "execution_count": null,
   "id": "0b49a43f-9778-4d99-8d12-e22cc9fceeef",
   "metadata": {},
   "outputs": [],
   "source": [
    "rgn[\"Roman Catholic Church (public law)\"].sum()"
   ]
  },
  {
   "cell_type": "code",
   "execution_count": null,
   "id": "686a0ebb-c02c-40c9-b59f-f4875296cf6b",
   "metadata": {},
   "outputs": [],
   "source": [
    "rgn[\"Other, none, no information\"].sum()"
   ]
  },
  {
   "cell_type": "code",
   "execution_count": null,
   "id": "e0b2f18c-5626-4ce5-bd3f-62cfb2217c86",
   "metadata": {},
   "outputs": [],
   "source": [
    "rgn[\"Evangelical Church (public law)\"].sum()"
   ]
  },
  {
   "cell_type": "code",
   "execution_count": null,
   "id": "9d5d8af6-9e8f-41ca-8e6d-0184f96c9d5a",
   "metadata": {},
   "outputs": [],
   "source": [
    "rgn[\"Total\"] = (\n",
    "    rgn[\"Roman Catholic Church (public law)\"].fillna(0)\n",
    "    + rgn[\"Other, none, no information\"].fillna(0)\n",
    "    + rgn[\"Evangelical Church (public law)\"].fillna(0)\n",
    ")"
   ]
  },
  {
   "cell_type": "code",
   "execution_count": null,
   "id": "4468a909-f29f-4f88-84d6-1c7cd389bbe8",
   "metadata": {},
   "outputs": [],
   "source": [
    "rgn[\"% Roman\"] = rgn[\"Roman Catholic Church (public law)\"] / rgn[\"Total\"]\n",
    "rgn[\"% Evangelical\"] = rgn[\"Evangelical Church (public law)\"] / rgn[\"Total\"]\n",
    "rgn[\"% Other\"] = rgn[\"Other, none, no information\"] / rgn[\"Total\"]"
   ]
  },
  {
   "cell_type": "code",
   "execution_count": null,
   "id": "86c0c92a-6342-49fd-8ac1-70da464b222a",
   "metadata": {},
   "outputs": [],
   "source": [
    "rgn"
   ]
  },
  {
   "cell_type": "code",
   "execution_count": null,
   "id": "d9066e2a-90ba-4df5-8624-4284c55a6b56",
   "metadata": {},
   "outputs": [],
   "source": [
    "fbg_rgn = rgn.cx[4150000:4170000, 2760000:2780000]"
   ]
  },
  {
   "cell_type": "code",
   "execution_count": null,
   "id": "e7f453b9-db6c-4483-8d74-f0c0a52ffc26",
   "metadata": {},
   "outputs": [],
   "source": [
    "fbg_rgn.explore(column=\"% Roman\")"
   ]
  },
  {
   "cell_type": "code",
   "execution_count": null,
   "id": "f831b903-c175-4727-aee2-91c8188885bd",
   "metadata": {},
   "outputs": [],
   "source": [
    "fbg_rgn.explore(column=\"% Evangelical\")"
   ]
  },
  {
   "cell_type": "code",
   "execution_count": null,
   "id": "3a2ab490-2508-415c-9ca5-908d73375cc2",
   "metadata": {},
   "outputs": [],
   "source": [
    "fbg_rgn.explore(column=\"% Other\")"
   ]
  },
  {
   "cell_type": "markdown",
   "id": "458df9ab-5558-42cc-bb03-29de2157c51a",
   "metadata": {},
   "source": [
    "# Age"
   ]
  },
  {
   "cell_type": "code",
   "execution_count": null,
   "id": "b5f597a5-7a64-486f-a869-a51648bf42ad",
   "metadata": {},
   "outputs": [],
   "source": [
    "age = gdf[[\"AGE_10\", \"geometry\"]]\n",
    "age.columns = age[[\"AGE_10\", \"geometry\"]].columns.get_level_values(1)"
   ]
  },
  {
   "cell_type": "code",
   "execution_count": null,
   "id": "6df4b191-a30b-4958-8ff1-0a576caa84c4",
   "metadata": {},
   "outputs": [],
   "source": [
    "age.columns"
   ]
  },
  {
   "cell_type": "code",
   "execution_count": null,
   "id": "22ce39da-306f-475a-80ae-40ca468267f9",
   "metadata": {},
   "outputs": [],
   "source": [
    "age[\"Total\"] = age[\n",
    "    [\n",
    "        \"Under 10\",\n",
    "        \"20 - 29\",\n",
    "        \"60 - 69\",\n",
    "        \"10 - 19\",\n",
    "        \"40 - 49\",\n",
    "        \"50 - 59\",\n",
    "        \"30 - 39\",\n",
    "        \"70 - 79\",\n",
    "        \"80 and older\",\n",
    "    ]\n",
    "].sum(axis=1)"
   ]
  },
  {
   "cell_type": "code",
   "execution_count": null,
   "id": "beb4da5f-1926-4432-acab-616c59f3a1fd",
   "metadata": {},
   "outputs": [],
   "source": [
    "age[\"Average\"] = (\n",
    "    age[\"Under 10\"].fillna(0) * 5\n",
    "    + age[\"10 - 19\"].fillna(0) * 15\n",
    "    + age[\"20 - 29\"].fillna(0) * 25\n",
    "    + age[\"30 - 39\"].fillna(0) * 35\n",
    "    + age[\"40 - 49\"].fillna(0) * 45\n",
    "    + age[\"50 - 59\"].fillna(0) * 55\n",
    "    + age[\"60 - 69\"].fillna(0) * 65\n",
    "    + age[\"70 - 79\"].fillna(0) * 75\n",
    "    + age[\"80 and older\"].fillna(0) * 85\n",
    ") / age[\"Total\"]"
   ]
  },
  {
   "cell_type": "code",
   "execution_count": null,
   "id": "16f1b758-7213-4616-b844-a50a29d75f93",
   "metadata": {},
   "outputs": [],
   "source": [
    "age"
   ]
  },
  {
   "cell_type": "code",
   "execution_count": null,
   "id": "26f91cd6-3500-4e23-952e-ccdd8f96210a",
   "metadata": {},
   "outputs": [],
   "source": [
    "fbg_age = age.cx[4150000:4170000, 2760000:2780000]"
   ]
  },
  {
   "cell_type": "code",
   "execution_count": null,
   "id": "dd147af6-2591-4629-a29b-07cd365d43af",
   "metadata": {},
   "outputs": [],
   "source": [
    "fbg_age.explore(column=\"Average\")"
   ]
  },
  {
   "cell_type": "code",
   "execution_count": null,
   "id": "47cd026b-cd31-4723-abf6-1f58f03bdfed",
   "metadata": {},
   "outputs": [],
   "source": []
  }
 ],
 "metadata": {
  "kernelspec": {
   "display_name": "Python 3 (ipykernel)",
   "language": "python",
   "name": "python3"
  },
  "language_info": {
   "codemirror_mode": {
    "name": "ipython",
    "version": 3
   },
   "file_extension": ".py",
   "mimetype": "text/x-python",
   "name": "python",
   "nbconvert_exporter": "python",
   "pygments_lexer": "ipython3"
  }
 },
 "nbformat": 4,
 "nbformat_minor": 5
}
