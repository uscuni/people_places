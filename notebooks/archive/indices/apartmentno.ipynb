{
 "cells": [
  {
   "cell_type": "markdown",
   "id": "5aeac069-f437-4b2d-8614-446e3ac589ea",
   "metadata": {},
   "source": [
    "# Apartment number"
   ]
  },
  {
   "cell_type": "code",
   "execution_count": null,
   "id": "27035a33-2a23-40b7-b077-6cb69376b837",
   "metadata": {},
   "outputs": [],
   "source": [
    "import folium\n",
    "import geopandas as gpd\n",
    "import pandas as pd\n",
    "from libpysal import graph"
   ]
  },
  {
   "cell_type": "code",
   "execution_count": null,
   "id": "893417f1-8c38-4ed2-833b-23389495dd6f",
   "metadata": {},
   "outputs": [],
   "source": [
    "cd /home/lisa/work/people_places_germany/code"
   ]
  },
  {
   "cell_type": "code",
   "execution_count": null,
   "id": "01faab49-7457-4519-b2b7-6128b10638a9",
   "metadata": {},
   "outputs": [],
   "source": [
    "from clusters import assign_clusters\n",
    "from spatial_autocorrelation import lisa"
   ]
  },
  {
   "cell_type": "code",
   "execution_count": null,
   "id": "27d51e38-e96d-428c-b2bd-3745951938f4",
   "metadata": {},
   "outputs": [],
   "source": [
    "clusters = gpd.read_parquet(\n",
    "    \"/data/cluster_data/clusters_umap_freiburg_100_3_gaussian_euclidean_complete_chebyshev_3.pq\"\n",
    ")"
   ]
  },
  {
   "cell_type": "code",
   "execution_count": null,
   "id": "51aa4a5c-3793-4c82-bf5b-815362580e7c",
   "metadata": {},
   "outputs": [],
   "source": [
    "# clusters.explore(column=clusters.index,cmap='tab20')"
   ]
  },
  {
   "cell_type": "markdown",
   "id": "b2dbe135-0f55-4de2-9ea1-828f3499e14b",
   "metadata": {},
   "source": [
    "# Raw Data"
   ]
  },
  {
   "cell_type": "code",
   "execution_count": null,
   "id": "03acfa8e-da15-4b43-abf1-3b411f02926c",
   "metadata": {},
   "outputs": [],
   "source": [
    "demographics = pd.read_parquet(\"/data/processed_data/Geb100m.parquet\").reset_index()"
   ]
  },
  {
   "cell_type": "code",
   "execution_count": null,
   "id": "6736db48-22f0-4262-b902-1d6d40f8ead5",
   "metadata": {},
   "outputs": [],
   "source": [
    "gdf, largest_overlap, data = assign_clusters(demographics, clusters)"
   ]
  },
  {
   "cell_type": "code",
   "execution_count": null,
   "id": "e54fd682-e4fe-42ab-8271-58ef589ce4e8",
   "metadata": {},
   "outputs": [],
   "source": [
    "gdf[\"STATS\", \"Apartment no\"] = (\n",
    "    data[\"APARTMENT_NO\"][\"1 apartment\"].fillna(0) * 1\n",
    "    + data[\"APARTMENT_NO\"][\"2 apartments\"].fillna(0) * 2\n",
    "    + data[\"APARTMENT_NO\"][\"3 - 6 apartments\"].fillna(0) * 4.5\n",
    "    + data[\"APARTMENT_NO\"][\"7 - 12 apartments\"].fillna(0) * 9.5\n",
    "    + data[\"APARTMENT_NO\"][\"13 and more apartments\"].fillna(0) * 15\n",
    ") / data[\"APARTMENT_NO\"].sum(axis=1)"
   ]
  },
  {
   "cell_type": "code",
   "execution_count": null,
   "id": "c0216033-cbd0-4188-a92b-b38183a80f54",
   "metadata": {},
   "outputs": [],
   "source": [
    "gdf"
   ]
  },
  {
   "cell_type": "code",
   "execution_count": null,
   "id": "e9674b10-4f8b-43f0-a95c-06b047cf3bef",
   "metadata": {},
   "outputs": [],
   "source": [
    "gdf1 = gdf[[\"ID\", \"geometry\", \"STATS\", \"cluster\"]]\n",
    "gdf1.columns = gdf1.columns.get_level_values(0)"
   ]
  },
  {
   "cell_type": "code",
   "execution_count": null,
   "id": "790658c0-7197-4ead-8228-600e69d870c6",
   "metadata": {},
   "outputs": [],
   "source": [
    "gdf2 = gdf[[\"ID\", \"APARTMENT_NO\"]]\n",
    "gdf2.columns = gdf2.columns.get_level_values(1)\n",
    "gdf1 = gdf1.merge(gdf2, how=\"left\", on=\"ID\")"
   ]
  },
  {
   "cell_type": "markdown",
   "id": "08a3428e-f299-4ac7-94a0-fd7ad937e71f",
   "metadata": {},
   "source": [
    "# Compute Spatial Lag"
   ]
  },
  {
   "cell_type": "code",
   "execution_count": null,
   "id": "7784f45f-95cc-45a5-87f6-6b2c0d033495",
   "metadata": {},
   "outputs": [],
   "source": [
    "gdf1 = gdf1[gdf1.cluster.notna()]\n",
    "queen = graph.Graph.build_contiguity(gdf1, rook=False)\n",
    "row_wise_queen = queen.transform(\"R\")"
   ]
  },
  {
   "cell_type": "code",
   "execution_count": null,
   "id": "ca6305e6-a3f4-45d3-ac08-d2999b52ec11",
   "metadata": {},
   "outputs": [],
   "source": [
    "gdf1.columns"
   ]
  },
  {
   "cell_type": "code",
   "execution_count": null,
   "id": "50261a8d-3c0a-41ee-91aa-c999c243f4f3",
   "metadata": {},
   "outputs": [],
   "source": [
    "for i in [\n",
    "    \"STATS\",\n",
    "    \"1 apartment\",\n",
    "    \"3 - 6 apartments\",\n",
    "    \"2 apartments\",\n",
    "    \"7 - 12 apartments\",\n",
    "    \"13 and more apartments\",\n",
    "]:\n",
    "    gdf1.loc[:, i + \"_lag\"] = row_wise_queen.lag(gdf1[i])"
   ]
  },
  {
   "cell_type": "code",
   "execution_count": null,
   "id": "5bc6af07-52b9-4d84-961c-718d4a5c4d63",
   "metadata": {},
   "outputs": [],
   "source": [
    "gdf1.to_parquet(\n",
    "    \"/home/lisa/work/people_places_germany/Notebooks/temp_data/apartmentno.parquet\"\n",
    ")"
   ]
  },
  {
   "cell_type": "code",
   "execution_count": null,
   "id": "037c28c0-c70d-4a4e-83ec-f38d6d8ab117",
   "metadata": {},
   "outputs": [],
   "source": [
    "gdf1"
   ]
  },
  {
   "cell_type": "code",
   "execution_count": null,
   "id": "0206392a-a4a4-4156-9411-3e7ebd7c34aa",
   "metadata": {},
   "outputs": [],
   "source": [
    "# gdf1.cx[4150000:4170000,2760000:2780000].explore(\"STATS\", cmap=\"coolwarm\", prefer_canvas=True)"
   ]
  },
  {
   "cell_type": "markdown",
   "id": "49b14013-07ec-4a43-8ef3-129438b77605",
   "metadata": {},
   "source": [
    "# Local Spatial Autocorrelation"
   ]
  },
  {
   "cell_type": "code",
   "execution_count": null,
   "id": "3a23fa90-925c-427e-a5bc-3d86d0f421c8",
   "metadata": {},
   "outputs": [],
   "source": [
    "mi, gdf_05 = lisa(gdf1.cx[4150000:4170000, 2760000:2780000], \"STATS\", 0.05)"
   ]
  },
  {
   "cell_type": "code",
   "execution_count": null,
   "id": "5a16a406-c92a-4b98-b113-be969e36847f",
   "metadata": {},
   "outputs": [],
   "source": [
    "print(f\"Moran's I: {mi.I}, p-value: {mi.p_sim}\")"
   ]
  },
  {
   "cell_type": "code",
   "execution_count": null,
   "id": "5c44ae8d-cb0d-4292-afde-3403ce8acdea",
   "metadata": {},
   "outputs": [],
   "source": [
    "# gdf_05.explore(\"cluster\", prefer_canvas=True, cmap=[\"#d7191c\",\"#fdae61\",\"#abd9e9\",\"#2c7bb6\",\"lightgrey\"])"
   ]
  },
  {
   "cell_type": "markdown",
   "id": "a03d2ef5-d045-4389-bf15-057255ce9220",
   "metadata": {},
   "source": [
    "# Cluster Aggregation"
   ]
  },
  {
   "cell_type": "code",
   "execution_count": null,
   "id": "af1efac4-f8a0-4ab0-a983-73cd458a9784",
   "metadata": {},
   "outputs": [],
   "source": [
    "d = []\n",
    "for i in range(0, int(gdf1[\"cluster\"].max())):\n",
    "    d.append(\n",
    "        {\n",
    "            \"stats\": gdf1[gdf1[\"cluster\"] == i][\"STATS\"].mean(),\n",
    "            \"stats count\": gdf1[gdf1[\"cluster\"] == i][\"STATS\"].count(),\n",
    "        }\n",
    "    )\n",
    "\n",
    "stats = pd.DataFrame(d)"
   ]
  },
  {
   "cell_type": "code",
   "execution_count": null,
   "id": "40a2d25d-47d3-4727-8c08-98f359b2135d",
   "metadata": {},
   "outputs": [],
   "source": [
    "stats[\"label\"] = stats.index\n",
    "stats = clusters.merge(stats, on=\"label\")"
   ]
  },
  {
   "cell_type": "code",
   "execution_count": null,
   "id": "d0e69972-85c8-49c1-88c7-b9513191826e",
   "metadata": {},
   "outputs": [],
   "source": [
    "# stats.explore(column='stats', cmap=\"coolwarm\", prefer_canvas=True)"
   ]
  },
  {
   "cell_type": "code",
   "execution_count": null,
   "id": "2dcb0b30-9cbd-45bf-b8a1-776bc096b8ff",
   "metadata": {},
   "outputs": [],
   "source": [
    "m = stats.explore(\n",
    "    column=\"stats\", cmap=\"coolwarm\", prefer_canvas=True, name=\"cluster aggregation\"\n",
    ")\n",
    "\n",
    "gdf_05.explore(\n",
    "    \"sig_cluster\",\n",
    "    prefer_canvas=True,\n",
    "    cmap=[\"#d7191c\", \"#fdae61\", \"#abd9e9\", \"#2c7bb6\", \"lightgrey\"],\n",
    "    name=\"local spatial autocorrelation\",\n",
    "    m=m,\n",
    ")\n",
    "\n",
    "gdf1.cx[4150000:4170000, 2760000:2780000].explore(\n",
    "    \"STATS\", cmap=\"coolwarm\", prefer_canvas=True, name=\"raw data\", m=m\n",
    ")\n",
    "\n",
    "# Add a layer control to toggle the layers on and off\n",
    "folium.LayerControl().add_to(m)\n",
    "\n",
    "# Display the map\n",
    "m"
   ]
  },
  {
   "cell_type": "code",
   "execution_count": null,
   "id": "d6f241d5-a5c8-469e-97e6-50733cd19a2b",
   "metadata": {},
   "outputs": [],
   "source": []
  },
  {
   "cell_type": "code",
   "execution_count": null,
   "id": "06d6539b-b38a-4ddf-9259-5c486a318176",
   "metadata": {},
   "outputs": [],
   "source": []
  },
  {
   "cell_type": "code",
   "execution_count": null,
   "id": "98dfa0a8-00f7-451b-9ad2-22c8c131e423",
   "metadata": {},
   "outputs": [],
   "source": []
  },
  {
   "cell_type": "code",
   "execution_count": null,
   "id": "307ba98d-8a62-42d2-9e1b-4917e4e36fa2",
   "metadata": {},
   "outputs": [],
   "source": []
  },
  {
   "cell_type": "code",
   "execution_count": null,
   "id": "46dd7b80-1512-4cff-ba32-b41908815996",
   "metadata": {},
   "outputs": [],
   "source": []
  }
 ],
 "metadata": {
  "kernelspec": {
   "display_name": "Python 3 (ipykernel)",
   "language": "python",
   "name": "python3"
  },
  "language_info": {
   "codemirror_mode": {
    "name": "ipython",
    "version": 3
   },
   "file_extension": ".py",
   "mimetype": "text/x-python",
   "name": "python",
   "nbconvert_exporter": "python",
   "pygments_lexer": "ipython3"
  }
 },
 "nbformat": 4,
 "nbformat_minor": 5
}
