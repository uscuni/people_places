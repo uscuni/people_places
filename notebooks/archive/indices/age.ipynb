{
 "cells": [
  {
   "cell_type": "markdown",
   "id": "12c90188-540a-4811-ad7e-f71a015eec38",
   "metadata": {},
   "source": [
    "# Age"
   ]
  },
  {
   "cell_type": "code",
   "execution_count": null,
   "id": "27035a33-2a23-40b7-b077-6cb69376b837",
   "metadata": {},
   "outputs": [],
   "source": [
    "import folium\n",
    "import geopandas as gpd\n",
    "import pandas as pd\n",
    "from libpysal import graph"
   ]
  },
  {
   "cell_type": "code",
   "execution_count": null,
   "id": "893417f1-8c38-4ed2-833b-23389495dd6f",
   "metadata": {},
   "outputs": [],
   "source": [
    "cd /home/lisa/work/people_places_germany/code"
   ]
  },
  {
   "cell_type": "code",
   "execution_count": null,
   "id": "01faab49-7457-4519-b2b7-6128b10638a9",
   "metadata": {},
   "outputs": [],
   "source": [
    "from clusters import assign_clusters\n",
    "from spatial_autocorrelation import lisa"
   ]
  },
  {
   "cell_type": "code",
   "execution_count": null,
   "id": "27d51e38-e96d-428c-b2bd-3745951938f4",
   "metadata": {},
   "outputs": [],
   "source": [
    "clusters = gpd.read_parquet(\n",
    "    \"/data/cluster_data/clusters_umap_freiburg_100_3_gaussian_euclidean_complete_chebyshev_3.pq\"\n",
    ")"
   ]
  },
  {
   "cell_type": "code",
   "execution_count": null,
   "id": "51aa4a5c-3793-4c82-bf5b-815362580e7c",
   "metadata": {},
   "outputs": [],
   "source": [
    "# clusters.explore(column=clusters.index,cmap='tab20')"
   ]
  },
  {
   "cell_type": "markdown",
   "id": "b2dbe135-0f55-4de2-9ea1-828f3499e14b",
   "metadata": {},
   "source": [
    "# Raw Data"
   ]
  },
  {
   "cell_type": "code",
   "execution_count": null,
   "id": "03acfa8e-da15-4b43-abf1-3b411f02926c",
   "metadata": {},
   "outputs": [],
   "source": [
    "demographics = pd.read_parquet(\n",
    "    \"/data/processed_data/Bevoelkerung100M.parquet\"\n",
    ").reset_index()"
   ]
  },
  {
   "cell_type": "code",
   "execution_count": null,
   "id": "6736db48-22f0-4262-b902-1d6d40f8ead5",
   "metadata": {},
   "outputs": [],
   "source": [
    "gdf, largest_overlap, data = assign_clusters(demographics, clusters)"
   ]
  },
  {
   "cell_type": "code",
   "execution_count": null,
   "id": "e54fd682-e4fe-42ab-8271-58ef589ce4e8",
   "metadata": {},
   "outputs": [],
   "source": [
    "# calculate average age\n",
    "age = data[\"AGE_10\"]\n",
    "\n",
    "gdf[\"STATS\", \"Average Age\"] = (\n",
    "    age[\"Under 10\"].fillna(0) * 5\n",
    "    + age[\"10 - 19\"].fillna(0) * 15\n",
    "    + age[\"20 - 29\"].fillna(0) * 25\n",
    "    + age[\"30 - 39\"].fillna(0) * 35\n",
    "    + age[\"40 - 49\"].fillna(0) * 45\n",
    "    + age[\"50 - 59\"].fillna(0) * 55\n",
    "    + age[\"60 - 69\"].fillna(0) * 65\n",
    "    + age[\"70 - 79\"].fillna(0) * 75\n",
    "    + age[\"80 and older\"].fillna(0) * 85\n",
    ") / age[\n",
    "    [\n",
    "        \"Under 10\",\n",
    "        \"20 - 29\",\n",
    "        \"60 - 69\",\n",
    "        \"10 - 19\",\n",
    "        \"40 - 49\",\n",
    "        \"50 - 59\",\n",
    "        \"30 - 39\",\n",
    "        \"70 - 79\",\n",
    "        \"80 and older\",\n",
    "    ]\n",
    "].sum(axis=1)"
   ]
  },
  {
   "cell_type": "code",
   "execution_count": null,
   "id": "e9674b10-4f8b-43f0-a95c-06b047cf3bef",
   "metadata": {},
   "outputs": [],
   "source": [
    "gdf1 = gdf[[\"ID\", \"geometry\", \"cluster\", \"STATS\"]]\n",
    "gdf1.columns = gdf1.columns.get_level_values(0)"
   ]
  },
  {
   "cell_type": "code",
   "execution_count": null,
   "id": "91d026d8-dee4-4aa4-bca9-b3db46337e13",
   "metadata": {},
   "outputs": [],
   "source": [
    "gdf2 = gdf[[\"ID\", \"AGE_10\"]]\n",
    "gdf2.columns = gdf2.columns.get_level_values(1)\n",
    "gdf1 = gdf1.merge(gdf2, how=\"left\", on=\"ID\")"
   ]
  },
  {
   "cell_type": "markdown",
   "id": "330a35b8-5b97-410a-a4bc-28cac9ccc923",
   "metadata": {},
   "source": [
    "# Compute Spatial Lag"
   ]
  },
  {
   "cell_type": "code",
   "execution_count": null,
   "id": "76d9edbc-32ae-493d-ae5f-937c810742b6",
   "metadata": {},
   "outputs": [],
   "source": [
    "gdf1 = gdf1.cx[4150000:4170000, 2760000:2780000]"
   ]
  },
  {
   "cell_type": "code",
   "execution_count": null,
   "id": "ae1cd9ce-e214-48f1-acd0-25a140ac6fe3",
   "metadata": {},
   "outputs": [],
   "source": [
    "gdf1 = gdf1[gdf1.cluster.notna()]\n",
    "queen = graph.Graph.build_contiguity(gdf1, rook=False)\n",
    "row_wise_queen = queen.transform(\"R\")"
   ]
  },
  {
   "cell_type": "code",
   "execution_count": null,
   "id": "de61d4a4-5a47-45fe-b98e-5d6e7e98396f",
   "metadata": {},
   "outputs": [],
   "source": [
    "gdf1.columns"
   ]
  },
  {
   "cell_type": "code",
   "execution_count": null,
   "id": "01e99db6-d332-4f89-a93d-6869c6d088a1",
   "metadata": {},
   "outputs": [],
   "source": [
    "for i in [\n",
    "    \"STATS\",\n",
    "    \"Under 10\",\n",
    "    \"20 - 29\",\n",
    "    \"60 - 69\",\n",
    "    \"10 - 19\",\n",
    "    \"40 - 49\",\n",
    "    \"50 - 59\",\n",
    "    \"30 - 39\",\n",
    "    \"70 - 79\",\n",
    "    \"80 and older\",\n",
    "]:\n",
    "    gdf1.loc[:, i + \"_lag\"] = row_wise_queen.lag(gdf1[i])"
   ]
  },
  {
   "cell_type": "code",
   "execution_count": null,
   "id": "c1b31131-9c2a-4a3b-8c6a-01953935a0da",
   "metadata": {},
   "outputs": [],
   "source": [
    "gdf1.to_parquet(\"/home/lisa/work/people_places_germany/Notebooks/temp_data/age.parquet\")"
   ]
  },
  {
   "cell_type": "code",
   "execution_count": null,
   "id": "fa3d880e-b000-4a0c-bf26-4bba9400c9ad",
   "metadata": {},
   "outputs": [],
   "source": [
    "gdf1.columns"
   ]
  },
  {
   "cell_type": "code",
   "execution_count": null,
   "id": "ef0ec67a-5b99-4e25-a766-58049ca4e0a1",
   "metadata": {},
   "outputs": [],
   "source": [
    "gdf1"
   ]
  },
  {
   "cell_type": "code",
   "execution_count": null,
   "id": "0206392a-a4a4-4156-9411-3e7ebd7c34aa",
   "metadata": {},
   "outputs": [],
   "source": [
    "# gdf1.explore(\"STATS\", cmap=\"coolwarm\", prefer_canvas=True)"
   ]
  },
  {
   "cell_type": "markdown",
   "id": "49b14013-07ec-4a43-8ef3-129438b77605",
   "metadata": {},
   "source": [
    "# Local Spatial Autocorrelation"
   ]
  },
  {
   "cell_type": "code",
   "execution_count": null,
   "id": "3a23fa90-925c-427e-a5bc-3d86d0f421c8",
   "metadata": {},
   "outputs": [],
   "source": [
    "mi, gdf_05 = lisa(gdf1, \"STATS\", 0.05)"
   ]
  },
  {
   "cell_type": "code",
   "execution_count": null,
   "id": "5a16a406-c92a-4b98-b113-be969e36847f",
   "metadata": {},
   "outputs": [],
   "source": [
    "print(f\"Moran's I: {mi.I}, p-value: {mi.p_sim}\")"
   ]
  },
  {
   "cell_type": "code",
   "execution_count": null,
   "id": "5c44ae8d-cb0d-4292-afde-3403ce8acdea",
   "metadata": {},
   "outputs": [],
   "source": [
    "# gdf_05.explore(\"sig_cluster\", prefer_canvas=True, cmap=[\"#d7191c\",\"#fdae61\",\"#abd9e9\",\"#2c7bb6\",\"lightgrey\"])"
   ]
  },
  {
   "cell_type": "markdown",
   "id": "a03d2ef5-d045-4389-bf15-057255ce9220",
   "metadata": {},
   "source": [
    "# Cluster Aggregation"
   ]
  },
  {
   "cell_type": "code",
   "execution_count": null,
   "id": "86fb8527-27b2-4d82-82fd-6e9fbd962b62",
   "metadata": {},
   "outputs": [],
   "source": [
    "gdf"
   ]
  },
  {
   "cell_type": "code",
   "execution_count": null,
   "id": "af1efac4-f8a0-4ab0-a983-73cd458a9784",
   "metadata": {},
   "outputs": [],
   "source": [
    "d = []\n",
    "for i in range(0, int(data[\"cluster\", \"cluster\"].max())):\n",
    "    d.append(\n",
    "        {\n",
    "            \"Average age\": gdf[gdf[\"cluster\", \"cluster\"] == i][\n",
    "                \"STATS\", \"Average Age\"\n",
    "            ].mean(),\n",
    "            \"Average age count\": gdf[gdf[\"cluster\", \"cluster\"] == i][\n",
    "                \"STATS\", \"Average Age\"\n",
    "            ].count(),\n",
    "        }\n",
    "    )\n",
    "\n",
    "stats = pd.DataFrame(d)"
   ]
  },
  {
   "cell_type": "code",
   "execution_count": null,
   "id": "40a2d25d-47d3-4727-8c08-98f359b2135d",
   "metadata": {},
   "outputs": [],
   "source": [
    "stats[\"label\"] = stats.index\n",
    "stats = clusters.merge(stats, on=\"label\")"
   ]
  },
  {
   "cell_type": "code",
   "execution_count": null,
   "id": "d0e69972-85c8-49c1-88c7-b9513191826e",
   "metadata": {},
   "outputs": [],
   "source": [
    "# stats.explore(column='Average age', cmap=\"coolwarm\", prefer_canvas=True,vmax=50)"
   ]
  },
  {
   "cell_type": "code",
   "execution_count": null,
   "id": "2dcb0b30-9cbd-45bf-b8a1-776bc096b8ff",
   "metadata": {},
   "outputs": [],
   "source": [
    "m = stats.explore(\n",
    "    column=\"Average age\",\n",
    "    cmap=\"coolwarm\",\n",
    "    prefer_canvas=True,\n",
    "    name=\"cluster aggregation\",\n",
    ")\n",
    "\n",
    "gdf_05.explore(\n",
    "    \"sig_cluster\",\n",
    "    prefer_canvas=True,\n",
    "    cmap=[\"#d7191c\", \"#fdae61\", \"#abd9e9\", \"#2c7bb6\", \"lightgrey\"],\n",
    "    name=\"local spatial autocorrelation\",\n",
    "    m=m,\n",
    ")\n",
    "\n",
    "gdf1.cx[4150000:4170000, 2760000:2780000].explore(\n",
    "    \"STATS\", cmap=\"coolwarm\", prefer_canvas=True, name=\"raw data\", m=m\n",
    ")\n",
    "\n",
    "# Add a layer control to toggle the layers on and off\n",
    "folium.LayerControl().add_to(m)\n",
    "\n",
    "# Display the map\n",
    "m"
   ]
  },
  {
   "cell_type": "code",
   "execution_count": null,
   "id": "28b2ef9b-1abf-4dea-9e97-c0eeb3b8b06f",
   "metadata": {},
   "outputs": [],
   "source": []
  },
  {
   "cell_type": "code",
   "execution_count": null,
   "id": "c8bb22e4-f2d8-46d1-ba83-f431d6947986",
   "metadata": {},
   "outputs": [],
   "source": []
  }
 ],
 "metadata": {
  "kernelspec": {
   "display_name": "Python 3 (ipykernel)",
   "language": "python",
   "name": "python3"
  },
  "language_info": {
   "codemirror_mode": {
    "name": "ipython",
    "version": 3
   },
   "file_extension": ".py",
   "mimetype": "text/x-python",
   "name": "python",
   "nbconvert_exporter": "python",
   "pygments_lexer": "ipython3"
  }
 },
 "nbformat": 4,
 "nbformat_minor": 5
}
