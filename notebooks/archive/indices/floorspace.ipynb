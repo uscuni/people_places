{
 "cells": [
  {
   "cell_type": "markdown",
   "id": "2cc74ff4-5554-4ced-850f-321e580de166",
   "metadata": {},
   "source": [
    "# Floor space"
   ]
  },
  {
   "cell_type": "code",
   "execution_count": null,
   "id": "27035a33-2a23-40b7-b077-6cb69376b837",
   "metadata": {},
   "outputs": [],
   "source": [
    "import folium\n",
    "import geopandas as gpd\n",
    "import pandas as pd\n",
    "from libpysal import graph"
   ]
  },
  {
   "cell_type": "code",
   "execution_count": null,
   "id": "893417f1-8c38-4ed2-833b-23389495dd6f",
   "metadata": {},
   "outputs": [],
   "source": [
    "cd /home/lisa/work/people_places_germany/code"
   ]
  },
  {
   "cell_type": "code",
   "execution_count": null,
   "id": "01faab49-7457-4519-b2b7-6128b10638a9",
   "metadata": {},
   "outputs": [],
   "source": [
    "from clusters import assign_clusters\n",
    "from spatial_autocorrelation import lisa"
   ]
  },
  {
   "cell_type": "code",
   "execution_count": null,
   "id": "27d51e38-e96d-428c-b2bd-3745951938f4",
   "metadata": {},
   "outputs": [],
   "source": [
    "clusters = gpd.read_parquet(\n",
    "    \"/data/cluster_data/clusters_umap_freiburg_100_3_gaussian_euclidean_complete_chebyshev_3.pq\"\n",
    ")"
   ]
  },
  {
   "cell_type": "code",
   "execution_count": null,
   "id": "2e5e9c4f-9500-45b7-9dc9-d42a9f8a967c",
   "metadata": {},
   "outputs": [],
   "source": [
    "clusters"
   ]
  },
  {
   "cell_type": "code",
   "execution_count": null,
   "id": "51aa4a5c-3793-4c82-bf5b-815362580e7c",
   "metadata": {},
   "outputs": [],
   "source": [
    "# clusters.explore(column=clusters.index,cmap='tab20')"
   ]
  },
  {
   "cell_type": "markdown",
   "id": "b2dbe135-0f55-4de2-9ea1-828f3499e14b",
   "metadata": {},
   "source": [
    "# Raw Data"
   ]
  },
  {
   "cell_type": "code",
   "execution_count": null,
   "id": "03acfa8e-da15-4b43-abf1-3b411f02926c",
   "metadata": {},
   "outputs": [],
   "source": [
    "demographics = pd.read_parquet(\n",
    "    \"/data/processed_data/Wohnungen100m.parquet\"\n",
    ").reset_index()"
   ]
  },
  {
   "cell_type": "code",
   "execution_count": null,
   "id": "6736db48-22f0-4262-b902-1d6d40f8ead5",
   "metadata": {},
   "outputs": [],
   "source": [
    "gdf, largest_overlap, data = assign_clusters(demographics, clusters)"
   ]
  },
  {
   "cell_type": "code",
   "execution_count": null,
   "id": "5120ebd6-e8fb-435f-a356-0ded350c75d4",
   "metadata": {},
   "outputs": [],
   "source": [
    "gdf[\"FLOOR_SPACE\"]"
   ]
  },
  {
   "cell_type": "code",
   "execution_count": null,
   "id": "e54fd682-e4fe-42ab-8271-58ef589ce4e8",
   "metadata": {},
   "outputs": [],
   "source": [
    "gdf[\"STATS\", \"Average floor space\"] = (\n",
    "    data[\"FLOOR_SPACE\"][\"Under 30\"].fillna(0) * 20\n",
    "    + data[\"FLOOR_SPACE\"][\"30 - 39\"].fillna(0) * 34.5\n",
    "    + data[\"FLOOR_SPACE\"][\"40 - 49\"].fillna(0) * 44.5\n",
    "    + data[\"FLOOR_SPACE\"][\"50 - 59\"].fillna(0) * 54.5\n",
    "    + data[\"FLOOR_SPACE\"][\"60 - 69\"].fillna(0) * 64.5\n",
    "    + data[\"FLOOR_SPACE\"][\"70 - 79\"].fillna(0) * 74.5\n",
    "    + data[\"FLOOR_SPACE\"][\"80 - 89\"].fillna(0) * 84.5\n",
    "    + data[\"FLOOR_SPACE\"][\"90 - 99\"].fillna(0) * 94.5\n",
    "    + data[\"FLOOR_SPACE\"][\"100 - 109\"].fillna(0) * 104.5\n",
    "    + data[\"FLOOR_SPACE\"][\"110 - 119\"].fillna(0) * 114.5\n",
    "    + data[\"FLOOR_SPACE\"][\"120 - 129\"].fillna(0) * 124.5\n",
    "    + data[\"FLOOR_SPACE\"][\"130 - 139\"].fillna(0) * 134.5\n",
    "    + data[\"FLOOR_SPACE\"][\"140 - 149\"].fillna(0) * 144.5\n",
    "    + data[\"FLOOR_SPACE\"][\"150 - 159\"].fillna(0) * 154.5\n",
    "    + data[\"FLOOR_SPACE\"][\"160 - 169\"].fillna(0) * 164.5\n",
    "    + data[\"FLOOR_SPACE\"][\"170 - 179\"].fillna(0) * 174.5\n",
    "    + data[\"FLOOR_SPACE\"][\"180 and more\"].fillna(0) * 200\n",
    ") / data[\"FLOOR_SPACE\"].sum(axis=1)"
   ]
  },
  {
   "cell_type": "code",
   "execution_count": null,
   "id": "e9674b10-4f8b-43f0-a95c-06b047cf3bef",
   "metadata": {},
   "outputs": [],
   "source": [
    "gdf1 = gdf[[\"ID\", \"geometry\", \"STATS\", \"cluster\"]]\n",
    "gdf1.columns = gdf1.columns.get_level_values(0)"
   ]
  },
  {
   "cell_type": "code",
   "execution_count": null,
   "id": "887b6cd5-8074-4f36-b5a8-2932957c4f82",
   "metadata": {},
   "outputs": [],
   "source": [
    "gdf2 = gdf[[\"ID\", \"FLOOR_SPACE\"]]\n",
    "gdf2.columns = gdf2.columns.get_level_values(1)"
   ]
  },
  {
   "cell_type": "code",
   "execution_count": null,
   "id": "2d3659b8-ba20-4f2b-bc64-e734cb06fd63",
   "metadata": {},
   "outputs": [],
   "source": [
    "gdf1 = gdf1.merge(gdf2, how=\"left\", on=\"ID\")"
   ]
  },
  {
   "cell_type": "code",
   "execution_count": null,
   "id": "0206392a-a4a4-4156-9411-3e7ebd7c34aa",
   "metadata": {},
   "outputs": [],
   "source": [
    "# gdf1.cx[4150000:4170000,2760000:2780000].explore(\"STATS\", cmap=\"coolwarm\", prefer_canvas=True)"
   ]
  },
  {
   "cell_type": "markdown",
   "id": "ee1ef778-0f41-423e-9927-80cb52a877bf",
   "metadata": {},
   "source": [
    "# Compute Spatial Lag"
   ]
  },
  {
   "cell_type": "code",
   "execution_count": null,
   "id": "f6fc032a-2d2a-4e3f-b783-adff3e4d5b7e",
   "metadata": {},
   "outputs": [],
   "source": [
    "gdf1 = gdf1.cx[4150000:4170000, 2760000:2780000]"
   ]
  },
  {
   "cell_type": "code",
   "execution_count": null,
   "id": "1613a719-f774-4150-b700-db8d18666c5c",
   "metadata": {},
   "outputs": [],
   "source": [
    "gdf1 = gdf1[gdf1.cluster.notna()]"
   ]
  },
  {
   "cell_type": "code",
   "execution_count": null,
   "id": "079a9697-cfa5-41bd-a52b-396dcf6e1284",
   "metadata": {},
   "outputs": [],
   "source": [
    "queen = graph.Graph.build_contiguity(gdf1, rook=False)"
   ]
  },
  {
   "cell_type": "code",
   "execution_count": null,
   "id": "c17ab5e0-6b8c-4a12-8fd7-be31818620b5",
   "metadata": {},
   "outputs": [],
   "source": [
    "row_wise_queen = queen.transform(\"R\")"
   ]
  },
  {
   "cell_type": "code",
   "execution_count": null,
   "id": "b6d5af02-90d3-4b88-9fba-1ecee9da7d08",
   "metadata": {},
   "outputs": [],
   "source": [
    "for i in [\n",
    "    \"STATS\",\n",
    "    \"50 - 59\",\n",
    "    \"60 - 69\",\n",
    "    \"80 - 89\",\n",
    "    \"70 - 79\",\n",
    "    \"90 - 99\",\n",
    "    \"110 - 119\",\n",
    "    \"40 - 49\",\n",
    "    \"180 and more\",\n",
    "    \"30 - 39\",\n",
    "    \"Under 30\",\n",
    "    \"120 - 129\",\n",
    "    \"100 - 109\",\n",
    "    \"140 - 149\",\n",
    "    \"150 - 159\",\n",
    "    \"130 - 139\",\n",
    "    \"160 - 169\",\n",
    "    \"170 - 179\",\n",
    "]:\n",
    "    gdf1.loc[:, i + \"_lag\"] = row_wise_queen.lag(gdf1[i])"
   ]
  },
  {
   "cell_type": "code",
   "execution_count": null,
   "id": "72c9403d-f7f3-4ea6-a25c-05885d324c31",
   "metadata": {},
   "outputs": [],
   "source": [
    "gdf1"
   ]
  },
  {
   "cell_type": "code",
   "execution_count": null,
   "id": "9bf0997a-eb94-4144-8e36-8b4e33737985",
   "metadata": {},
   "outputs": [],
   "source": [
    "gdf1.to_parquet(\n",
    "    \"/home/lisa/work/people_places_germany/Notebooks/temp_data/floorspace.parquet\"\n",
    ")"
   ]
  },
  {
   "cell_type": "markdown",
   "id": "49b14013-07ec-4a43-8ef3-129438b77605",
   "metadata": {},
   "source": [
    "# Local Spatial Autocorrelation"
   ]
  },
  {
   "cell_type": "code",
   "execution_count": null,
   "id": "3a23fa90-925c-427e-a5bc-3d86d0f421c8",
   "metadata": {},
   "outputs": [],
   "source": [
    "mi, gdf_05 = lisa(gdf1.cx[4150000:4170000, 2760000:2780000], \"STATS\", 0.05)"
   ]
  },
  {
   "cell_type": "code",
   "execution_count": null,
   "id": "5a16a406-c92a-4b98-b113-be969e36847f",
   "metadata": {},
   "outputs": [],
   "source": [
    "print(f\"Moran's I: {mi.I}, p-value: {mi.p_sim}\")"
   ]
  },
  {
   "cell_type": "code",
   "execution_count": null,
   "id": "5c44ae8d-cb0d-4292-afde-3403ce8acdea",
   "metadata": {},
   "outputs": [],
   "source": [
    "# gdf_05.explore(\"sig_cluster\", prefer_canvas=True, cmap=[\"#d7191c\",\"#fdae61\",\"#abd9e9\",\"#2c7bb6\",\"lightgrey\"])"
   ]
  },
  {
   "cell_type": "markdown",
   "id": "a03d2ef5-d045-4389-bf15-057255ce9220",
   "metadata": {},
   "source": [
    "# Cluster Aggregation"
   ]
  },
  {
   "cell_type": "code",
   "execution_count": null,
   "id": "af1efac4-f8a0-4ab0-a983-73cd458a9784",
   "metadata": {},
   "outputs": [],
   "source": [
    "d = []\n",
    "for i in range(0, int(gdf1[\"cluster\"].max())):\n",
    "    d.append(\n",
    "        {\n",
    "            \"stats\": gdf1[gdf1[\"cluster\"] == i][\"STATS\"].mean(),\n",
    "            \"stats count\": gdf1[gdf1[\"cluster\"] == i][\"STATS\"].count(),\n",
    "        }\n",
    "    )\n",
    "\n",
    "stats = pd.DataFrame(d)"
   ]
  },
  {
   "cell_type": "code",
   "execution_count": null,
   "id": "40a2d25d-47d3-4727-8c08-98f359b2135d",
   "metadata": {},
   "outputs": [],
   "source": [
    "stats[\"label\"] = stats.index\n",
    "stats = clusters.merge(stats, on=\"label\")"
   ]
  },
  {
   "cell_type": "code",
   "execution_count": null,
   "id": "d0e69972-85c8-49c1-88c7-b9513191826e",
   "metadata": {},
   "outputs": [],
   "source": [
    "# stats.explore(column='stats', cmap=\"coolwarm\", prefer_canvas=True)"
   ]
  },
  {
   "cell_type": "code",
   "execution_count": null,
   "id": "2dcb0b30-9cbd-45bf-b8a1-776bc096b8ff",
   "metadata": {},
   "outputs": [],
   "source": [
    "m = stats.explore(\n",
    "    column=\"stats\", cmap=\"coolwarm\", prefer_canvas=True, name=\"cluster aggregation\"\n",
    ")\n",
    "\n",
    "gdf_05.explore(\n",
    "    \"sig_cluster\",\n",
    "    prefer_canvas=True,\n",
    "    cmap=[\"#d7191c\", \"#fdae61\", \"#abd9e9\", \"#2c7bb6\", \"lightgrey\"],\n",
    "    name=\"local spatial autocorrelation\",\n",
    "    m=m,\n",
    ")\n",
    "\n",
    "gdf1.cx[4150000:4170000, 2760000:2780000].explore(\n",
    "    \"STATS\", cmap=\"coolwarm\", prefer_canvas=True, name=\"raw data\", m=m\n",
    ")\n",
    "gdf1.cx[4150000:4170000, 2760000:2780000].explore(\n",
    "    \"STATS_lag\", cmap=\"coolwarm\", prefer_canvas=True, name=\"raw data lag\", m=m\n",
    ")\n",
    "\n",
    "# Add a layer control to toggle the layers on and off\n",
    "folium.LayerControl().add_to(m)\n",
    "\n",
    "# Display the map\n",
    "m"
   ]
  },
  {
   "cell_type": "code",
   "execution_count": null,
   "id": "98dfa0a8-00f7-451b-9ad2-22c8c131e423",
   "metadata": {},
   "outputs": [],
   "source": []
  },
  {
   "cell_type": "code",
   "execution_count": null,
   "id": "307ba98d-8a62-42d2-9e1b-4917e4e36fa2",
   "metadata": {},
   "outputs": [],
   "source": []
  }
 ],
 "metadata": {
  "kernelspec": {
   "display_name": "Python 3 (ipykernel)",
   "language": "python",
   "name": "python3"
  },
  "language_info": {
   "codemirror_mode": {
    "name": "ipython",
    "version": 3
   },
   "file_extension": ".py",
   "mimetype": "text/x-python",
   "name": "python",
   "nbconvert_exporter": "python",
   "pygments_lexer": "ipython3"
  }
 },
 "nbformat": 4,
 "nbformat_minor": 5
}
