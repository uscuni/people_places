{
 "cells": [
  {
   "cell_type": "markdown",
   "id": "12c90188-540a-4811-ad7e-f71a015eec38",
   "metadata": {},
   "source": [
    "# Rent"
   ]
  },
  {
   "cell_type": "code",
   "execution_count": null,
   "id": "27035a33-2a23-40b7-b077-6cb69376b837",
   "metadata": {},
   "outputs": [],
   "source": [
    "import folium\n",
    "import geopandas as gpd\n",
    "import pandas as pd"
   ]
  },
  {
   "cell_type": "code",
   "execution_count": null,
   "id": "893417f1-8c38-4ed2-833b-23389495dd6f",
   "metadata": {},
   "outputs": [],
   "source": [
    "cd /home/lisa/work/people_places_germany/code"
   ]
  },
  {
   "cell_type": "code",
   "execution_count": null,
   "id": "01faab49-7457-4519-b2b7-6128b10638a9",
   "metadata": {},
   "outputs": [],
   "source": [
    "from spatial_autocorrelation import lisa"
   ]
  },
  {
   "cell_type": "code",
   "execution_count": null,
   "id": "27d51e38-e96d-428c-b2bd-3745951938f4",
   "metadata": {},
   "outputs": [],
   "source": [
    "clusters = gpd.read_parquet(\n",
    "    \"/data/cluster_data/clusters_umap_freiburg_100_3_gaussian_euclidean_ward_2.pq\"\n",
    ").reset_index()"
   ]
  },
  {
   "cell_type": "code",
   "execution_count": null,
   "id": "51aa4a5c-3793-4c82-bf5b-815362580e7c",
   "metadata": {},
   "outputs": [],
   "source": [
    "# clusters.explore(column=clusters.index,cmap='tab20')"
   ]
  },
  {
   "cell_type": "code",
   "execution_count": null,
   "id": "6cebb37f-f110-4cae-bd2e-9a4bb1ee72be",
   "metadata": {},
   "outputs": [],
   "source": [
    "gdf = gpd.read_parquet(\"/data/processed_data/rent_2022.parquet\").reset_index()\n",
    "data = gpd.read_parquet(\"/data/processed_data/rent_2022.parquet\").reset_index()\n",
    "gdf = gdf.cx[4150000:4170000, 2760000:2780000]"
   ]
  },
  {
   "cell_type": "code",
   "execution_count": null,
   "id": "3fe71577-5dda-406b-85be-9f9c4e469a7a",
   "metadata": {},
   "outputs": [],
   "source": [
    "gdf"
   ]
  },
  {
   "cell_type": "markdown",
   "id": "b2dbe135-0f55-4de2-9ea1-828f3499e14b",
   "metadata": {},
   "source": [
    "# Raw Data"
   ]
  },
  {
   "cell_type": "code",
   "execution_count": null,
   "id": "0206392a-a4a4-4156-9411-3e7ebd7c34aa",
   "metadata": {},
   "outputs": [],
   "source": [
    "# gdf.explore(\"durchschnMieteQM\", cmap=\"coolwarm\", prefer_canvas=True)"
   ]
  },
  {
   "cell_type": "markdown",
   "id": "49b14013-07ec-4a43-8ef3-129438b77605",
   "metadata": {},
   "source": [
    "# Local Spatial Autocorrelation"
   ]
  },
  {
   "cell_type": "code",
   "execution_count": null,
   "id": "3a23fa90-925c-427e-a5bc-3d86d0f421c8",
   "metadata": {},
   "outputs": [],
   "source": [
    "mi, gdf_05 = lisa(gdf, \"durchschnMieteQM\", 0.05)"
   ]
  },
  {
   "cell_type": "code",
   "execution_count": null,
   "id": "5a16a406-c92a-4b98-b113-be969e36847f",
   "metadata": {},
   "outputs": [],
   "source": [
    "print(f\"Moran's I: {mi.I}, p-value: {mi.p_sim}\")"
   ]
  },
  {
   "cell_type": "code",
   "execution_count": null,
   "id": "5c44ae8d-cb0d-4292-afde-3403ce8acdea",
   "metadata": {},
   "outputs": [],
   "source": [
    "# gdf_05.explore(\"cluster\", prefer_canvas=True, cmap=[\"#d7191c\",\"#fdae61\",\"#abd9e9\",\"#2c7bb6\",\"lightgrey\"])"
   ]
  },
  {
   "cell_type": "markdown",
   "id": "a03d2ef5-d045-4389-bf15-057255ce9220",
   "metadata": {},
   "source": [
    "# Cluster Aggregation"
   ]
  },
  {
   "cell_type": "code",
   "execution_count": null,
   "id": "ccc55d37-d1f8-43b7-8434-7df03c3c9f24",
   "metadata": {},
   "outputs": [],
   "source": [
    "data = data.rename(columns={\"GITTER_ID_100m\": \"ID\"})\n",
    "cells = data[[\"ID\", \"geometry\"]]\n",
    "\n",
    "overlap = gpd.overlay(cells, clusters, how=\"intersection\")\n",
    "overlap[\"area\"] = overlap.geometry.area\n",
    "largest_overlap = overlap.loc[overlap.groupby(overlap[\"ID\"])[\"area\"].idxmax()]\n",
    "data[\"cluster\"] = data.merge(largest_overlap[[\"ID\", \"label\"]], how=\"left\", on=\"ID\")[\n",
    "    \"label\"\n",
    "]\n",
    "\n",
    "d = []\n",
    "for i in range(0, int(data[\"cluster\"].max())):\n",
    "    d.append(\n",
    "        {\n",
    "            \"Average rent\": data[data[\"cluster\"] == i][\"durchschnMieteQM\"].mean(),\n",
    "            \"Average rent count\": data[data[\"cluster\"] == i][\n",
    "                \"durchschnMieteQM\"\n",
    "            ].count(),\n",
    "        }\n",
    "    )\n",
    "\n",
    "rent_stats = pd.DataFrame(d)"
   ]
  },
  {
   "cell_type": "code",
   "execution_count": null,
   "id": "400adaa8-510e-4bb2-a2c2-63c8b82ca7ab",
   "metadata": {},
   "outputs": [],
   "source": [
    "data.to_parquet(\n",
    "    \"/home/lisa/work/people_places_germany/Notebooks/temp_data/rent.parquet\"\n",
    ")"
   ]
  },
  {
   "cell_type": "code",
   "execution_count": null,
   "id": "b7b06f9a-bc1b-486b-a444-3a116677dfc4",
   "metadata": {},
   "outputs": [],
   "source": [
    "rent_stats[\"label\"] = rent_stats.index\n",
    "rent_stats = clusters.merge(rent_stats, on=\"label\")"
   ]
  },
  {
   "cell_type": "code",
   "execution_count": null,
   "id": "2dcb0b30-9cbd-45bf-b8a1-776bc096b8ff",
   "metadata": {},
   "outputs": [],
   "source": [
    "m = rent_stats.explore(\n",
    "    column=\"Average rent\",\n",
    "    cmap=\"coolwarm\",\n",
    "    prefer_canvas=True,\n",
    "    name=\"cluster aggregation\",\n",
    ")\n",
    "\n",
    "gdf_05.explore(\n",
    "    \"sig_cluster\",\n",
    "    prefer_canvas=True,\n",
    "    cmap=[\"#d7191c\", \"#fdae61\", \"#abd9e9\", \"#2c7bb6\", \"lightgrey\"],\n",
    "    name=\"local spatial autocorrelation\",\n",
    "    m=m,\n",
    ")\n",
    "\n",
    "gdf.explore(\n",
    "    \"durchschnMieteQM\", cmap=\"coolwarm\", prefer_canvas=True, name=\"raw data\", m=m\n",
    ")\n",
    "\n",
    "# Add a layer control to toggle the layers on and off\n",
    "folium.LayerControl().add_to(m)\n",
    "\n",
    "# Display the map\n",
    "m"
   ]
  },
  {
   "cell_type": "code",
   "execution_count": null,
   "id": "66ac1e6d-9254-4734-9e90-c506e288382a",
   "metadata": {},
   "outputs": [],
   "source": []
  }
 ],
 "metadata": {
  "kernelspec": {
   "display_name": "Python 3 (ipykernel)",
   "language": "python",
   "name": "python3"
  },
  "language_info": {
   "codemirror_mode": {
    "name": "ipython",
    "version": 3
   },
   "file_extension": ".py",
   "mimetype": "text/x-python",
   "name": "python",
   "nbconvert_exporter": "python",
   "pygments_lexer": "ipython3"
  }
 },
 "nbformat": 4,
 "nbformat_minor": 5
}
