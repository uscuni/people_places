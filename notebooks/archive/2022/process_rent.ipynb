{
 "cells": [
  {
   "cell_type": "code",
   "execution_count": null,
   "id": "ae95e70b-f8eb-4491-8dd5-0f583d67dffe",
   "metadata": {},
   "outputs": [],
   "source": [
    "import geopandas as gpd\n",
    "import pandas as pd"
   ]
  },
  {
   "cell_type": "code",
   "execution_count": null,
   "id": "84770fec-ccf9-4caf-ab9f-73cc2a4cee8b",
   "metadata": {},
   "outputs": [],
   "source": [
    "df = pd.read_csv(\n",
    "    \"/data/2022/Zensus2022_Durchschn_Nettokaltmiete_100m-Gitter.csv\",\n",
    "    sep=\";\",\n",
    "    decimal=\",\",\n",
    "    index_col=0,\n",
    ")"
   ]
  },
  {
   "cell_type": "code",
   "execution_count": null,
   "id": "0f82c59a-bf0d-452a-8685-8a33c89eb881",
   "metadata": {},
   "outputs": [],
   "source": [
    "df"
   ]
  },
  {
   "cell_type": "code",
   "execution_count": null,
   "id": "575c33b1-3774-433d-ba05-c9fdf1e9e395",
   "metadata": {},
   "outputs": [],
   "source": [
    "df[\"x_mp_100m\"]"
   ]
  },
  {
   "cell_type": "code",
   "execution_count": null,
   "id": "24844d3c-1dd2-4a95-86bd-38d4d3804c9c",
   "metadata": {},
   "outputs": [],
   "source": [
    "gdf = gpd.GeoDataFrame(\n",
    "    df, geometry=gpd.points_from_xy(df[\"x_mp_100m\"], df[\"y_mp_100m\"]), crs=\"EPSG:3035\"\n",
    ")"
   ]
  },
  {
   "cell_type": "code",
   "execution_count": null,
   "id": "f52cef5b-3397-491e-b53a-1f1d352ed6cc",
   "metadata": {},
   "outputs": [],
   "source": [
    "gdf"
   ]
  },
  {
   "cell_type": "code",
   "execution_count": null,
   "id": "b92fbe94-2f88-405c-b067-358e6cf6e309",
   "metadata": {},
   "outputs": [],
   "source": [
    "# Buffer the points using a square cap style\n",
    "# Note cap_style: round = 1, flat = 2, square = 3\n",
    "gdf[\"geometry\"] = gdf[\"geometry\"].buffer(50, cap_style=3)"
   ]
  },
  {
   "cell_type": "code",
   "execution_count": null,
   "id": "c3624ceb-d5a0-48ad-962e-a772c016ae20",
   "metadata": {},
   "outputs": [],
   "source": [
    "gdf.cx[4150000:4170000, 2760000:2780000].explore(\n",
    "    column=\"durchschnMieteQM\", cmap=\"coolwarm\"\n",
    ")"
   ]
  },
  {
   "cell_type": "code",
   "execution_count": null,
   "id": "ed411769-da5b-434c-bc15-a23070e893a7",
   "metadata": {},
   "outputs": [],
   "source": [
    "gdf.to_parquet(\"/data/processed_data/rent_2022.parquet\")"
   ]
  },
  {
   "cell_type": "code",
   "execution_count": null,
   "id": "c78dd297-ad99-46d1-b100-93a5e984ed06",
   "metadata": {},
   "outputs": [],
   "source": []
  }
 ],
 "metadata": {
  "kernelspec": {
   "display_name": "Python 3 (ipykernel)",
   "language": "python",
   "name": "python3"
  },
  "language_info": {
   "codemirror_mode": {
    "name": "ipython",
    "version": 3
   },
   "file_extension": ".py",
   "mimetype": "text/x-python",
   "name": "python",
   "nbconvert_exporter": "python",
   "pygments_lexer": "ipython3"
  }
 },
 "nbformat": 4,
 "nbformat_minor": 5
}
