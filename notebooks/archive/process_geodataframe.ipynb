{
 "cells": [
  {
   "cell_type": "code",
   "execution_count": null,
   "id": "7785f981-0bc1-448b-8d17-68ae3af940ca",
   "metadata": {},
   "outputs": [],
   "source": [
    "import geopandas as gpd\n",
    "import pandas as pd"
   ]
  },
  {
   "cell_type": "code",
   "execution_count": null,
   "id": "a98b5591-18c7-4807-bb84-876bb661d18a",
   "metadata": {},
   "outputs": [],
   "source": [
    "data = pd.read_parquet(\"/data/processed_data/Bevoelkerung100M.parquet\")"
   ]
  },
  {
   "cell_type": "code",
   "execution_count": null,
   "id": "f0affd39-0e98-4dab-8861-9269b72732e9",
   "metadata": {},
   "outputs": [],
   "source": [
    "data"
   ]
  },
  {
   "cell_type": "code",
   "execution_count": null,
   "id": "e858eb4c-3a3b-450c-8c86-b3c446ed06b2",
   "metadata": {},
   "outputs": [],
   "source": [
    "coords = data.index.str.extract(r\"N(\\d{5})E(\\d{5})\")"
   ]
  },
  {
   "cell_type": "code",
   "execution_count": null,
   "id": "c02ad91a-f460-4072-aaa8-5fd6b38b7a7e",
   "metadata": {},
   "outputs": [],
   "source": [
    "coords[0] = pd.to_numeric(coords[0]) * 100 + 50\n",
    "coords[1] = pd.to_numeric(coords[1]) * 100 + 50"
   ]
  },
  {
   "cell_type": "code",
   "execution_count": null,
   "id": "a3de78da-4384-4b64-b356-9eed8cad83f9",
   "metadata": {},
   "outputs": [],
   "source": [
    "coords.values"
   ]
  },
  {
   "cell_type": "code",
   "execution_count": null,
   "id": "00590a85-46e4-49c5-b8d7-222f26276dee",
   "metadata": {},
   "outputs": [],
   "source": [
    "data[[(\"geometry\", \"N\"), (\"geometry\", \"E\")]] = coords.values"
   ]
  },
  {
   "cell_type": "code",
   "execution_count": null,
   "id": "17d0c4e4-d728-463c-a54b-e256e9b19bd4",
   "metadata": {},
   "outputs": [],
   "source": [
    "data"
   ]
  },
  {
   "cell_type": "code",
   "execution_count": null,
   "id": "f3ac1697-44a3-40c6-a47f-a67c34d2c6c1",
   "metadata": {},
   "outputs": [],
   "source": [
    "gdf = gpd.GeoDataFrame(\n",
    "    data,\n",
    "    geometry=gpd.points_from_xy(data[(\"geometry\", \"E\")], data[(\"geometry\", \"N\")]),\n",
    "    crs=\"EPSG:3035\",\n",
    ")"
   ]
  },
  {
   "cell_type": "code",
   "execution_count": null,
   "id": "90d58fde-fa87-4985-a807-3dc370993ee7",
   "metadata": {},
   "outputs": [],
   "source": [
    "gdf"
   ]
  },
  {
   "cell_type": "code",
   "execution_count": null,
   "id": "196036f7-4801-44dd-83de-4e1f6148b5c0",
   "metadata": {},
   "outputs": [],
   "source": [
    "data[(\"geometry\", \"E\")]"
   ]
  },
  {
   "cell_type": "code",
   "execution_count": null,
   "id": "60095639-473e-4caa-890a-2e3bcb76fc95",
   "metadata": {},
   "outputs": [],
   "source": [
    "gdf.columns = gdf.columns.to_flat_index()"
   ]
  },
  {
   "cell_type": "code",
   "execution_count": null,
   "id": "5eba3052-7de3-46b7-b618-b3eb8527cedf",
   "metadata": {},
   "outputs": [],
   "source": [
    "gdf"
   ]
  },
  {
   "cell_type": "code",
   "execution_count": null,
   "id": "806122f5-db09-416c-b177-d0327118fe3a",
   "metadata": {},
   "outputs": [],
   "source": [
    "gdf = gdf.reset_index()"
   ]
  },
  {
   "cell_type": "code",
   "execution_count": null,
   "id": "6a6d0fd2-bbd0-4bbe-999d-b2098e6fb208",
   "metadata": {},
   "outputs": [],
   "source": [
    "gdf.columns = gdf.columns.astype(str)"
   ]
  },
  {
   "cell_type": "code",
   "execution_count": null,
   "id": "5f32537a-ec6a-4422-ab61-8fc4f31ebccb",
   "metadata": {},
   "outputs": [],
   "source": [
    "gdf"
   ]
  },
  {
   "cell_type": "code",
   "execution_count": null,
   "id": "828879ed-69c6-43a0-b478-8b1b5ee08cfe",
   "metadata": {},
   "outputs": [],
   "source": [
    "gdf.crs"
   ]
  },
  {
   "cell_type": "code",
   "execution_count": null,
   "id": "88083755-8b91-475b-a365-80fca11a3d1f",
   "metadata": {},
   "outputs": [],
   "source": [
    "gdf.to_parquet(path=\"Bevoelkerung100M.parquet\", geometry_encoding=\"geoarrow\")"
   ]
  },
  {
   "cell_type": "code",
   "execution_count": null,
   "id": "18fa3b7a-3adf-4054-af92-501fba393145",
   "metadata": {},
   "outputs": [],
   "source": [
    "gdf.columns = pd.MultiIndex.from_frame(\n",
    "    pd.DataFrame(index=gdf.columns).reset_index().astype(str)\n",
    ")"
   ]
  },
  {
   "cell_type": "code",
   "execution_count": null,
   "id": "9a742958-2191-4c39-ae7a-28189a41268d",
   "metadata": {},
   "outputs": [],
   "source": [
    "gdf.columns"
   ]
  },
  {
   "cell_type": "code",
   "execution_count": null,
   "id": "151621b2-947e-4f8b-a951-fdf5a62dc6e8",
   "metadata": {},
   "outputs": [],
   "source": [
    "gdf.index = pd.MultiIndex.from_frame(\n",
    "    pd.DataFrame(index=gdf.index).reset_index().astype(str)\n",
    ")"
   ]
  },
  {
   "cell_type": "code",
   "execution_count": null,
   "id": "012d11eb-e268-4122-93e1-ebb158e0ca9c",
   "metadata": {},
   "outputs": [],
   "source": [
    "gdf.index"
   ]
  },
  {
   "cell_type": "code",
   "execution_count": null,
   "id": "59695df3-9822-4548-a31b-5613aa3da49f",
   "metadata": {},
   "outputs": [],
   "source": [
    "gdf.to_parquet(\"Bevoelkerung100M.parquet\")"
   ]
  },
  {
   "cell_type": "code",
   "execution_count": null,
   "id": "e6db920e-ace2-4da8-97eb-c1254bb1321d",
   "metadata": {},
   "outputs": [],
   "source": []
  }
 ],
 "metadata": {
  "kernelspec": {
   "display_name": "Python 3 (ipykernel)",
   "language": "python",
   "name": "python3"
  },
  "language_info": {
   "codemirror_mode": {
    "name": "ipython",
    "version": 3
   },
   "file_extension": ".py",
   "mimetype": "text/x-python",
   "name": "python",
   "nbconvert_exporter": "python",
   "pygments_lexer": "ipython3"
  }
 },
 "nbformat": 4,
 "nbformat_minor": 5
}
