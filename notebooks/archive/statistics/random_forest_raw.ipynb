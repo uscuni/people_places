{
 "cells": [
  {
   "cell_type": "code",
   "execution_count": null,
   "id": "ae76318c-04d8-44d8-b928-d369557a4b6e",
   "metadata": {},
   "outputs": [],
   "source": [
    "import geopandas as gpd\n",
    "import numpy as np\n",
    "import pandas as pd\n",
    "from sklearn import ensemble, metrics, model_selection"
   ]
  },
  {
   "cell_type": "code",
   "execution_count": null,
   "id": "ee35b2f3-c320-4365-b560-3e6bbbc4b4c8",
   "metadata": {},
   "outputs": [],
   "source": [
    "# import notebooks"
   ]
  },
  {
   "cell_type": "code",
   "execution_count": null,
   "id": "b5bd82ce-0782-47e6-97b9-c09f971f6e99",
   "metadata": {},
   "outputs": [],
   "source": [
    "combined_gdf = gpd.read_parquet(\"/data/processed_data/regression_stats\")"
   ]
  },
  {
   "cell_type": "code",
   "execution_count": null,
   "id": "708b2078-f345-4cfd-9e4c-7ce744ca565e",
   "metadata": {},
   "outputs": [],
   "source": [
    "combined_gdf"
   ]
  },
  {
   "cell_type": "code",
   "execution_count": null,
   "id": "86bf7883-b240-4b7b-ba5d-c284d91ad304",
   "metadata": {},
   "outputs": [],
   "source": [
    "# Assuming gdf is your GeoDataFrame\n",
    "nan_percentage = combined_gdf.isna().mean() * 100\n",
    "\n",
    "# Display the percentage of NaN values for each column\n",
    "print(nan_percentage)"
   ]
  },
  {
   "cell_type": "code",
   "execution_count": null,
   "id": "c918f496-6349-4315-9729-9ae34853b944",
   "metadata": {},
   "outputs": [],
   "source": [
    "list(combined_gdf.columns)"
   ]
  },
  {
   "cell_type": "markdown",
   "id": "54de141d-147a-4f0b-bce8-8f1d4f7a1ef1",
   "metadata": {},
   "source": [
    "# random forest"
   ]
  },
  {
   "cell_type": "code",
   "execution_count": null,
   "id": "bf476d39-ea10-4ce9-b893-03ebfd5c3527",
   "metadata": {},
   "outputs": [],
   "source": [
    "training_sample = combined_gdf.sample(2000, random_state=0)"
   ]
  },
  {
   "cell_type": "code",
   "execution_count": null,
   "id": "a623c8a0-4080-4367-99c2-d34e4dc2af1e",
   "metadata": {},
   "outputs": [],
   "source": [
    "independent_variables1 = [\n",
    "    \"%german\",\n",
    "    \"Germany\",\n",
    "    \"Abroad\",\n",
    "    \"%german_lag\",\n",
    "    \"Germany_lag\",\n",
    "    \"Abroad_lag\",\n",
    "    \"%holidayapt\",\n",
    "    \"%rented\",\n",
    "    \"Rented: with currently managed household\",\n",
    "    \"Ownership: with currently managed household\",\n",
    "    \"Holiday and leisure apartment\",\n",
    "    \"Vacant\",\n",
    "    \"Ownership: without currently managed household\",\n",
    "    \"Rented: without currently managed household\",\n",
    "    \"%rented_lag\",\n",
    "    \"Rented: with currently managed household_lag\",\n",
    "    \"Ownership: with currently managed household_lag\",\n",
    "    \"Holiday and leisure apartment_lag\",\n",
    "    \"Vacant_lag\",\n",
    "    \"Ownership: without currently managed household_lag\",\n",
    "    \"Rented: without currently managed household_lag\",\n",
    "    \"age\",\n",
    "    \"Under 10\",\n",
    "    \"20 - 29\",\n",
    "    \"60 - 69_x\",\n",
    "    \"10 - 19\",\n",
    "    \"40 - 49_x\",\n",
    "    \"50 - 59_x\",\n",
    "    \"30 - 39_x\",\n",
    "    \"70 - 79_x\",\n",
    "    \"80 and older\",\n",
    "    \"age_lag\",\n",
    "    \"Under 10_lag\",\n",
    "    \"20 - 29_lag\",\n",
    "    \"60 - 69_lag_x\",\n",
    "    \"10 - 19_lag\",\n",
    "    \"40 - 49_lag_x\",\n",
    "    \"50 - 59_lag_x\",\n",
    "    \"30 - 39_lag_x\",\n",
    "    \"70 - 79_lag_x\",\n",
    "    \"80 and older_lag\",\n",
    "    \"apartmentno\",\n",
    "    \"1 apartment\",\n",
    "    \"3 - 6 apartments\",\n",
    "    \"2 apartments\",\n",
    "    \"7 - 12 apartments\",\n",
    "    \"13 and more apartments\",\n",
    "    \"apartmentno_lag\",\n",
    "    \"1 apartment_lag\",\n",
    "    \"3 - 6 apartments_lag\",\n",
    "    \"2 apartments_lag\",\n",
    "    \"7 - 12 apartments_lag\",\n",
    "    \"13 and more apartments_lag\",\n",
    "    \"buildingyear\",\n",
    "    \"1919 - 1948\",\n",
    "    \"1949 - 1978\",\n",
    "    \"2001 - 2004\",\n",
    "    \"1987 - 1990\",\n",
    "    \"1996 - 2000\",\n",
    "    \"Before 1919\",\n",
    "    \"1979 - 1986\",\n",
    "    \"2005 - 2008\",\n",
    "    \"2009 and later\",\n",
    "    \"1991 - 1995\",\n",
    "    \"buildingyear_lag\",\n",
    "    \"1919 - 1948_lag\",\n",
    "    \"1949 - 1978_lag\",\n",
    "    \"2001 - 2004_lag\",\n",
    "    \"1987 - 1990_lag\",\n",
    "    \"1996 - 2000_lag\",\n",
    "    \"Before 1919_lag\",\n",
    "    \"1979 - 1986_lag\",\n",
    "    \"2005 - 2008_lag\",\n",
    "    \"2009 and later_lag\",\n",
    "    \"1991 - 1995_lag\",\n",
    "    \"familysize\",\n",
    "    \"2 people\",\n",
    "    \"4 people\",\n",
    "    \"5 people\",\n",
    "    \"3 people\",\n",
    "    \"6 or more people\",\n",
    "    \"familysize_lag\",\n",
    "    \"2 people_lag\",\n",
    "    \"4 people_lag\",\n",
    "    \"5 people_lag\",\n",
    "    \"3 people_lag\",\n",
    "    \"6 or more people_lag\",\n",
    "    \"floorspace\",\n",
    "    \"50 - 59_y\",\n",
    "    \"60 - 69_y\",\n",
    "    \"80 - 89\",\n",
    "    \"70 - 79_y\",\n",
    "    \"90 - 99\",\n",
    "    \"110 - 119\",\n",
    "    \"40 - 49_y\",\n",
    "    \"180 and more\",\n",
    "    \"30 - 39_y\",\n",
    "    \"Under 30\",\n",
    "    \"120 - 129\",\n",
    "    \"100 - 109\",\n",
    "    \"140 - 149\",\n",
    "    \"150 - 159\",\n",
    "    \"130 - 139\",\n",
    "    \"160 - 169\",\n",
    "    \"170 - 179\",\n",
    "    \"floorspace_lag\",\n",
    "    \"50 - 59_lag_y\",\n",
    "    \"60 - 69_lag_y\",\n",
    "    \"80 - 89_lag\",\n",
    "    \"70 - 79_lag_y\",\n",
    "    \"90 - 99_lag\",\n",
    "    \"110 - 119_lag\",\n",
    "    \"40 - 49_lag_y\",\n",
    "    \"180 and more_lag\",\n",
    "    \"30 - 39_lag_y\",\n",
    "    \"Under 30_lag\",\n",
    "    \"120 - 129_lag\",\n",
    "    \"100 - 109_lag\",\n",
    "    \"140 - 149_lag\",\n",
    "    \"150 - 159_lag\",\n",
    "    \"130 - 139_lag\",\n",
    "    \"160 - 169_lag\",\n",
    "    \"170 - 179_lag\",\n",
    "]"
   ]
  },
  {
   "cell_type": "code",
   "execution_count": null,
   "id": "0dcba64a-cafa-45bb-b599-6d392e47f3e8",
   "metadata": {},
   "outputs": [],
   "source": [
    "independent_variables = [\n",
    "    \"Germany\",\n",
    "    \"Abroad\",\n",
    "    \"Germany_lag\",\n",
    "    \"Abroad_lag\",\n",
    "    \"Rented: with currently managed household\",\n",
    "    \"Ownership: with currently managed household\",\n",
    "    \"Holiday and leisure apartment\",\n",
    "    \"Vacant\",\n",
    "    \"Ownership: without currently managed household\",\n",
    "    \"Rented: without currently managed household\",\n",
    "    \"Rented: with currently managed household_lag\",\n",
    "    \"Ownership: with currently managed household_lag\",\n",
    "    \"Holiday and leisure apartment_lag\",\n",
    "    \"Vacant_lag\",\n",
    "    \"Ownership: without currently managed household_lag\",\n",
    "    \"Rented: without currently managed household_lag\",\n",
    "    \"Under 10\",\n",
    "    \"20 - 29\",\n",
    "    \"60 - 69_x\",\n",
    "    \"10 - 19\",\n",
    "    \"40 - 49_x\",\n",
    "    \"50 - 59_x\",\n",
    "    \"30 - 39_x\",\n",
    "    \"70 - 79_x\",\n",
    "    \"80 and older\",\n",
    "    \"Under 10_lag\",\n",
    "    \"20 - 29_lag\",\n",
    "    \"60 - 69_lag_x\",\n",
    "    \"10 - 19_lag\",\n",
    "    \"40 - 49_lag_x\",\n",
    "    \"50 - 59_lag_x\",\n",
    "    \"30 - 39_lag_x\",\n",
    "    \"70 - 79_lag_x\",\n",
    "    \"80 and older_lag\",\n",
    "    \"1 apartment\",\n",
    "    \"3 - 6 apartments\",\n",
    "    \"2 apartments\",\n",
    "    \"7 - 12 apartments\",\n",
    "    \"13 and more apartments\",\n",
    "    \"1 apartment_lag\",\n",
    "    \"3 - 6 apartments_lag\",\n",
    "    \"2 apartments_lag\",\n",
    "    \"7 - 12 apartments_lag\",\n",
    "    \"13 and more apartments_lag\",\n",
    "    \"1919 - 1948\",\n",
    "    \"1949 - 1978\",\n",
    "    \"2001 - 2004\",\n",
    "    \"1987 - 1990\",\n",
    "    \"1996 - 2000\",\n",
    "    \"Before 1919\",\n",
    "    \"1979 - 1986\",\n",
    "    \"2005 - 2008\",\n",
    "    \"2009 and later\",\n",
    "    \"1991 - 1995\",\n",
    "    \"1919 - 1948_lag\",\n",
    "    \"1949 - 1978_lag\",\n",
    "    \"2001 - 2004_lag\",\n",
    "    \"1987 - 1990_lag\",\n",
    "    \"1996 - 2000_lag\",\n",
    "    \"Before 1919_lag\",\n",
    "    \"1979 - 1986_lag\",\n",
    "    \"2005 - 2008_lag\",\n",
    "    \"2009 and later_lag\",\n",
    "    \"1991 - 1995_lag\",\n",
    "    \"2 people\",\n",
    "    \"4 people\",\n",
    "    \"5 people\",\n",
    "    \"3 people\",\n",
    "    \"6 or more people\",\n",
    "    \"2 people_lag\",\n",
    "    \"4 people_lag\",\n",
    "    \"5 people_lag\",\n",
    "    \"3 people_lag\",\n",
    "    \"6 or more people_lag\",\n",
    "    \"50 - 59_y\",\n",
    "    \"60 - 69_y\",\n",
    "    \"80 - 89\",\n",
    "    \"70 - 79_y\",\n",
    "    \"90 - 99\",\n",
    "    \"110 - 119\",\n",
    "    \"40 - 49_y\",\n",
    "    \"180 and more\",\n",
    "    \"30 - 39_y\",\n",
    "    \"Under 30\",\n",
    "    \"120 - 129\",\n",
    "    \"100 - 109\",\n",
    "    \"140 - 149\",\n",
    "    \"150 - 159\",\n",
    "    \"130 - 139\",\n",
    "    \"160 - 169\",\n",
    "    \"170 - 179\",\n",
    "    \"50 - 59_lag_y\",\n",
    "    \"60 - 69_lag_y\",\n",
    "    \"80 - 89_lag\",\n",
    "    \"70 - 79_lag_y\",\n",
    "    \"90 - 99_lag\",\n",
    "    \"110 - 119_lag\",\n",
    "    \"40 - 49_lag_y\",\n",
    "    \"180 and more_lag\",\n",
    "    \"30 - 39_lag_y\",\n",
    "    \"Under 30_lag\",\n",
    "    \"120 - 129_lag\",\n",
    "    \"100 - 109_lag\",\n",
    "    \"140 - 149_lag\",\n",
    "    \"150 - 159_lag\",\n",
    "    \"130 - 139_lag\",\n",
    "    \"160 - 169_lag\",\n",
    "    \"170 - 179_lag\",\n",
    "]"
   ]
  },
  {
   "cell_type": "code",
   "execution_count": null,
   "id": "864f2b15-4f47-4b64-90cb-f11f553eb5a4",
   "metadata": {},
   "outputs": [],
   "source": [
    "independent = training_sample[independent_variables]\n",
    "independent"
   ]
  },
  {
   "cell_type": "code",
   "execution_count": null,
   "id": "4c5a2cbf-77f4-48d6-b34b-46ea42369f6f",
   "metadata": {},
   "outputs": [],
   "source": [
    "X_train, X_test, y_train, y_test = model_selection.train_test_split(\n",
    "    independent, training_sample[\"label\"], test_size=0.25, random_state=0\n",
    ")"
   ]
  },
  {
   "cell_type": "code",
   "execution_count": null,
   "id": "723d36ff-e33b-4ade-8215-4c8df2a49175",
   "metadata": {},
   "outputs": [],
   "source": [
    "model = ensemble.RandomForestClassifier(random_state=0, n_jobs=-1)\n",
    "model.fit(X_train, y_train)"
   ]
  },
  {
   "cell_type": "code",
   "execution_count": null,
   "id": "7fb5d148-42b5-4997-9b4b-d7d8866c2dc9",
   "metadata": {},
   "outputs": [],
   "source": [
    "pred = model.predict(X_test)\n",
    "pred"
   ]
  },
  {
   "cell_type": "code",
   "execution_count": null,
   "id": "c2966150-a136-48ef-92e3-84ed43e6d777",
   "metadata": {},
   "outputs": [],
   "source": [
    "y_test"
   ]
  },
  {
   "cell_type": "code",
   "execution_count": null,
   "id": "212eef6b-51d2-426a-beb1-3d3580708527",
   "metadata": {},
   "outputs": [],
   "source": [
    "proba = model.predict_proba(X_test)\n",
    "proba"
   ]
  },
  {
   "cell_type": "code",
   "execution_count": null,
   "id": "c42e7c30-d37f-4320-a442-d128376b8f56",
   "metadata": {},
   "outputs": [],
   "source": [
    "model.classes_"
   ]
  },
  {
   "cell_type": "code",
   "execution_count": null,
   "id": "48b85a5d-edd7-4cfc-8f29-d42fa9fdd0c2",
   "metadata": {},
   "outputs": [],
   "source": [
    "pd.DataFrame(proba, columns=model.classes_, index=X_test.index)"
   ]
  },
  {
   "cell_type": "code",
   "execution_count": null,
   "id": "1499ae22-914e-4a96-90bd-261156adc230",
   "metadata": {},
   "outputs": [],
   "source": [
    "accuracy = metrics.accuracy_score(pred, y_test)\n",
    "kappa = metrics.cohen_kappa_score(pred, y_test)\n",
    "\n",
    "summary = f\"\"\"\\\n",
    "Evaluation metrics\n",
    "==================\n",
    "Basic model:\n",
    "  Accuracy: {round(accuracy, 3)}\n",
    "  Kappa:    {round(kappa, 3)}\n",
    "\"\"\"\n",
    "\n",
    "print(summary)"
   ]
  },
  {
   "cell_type": "code",
   "execution_count": null,
   "id": "57840983-3674-4ac5-84bc-fa84eee37130",
   "metadata": {},
   "outputs": [],
   "source": [
    "pd.Series(model.feature_importances_, index=model.feature_names_in_).sort_values()"
   ]
  },
  {
   "cell_type": "code",
   "execution_count": null,
   "id": "baf01278-e4b3-4d4e-96de-c9664e0a19d6",
   "metadata": {},
   "outputs": [],
   "source": [
    "predicted = model_selection.cross_val_predict(\n",
    "    model, independent, training_sample[\"label\"], cv=4, n_jobs=-1\n",
    ")\n",
    "\n",
    "ax = training_sample.plot(predicted, legend=True, figsize=(9, 9), markersize=0.1)\n",
    "ax.set_axis_off()"
   ]
  },
  {
   "cell_type": "code",
   "execution_count": null,
   "id": "dd46bc1b-129b-4f33-bbfa-c3db2c6520dc",
   "metadata": {},
   "outputs": [],
   "source": [
    "ax = training_sample.plot(\n",
    "    predicted == training_sample[\"cluster\"],\n",
    "    categorical=True,\n",
    "    figsize=(9, 9),\n",
    "    markersize=0.1,\n",
    "    cmap=\"bwr_r\",\n",
    "    legend=True,\n",
    ")\n",
    "ax.set_axis_off()"
   ]
  },
  {
   "cell_type": "code",
   "execution_count": null,
   "id": "0bac2fa4-c410-4964-aa07-26db974764f3",
   "metadata": {},
   "outputs": [],
   "source": [
    "gkf = model_selection.StratifiedGroupKFold(n_splits=5)\n",
    "splits = gkf.split(\n",
    "    training_sample,\n",
    "    training_sample.label,\n",
    "    groups=training_sample.morph_label,\n",
    ")"
   ]
  },
  {
   "cell_type": "code",
   "execution_count": null,
   "id": "c3dcabd7-ec3a-401b-be57-7e990e0e1639",
   "metadata": {},
   "outputs": [],
   "source": [
    "gkf"
   ]
  },
  {
   "cell_type": "code",
   "execution_count": null,
   "id": "32e3aa8d-4323-4cf2-a3b8-a9cf87fe1934",
   "metadata": {},
   "outputs": [],
   "source": [
    "split_label = np.empty(len(training_sample), dtype=float)\n",
    "for i, (train, test) in enumerate(splits):\n",
    "    split_label[test] = i\n",
    "training_sample[\"split\"] = split_label"
   ]
  },
  {
   "cell_type": "code",
   "execution_count": null,
   "id": "f7d0137a-fa9f-4625-8ba0-0d6e8f9b1633",
   "metadata": {},
   "outputs": [],
   "source": [
    "ax = training_sample.plot(\n",
    "    \"split\", categorical=True, figsize=(9, 9), markersize=0.1, legend=True\n",
    ")\n",
    "training_sample.dissolve(\"morph_label\").convex_hull.boundary.plot(\n",
    "    ax=ax, color=\"k\", linewidth=0.5, markersize=0\n",
    ")\n",
    "ax.set_axis_off()"
   ]
  },
  {
   "cell_type": "code",
   "execution_count": null,
   "id": "55d0b0e5-d075-491c-8c70-7e25878e1764",
   "metadata": {},
   "outputs": [],
   "source": [
    "train = training_sample[\"split\"] != 0\n",
    "X_train = independent.loc[train]\n",
    "y_train = training_sample[\"label\"].loc[train]\n",
    "\n",
    "test = training_sample[\"split\"] == 0\n",
    "X_test = independent.loc[test]\n",
    "y_test = training_sample[\"label\"].loc[test]"
   ]
  },
  {
   "cell_type": "code",
   "execution_count": null,
   "id": "b54f07b2-6c4c-4561-a9a5-1f53d74c97ef",
   "metadata": {},
   "outputs": [],
   "source": [
    "rf_spatial_cv = ensemble.RandomForestClassifier(random_state=0, n_jobs=-1)\n",
    "rf_spatial_cv.fit(X_train, y_train)"
   ]
  },
  {
   "cell_type": "code",
   "execution_count": null,
   "id": "22aeba67-0d9d-48a7-9fc4-8444aeb582e1",
   "metadata": {},
   "outputs": [],
   "source": [
    "# raw data with lag"
   ]
  },
  {
   "cell_type": "code",
   "execution_count": null,
   "id": "9d693a06-c6bf-450d-8673-f7bfa206c2ae",
   "metadata": {},
   "outputs": [],
   "source": [
    "pred = rf_spatial_cv.predict(X_test)\n",
    "\n",
    "accuracy_spatial_cv = metrics.accuracy_score(pred, y_test)\n",
    "kappa_spatial_cv = metrics.cohen_kappa_score(pred, y_test)\n",
    "\n",
    "summary += f\"\"\"\\\n",
    "Basic model with spatial cross-validation:\n",
    "  Accuracy: {round(accuracy_spatial_cv, 3)}\n",
    "  Kappa:    {round(kappa_spatial_cv, 3)}\n",
    "\"\"\"\n",
    "\n",
    "print(summary)"
   ]
  },
  {
   "cell_type": "code",
   "execution_count": null,
   "id": "2158c2a6-2adb-4b3e-a8ae-a7077ea6ac11",
   "metadata": {},
   "outputs": [],
   "source": [
    "pd.Series(model.feature_importances_, index=model.feature_names_in_).sort_values()"
   ]
  },
  {
   "cell_type": "code",
   "execution_count": null,
   "id": "c50712be-5739-4cbc-9e89-713853122e8d",
   "metadata": {},
   "outputs": [],
   "source": [
    "# raw data with averaged indicies and lag"
   ]
  },
  {
   "cell_type": "code",
   "execution_count": null,
   "id": "88143c90-8593-489d-b700-398f1bba84c9",
   "metadata": {},
   "outputs": [],
   "source": [
    "pred = rf_spatial_cv.predict(X_test)\n",
    "\n",
    "accuracy_spatial_cv = metrics.accuracy_score(pred, y_test)\n",
    "kappa_spatial_cv = metrics.cohen_kappa_score(pred, y_test)\n",
    "\n",
    "summary += f\"\"\"\\\n",
    "Basic model with spatial cross-validation:\n",
    "  Accuracy: {round(accuracy_spatial_cv, 3)}\n",
    "  Kappa:    {round(kappa_spatial_cv, 3)}\n",
    "\"\"\"\n",
    "\n",
    "print(summary)"
   ]
  },
  {
   "cell_type": "code",
   "execution_count": null,
   "id": "c361e50c-d2fd-4aaa-bd64-8b8839eeecfe",
   "metadata": {},
   "outputs": [],
   "source": [
    "pd.Series(model.feature_importances_, index=model.feature_names_in_).sort_values()"
   ]
  },
  {
   "cell_type": "code",
   "execution_count": null,
   "id": "a15592a4-3c34-40c6-9d17-32753cac90d3",
   "metadata": {},
   "outputs": [],
   "source": []
  }
 ],
 "metadata": {
  "kernelspec": {
   "display_name": "Python 3 (ipykernel)",
   "language": "python",
   "name": "python3"
  },
  "language_info": {
   "codemirror_mode": {
    "name": "ipython",
    "version": 3
   },
   "file_extension": ".py",
   "mimetype": "text/x-python",
   "name": "python",
   "nbconvert_exporter": "python",
   "pygments_lexer": "ipython3"
  }
 },
 "nbformat": 4,
 "nbformat_minor": 5
}
