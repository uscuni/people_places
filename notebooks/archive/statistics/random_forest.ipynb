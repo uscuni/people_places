{
 "cells": [
  {
   "cell_type": "code",
   "execution_count": null,
   "id": "ae76318c-04d8-44d8-b928-d369557a4b6e",
   "metadata": {},
   "outputs": [],
   "source": [
    "import geopandas as gpd\n",
    "import matplotlib.pyplot as plt\n",
    "import numpy as np\n",
    "import pandas as pd\n",
    "import shap\n",
    "from sklearn import ensemble, metrics, model_selection"
   ]
  },
  {
   "cell_type": "code",
   "execution_count": null,
   "id": "2a7997d5-d3ed-41f2-9381-1762402246db",
   "metadata": {},
   "outputs": [],
   "source": [
    "!pip install shap"
   ]
  },
  {
   "cell_type": "markdown",
   "id": "5efb3f68-2fe9-4b87-a8e0-4e5ca432bfc5",
   "metadata": {},
   "source": [
    "# Import and Preprocess Files"
   ]
  },
  {
   "cell_type": "code",
   "execution_count": null,
   "id": "1c2b543c-f924-441a-a645-722a800237ad",
   "metadata": {},
   "outputs": [],
   "source": [
    "combined_gdf = gpd.read_parquet(\"/data/processed_data/regression_stats\")\n",
    "combined_gdf = combined_gdf.drop(\"cluster\", axis=1)"
   ]
  },
  {
   "cell_type": "markdown",
   "id": "5c8334f7-8652-446b-a5c6-a5c20054b1b1",
   "metadata": {},
   "source": [
    "Run the following if a new statistics file should be generated"
   ]
  },
  {
   "cell_type": "code",
   "execution_count": null,
   "id": "588c335b-51ec-4ae8-82c4-da79228e3146",
   "metadata": {},
   "outputs": [],
   "source": [
    "# Define the file paths for each GeoDataFrame\n",
    "files = [\n",
    "    \"/home/lisa/work/people_places_germany/Notebooks/temp_data/%german.parquet\",\n",
    "    \"/home/lisa/work/people_places_germany/Notebooks/temp_data/%holidayapt.parquet\",\n",
    "    \"/home/lisa/work/people_places_germany/Notebooks/temp_data/%rented.parquet\",\n",
    "    \"/home/lisa/work/people_places_germany/Notebooks/temp_data/age.parquet\",\n",
    "    \"/home/lisa/work/people_places_germany/Notebooks/temp_data/apartmentno.parquet\",\n",
    "    \"/home/lisa/work/people_places_germany/Notebooks/temp_data/buildingyear.parquet\",\n",
    "    \"/home/lisa/work/people_places_germany/Notebooks/temp_data/familysize.parquet\",\n",
    "    \"/home/lisa/work/people_places_germany/Notebooks/temp_data/floorspace.parquet\",\n",
    "]\n",
    "\n",
    "# Initialize an empty GeoDataFrame for the final combined data\n",
    "combined_gdf = None\n",
    "\n",
    "# Iterate over the files, reading only necessary columns and merging\n",
    "for file in files:\n",
    "    # Read 'ID', 'geometry', 'STATS', and 'cluster' columns\n",
    "    gdf = gpd.read_parquet(file)\n",
    "\n",
    "    columns = gdf.columns\n",
    "\n",
    "    # Generate names for 'STATS' and 'cluster' columns to avoid conflicts\n",
    "    base_name = file.split(\"/\")[-1].replace(\".parquet\", \"\")\n",
    "    stat_col_name = base_name\n",
    "\n",
    "    # Rename the columns\n",
    "    gdf.rename(\n",
    "        columns={\"STATS\": stat_col_name, \"STATS_lag\": stat_col_name + \"_lag\"},\n",
    "        inplace=True,\n",
    "    )\n",
    "\n",
    "    # Merge with the combined GeoDataFrame\n",
    "    if combined_gdf is None:\n",
    "        combined_gdf = gdf\n",
    "    else:\n",
    "        combined_gdf = combined_gdf.merge(gdf, on=[\"ID\", \"geometry\", \"cluster\"])\n",
    "\n",
    "# Now 'combined_gdf' contains all 'STATS' columns from the different GeoDataFrames"
   ]
  },
  {
   "cell_type": "code",
   "execution_count": null,
   "id": "5b09e8b3-7edc-4995-ad66-179e1de19f02",
   "metadata": {},
   "outputs": [],
   "source": [
    "combined_gdf.to_parquet(\"/data/processed_data/regression_stats\")"
   ]
  },
  {
   "cell_type": "code",
   "execution_count": null,
   "id": "708b2078-f345-4cfd-9e4c-7ce744ca565e",
   "metadata": {},
   "outputs": [],
   "source": [
    "combined_gdf"
   ]
  },
  {
   "cell_type": "code",
   "execution_count": null,
   "id": "c04a96b3-5600-4d99-9fb0-00fcbae01fd5",
   "metadata": {},
   "outputs": [],
   "source": [
    "clusters = gpd.read_parquet(\n",
    "    \"/data/cluster_data/clusters_umap_freiburg_100_3_gaussian_euclidean_complete_chebyshev_3.pq\"\n",
    ")"
   ]
  },
  {
   "cell_type": "code",
   "execution_count": null,
   "id": "4b3476a7-bcf7-413a-9367-0b6293d241a4",
   "metadata": {},
   "outputs": [],
   "source": [
    "clusters"
   ]
  },
  {
   "cell_type": "code",
   "execution_count": null,
   "id": "cd8b3c80-10ef-4492-8cf0-b61f638cb4db",
   "metadata": {},
   "outputs": [],
   "source": [
    "clusters.explore(column=\"label\", cmap=\"tab20\")"
   ]
  },
  {
   "cell_type": "code",
   "execution_count": null,
   "id": "b3f7a0aa-4c6d-4fc0-b652-354115fc2844",
   "metadata": {},
   "outputs": [],
   "source": [
    "morphotopes = gpd.read_parquet(\n",
    "    \"/data/cluster_data/morphotopes_freiburg_100_3_gaussian.pq\"\n",
    ").reset_index()"
   ]
  },
  {
   "cell_type": "code",
   "execution_count": null,
   "id": "411d7336-62a5-4869-b842-8b3f6e9572b4",
   "metadata": {},
   "outputs": [],
   "source": [
    "morphotopes[\"morph_label\"] = morphotopes.index"
   ]
  },
  {
   "cell_type": "markdown",
   "id": "979e1feb-c0d7-478a-a860-a0e84021376f",
   "metadata": {},
   "source": [
    "Run the following overlay code for clusters and/or morphotopes if the cells have not yet been assigned the appropriate cluster or morphotope label"
   ]
  },
  {
   "cell_type": "code",
   "execution_count": null,
   "id": "f57a3486-5442-427f-b18d-d7b4623e2e18",
   "metadata": {},
   "outputs": [],
   "source": [
    "overlap = gpd.overlay(combined_gdf, clusters, how=\"intersection\")"
   ]
  },
  {
   "cell_type": "code",
   "execution_count": null,
   "id": "b9ca6fab-b79d-47a1-b081-eb35e2e8aae4",
   "metadata": {},
   "outputs": [],
   "source": [
    "overlap = gpd.overlay(combined_gdf, morphotopes, how=\"intersection\")"
   ]
  },
  {
   "cell_type": "code",
   "execution_count": null,
   "id": "30c7dcd5-5871-44c2-9cf8-c8abadccc9d2",
   "metadata": {},
   "outputs": [],
   "source": [
    "# Calculate the area of overlap\n",
    "overlap[\"area\"] = overlap.geometry.area\n",
    "\n",
    "# Find the cluster with the largest overlap for each cell\n",
    "largest_overlap = overlap.loc[overlap.groupby(overlap[\"ID\"])[\"area\"].idxmax()]"
   ]
  },
  {
   "cell_type": "code",
   "execution_count": null,
   "id": "60b8f8be-2790-41a3-892d-1346b941befc",
   "metadata": {},
   "outputs": [],
   "source": [
    "combined_gdf = combined_gdf.merge(largest_overlap[[\"ID\", \"label\"]], on=\"ID\")"
   ]
  },
  {
   "cell_type": "code",
   "execution_count": null,
   "id": "75a515dc-1c63-4c00-90be-872af5a8a14a",
   "metadata": {},
   "outputs": [],
   "source": [
    "combined_gdf"
   ]
  },
  {
   "cell_type": "code",
   "execution_count": null,
   "id": "2e158760-7421-45c5-9deb-84395db42056",
   "metadata": {},
   "outputs": [],
   "source": [
    "combined_gdf[[\"geometry\", \"label\"]].explore(column=\"label\", cmap=\"tab20\")"
   ]
  },
  {
   "cell_type": "code",
   "execution_count": null,
   "id": "92225b62-c2a6-486d-a0c5-8e3227b57249",
   "metadata": {},
   "outputs": [],
   "source": [
    "# Assuming gdf is your GeoDataFrame\n",
    "nan_percentage = combined_gdf.isna().mean() * 100\n",
    "\n",
    "# Display the percentage of NaN values for each column\n",
    "print(nan_percentage)"
   ]
  },
  {
   "cell_type": "code",
   "execution_count": null,
   "id": "86ea287d-b853-45fb-9746-d9f40f7bc3fc",
   "metadata": {},
   "outputs": [],
   "source": [
    "combined_gdf.columns"
   ]
  },
  {
   "cell_type": "markdown",
   "id": "54de141d-147a-4f0b-bce8-8f1d4f7a1ef1",
   "metadata": {},
   "source": [
    "# Random Forest"
   ]
  },
  {
   "cell_type": "code",
   "execution_count": null,
   "id": "bf476d39-ea10-4ce9-b893-03ebfd5c3527",
   "metadata": {},
   "outputs": [],
   "source": [
    "training_sample = combined_gdf.sample(2119, random_state=0)"
   ]
  },
  {
   "cell_type": "markdown",
   "id": "3cb2f1b5-67ae-4991-af62-e16003ea86c8",
   "metadata": {},
   "source": [
    "Run the random forest with or without spatially lagged variables"
   ]
  },
  {
   "cell_type": "code",
   "execution_count": null,
   "id": "6e49dd20-cf80-4de2-b658-a2d9a92d4c65",
   "metadata": {},
   "outputs": [],
   "source": [
    "independent_variables = [\n",
    "    \"%german\",\n",
    "    \"%rented\",\n",
    "    \"age\",\n",
    "    \"apartmentno\",\n",
    "    \"buildingyear\",\n",
    "    \"familysize\",\n",
    "    \"floorspace\",\n",
    "]"
   ]
  },
  {
   "cell_type": "code",
   "execution_count": null,
   "id": "a623c8a0-4080-4367-99c2-d34e4dc2af1e",
   "metadata": {},
   "outputs": [],
   "source": [
    "\"\"\"\n",
    "independent_variables = [\n",
    "    \"%german\",\n",
    "    \"%rented\",\n",
    "    \"age\",\n",
    "    \"apartmentno\",\n",
    "    \"buildingyear\",\n",
    "    \"familysize\",\n",
    "    \"floorspace\",\n",
    "    \"%german_lag\",\n",
    "    \"%rented_lag\",\n",
    "    \"age_lag\",\n",
    "    \"apartmentno_lag\",\n",
    "    \"buildingyear_lag\",\n",
    "    \"familysize_lag\",\n",
    "    \"floorspace_lag\"\n",
    "]\n",
    "\"\"\""
   ]
  },
  {
   "cell_type": "code",
   "execution_count": null,
   "id": "864f2b15-4f47-4b64-90cb-f11f553eb5a4",
   "metadata": {},
   "outputs": [],
   "source": [
    "independent = training_sample[independent_variables]\n",
    "independent"
   ]
  },
  {
   "cell_type": "code",
   "execution_count": null,
   "id": "4c5a2cbf-77f4-48d6-b34b-46ea42369f6f",
   "metadata": {},
   "outputs": [],
   "source": [
    "X_train, X_test, y_train, y_test = model_selection.train_test_split(\n",
    "    independent, training_sample[\"label\"], test_size=0.25, random_state=0\n",
    ")"
   ]
  },
  {
   "cell_type": "code",
   "execution_count": null,
   "id": "723d36ff-e33b-4ade-8215-4c8df2a49175",
   "metadata": {},
   "outputs": [],
   "source": [
    "model = ensemble.RandomForestClassifier(random_state=0, n_jobs=-1)\n",
    "model.fit(X_train, y_train)"
   ]
  },
  {
   "cell_type": "code",
   "execution_count": null,
   "id": "7fb5d148-42b5-4997-9b4b-d7d8866c2dc9",
   "metadata": {},
   "outputs": [],
   "source": [
    "pred = model.predict(X_test)"
   ]
  },
  {
   "cell_type": "code",
   "execution_count": null,
   "id": "212eef6b-51d2-426a-beb1-3d3580708527",
   "metadata": {},
   "outputs": [],
   "source": [
    "proba = model.predict_proba(X_test)"
   ]
  },
  {
   "cell_type": "code",
   "execution_count": null,
   "id": "48b85a5d-edd7-4cfc-8f29-d42fa9fdd0c2",
   "metadata": {},
   "outputs": [],
   "source": [
    "pd.DataFrame(proba, columns=model.classes_, index=X_test.index)"
   ]
  },
  {
   "cell_type": "code",
   "execution_count": null,
   "id": "1499ae22-914e-4a96-90bd-261156adc230",
   "metadata": {},
   "outputs": [],
   "source": [
    "accuracy = metrics.accuracy_score(pred, y_test)\n",
    "kappa = metrics.cohen_kappa_score(pred, y_test)\n",
    "\n",
    "summary = f\"\"\"\\\n",
    "Evaluation metrics\n",
    "==================\n",
    "Basic model:\n",
    "  Accuracy: {round(accuracy, 3)}\n",
    "  Kappa:    {round(kappa, 3)}\n",
    "\"\"\"\n",
    "\n",
    "print(summary)"
   ]
  },
  {
   "cell_type": "code",
   "execution_count": null,
   "id": "57840983-3674-4ac5-84bc-fa84eee37130",
   "metadata": {},
   "outputs": [],
   "source": [
    "pd.Series(model.feature_importances_, index=model.feature_names_in_).sort_values()"
   ]
  },
  {
   "cell_type": "code",
   "execution_count": null,
   "id": "0bac2fa4-c410-4964-aa07-26db974764f3",
   "metadata": {},
   "outputs": [],
   "source": [
    "gkf = model_selection.StratifiedGroupKFold(n_splits=5)\n",
    "splits = gkf.split(\n",
    "    training_sample,\n",
    "    training_sample.label,\n",
    "    groups=training_sample.morph_label,\n",
    ")"
   ]
  },
  {
   "cell_type": "code",
   "execution_count": null,
   "id": "c3dcabd7-ec3a-401b-be57-7e990e0e1639",
   "metadata": {},
   "outputs": [],
   "source": [
    "gkf"
   ]
  },
  {
   "cell_type": "code",
   "execution_count": null,
   "id": "32e3aa8d-4323-4cf2-a3b8-a9cf87fe1934",
   "metadata": {},
   "outputs": [],
   "source": [
    "split_label = np.empty(len(training_sample), dtype=float)\n",
    "for i, (train, test) in enumerate(splits):\n",
    "    split_label[test] = i\n",
    "training_sample[\"split\"] = split_label"
   ]
  },
  {
   "cell_type": "code",
   "execution_count": null,
   "id": "f7d0137a-fa9f-4625-8ba0-0d6e8f9b1633",
   "metadata": {},
   "outputs": [],
   "source": [
    "ax = training_sample.plot(\n",
    "    \"split\", categorical=True, figsize=(9, 9), markersize=0.1, legend=True\n",
    ")\n",
    "training_sample.dissolve(\"morph_label\").convex_hull.boundary.plot(\n",
    "    ax=ax, color=\"k\", linewidth=0.5, markersize=0\n",
    ")\n",
    "ax.set_axis_off()"
   ]
  },
  {
   "cell_type": "code",
   "execution_count": null,
   "id": "55d0b0e5-d075-491c-8c70-7e25878e1764",
   "metadata": {},
   "outputs": [],
   "source": [
    "train = training_sample[\"split\"] != 0\n",
    "X_train = independent.loc[train]\n",
    "y_train = training_sample[\"label\"].loc[train]\n",
    "\n",
    "test = training_sample[\"split\"] == 0\n",
    "X_test = independent.loc[test]\n",
    "y_test = training_sample[\"label\"].loc[test]"
   ]
  },
  {
   "cell_type": "code",
   "execution_count": null,
   "id": "b54f07b2-6c4c-4561-a9a5-1f53d74c97ef",
   "metadata": {},
   "outputs": [],
   "source": [
    "rf_spatial_cv = ensemble.RandomForestClassifier(random_state=0, n_jobs=-1)\n",
    "rf_spatial_cv.fit(X_train, y_train)"
   ]
  },
  {
   "cell_type": "code",
   "execution_count": null,
   "id": "88143c90-8593-489d-b700-398f1bba84c9",
   "metadata": {},
   "outputs": [],
   "source": [
    "pred = rf_spatial_cv.predict(X_test)\n",
    "\n",
    "accuracy_spatial_cv = metrics.accuracy_score(pred, y_test)\n",
    "kappa_spatial_cv = metrics.cohen_kappa_score(pred, y_test)\n",
    "\n",
    "summary += f\"\"\"\\\n",
    "Basic model with spatial cross-validation:\n",
    "  Accuracy: {round(accuracy_spatial_cv, 3)}\n",
    "  Kappa:    {round(kappa_spatial_cv, 3)}\n",
    "\"\"\"\n",
    "\n",
    "print(summary)"
   ]
  },
  {
   "cell_type": "code",
   "execution_count": null,
   "id": "c361e50c-d2fd-4aaa-bd64-8b8839eeecfe",
   "metadata": {},
   "outputs": [],
   "source": [
    "pd.Series(model.feature_importances_, index=model.feature_names_in_).sort_values()"
   ]
  },
  {
   "cell_type": "code",
   "execution_count": null,
   "id": "475b5794-e9fb-438e-97d9-609a56caf999",
   "metadata": {},
   "outputs": [],
   "source": [
    "# Create Tree Explainer object that can calculate shap values\n",
    "explainer = shap.TreeExplainer(rf_spatial_cv)"
   ]
  },
  {
   "cell_type": "code",
   "execution_count": null,
   "id": "5de2a485-6702-47ea-a76c-6a36e967ebd7",
   "metadata": {},
   "outputs": [],
   "source": [
    "shap_values = explainer.shap_values(X_test)"
   ]
  },
  {
   "cell_type": "code",
   "execution_count": null,
   "id": "a15592a4-3c34-40c6-9d17-32753cac90d3",
   "metadata": {},
   "outputs": [],
   "source": [
    "for i, class_name in enumerate(rf_spatial_cv.classes_):\n",
    "    print(f\"SHAP summary plot for class: {class_name}\")\n",
    "    plt.figure()\n",
    "    shap.summary_plot(\n",
    "        shap_values[:, :, i], X_test, feature_names=independent_variables, show=False\n",
    "    )\n",
    "    plt.savefig(\"shap_cluster\" + str(class_name) + \".png\")"
   ]
  },
  {
   "cell_type": "code",
   "execution_count": null,
   "id": "09359ca8-f255-48bf-a4ff-9bc7cc6497d8",
   "metadata": {},
   "outputs": [],
   "source": []
  }
 ],
 "metadata": {
  "kernelspec": {
   "display_name": "Python 3 (ipykernel)",
   "language": "python",
   "name": "python3"
  },
  "language_info": {
   "codemirror_mode": {
    "name": "ipython",
    "version": 3
   },
   "file_extension": ".py",
   "mimetype": "text/x-python",
   "name": "python",
   "nbconvert_exporter": "python",
   "pygments_lexer": "ipython3"
  }
 },
 "nbformat": 4,
 "nbformat_minor": 5
}
