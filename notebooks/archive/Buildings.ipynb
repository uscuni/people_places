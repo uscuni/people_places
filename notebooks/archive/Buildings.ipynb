{
 "cells": [
  {
   "cell_type": "code",
   "execution_count": null,
   "metadata": {},
   "outputs": [],
   "source": [
    "import pandas as pd\n",
    "import matplotlib.pyplot as plt\n",
    "import numpy as np\n",
    "import zipfile"
   ]
  },
  {
   "cell_type": "code",
   "execution_count": null,
   "metadata": {},
   "outputs": [],
   "source": [
    "zf = zipfile.ZipFile(\"/data/buildings.zip\")\n",
    "buildings = pd.read_csv(zf.open(\"Geb100m.csv\"), delimiter=\",\", encoding=\"cp1252\")"
   ]
  },
  {
   "cell_type": "code",
   "execution_count": null,
   "metadata": {},
   "outputs": [],
   "source": [
    "buildings"
   ]
  },
  {
   "cell_type": "code",
   "execution_count": null,
   "metadata": {},
   "outputs": [],
   "source": [
    "# read excel\n",
    "translations = pd.read_excel(\"Data_Format_Census.xlsx\", sheet_name=\"Translations\")"
   ]
  },
  {
   "cell_type": "code",
   "execution_count": null,
   "metadata": {},
   "outputs": [],
   "source": [
    "translations"
   ]
  },
  {
   "cell_type": "code",
   "execution_count": null,
   "metadata": {},
   "outputs": [],
   "source": [
    "# tansfrom to dictionary with original as key and translation as value\n",
    "translation_dict = translations.set_index(\"Original\")[\"Translated\"].to_dict()\n",
    "# translations_dict = dict(zip(translations['Original'], translations['Translated']))"
   ]
  },
  {
   "cell_type": "code",
   "execution_count": null,
   "metadata": {},
   "outputs": [],
   "source": [
    "pivot_df = buildings.pivot(\n",
    "    index=\"Gitter_ID_100m\", columns=[\"Merkmal\", \"Auspraegung_Text\"], values=\"Anzahl\"\n",
    ")"
   ]
  },
  {
   "cell_type": "markdown",
   "metadata": {},
   "source": [
    "instead of replacing nan with 0, exclude these cells"
   ]
  },
  {
   "cell_type": "code",
   "execution_count": null,
   "metadata": {},
   "outputs": [],
   "source": [
    "# rename columns with trtanslation_dict\n",
    "pivot_df = pivot_df.rename(columns=translation_dict)"
   ]
  },
  {
   "cell_type": "code",
   "execution_count": null,
   "metadata": {},
   "outputs": [],
   "source": [
    "pivot_df"
   ]
  },
  {
   "cell_type": "code",
   "execution_count": null,
   "metadata": {},
   "outputs": [],
   "source": [
    "# print unique columns\n",
    "print(pivot_df.columns.get_level_values(0).unique())"
   ]
  },
  {
   "cell_type": "code",
   "execution_count": null,
   "metadata": {},
   "outputs": [],
   "source": [
    "total = pivot_df[\"TOTAL\"][\"Total\"].sum()"
   ]
  },
  {
   "cell_type": "code",
   "execution_count": null,
   "metadata": {},
   "outputs": [],
   "source": [
    "pivot_df[[\"TOTAL\", \"HEAT_TYPE\"]]"
   ]
  },
  {
   "cell_type": "code",
   "execution_count": null,
   "metadata": {},
   "outputs": [],
   "source": [
    "pivot_df[\"HEAT_TYPE_DC\"] = (\n",
    "    pivot_df[\"HEAT_TYPE\"].sum(axis=1) / pivot_df[\"TOTAL\"][\"Total\"]\n",
    ")\n",
    "pivot_df[\"APARTMENT_NO_DC\"] = (\n",
    "    pivot_df[\"APARTMENT_NO\"].sum(axis=1) / pivot_df[\"TOTAL\"][\"Total\"]\n",
    ")\n",
    "pivot_df[\"OWNERSHIP_TYPE2_DC\"] = (\n",
    "    pivot_df[\"OWNERSHIP_TYPE2\"].sum(axis=1) / pivot_df[\"TOTAL\"][\"Total\"]\n",
    ")\n",
    "pivot_df[\"BUILDING_TYPE1_DC\"] = (\n",
    "    pivot_df[\"BUILDING_TYPE1\"].sum(axis=1) / pivot_df[\"TOTAL\"][\"Total\"]\n",
    ")\n",
    "pivot_df[\"BUILDING_TYPE2_DC\"] = (\n",
    "    pivot_df[\"BUILDING_TYPE2\"].sum(axis=1) / pivot_df[\"TOTAL\"][\"Total\"]\n",
    ")\n",
    "pivot_df[\"BUILDING_SIZE_DC\"] = (\n",
    "    pivot_df[\"BUILDING_SIZE\"].sum(axis=1) / pivot_df[\"TOTAL\"][\"Total\"]\n",
    ")\n",
    "pivot_df[\"BUILDING_YEAR_DC\"] = (\n",
    "    pivot_df[\"BUILDING_YEAR\"].sum(axis=1) / pivot_df[\"TOTAL\"][\"Total\"]\n",
    ")"
   ]
  },
  {
   "cell_type": "code",
   "execution_count": null,
   "metadata": {},
   "outputs": [],
   "source": [
    "pivot_df[[\"TOTAL\", \"HEAT_TYPE\", \"HEAT_TYPE_DC\"]]"
   ]
  },
  {
   "cell_type": "code",
   "execution_count": null,
   "metadata": {},
   "outputs": [],
   "source": [
    "heat = pivot_df[\"HEAT_TYPE\"].sum().sum()\n",
    "apt = pivot_df[\"APARTMENT_NO\"].sum().sum()\n",
    "owner = pivot_df[\"OWNERSHIP_TYPE2\"].sum().sum()\n",
    "build1 = pivot_df[\"BUILDING_TYPE1\"].sum().sum()\n",
    "build2 = pivot_df[\"BUILDING_TYPE2\"].sum().sum()\n",
    "build_size = pivot_df[\"BUILDING_SIZE\"].sum().sum()\n",
    "build_year = pivot_df[\"BUILDING_YEAR\"].sum().sum()"
   ]
  },
  {
   "cell_type": "code",
   "execution_count": null,
   "metadata": {},
   "outputs": [],
   "source": [
    "print(\"heat:\", heat / total * 100)\n",
    "print(\"apt:\", apt / total * 100)\n",
    "print(\"ownership:\", owner / total * 100)\n",
    "print(\"build1:\", build1 / total * 100)\n",
    "print(\"build2:\", build2 / total * 100)\n",
    "print(\"build_size:\", build_size / total * 100)\n",
    "print(\"build_yr:\", build_year / total * 100)"
   ]
  },
  {
   "cell_type": "code",
   "execution_count": null,
   "metadata": {},
   "outputs": [],
   "source": [
    "data1 = pivot_df[\"HEAT_TYPE_DC\"]\n",
    "data2 = pivot_df[\"APARTMENT_NO_DC\"]\n",
    "data3 = pivot_df[\"OWNERSHIP_TYPE2_DC\"]\n",
    "data4 = pivot_df[\"BUILDING_TYPE1_DC\"]\n",
    "data5 = pivot_df[\"BUILDING_TYPE2_DC\"]\n",
    "data6 = pivot_df[\"BUILDING_SIZE_DC\"]\n",
    "data7 = pivot_df[\"BUILDING_YEAR_DC\"]\n",
    "\n",
    "\n",
    "counts1, bins1 = np.histogram(data1)\n",
    "counts1 = counts1 / counts1.sum() * 100\n",
    "\n",
    "counts2, bins2 = np.histogram(data2)\n",
    "counts2 = counts2 / counts2.sum() * 100\n",
    "\n",
    "counts3, bins3 = np.histogram(data3)\n",
    "counts3 = counts3 / counts3.sum() * 100\n",
    "\n",
    "counts4, bins4 = np.histogram(data4)\n",
    "counts4 = counts4 / counts4.sum() * 100\n",
    "\n",
    "counts5, bins5 = np.histogram(data5)\n",
    "counts5 = counts5 / counts5.sum() * 100\n",
    "\n",
    "counts6, bins6 = np.histogram(data6)\n",
    "counts6 = counts6 / counts6.sum() * 100\n",
    "\n",
    "counts7, bins7 = np.histogram(data7)\n",
    "counts7 = counts7 / counts7.sum() * 100\n",
    "\n",
    "\n",
    "plt.figure(figsize=(15, 5))\n",
    "plt.subplot(1, 7, 1)\n",
    "plt.hist(bins1[:-1], bins1, weights=counts1)\n",
    "plt.xlabel(\"Heating Type\")\n",
    "plt.ylabel(\"Percentage of total\")\n",
    "plt.ylim(0, 100)\n",
    "plt.subplot(1, 7, 2)\n",
    "plt.hist(bins2[:-1], bins2, weights=counts2)\n",
    "plt.xlabel(\"Number of Apartments\")\n",
    "plt.ylim(0, 100)\n",
    "plt.subplot(1, 7, 3)\n",
    "plt.hist(bins3[:-1], bins3, weights=counts3)\n",
    "plt.xlabel(\"Ownership\")\n",
    "plt.ylim(0, 100)\n",
    "plt.subplot(1, 7, 4)\n",
    "plt.hist(bins4[:-1], bins4, weights=counts4)\n",
    "plt.xlabel(\"Building Type 1\")\n",
    "plt.ylim(0, 100)\n",
    "plt.subplot(1, 7, 5)\n",
    "plt.hist(bins5[:-1], bins5, weights=counts5)\n",
    "plt.xlabel(\"Building Type 2\")\n",
    "plt.ylim(0, 100)\n",
    "plt.subplot(1, 7, 6)\n",
    "plt.hist(bins6[:-1], bins6, weights=counts6)\n",
    "plt.xlabel(\"Building Size\")\n",
    "plt.ylim(0, 100)\n",
    "plt.subplot(1, 7, 7)\n",
    "plt.hist(bins7[:-1], bins7, weights=counts7)\n",
    "plt.xlabel(\"Building Year\")\n",
    "plt.ylim(0, 100)\n",
    "\n",
    "\n",
    "plt.tight_layout()\n",
    "\n",
    "\n",
    "plt.show()"
   ]
  },
  {
   "cell_type": "code",
   "execution_count": null,
   "metadata": {},
   "outputs": [],
   "source": [
    "pivot_df.to_csv(\"Buidlings100m_pivot.csv\", sep=\",\", encoding=\"cp1252\")"
   ]
  },
  {
   "cell_type": "code",
   "execution_count": null,
   "metadata": {},
   "outputs": [],
   "source": []
  },
  {
   "cell_type": "code",
   "execution_count": null,
   "metadata": {},
   "outputs": [],
   "source": []
  }
 ],
 "metadata": {
  "kernelspec": {
   "display_name": "Python 3 (ipykernel)",
   "language": "python",
   "name": "python3"
  },
  "language_info": {
   "codemirror_mode": {
    "name": "ipython",
    "version": 3
   },
   "file_extension": ".py",
   "mimetype": "text/x-python",
   "name": "python",
   "nbconvert_exporter": "python",
   "pygments_lexer": "ipython3"
  }
 },
 "nbformat": 4,
 "nbformat_minor": 2
}
