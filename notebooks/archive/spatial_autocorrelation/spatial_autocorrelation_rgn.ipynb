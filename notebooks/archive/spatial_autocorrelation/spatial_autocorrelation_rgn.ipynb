{
 "cells": [
  {
   "cell_type": "code",
   "execution_count": null,
   "id": "7f50a39e-4a18-4e5b-ad88-bfafe3dc87e5",
   "metadata": {},
   "outputs": [],
   "source": [
    "import esda\n",
    "import geopandas as gpd\n",
    "import matplotlib.pyplot as plt\n",
    "import numpy as np\n",
    "import seaborn as sns\n",
    "from libpysal import graph"
   ]
  },
  {
   "cell_type": "code",
   "execution_count": null,
   "id": "817e6ed9-aebd-4734-a4dd-3af59017ef18",
   "metadata": {},
   "outputs": [],
   "source": [
    "gdf = gpd.read_parquet(\"/data/processed_data/fbg_rgn.parquet\")"
   ]
  },
  {
   "cell_type": "code",
   "execution_count": null,
   "id": "8ba9809a-28a4-4984-8bfb-7f07cf198180",
   "metadata": {},
   "outputs": [],
   "source": [
    "gdf"
   ]
  },
  {
   "cell_type": "code",
   "execution_count": null,
   "id": "8ad5c506-4f92-491c-adc8-e038d916d51f",
   "metadata": {},
   "outputs": [],
   "source": [
    "gdf[\"% Other\"] = gdf[\"% Other\"] * 100"
   ]
  },
  {
   "cell_type": "markdown",
   "id": "1240ef1c-8495-41cc-983d-763eb9960963",
   "metadata": {},
   "source": [
    "remove nan values to calculate Moran's I"
   ]
  },
  {
   "cell_type": "code",
   "execution_count": null,
   "id": "6fd14910-4e1d-45e8-8827-e6047783704c",
   "metadata": {},
   "outputs": [],
   "source": [
    "not_nan = ~np.isnan(gdf[\"% Other\"])"
   ]
  },
  {
   "cell_type": "code",
   "execution_count": null,
   "id": "389cce44-db10-419c-86fb-2a01785ec383",
   "metadata": {},
   "outputs": [],
   "source": [
    "not_nan"
   ]
  },
  {
   "cell_type": "code",
   "execution_count": null,
   "id": "d3a6952e-438d-4637-864d-a52cc14bd99e",
   "metadata": {},
   "outputs": [],
   "source": [
    "gdf = gdf[not_nan]"
   ]
  },
  {
   "cell_type": "code",
   "execution_count": null,
   "id": "e7178505-a608-4cb2-a811-a5a3cfebad37",
   "metadata": {},
   "outputs": [],
   "source": [
    "gdf"
   ]
  },
  {
   "cell_type": "code",
   "execution_count": null,
   "id": "8086b891-9767-43fd-931a-7aee55d999a1",
   "metadata": {},
   "outputs": [],
   "source": [
    "gdf.explore(\n",
    "    \"% Other\",\n",
    "    cmap=\"coolwarm\",\n",
    "    vmin=0,\n",
    "    vmax=100,\n",
    "    prefer_canvas=True,\n",
    "    tiles=\"CartoDB Positron\",\n",
    ")"
   ]
  },
  {
   "cell_type": "code",
   "execution_count": null,
   "id": "b80232ba-0a81-4921-8811-3578a7c12e07",
   "metadata": {},
   "outputs": [],
   "source": [
    "f, ax = plt.subplots(1, figsize=(10, 10))\n",
    "gdf.plot(ax=ax, column=\"% Other\", cmap=\"coolwarm\", vmin=0, vmax=100)"
   ]
  },
  {
   "cell_type": "code",
   "execution_count": null,
   "id": "a0a56ac3-4c67-489c-9dee-2f49894c88c7",
   "metadata": {},
   "outputs": [],
   "source": [
    "contiguity = graph.Graph.build_contiguity(gdf, rook=False)"
   ]
  },
  {
   "cell_type": "code",
   "execution_count": null,
   "id": "5af1a93a-15ee-4b51-a7e9-15e1afc0e33a",
   "metadata": {},
   "outputs": [],
   "source": [
    "contiguity"
   ]
  },
  {
   "cell_type": "code",
   "execution_count": null,
   "id": "9463407b-8a80-4783-8801-9df9fb15f9b0",
   "metadata": {},
   "outputs": [],
   "source": [
    "contiguity_r = contiguity.transform(\"r\")"
   ]
  },
  {
   "cell_type": "code",
   "execution_count": null,
   "id": "cdff932b-a59c-4133-af0b-f0c508e9c79e",
   "metadata": {},
   "outputs": [],
   "source": [
    "gdf[\"lag\"] = contiguity_r.lag(gdf[\"% Other\"])\n",
    "gdf.head()"
   ]
  },
  {
   "cell_type": "code",
   "execution_count": null,
   "id": "c48d4882-dcaa-466e-a108-fc6de371c0ec",
   "metadata": {},
   "outputs": [],
   "source": [
    "gdf[\"%O_std\"] = (gdf[\"% Other\"] - gdf[\"% Other\"].mean()) / gdf[\"% Other\"].std()"
   ]
  },
  {
   "cell_type": "code",
   "execution_count": null,
   "id": "5b562c55-fa05-4099-9fe5-f374b8fa4a01",
   "metadata": {},
   "outputs": [],
   "source": [
    "gdf"
   ]
  },
  {
   "cell_type": "code",
   "execution_count": null,
   "id": "f0370bda-7c92-45e5-ac38-fd5137910cd0",
   "metadata": {},
   "outputs": [],
   "source": [
    "gdf[\"%O_std_lag\"] = contiguity_r.lag(gdf[\"%O_std\"])"
   ]
  },
  {
   "cell_type": "code",
   "execution_count": null,
   "id": "c9247855-2e24-491e-ab85-38b09b032823",
   "metadata": {},
   "outputs": [],
   "source": [
    "gdf"
   ]
  },
  {
   "cell_type": "code",
   "execution_count": null,
   "id": "25bd16bb-1b16-4607-8c96-ff84e707e25f",
   "metadata": {},
   "outputs": [],
   "source": [
    "f, ax = plt.subplots(1, figsize=(6, 6))\n",
    "sns.regplot(\n",
    "    x=\"%O_std\",\n",
    "    y=\"%O_std_lag\",\n",
    "    data=gdf,\n",
    "    marker=\".\",\n",
    "    scatter_kws={\"alpha\": 0.2},\n",
    "    line_kws=dict(color=\"lightcoral\"),\n",
    ")\n",
    "plt.axvline(0, c=\"black\", alpha=0.5)\n",
    "plt.axhline(0, c=\"black\", alpha=0.5)\n",
    "plt.text(1.3, 0.5, \"High-high\", fontsize=10)\n",
    "plt.text(1, -2.7, \"High-low\", fontsize=10)\n",
    "plt.text(-5.4, 0.5, \"Low-high\", fontsize=10)\n",
    "plt.text(-5.4, -2.7, \"Low-low\", fontsize=10);"
   ]
  },
  {
   "cell_type": "code",
   "execution_count": null,
   "id": "69b5d194-8102-49fe-ac0a-d3cf7685c8f6",
   "metadata": {},
   "outputs": [],
   "source": [
    "f, ax = plt.subplots(1, figsize=(6, 6))\n",
    "sns.regplot(\n",
    "    x=\"% Other\",\n",
    "    y=\"lag\",\n",
    "    data=gdf,\n",
    "    marker=\".\",\n",
    "    scatter_kws={\"alpha\": 0.2},\n",
    "    line_kws=dict(color=\"lightcoral\"),\n",
    ")\n",
    "plt.axvline(0, c=\"black\", alpha=0.5)\n",
    "plt.axhline(0, c=\"black\", alpha=0.5);"
   ]
  },
  {
   "cell_type": "code",
   "execution_count": null,
   "id": "3c88c0f0-0145-441f-a931-e04260af95f9",
   "metadata": {},
   "outputs": [],
   "source": [
    "mi = esda.Moran(gdf[\"% Other\"], contiguity_r.to_W())"
   ]
  },
  {
   "cell_type": "code",
   "execution_count": null,
   "id": "af152307-cc5c-41c9-8285-7ae658110741",
   "metadata": {},
   "outputs": [],
   "source": [
    "mi.I"
   ]
  },
  {
   "cell_type": "code",
   "execution_count": null,
   "id": "c7cfbd2b-9b32-4df4-b2f0-b7c473b9ff86",
   "metadata": {},
   "outputs": [],
   "source": [
    "print(f\"Moran's I: {mi.I}, p-value: {mi.p_sim}\")"
   ]
  },
  {
   "cell_type": "code",
   "execution_count": null,
   "id": "b5c17336-ef35-4605-b85f-68d2be902e08",
   "metadata": {},
   "outputs": [],
   "source": [
    "lisa = esda.Moran_Local(gdf[\"% Other\"], contiguity_r.to_W())"
   ]
  },
  {
   "cell_type": "markdown",
   "id": "d9925491-e48c-45ff-a9bf-d7a48fdc3015",
   "metadata": {},
   "source": [
    "# Local Spatial Autocorrelation"
   ]
  },
  {
   "cell_type": "markdown",
   "id": "a452176f-c575-4336-b386-1ac03686ec49",
   "metadata": {},
   "source": [
    "## 0.1 Significance"
   ]
  },
  {
   "cell_type": "code",
   "execution_count": null,
   "id": "1c969311-be5e-48e3-9f6c-5f46865217be",
   "metadata": {},
   "outputs": [],
   "source": [
    "gdf_01 = gdf.copy()"
   ]
  },
  {
   "cell_type": "code",
   "execution_count": null,
   "id": "690f62fb-b24c-4d5b-b027-b7422575d8e2",
   "metadata": {},
   "outputs": [],
   "source": [
    "gdf_01.loc[lisa.p_sim < 0.1, \"cluster\"] = lisa.q[lisa.p_sim < 0.1]\n",
    "gdf_01[\"cluster\"] = gdf_01[\"cluster\"].fillna(0)\n",
    "gdf_01[\"cluster\"] = gdf_01[\"cluster\"].map(\n",
    "    {\n",
    "        0: \"Not significant\",\n",
    "        1: \"High-high\",\n",
    "        2: \"Low-high\",\n",
    "        3: \"Low-low\",\n",
    "        4: \"High-low\",\n",
    "    }\n",
    ")\n",
    "gdf_01.head()"
   ]
  },
  {
   "cell_type": "code",
   "execution_count": null,
   "id": "dc00197f-8a6d-444d-866a-f9b843078dee",
   "metadata": {},
   "outputs": [],
   "source": [
    "from splot.esda import lisa_cluster, moran_scatterplot\n",
    "\n",
    "_ = lisa_cluster(lisa, gdf_01)"
   ]
  },
  {
   "cell_type": "code",
   "execution_count": null,
   "id": "36de67f9-cbe9-4232-93ec-d2fe147cb60c",
   "metadata": {},
   "outputs": [],
   "source": [
    "f, ax = plt.subplots(1, figsize=(10, 10))\n",
    "gdf_01.loc[gdf_01[\"cluster\"] == \"Not significant\"].plot(ax=ax, color=\"lightgrey\")\n",
    "gdf_01.loc[(gdf_01[\"cluster\"] == \"High-high\")].plot(ax=ax, color=\"#d7191c\")\n",
    "gdf_01.loc[(gdf_01[\"cluster\"] == \"Low-low\")].plot(ax=ax, color=\"#2c7bb6\")\n",
    "gdf_01.loc[(gdf_01[\"cluster\"] == \"Low-high\")].plot(ax=ax, color=\"#abd9e9\")\n",
    "gdf_01.loc[(gdf_01[\"cluster\"] == \"High-low\")].plot(ax=ax, color=\"#fdae61\");"
   ]
  },
  {
   "cell_type": "code",
   "execution_count": null,
   "id": "d295adea-b62b-44fa-8787-848a8bbd77f6",
   "metadata": {},
   "outputs": [],
   "source": [
    "gdf_01.explore(\n",
    "    \"cluster\",\n",
    "    prefer_canvas=True,\n",
    "    cmap=[\"#d7191c\", \"#fdae61\", \"#abd9e9\", \"#2c7bb6\", \"lightgrey\"],\n",
    ")"
   ]
  },
  {
   "cell_type": "code",
   "execution_count": null,
   "id": "8b530843-94af-4142-9a99-57ac792fdaea",
   "metadata": {},
   "outputs": [],
   "source": [
    "f, ax = plt.subplots(1, figsize=(10, 10))\n",
    "\n",
    "moran_scatterplot(lisa, p=0.1, scatter_kwds={\"s\": 5, \"alpha\": 0.2}, ax=ax)\n",
    "plt.show()"
   ]
  },
  {
   "cell_type": "markdown",
   "id": "c3054653-f025-46f3-b8d3-eac4d1d49cf5",
   "metadata": {},
   "source": [
    "## 0.05 Significance"
   ]
  },
  {
   "cell_type": "code",
   "execution_count": null,
   "id": "ad356608-1be8-417c-9d4e-38cd6bdf25a7",
   "metadata": {},
   "outputs": [],
   "source": [
    "gdf_005 = gdf.copy()\n",
    "\n",
    "gdf_005.loc[lisa.p_sim < 0.05, \"cluster\"] = lisa.q[lisa.p_sim < 0.05]\n",
    "gdf_005[\"cluster\"] = gdf_005[\"cluster\"].fillna(0)\n",
    "gdf_005[\"cluster\"] = gdf_005[\"cluster\"].map(\n",
    "    {\n",
    "        0: \"Not significant\",\n",
    "        1: \"High-high\",\n",
    "        2: \"Low-high\",\n",
    "        3: \"Low-low\",\n",
    "        4: \"High-low\",\n",
    "    }\n",
    ")\n",
    "gdf_005.head()"
   ]
  },
  {
   "cell_type": "code",
   "execution_count": null,
   "id": "101ada28-3c0d-4d7e-a003-238bd206f59f",
   "metadata": {},
   "outputs": [],
   "source": [
    "f, ax = plt.subplots(1, figsize=(10, 10))\n",
    "gdf_005.loc[gdf_005[\"cluster\"] == \"Not significant\"].plot(ax=ax, color=\"lightgrey\")\n",
    "gdf_005.loc[(gdf_005[\"cluster\"] == \"High-high\")].plot(ax=ax, color=\"#d7191c\")\n",
    "gdf_005.loc[(gdf_005[\"cluster\"] == \"Low-low\")].plot(ax=ax, color=\"#2c7bb6\")\n",
    "gdf_005.loc[(gdf_005[\"cluster\"] == \"Low-high\")].plot(ax=ax, color=\"#abd9e9\")\n",
    "gdf_005.loc[(gdf_005[\"cluster\"] == \"High-low\")].plot(ax=ax, color=\"#fdae61\");"
   ]
  },
  {
   "cell_type": "code",
   "execution_count": null,
   "id": "c6316add-133f-4fc1-986a-8f4916b61e67",
   "metadata": {},
   "outputs": [],
   "source": [
    "gdf_005.explore(\n",
    "    \"cluster\",\n",
    "    prefer_canvas=True,\n",
    "    cmap=[\"#d7191c\", \"#fdae61\", \"#abd9e9\", \"#2c7bb6\", \"lightgrey\"],\n",
    ")"
   ]
  },
  {
   "cell_type": "code",
   "execution_count": null,
   "id": "d69f96fc-950e-48ad-bf85-ed29b6a19f9b",
   "metadata": {},
   "outputs": [],
   "source": [
    "f, ax = plt.subplots(1, figsize=(10, 10))\n",
    "\n",
    "moran_scatterplot(lisa, p=0.05, scatter_kwds={\"s\": 5, \"alpha\": 0.2}, ax=ax)\n",
    "plt.show()"
   ]
  },
  {
   "cell_type": "markdown",
   "id": "6ecdca1a-c274-4652-bb09-d2b1812d78ad",
   "metadata": {},
   "source": [
    "## 0.01 Significance"
   ]
  },
  {
   "cell_type": "code",
   "execution_count": null,
   "id": "61e4336a-edb3-475a-9c42-b391d1f4fab2",
   "metadata": {},
   "outputs": [],
   "source": [
    "gdf_001 = gdf.copy()\n",
    "\n",
    "gdf_001.loc[lisa.p_sim < 0.01, \"cluster\"] = lisa.q[lisa.p_sim < 0.01]\n",
    "gdf_001[\"cluster\"] = gdf_001[\"cluster\"].fillna(0)\n",
    "gdf_001[\"cluster\"] = gdf_001[\"cluster\"].map(\n",
    "    {\n",
    "        0: \"Not significant\",\n",
    "        1: \"High-high\",\n",
    "        2: \"Low-high\",\n",
    "        3: \"Low-low\",\n",
    "        4: \"High-low\",\n",
    "    }\n",
    ")\n",
    "gdf_001.head()"
   ]
  },
  {
   "cell_type": "code",
   "execution_count": null,
   "id": "bf1c88b6-251d-410a-b390-54ad6d313d11",
   "metadata": {},
   "outputs": [],
   "source": [
    "f, ax = plt.subplots(1, figsize=(10, 10))\n",
    "gdf_001.loc[gdf_001[\"cluster\"] == \"Not significant\"].plot(ax=ax, color=\"lightgrey\")\n",
    "gdf_001.loc[(gdf_001[\"cluster\"] == \"High-high\")].plot(ax=ax, color=\"#d7191c\")\n",
    "gdf_001.loc[(gdf_001[\"cluster\"] == \"Low-low\")].plot(ax=ax, color=\"#2c7bb6\")\n",
    "gdf_001.loc[(gdf_001[\"cluster\"] == \"Low-high\")].plot(ax=ax, color=\"#abd9e9\")\n",
    "gdf_001.loc[(gdf_001[\"cluster\"] == \"High-low\")].plot(ax=ax, color=\"#fdae61\");"
   ]
  },
  {
   "cell_type": "code",
   "execution_count": null,
   "id": "39b3affd-33f7-4aee-bbe3-bb38229b539e",
   "metadata": {},
   "outputs": [],
   "source": [
    "gdf_001.explore(\n",
    "    \"cluster\",\n",
    "    prefer_canvas=True,\n",
    "    cmap=[\"#d7191c\", \"#fdae61\", \"#abd9e9\", \"#2c7bb6\", \"lightgrey\"],\n",
    ")"
   ]
  },
  {
   "cell_type": "code",
   "execution_count": null,
   "id": "f90246f0-1748-46ad-9288-baf7703c66e5",
   "metadata": {},
   "outputs": [],
   "source": [
    "f, ax = plt.subplots(1, figsize=(10, 10))\n",
    "\n",
    "moran_scatterplot(lisa, p=0.01, scatter_kwds={\"s\": 5, \"alpha\": 0.2}, ax=ax)\n",
    "\n",
    "plt.show()"
   ]
  },
  {
   "cell_type": "code",
   "execution_count": null,
   "id": "be5c8870-7cd2-4f2a-aff1-2473ad3e6876",
   "metadata": {},
   "outputs": [],
   "source": []
  },
  {
   "cell_type": "code",
   "execution_count": null,
   "id": "0098b500-febf-4880-86ba-94d0a6bdae08",
   "metadata": {},
   "outputs": [],
   "source": []
  },
  {
   "cell_type": "code",
   "execution_count": null,
   "id": "4b1d730b-6d79-429e-aba5-6e6089473c24",
   "metadata": {},
   "outputs": [],
   "source": [
    "import folium"
   ]
  },
  {
   "cell_type": "code",
   "execution_count": null,
   "id": "deff78b6-a7e7-42ce-bfcb-7a41c57aaf17",
   "metadata": {},
   "outputs": [],
   "source": [
    "m = gdf_001.explore(\n",
    "    \"cluster\",\n",
    "    prefer_canvas=True,\n",
    "    cmap=[\"#d7191c\", \"#fdae61\", \"#abd9e9\", \"#2c7bb6\", \"lightgrey\"],\n",
    "    style_kwds={\"fillOpacity\": 0.3, \"weight\": 0},\n",
    "    name=\"0.01\",\n",
    ")\n",
    "\n",
    "gdf_005.explore(\n",
    "    \"cluster\",\n",
    "    prefer_canvas=True,\n",
    "    cmap=[\"#d7191c\", \"#fdae61\", \"#abd9e9\", \"#2c7bb6\", \"lightgrey\"],\n",
    "    style_kwds={\"fillOpacity\": 0.3, \"weight\": 0},\n",
    "    name=\"0.05\",\n",
    "    m=m,\n",
    ")\n",
    "\n",
    "gdf_01.explore(\n",
    "    \"cluster\",\n",
    "    prefer_canvas=True,\n",
    "    cmap=[\"#d7191c\", \"#fdae61\", \"#abd9e9\", \"#2c7bb6\", \"lightgrey\"],\n",
    "    style_kwds={\"fillOpacity\": 0.3, \"weight\": 0},\n",
    "    name=\"0.1\",\n",
    "    m=m,\n",
    ")\n",
    "\n",
    "# Add a layer control to toggle the layers on and off\n",
    "folium.LayerControl().add_to(m)\n",
    "\n",
    "# Display the map\n",
    "m"
   ]
  },
  {
   "cell_type": "code",
   "execution_count": null,
   "id": "72a0278e-1572-4640-bd86-e23900b901a7",
   "metadata": {},
   "outputs": [],
   "source": []
  }
 ],
 "metadata": {
  "kernelspec": {
   "display_name": "Python 3 (ipykernel)",
   "language": "python",
   "name": "python3"
  },
  "language_info": {
   "codemirror_mode": {
    "name": "ipython",
    "version": 3
   },
   "file_extension": ".py",
   "mimetype": "text/x-python",
   "name": "python",
   "nbconvert_exporter": "python",
   "pygments_lexer": "ipython3"
  }
 },
 "nbformat": 4,
 "nbformat_minor": 5
}
