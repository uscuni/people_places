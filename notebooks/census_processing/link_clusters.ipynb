{
 "cells": [
  {
   "cell_type": "markdown",
   "metadata": {},
   "source": [
    "# Link the morphometric cluster label to census geoemtries"
   ]
  },
  {
   "cell_type": "code",
   "execution_count": null,
   "metadata": {},
   "outputs": [],
   "source": [
    "import geopandas as gpd\n",
    "import pandas as pd\n",
    "from shapely import box\n",
    "\n",
    "v = \"v3\"\n",
    "\n",
    "selected_level = 7\n",
    "\n",
    "grid = gpd.read_parquet(\"/data/uscuni-restricted/geometries/nadzsj_d.parquet\")\n",
    "grid = grid[\"geometry\"]\n",
    "\n",
    "\n",
    "german_boundary = box(*grid.to_crs(epsg=3035).total_bounds)\n",
    "regions = gpd.read_parquet(\"/data/uscuni-ulce/regions/cadastre_regions_hull.parquet\")\n",
    "german_regions = regions[regions.intersects(german_boundary)].index.values\n",
    "\n",
    "cluster_mapping = pd.read_parquet(\n",
    "    f\"/data/uscuni-ulce/processed_data/clusters/cluster_mapping_{v}.pq\"\n",
    ")\n",
    "\n",
    "all_buildings = []\n",
    "\n",
    "for region_id in german_regions:\n",
    "    print(region_id)\n",
    "    buildings = gpd.read_parquet(\n",
    "        f\"/data/uscuni-ulce/processed_data/clusters/clusters_{region_id}_{v}.pq\",\n",
    "        columns=[\"geometry\", \"final_without_noise\"],\n",
    "    )\n",
    "\n",
    "    buildings = buildings.to_crs(grid.crs)\n",
    "\n",
    "    ## assign correct level from the hierarchy\n",
    "    if selected_level != 7:\n",
    "        buildings[\"final_without_noise\"] = buildings[\"final_without_noise\"].map(\n",
    "            cluster_mapping[selected_level].to_dict()\n",
    "        )\n",
    "\n",
    "    all_buildings.append(buildings)\n",
    "\n",
    "all_buildings = pd.concat(all_buildings, ignore_index=True)\n",
    "\n",
    "# assign grid cells to tessellation cells\n",
    "inp, res = grid.sindex.query(all_buildings.centroid, predicate=\"intersects\")\n",
    "# buildings should be assigned to only one geometry\n",
    "duplicated = pd.Series(res).duplicated()\n",
    "inp = inp[~duplicated]\n",
    "res = res[~duplicated]\n",
    "\n",
    "# save regional results\n",
    "region_res = (\n",
    "    all_buildings.iloc[inp]\n",
    "    .groupby(res)[\"final_without_noise\"]\n",
    "    .agg(lambda x: pd.Series.mode(x)[0])\n",
    ")\n",
    "region_res.index = grid.index[region_res.index.values]\n",
    "grid_assignment = region_res\n",
    "\n",
    "grid_assignment.to_csv(f\"/data/uscuni-restricted/geometries/cluster_assignment_{v}.csv\")"
   ]
  },
  {
   "cell_type": "code",
   "execution_count": null,
   "metadata": {},
   "outputs": [],
   "source": []
  }
 ],
 "metadata": {
  "kernelspec": {
   "display_name": "default",
   "language": "python",
   "name": "python3"
  },
  "language_info": {
   "codemirror_mode": {
    "name": "ipython",
    "version": 3
   },
   "file_extension": ".py",
   "mimetype": "text/x-python",
   "name": "python",
   "nbconvert_exporter": "python",
   "pygments_lexer": "ipython3"
  }
 },
 "nbformat": 4,
 "nbformat_minor": 2
}
