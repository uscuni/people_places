{
 "cells": [
  {
   "cell_type": "markdown",
   "id": "534b4264-9005-4349-a73b-08fd27c2af13",
   "metadata": {},
   "source": [
    "# Extract Prague data\n",
    "\n",
    "This notebook extracts geometries for Prague metropolitan area a creates census files with geometries "
   ]
  },
  {
   "cell_type": "code",
   "execution_count": null,
   "id": "825c8a41-d278-4efb-8389-c8a8bb4112b3",
   "metadata": {},
   "outputs": [],
   "source": [
    "from glob import glob\n",
    "from pathlib import Path\n",
    "\n",
    "import geopandas as gpd\n",
    "import pandas as pd"
   ]
  },
  {
   "cell_type": "code",
   "execution_count": null,
   "id": "c3737121-b00a-41c0-9dab-acfcd26c233d",
   "metadata": {},
   "outputs": [],
   "source": [
    "# Load data\n",
    "prague = gpd.read_file(\"/data/uscuni-restricted/PMO ITI/\")\n",
    "geom = gpd.read_parquet(\"/data/uscuni-restricted/geometries/nadzsj_d.parquet\")"
   ]
  },
  {
   "cell_type": "code",
   "execution_count": null,
   "id": "4b4a21be-7b8c-4e79-b1c4-4c36723b0969",
   "metadata": {},
   "outputs": [],
   "source": [
    "# Create one polygon\n",
    "prague = prague.union_all()"
   ]
  },
  {
   "cell_type": "code",
   "execution_count": null,
   "id": "02cb4dcd-48a3-453a-9389-a97bbcad1158",
   "metadata": {},
   "outputs": [],
   "source": [
    "# Extract geometries that are within Prague metropolitan area\n",
    "prague_geom = geom.iloc[geom.centroid.sindex.query(prague, predicate=\"contains\")]"
   ]
  },
  {
   "cell_type": "markdown",
   "id": "761526b4-9be8-4949-a057-c9d914c8608b",
   "metadata": {},
   "source": [
    "## Merge geometry of PMI with census data"
   ]
  },
  {
   "cell_type": "code",
   "execution_count": null,
   "id": "855ef44e-031c-4994-aeb8-6ca5ccc074ee",
   "metadata": {},
   "outputs": [],
   "source": [
    "files = glob(\"/data/uscuni-restricted/03_ready_census/*\")"
   ]
  },
  {
   "cell_type": "code",
   "execution_count": null,
   "id": "b60d0e6a-27e7-477c-9f36-708d4c1f00ff",
   "metadata": {},
   "outputs": [],
   "source": [
    "# Process all files\n",
    "for file in files:\n",
    "    # Read path of the files\n",
    "    path = Path(file)\n",
    "    # Open data\n",
    "    data = pd.read_csv(path, dtype={\"nadzsjd\": str})\n",
    "    series = data.columns\n",
    "    series = series.str.lstrip(\" \")\n",
    "    data.columns = series\n",
    "    # Merge data\n",
    "    data_df = pd.merge(\n",
    "        data,\n",
    "        prague_geom[[\"geometry\"]],\n",
    "        left_on=\"nadzsjd\",\n",
    "        right_index=True,\n",
    "        how=\"left\",\n",
    "    )\n",
    "    # Convert to gdf\n",
    "    data_gdf = gpd.GeoDataFrame(data_df, geometry=\"geometry\", crs=prague_geom.crs)\n",
    "    data_gdf = data_gdf.dropna(subset=\"geometry\")\n",
    "\n",
    "    # Save the new dataset\n",
    "    data_gdf.to_parquet(\n",
    "        f\"/data/uscuni-restricted/prague/prague_{path.stem}.parquet\", index=False\n",
    "    )"
   ]
  }
 ],
 "metadata": {
  "kernelspec": {
   "display_name": "Python 3 (ipykernel)",
   "language": "python",
   "name": "python3"
  },
  "language_info": {
   "codemirror_mode": {
    "name": "ipython",
    "version": 3
   },
   "file_extension": ".py",
   "mimetype": "text/x-python",
   "name": "python",
   "nbconvert_exporter": "python",
   "pygments_lexer": "ipython3"
  }
 },
 "nbformat": 4,
 "nbformat_minor": 5
}
