{
 "cells": [
  {
   "cell_type": "markdown",
   "id": "09630640-8ecd-41f4-bb89-aa40c66108a4",
   "metadata": {},
   "source": [
    "# 03 Census data merging\n",
    "\n",
    "This notebook merges preprocessed and cleaned data from CSU with polygons"
   ]
  },
  {
   "cell_type": "code",
   "execution_count": null,
   "id": "d87f5141-0c7f-4351-baf2-26ab1e673b07",
   "metadata": {},
   "outputs": [],
   "source": [
    "from glob import glob\n",
    "from pathlib import Path\n",
    "\n",
    "import geopandas as gpd\n",
    "import pandas as pd"
   ]
  },
  {
   "cell_type": "code",
   "execution_count": null,
   "id": "d8e30191-510c-4440-bf1c-e93fd9edd41c",
   "metadata": {},
   "outputs": [],
   "source": [
    "# Read polygons\n",
    "polygons = gpd.read_file(\n",
    "    \"/data/uscuni-restricted/Data_SLDB_2021/d_zsj_010122\", driver=\"ESRI Shapefile\"\n",
    ")\n",
    "polygons.head(2)"
   ]
  },
  {
   "cell_type": "code",
   "execution_count": null,
   "id": "ea0d21e1-c466-4584-ad14-197116bed203",
   "metadata": {},
   "outputs": [],
   "source": [
    "# Prepare data for merging\n",
    "# polygons = polygons.iloc[:, [0, 1, -1]]\n",
    "polygons[\"geometry\"] = polygons.geometry.force_2d()\n",
    "polygons.head(2)"
   ]
  },
  {
   "cell_type": "code",
   "execution_count": null,
   "id": "6e3037c6-c3d7-471a-9cae-7da734eb6886",
   "metadata": {},
   "outputs": [],
   "source": [
    "# Read data for converting between zsj and nadzsj\n",
    "converter = pd.read_excel(\n",
    "    \"/data/uscuni-restricted/Data_SLDB_2021/zsj_data/ZSJD_slouceneZSJD/sloucene/_prevodnik_zsjd_nadzsjd.xlsx\"\n",
    ")"
   ]
  },
  {
   "cell_type": "code",
   "execution_count": null,
   "id": "ad1dc82e-057c-4865-8c86-58387375ab1c",
   "metadata": {},
   "outputs": [],
   "source": [
    "# Prepare data for merging\n",
    "converter.columns = converter.iloc[2]\n",
    "converter = converter.iloc[4:]\n",
    "converter = converter.iloc[:, 18:]\n",
    "# converter[\"kod_nadzsj_d\"] = converter[\"kod_nadzsj_d\"].astype(int)\n",
    "converter.head(5)"
   ]
  },
  {
   "cell_type": "code",
   "execution_count": null,
   "id": "60891544",
   "metadata": {},
   "outputs": [],
   "source": [
    "mapping = converter.set_index(\"kod_zsj_d\")[\"kod_nadzsj_d\"]"
   ]
  },
  {
   "cell_type": "code",
   "execution_count": null,
   "id": "aa3faa8a",
   "metadata": {},
   "outputs": [],
   "source": [
    "mapping.head()"
   ]
  },
  {
   "cell_type": "code",
   "execution_count": null,
   "id": "87029e76",
   "metadata": {},
   "outputs": [],
   "source": [
    "polygons[\"kod_nadzsj_d\"] = polygons[\"KOD_ZSJ_D\"].map(mapping)"
   ]
  },
  {
   "cell_type": "code",
   "execution_count": null,
   "id": "afbb1928",
   "metadata": {},
   "outputs": [],
   "source": [
    "polygons[\"kod_nadzsj_d\"].isna().sum()"
   ]
  },
  {
   "cell_type": "code",
   "execution_count": null,
   "id": "40079f2a",
   "metadata": {},
   "outputs": [],
   "source": [
    "polygons[polygons[\"kod_nadzsj_d\"].isna()]"
   ]
  },
  {
   "cell_type": "code",
   "execution_count": null,
   "id": "3767500a",
   "metadata": {},
   "outputs": [],
   "source": [
    "polygons.loc[158, \"kod_nadzsj_d\"] = \"53806003\""
   ]
  },
  {
   "cell_type": "code",
   "execution_count": null,
   "id": "72b193bc",
   "metadata": {},
   "outputs": [],
   "source": [
    "nadzjs_polygons = polygons.dissolve(\"kod_nadzsj_d\")"
   ]
  },
  {
   "cell_type": "code",
   "execution_count": null,
   "id": "d76e0fdb-1856-4169-8f9e-4205b31446b7",
   "metadata": {},
   "outputs": [],
   "source": [
    "nadzjs_polygons.plot()"
   ]
  },
  {
   "cell_type": "code",
   "execution_count": null,
   "id": "5045080f",
   "metadata": {},
   "outputs": [],
   "source": [
    "nadzjs_polygons.to_parquet(\"/data/uscuni-restricted/geometries/nadzsj_d.parquet\")"
   ]
  },
  {
   "cell_type": "code",
   "execution_count": null,
   "id": "ec31e932",
   "metadata": {},
   "outputs": [],
   "source": [
    "nadzjs_polygons.shape"
   ]
  },
  {
   "cell_type": "markdown",
   "id": "b0544df1",
   "metadata": {},
   "source": [
    "## Link to data files"
   ]
  },
  {
   "cell_type": "code",
   "execution_count": null,
   "id": "d850dbe8",
   "metadata": {},
   "outputs": [],
   "source": [
    "files = glob(\"/data/uscuni-restricted/03_ready_census/*\")\n",
    "files"
   ]
  },
  {
   "cell_type": "code",
   "execution_count": null,
   "id": "030e4d58-e4c7-4498-8fb3-c2c7d8f2c7eb",
   "metadata": {},
   "outputs": [],
   "source": [
    "# Process all files\n",
    "for file in files:\n",
    "    # Read path of the files\n",
    "    path = Path(file)\n",
    "    # Open data\n",
    "    data = pd.read_csv(path, dtype={\"nadzsjd\": str})\n",
    "    series = data.columns\n",
    "    series = series.str.lstrip(\" \")\n",
    "    data.columns = series\n",
    "    # Merge data\n",
    "    data_df = pd.merge(\n",
    "        data,\n",
    "        nadzjs_polygons[[\"geometry\"]],\n",
    "        left_on=\"nadzsjd\",\n",
    "        right_index=True,\n",
    "        how=\"left\",\n",
    "    )\n",
    "    # Convert to gdf\n",
    "    data_gdf = gpd.GeoDataFrame(data_df, geometry=\"geometry\", crs=polygons.crs)\n",
    "    data_gdf = data_gdf.dropna(subset=\"geometry\")\n",
    "\n",
    "    # Save the new dataset\n",
    "    data_gdf.to_parquet(\n",
    "        f\"/data/uscuni-restricted/04_spatial_census/{path.stem}.parquet\", index=False\n",
    "    )"
   ]
  }
 ],
 "metadata": {
  "kernelspec": {
   "display_name": "Python 3 (ipykernel)",
   "language": "python",
   "name": "python3"
  },
  "language_info": {
   "codemirror_mode": {
    "name": "ipython",
    "version": 3
   },
   "file_extension": ".py",
   "mimetype": "text/x-python",
   "name": "python",
   "nbconvert_exporter": "python",
   "pygments_lexer": "ipython3"
  }
 },
 "nbformat": 4,
 "nbformat_minor": 5
}
