{
 "cells": [
  {
   "cell_type": "markdown",
   "id": "09630640-8ecd-41f4-bb89-aa40c66108a4",
   "metadata": {},
   "source": [
    "# Census data preprocessing\n",
    "\n",
    "This notebook preprocesses the original data into a csv format"
   ]
  },
  {
   "cell_type": "code",
   "execution_count": null,
   "id": "d87f5141-0c7f-4351-baf2-26ab1e673b07",
   "metadata": {},
   "outputs": [],
   "source": [
    "from glob import glob\n",
    "from pathlib import Path\n",
    "\n",
    "import pandas as pd"
   ]
  },
  {
   "cell_type": "code",
   "execution_count": null,
   "id": "585c39bc-1a97-40be-987a-2055800a3d06",
   "metadata": {},
   "outputs": [],
   "source": [
    "# Define path\n",
    "files = glob(\n",
    "    \"/data/uscuni-restricted/Data_SLDB_2021/zsj_data/ZSJD_slouceneZSJD/sloucene/*\"\n",
    ")\n",
    "\n",
    "# Process all files\n",
    "for file in files:\n",
    "    # Read path of the files\n",
    "    path = Path(file)\n",
    "    # Exclude files that start with _\n",
    "    if path.stem.startswith(\"_\"):\n",
    "        continue\n",
    "    # Open data on a correct sheet\n",
    "    data = pd.read_excel(path, sheet_name=0)\n",
    "    if data.shape[1] < 5:\n",
    "        data = pd.read_excel(path, sheet_name=1)\n",
    "    # Find first not NaN row and change the names bz the names of the row below\n",
    "    i = 0\n",
    "    for i, row in enumerate(data[\"Unnamed: 15\"]):\n",
    "        i = i\n",
    "        if not pd.isna(row):\n",
    "            break\n",
    "    data.iloc[i, 0:13] = data.iloc[i + 1, 0:13]\n",
    "    # Rename columns\n",
    "    data.columns = data.iloc[i]\n",
    "    # Delete NaN rows\n",
    "    data = data.iloc[i + 2 :]\n",
    "    # Save the new dataset\n",
    "    data.to_csv(\n",
    "        f\"/data/uscuni-restricted/preprocessed_census/{path.stem}.csv\", index=False\n",
    "    )"
   ]
  }
 ],
 "metadata": {
  "kernelspec": {
   "display_name": "Python 3 (ipykernel)",
   "language": "python",
   "name": "python3"
  },
  "language_info": {
   "codemirror_mode": {
    "name": "ipython",
    "version": 3
   },
   "file_extension": ".py",
   "mimetype": "text/x-python",
   "name": "python",
   "nbconvert_exporter": "python",
   "pygments_lexer": "ipython3"
  }
 },
 "nbformat": 4,
 "nbformat_minor": 5
}
