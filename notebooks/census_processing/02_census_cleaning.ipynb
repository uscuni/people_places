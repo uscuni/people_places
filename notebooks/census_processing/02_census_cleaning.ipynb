{
 "cells": [
  {
   "cell_type": "markdown",
   "id": "b8300df7-4a74-413f-9cd8-5ea775d6ee31",
   "metadata": {},
   "source": [
    "# 02 Census data cleaning\n",
    "\n",
    "This notebook removes unnecessary columns from the original files and creates new files with relevant information."
   ]
  },
  {
   "cell_type": "code",
   "execution_count": null,
   "id": "1337342e-b1c1-4376-809d-50e75afa0b32",
   "metadata": {},
   "outputs": [],
   "source": [
    "from glob import glob\n",
    "from pathlib import Path\n",
    "\n",
    "import pandas as pd"
   ]
  },
  {
   "cell_type": "code",
   "execution_count": null,
   "id": "eb6b679f-ade1-4a7b-86fc-5cb1d5ce3939",
   "metadata": {},
   "outputs": [],
   "source": [
    "# Load files\n",
    "files = glob(\"/data/uscuni-restricted/01_preprocessed_census/*\")\n",
    "\n",
    "# Load file with relevant column information\n",
    "names = pd.read_csv(\n",
    "    \"/data/uscuni-restricted/01_preprocessed_census/_col_names.csv\"\n",
    ").set_index(\"File/Column Name\")\n",
    "\n",
    "# Choose columns to drop\n",
    "drop = names[names[\"use\"] == 0]\n",
    "\n",
    "# Remove unnecessary columns\n",
    "drop = drop.drop(columns={\"use\", \"name\"})\n",
    "\n",
    "# Process all files\n",
    "for file in files:\n",
    "    # Read path of the files\n",
    "    path = Path(file)\n",
    "    # Exclude files that start with _\n",
    "    if path.stem.startswith(\"_\"):\n",
    "        continue\n",
    "    # Open data\n",
    "    data = pd.read_csv(path)\n",
    "    # Clean data\n",
    "    data_cleaned = data.drop(columns=drop.index, errors=\"ignore\")\n",
    "    # Save the new dataset\n",
    "    data_cleaned.to_csv(\n",
    "        f\"/data/uscuni-restricted/02_cleaned_preprocessed_census/{path.stem}_cleaned.csv\",\n",
    "        index=False,\n",
    "    )"
   ]
  },
  {
   "cell_type": "code",
   "execution_count": null,
   "id": "fdc81a2f-7508-4c1a-a245-0b93dca89b05",
   "metadata": {},
   "outputs": [],
   "source": [
    "# Load cleaned files\n",
    "cleaned_files = glob(\"/data/uscuni-restricted/02_cleaned_preprocessed_census/*\")"
   ]
  },
  {
   "cell_type": "code",
   "execution_count": null,
   "id": "9c541bcb-17dd-413c-998c-ea95418ff10e",
   "metadata": {},
   "outputs": [],
   "source": [
    "cleaned_files"
   ]
  },
  {
   "cell_type": "code",
   "execution_count": null,
   "id": "d9e3f73c-5085-4c7e-b177-c8aef1b4abcf",
   "metadata": {},
   "outputs": [],
   "source": [
    "# Define common columns\n",
    "common_columns = [\n",
    "    \"NUTS_2\",\n",
    "    \"naz_oblast\",\n",
    "    \"NUTS_3\",\n",
    "    \"naz_kraj\",\n",
    "    \"kod_okres\",\n",
    "    \"naz_okres\",\n",
    "    \"kod_orp\",\n",
    "    \"naz_orp\",\n",
    "    \"kod_obec\",\n",
    "    \"naz_obec\",\n",
    "    \"kod_mco\",\n",
    "    \"nazev_mco\",\n",
    "    \"nadzsjd\",\n",
    "]"
   ]
  },
  {
   "cell_type": "code",
   "execution_count": null,
   "id": "e98e5bd9-291e-40ad-b3d7-f69e68d81bae",
   "metadata": {},
   "outputs": [],
   "source": [
    "# Load all data for households and safe them to a new folder\n",
    "households = pd.read_csv(cleaned_files[11])\n",
    "households = households.drop(\n",
    "    [\n",
    "        \"Hospodařící domácnosti v bytech - počet členů domácnosti: 1\",\n",
    "        \"Hospodařící domácnosti v bytech - počet členů domácnosti: 2\",\n",
    "        \"Hospodařící domácnosti v bytech - počet členů domácnosti: 3\",\n",
    "        \"Hospodařící domácnosti v bytech - počet členů domácnosti: 4\",\n",
    "        \"Hospodařící domácnosti v bytech - počet členů domácnosti: 5 a více\",\n",
    "        \"Hospodařící domácnosti v bytech - typ HD: rodinné domácnosti - počet členů domácnosti: 2\",\n",
    "        \"Hospodařící domácnosti v bytech - typ HD: rodinné domácnosti - počet členů domácnosti: 3\",\n",
    "        \"Hospodařící domácnosti v bytech - typ HD: rodinné domácnosti - počet členů domácnosti: 4\",\n",
    "        \"Hospodařící domácnosti v bytech - typ HD: rodinné domácnosti - počet členů domácnosti: 5 a více\",\n",
    "    ],\n",
    "    axis=1,\n",
    ")\n",
    "households.to_csv(\n",
    "    \"/data/uscuni-restricted/03_ready_census/nadzsjd_households_2021_.csv\", index=False\n",
    ")"
   ]
  },
  {
   "cell_type": "code",
   "execution_count": null,
   "id": "754cba97-54e2-4b83-8d85-21e5c7b9f6c9",
   "metadata": {},
   "outputs": [],
   "source": [
    "# Load all data for housing\n",
    "housing1 = pd.read_csv(cleaned_files[8])\n",
    "housing1.to_csv(\n",
    "    \"/data/uscuni-restricted/03_ready_census/nadzsjd_housing_size_facilities_2021.csv\",\n",
    "    index=False,\n",
    ")\n",
    "housing2 = pd.read_csv(cleaned_files[6])\n",
    "housing2.to_csv(\n",
    "    \"/data/uscuni-restricted/03_ready_census/nadzsjd_housing_houses_2021.csv\",\n",
    "    index=False,\n",
    ")\n",
    "housing3 = pd.read_csv(cleaned_files[1])\n",
    "housing3.to_csv(\n",
    "    \"/data/uscuni-restricted/03_ready_census/nadzsjd_housing_flats_2021.csv\",\n",
    "    index=False,\n",
    ")"
   ]
  },
  {
   "cell_type": "code",
   "execution_count": null,
   "id": "1b7a5262-4a82-4ccb-9a6c-83b8f2bf1ba1",
   "metadata": {},
   "outputs": [],
   "source": [
    "# Load all data for education and safe them to a new folder\n",
    "education = pd.read_csv(cleaned_files[14])\n",
    "education.to_csv(\n",
    "    \"/data/uscuni-restricted/03_ready_census/nadzsjd_education_2021.csv\", index=False\n",
    ")"
   ]
  },
  {
   "cell_type": "code",
   "execution_count": null,
   "id": "07d7464e-f415-4b25-8bb4-593424da3a3b",
   "metadata": {},
   "outputs": [],
   "source": [
    "# Load all data for the employed population\n",
    "emp1 = pd.read_csv(cleaned_files[16])\n",
    "# Rename columns\n",
    "emp1 = emp1.rename(\n",
    "    columns={\n",
    "        \"nuts_2_regs\": \"NUTS_2\",\n",
    "        \"nazev_regionu_soudrznosti\": \"naz_oblast\",\n",
    "        \"nuts3_kraj\": \"NUTS_3\",\n",
    "        \"nazev_kraje\": \"naz_kraj\",\n",
    "        \"nazev_okresu\": \"naz_okres\",\n",
    "        \"nazev_orp\": \"naz_orp\",\n",
    "        \"nazev_obec\": \"naz_obec\",\n",
    "    }\n",
    ")\n",
    "emp1.to_csv(\n",
    "    \"/data/uscuni-restricted/03_ready_census/nadzsjd_emp_employed_2021.csv\", index=False\n",
    ")\n",
    "emp2 = pd.read_csv(cleaned_files[2])\n",
    "emp2.to_csv(\n",
    "    \"/data/uscuni-restricted/03_ready_census/nadzsjd_emp_type_age_2021.csv\", index=False\n",
    ")\n",
    "emp3 = pd.read_csv(cleaned_files[7])\n",
    "emp3.to_csv(\n",
    "    \"/data/uscuni-restricted/03_ready_census/nadzsjd_emp_ea_age_2021.csv\", index=False\n",
    ")"
   ]
  },
  {
   "cell_type": "code",
   "execution_count": null,
   "id": "beb3fa1c-f0e1-425d-b98b-b4aa87dbf95e",
   "metadata": {},
   "outputs": [],
   "source": [
    "# Load all data for population\n",
    "pop1 = pd.read_csv(cleaned_files[0])\n",
    "pop1.to_csv(\n",
    "    \"/data/uscuni-restricted/03_ready_census/nadzsjd_pop_age_gender_2021.csv\",\n",
    "    index=False,\n",
    ")\n",
    "pop2 = pd.read_csv(cleaned_files[3])\n",
    "# Rename columns\n",
    "pop2 = pop2.rename(\n",
    "    columns={\n",
    "        \"nuts_2_regs\": \"NUTS_2\",\n",
    "        \"nazev_regionu_soudrznosti\": \"naz_oblast\",\n",
    "        \"nuts3_kraj\": \"NUTS_3\",\n",
    "        \"nazev_kraje\": \"naz_kraj\",\n",
    "        \"nazev_okresu\": \"naz_okres\",\n",
    "        \"nazev_orp\": \"naz_orp\",\n",
    "        \"nazev_obec\": \"naz_obec\",\n",
    "    }\n",
    ")\n",
    "pop2.to_csv(\n",
    "    \"/data/uscuni-restricted/03_ready_census/nadzsjd_pop_nationality_2021.csv\",\n",
    "    index=False,\n",
    ")\n",
    "pop3 = pd.read_csv(cleaned_files[4])\n",
    "pop3.to_csv(\n",
    "    \"/data/uscuni-restricted/03_ready_census/nadzsjd_pop_ea_gender_2021.csv\",\n",
    "    index=False,\n",
    ")\n",
    "pop4 = pd.read_csv(cleaned_files[5])\n",
    "pop4.to_csv(\n",
    "    \"/data/uscuni-restricted/03_ready_census/nadzsjd_pop_status_gender_2021.csv\",\n",
    "    index=False,\n",
    ")\n",
    "pop5 = pd.read_csv(cleaned_files[12])\n",
    "pop5.to_csv(\n",
    "    \"/data/uscuni-restricted/03_ready_census/nadzsjd_pop_religion_gender_2021.csv\",\n",
    "    index=False,\n",
    ")\n",
    "pop6 = pd.read_csv(cleaned_files[15])\n",
    "pop6.to_csv(\n",
    "    \"/data/uscuni-restricted/03_ready_census/nadzsjd_pop_residence_gender_2021.csv\",\n",
    "    index=False,\n",
    ")"
   ]
  },
  {
   "cell_type": "code",
   "execution_count": null,
   "id": "d9c01afa-b77d-4f7e-a066-d57b07220323",
   "metadata": {},
   "outputs": [],
   "source": []
  }
 ],
 "metadata": {
  "kernelspec": {
   "display_name": "Python 3 (ipykernel)",
   "language": "python",
   "name": "python3"
  },
  "language_info": {
   "codemirror_mode": {
    "name": "ipython",
    "version": 3
   },
   "file_extension": ".py",
   "mimetype": "text/x-python",
   "name": "python",
   "nbconvert_exporter": "python",
   "pygments_lexer": "ipython3"
  }
 },
 "nbformat": 4,
 "nbformat_minor": 5
}
