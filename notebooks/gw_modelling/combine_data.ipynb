{
 "cells": [
  {
   "cell_type": "markdown",
   "id": "b9404912",
   "metadata": {},
   "source": [
    "# Combine the performance data from individual models\n",
    "\n",
    "Loop over models and extract focal performance to a single table."
   ]
  },
  {
   "cell_type": "code",
   "execution_count": null,
   "id": "0c4bdc08",
   "metadata": {},
   "outputs": [],
   "source": [
    "import joblib\n",
    "import pandas as pd"
   ]
  },
  {
   "cell_type": "markdown",
   "id": "2834c174",
   "metadata": {},
   "source": [
    "Loop and get the data."
   ]
  },
  {
   "cell_type": "code",
   "execution_count": null,
   "id": "57d79313",
   "metadata": {},
   "outputs": [],
   "source": [
    "perf = []\n",
    "\n",
    "for reduction in [\"pca\", \"fa\", \"umap_dim5_nb20_euclidean\"]:\n",
    "    for model_type in [\"lr\", \"rf\"]:\n",
    "        for cluster in [1, 3, 4, 5, 6, 7, 8]:\n",
    "            with open(\n",
    "                f\"/data/uscuni-restricted/06_models/{reduction}/label_{cluster}/{model_type}/global_model.joblib\",\n",
    "                \"rb\",\n",
    "            ) as f:\n",
    "                model = joblib.load(f)\n",
    "                perf.append(\n",
    "                    pd.Series(\n",
    "                        {\n",
    "                            \"reduction\": reduction,\n",
    "                            \"model\": model_type,\n",
    "                            \"cluster\": cluster,\n",
    "                            \"accuracy\": model.score_,\n",
    "                            \"balanced_accuracy\": model.balanced_accuracy_,\n",
    "                            \"precision\": model.precision_,\n",
    "                            \"recall\": model.recall_,\n",
    "                            \"f1_macro\": model.f1_macro_,\n",
    "                            \"f1_micro_\": model.f1_micro_,\n",
    "                            \"f1_weighted\": model.f1_weighted_,\n",
    "                        }\n",
    "                    )\n",
    "                )"
   ]
  },
  {
   "cell_type": "markdown",
   "id": "0b0cd035",
   "metadata": {},
   "source": [
    "Combine."
   ]
  },
  {
   "cell_type": "code",
   "execution_count": null,
   "id": "8beeef6f",
   "metadata": {},
   "outputs": [],
   "source": [
    "performance = pd.DataFrame(perf)"
   ]
  },
  {
   "cell_type": "code",
   "execution_count": null,
   "id": "eb201af2",
   "metadata": {},
   "outputs": [],
   "source": [
    "performance.to_parquet(\"/data/uscuni-restricted/06_models/model_performance.parquet\")"
   ]
  },
  {
   "cell_type": "code",
   "execution_count": null,
   "id": "00a73f26",
   "metadata": {},
   "outputs": [],
   "source": []
  }
 ],
 "metadata": {
  "kernelspec": {
   "display_name": "default",
   "language": "python",
   "name": "python3"
  },
  "language_info": {
   "codemirror_mode": {
    "name": "ipython",
    "version": 3
   },
   "file_extension": ".py",
   "mimetype": "text/x-python",
   "name": "python",
   "nbconvert_exporter": "python",
   "pygments_lexer": "ipython3"
  }
 },
 "nbformat": 4,
 "nbformat_minor": 5
}
