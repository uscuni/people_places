{
 "cells": [
  {
   "cell_type": "markdown",
   "id": "b9404912",
   "metadata": {},
   "source": [
    "# Combine the performance data from individual models\n",
    "\n",
    "Loop over models and extract focal performance to a single table."
   ]
  },
  {
   "cell_type": "code",
   "execution_count": null,
   "id": "0c4bdc08",
   "metadata": {},
   "outputs": [],
   "source": [
    "import joblib\n",
    "import pandas as pd\n",
    "import seaborn as sns"
   ]
  },
  {
   "cell_type": "markdown",
   "id": "2834c174",
   "metadata": {},
   "source": [
    "Loop and get the data."
   ]
  },
  {
   "cell_type": "code",
   "execution_count": null,
   "id": "57d79313",
   "metadata": {},
   "outputs": [],
   "source": [
    "perf = []\n",
    "\n",
    "for reduction in [\"pca\", \"fa\", \"umap_dim20_nb5_euclidean\"]:\n",
    "    for model_type in [\"lr\", \"rf\"]:\n",
    "        for cluster in [1, 3, 4, 5, 6, 7, 8]:\n",
    "            with open(\n",
    "                f\"/data/uscuni-restricted/06_models/{reduction}/label_{cluster}/{model_type}/model.joblib\",\n",
    "                \"rb\",\n",
    "            ) as f:\n",
    "                model = joblib.load(f)\n",
    "                perf.append(\n",
    "                    pd.Series(\n",
    "                        {\n",
    "                            \"reduction\": reduction,\n",
    "                            \"model\": model_type,\n",
    "                            \"cluster\": cluster,\n",
    "                            \"accuracy\": model.score_,\n",
    "                            \"balanced_accuracy\": model.balanced_accuracy_,\n",
    "                            \"precision\": model.precision_,\n",
    "                            \"recall\": model.recall_,\n",
    "                            \"f1_macro\": model.f1_macro_,\n",
    "                            \"f1_micro_\": model.f1_micro_,\n",
    "                            \"f1_weighted\": model.f1_weighted_,\n",
    "                        }\n",
    "                    )\n",
    "                )"
   ]
  },
  {
   "cell_type": "markdown",
   "id": "0b0cd035",
   "metadata": {},
   "source": [
    "Combine."
   ]
  },
  {
   "cell_type": "code",
   "execution_count": null,
   "id": "8beeef6f",
   "metadata": {},
   "outputs": [],
   "source": [
    "performance = pd.DataFrame(perf)"
   ]
  },
  {
   "cell_type": "code",
   "execution_count": null,
   "id": "eb201af2",
   "metadata": {},
   "outputs": [],
   "source": [
    "performance.to_parquet(\"/data/uscuni-restricted/06_models/model_performance.parquet\")"
   ]
  },
  {
   "cell_type": "code",
   "execution_count": null,
   "id": "9cf9698e-2f0e-45e1-b657-1936c0649106",
   "metadata": {},
   "outputs": [],
   "source": [
    "ax = sns.scatterplot(\n",
    "    performance, x=\"cluster\", y=\"balanced_accuracy\", hue=\"model\", style=\"reduction\"\n",
    ")\n",
    "sns.despine()\n",
    "sns.move_legend(ax, loc=\"upper left\", bbox_to_anchor=(1, 1), frameon=False)"
   ]
  },
  {
   "cell_type": "code",
   "execution_count": null,
   "id": "d7261675-fc22-46e6-b9d7-a3bb5f732123",
   "metadata": {},
   "outputs": [],
   "source": [
    "ax = sns.scatterplot(\n",
    "    performance, x=\"cluster\", y=\"f1_macro\", hue=\"model\", style=\"reduction\"\n",
    ")\n",
    "sns.despine()\n",
    "sns.move_legend(ax, loc=\"upper left\", bbox_to_anchor=(1, 1), frameon=False)"
   ]
  },
  {
   "cell_type": "code",
   "execution_count": null,
   "id": "9b6c520d-113c-4f1b-837e-b1d2136a2f52",
   "metadata": {},
   "outputs": [],
   "source": [
    "ax = sns.scatterplot(\n",
    "    performance, x=\"cluster\", y=\"accuracy\", hue=\"model\", style=\"reduction\"\n",
    ")\n",
    "sns.despine()\n",
    "sns.move_legend(ax, loc=\"upper left\", bbox_to_anchor=(1, 1), frameon=False)"
   ]
  },
  {
   "cell_type": "code",
   "execution_count": null,
   "id": "8f51cb1c-44cc-4b3f-b9b1-d2f9eccb136c",
   "metadata": {},
   "outputs": [],
   "source": [
    "ax = sns.scatterplot(\n",
    "    performance, x=\"cluster\", y=\"precision\", hue=\"model\", style=\"reduction\"\n",
    ")\n",
    "sns.despine()\n",
    "sns.move_legend(ax, loc=\"upper left\", bbox_to_anchor=(1, 1), frameon=False)"
   ]
  },
  {
   "cell_type": "code",
   "execution_count": null,
   "id": "4ef2a21f-fcc0-4a20-be59-6b6c221b3b1c",
   "metadata": {},
   "outputs": [],
   "source": [
    "ax = sns.scatterplot(\n",
    "    performance, x=\"cluster\", y=\"recall\", hue=\"model\", style=\"reduction\"\n",
    ")\n",
    "sns.despine()\n",
    "sns.move_legend(ax, loc=\"upper left\", bbox_to_anchor=(1, 1), frameon=False)"
   ]
  },
  {
   "cell_type": "code",
   "execution_count": null,
   "id": "6faac695-0689-4606-9387-1b56b4e2f7cd",
   "metadata": {},
   "outputs": [],
   "source": [
    "old_perf = pd.read_parquet(\n",
    "    \"/data/uscuni-restricted/06_models/model_performance_old.parquet\"\n",
    ")"
   ]
  },
  {
   "cell_type": "code",
   "execution_count": null,
   "id": "9214ff44",
   "metadata": {},
   "outputs": [],
   "source": [
    "(\n",
    "    performance.replace(\n",
    "        dict(umap_dim20_nb5_euclidean=\"umap_dim5_nb20_euclidean\")\n",
    "    ).set_index([\"reduction\", \"model\", \"cluster\"])\n",
    "    - old_perf.set_index([\"reduction\", \"model\", \"cluster\"])\n",
    ").style.background_gradient(cmap=\"RdBu\", vmin=-1, vmax=1)"
   ]
  },
  {
   "cell_type": "code",
   "execution_count": null,
   "id": "4a03d3ee-5edb-48e7-87e2-512b8d7a3977",
   "metadata": {},
   "outputs": [],
   "source": [
    "print(\n",
    "    performance.set_index([\"reduction\", \"model\", \"cluster\"])[\"f1_macro\"]\n",
    "    .unstack()\n",
    "    .round(3)\n",
    "    .to_markdown()\n",
    ")"
   ]
  },
  {
   "cell_type": "code",
   "execution_count": null,
   "id": "47e144b5-ee82-4c39-911e-9e20e44c71da",
   "metadata": {},
   "outputs": [],
   "source": []
  }
 ],
 "metadata": {
  "kernelspec": {
   "display_name": "Python 3 (ipykernel)",
   "language": "python",
   "name": "python3"
  },
  "language_info": {
   "codemirror_mode": {
    "name": "ipython",
    "version": 3
   },
   "file_extension": ".py",
   "mimetype": "text/x-python",
   "name": "python",
   "nbconvert_exporter": "python",
   "pygments_lexer": "ipython3"
  }
 },
 "nbformat": 4,
 "nbformat_minor": 5
}
