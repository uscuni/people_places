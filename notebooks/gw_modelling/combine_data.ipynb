{
 "cells": [
  {
   "cell_type": "markdown",
   "id": "b9404912",
   "metadata": {},
   "source": [
    "# Combine the performance data from individual models\n",
    "\n",
    "Loop over models and extract focal performance to a single table."
   ]
  },
  {
   "cell_type": "code",
   "execution_count": null,
   "id": "0c4bdc08",
   "metadata": {},
   "outputs": [],
   "source": [
    "import joblib\n",
    "import matplotlib.pyplot as plt\n",
    "import pandas as pd\n",
    "import seaborn as sns"
   ]
  },
  {
   "cell_type": "markdown",
   "id": "2834c174",
   "metadata": {},
   "source": [
    "Loop and get the data."
   ]
  },
  {
   "cell_type": "code",
   "execution_count": null,
   "id": "57d79313",
   "metadata": {},
   "outputs": [],
   "source": [
    "perf = []\n",
    "\n",
    "for reduction in [\"pca\", \"fa\", \"umap_dim5_nb20_euclidean\"]:\n",
    "    for model_type in [\"lr\", \"rf\"]:\n",
    "        for cluster in [1, 3, 4, 5, 6, 7, 8]:\n",
    "            with open(\n",
    "                f\"/data/uscuni-restricted/06_models/{reduction}/label_{cluster}/{model_type}/global_model.joblib\",\n",
    "                \"rb\",\n",
    "            ) as f:\n",
    "                model = joblib.load(f)\n",
    "                perf.append(\n",
    "                    pd.Series(\n",
    "                        {\n",
    "                            \"reduction\": reduction,\n",
    "                            \"model\": model_type,\n",
    "                            \"cluster\": cluster,\n",
    "                            \"accuracy\": model.score_,\n",
    "                            \"balanced_accuracy\": model.balanced_accuracy_ * 100,\n",
    "                            \"precision\": model.precision_,\n",
    "                            \"recall\": model.recall_,\n",
    "                            \"f1_macro\": model.f1_macro_,\n",
    "                            \"f1_micro_\": model.f1_micro_,\n",
    "                            \"f1_weighted\": model.f1_weighted_,\n",
    "                        }\n",
    "                    )\n",
    "                )"
   ]
  },
  {
   "cell_type": "markdown",
   "id": "0b0cd035",
   "metadata": {},
   "source": [
    "Combine."
   ]
  },
  {
   "cell_type": "code",
   "execution_count": null,
   "id": "8beeef6f",
   "metadata": {},
   "outputs": [],
   "source": [
    "performance = pd.DataFrame(perf)"
   ]
  },
  {
   "cell_type": "code",
   "execution_count": null,
   "id": "e04572d4-5494-4df3-88ab-f0a723e068ed",
   "metadata": {},
   "outputs": [],
   "source": [
    "performance"
   ]
  },
  {
   "cell_type": "code",
   "execution_count": null,
   "id": "b3e3a4db-8be8-44d1-af4f-54260b423209",
   "metadata": {},
   "outputs": [],
   "source": []
  },
  {
   "cell_type": "code",
   "execution_count": null,
   "id": "eb201af2",
   "metadata": {},
   "outputs": [],
   "source": [
    "performance.to_parquet(\"/data/uscuni-restricted/06_models/model_performance.parquet\")"
   ]
  },
  {
   "cell_type": "code",
   "execution_count": null,
   "id": "00a73f26",
   "metadata": {},
   "outputs": [],
   "source": [
    "performance = performance.replace(\n",
    "    {\n",
    "        \"pca\": \"PCA\",\n",
    "        \"fa\": \"Factor Analysis\",\n",
    "        \"umap_dim5_nb20_euclidean\": \"UMAP\",\n",
    "        \"lr\": \"Logistic Regression\",\n",
    "        \"rf\": \"Random Forest\",\n",
    "    }\n",
    ")"
   ]
  },
  {
   "cell_type": "code",
   "execution_count": null,
   "id": "c631d17c-9d3d-4e1c-91b6-7e4f74e8c67e",
   "metadata": {},
   "outputs": [],
   "source": [
    "ax = sns.scatterplot(\n",
    "    data=performance, x=\"cluster\", y=\"balanced_accuracy\", hue=\"model\", style=\"reduction\"\n",
    ")\n",
    "sns.move_legend(ax, \"upper left\", bbox_to_anchor=(1, 1), frameon=False)\n",
    "plt.xlabel(\"Cluster label\")\n",
    "plt.ylabel(\"Balanced Accuracy (%)\")\n",
    "plt.title(\"Performace of geographically weighted models\")\n",
    "sns.despine()"
   ]
  },
  {
   "cell_type": "code",
   "execution_count": null,
   "id": "e08c7d39-ab56-4076-9544-4c5d8dea0ec7",
   "metadata": {},
   "outputs": [],
   "source": []
  },
  {
   "cell_type": "code",
   "execution_count": null,
   "id": "dbc7a964-4921-4630-b307-724aea81f3f9",
   "metadata": {},
   "outputs": [],
   "source": [
    "ax = sns.scatterplot(\n",
    "    data=performance, x=\"cluster\", y=\"f1_macro\", hue=\"model\", style=\"reduction\"\n",
    ")\n",
    "sns.move_legend(ax, \"upper left\", bbox_to_anchor=(1, 1), frameon=False)\n",
    "plt.xlabel(\"Cluster label\")\n",
    "plt.ylabel(\"Balanced Accuracy (%)\")\n",
    "plt.title(\"Performace of geographically weighted models\")\n",
    "sns.despine()"
   ]
  },
  {
   "cell_type": "code",
   "execution_count": null,
   "id": "20ec2e7c-fc9b-454c-ac12-0f9665e0a60b",
   "metadata": {},
   "outputs": [],
   "source": [
    "cluster_names = {\n",
    "    \"1\": \"Central Urban Developments\",\n",
    "    \"2\": \"Large Scale Outliers\",\n",
    "    \"3\": \"Dense Urban Developments\",\n",
    "    \"4\": \"Street-aligned Developments\",\n",
    "    \"5\": \"Sparse Rural Development\",\n",
    "    \"6\": \"Linear Road Network Developments\",\n",
    "    \"7\": \"Sparse Road Network Developments\",\n",
    "    \"8\": \"Large Scale Developments\",\n",
    "}"
   ]
  }
 ],
 "metadata": {
  "kernelspec": {
   "display_name": "Python 3 (ipykernel)",
   "language": "python",
   "name": "python3"
  },
  "language_info": {
   "codemirror_mode": {
    "name": "ipython",
    "version": 3
   },
   "file_extension": ".py",
   "mimetype": "text/x-python",
   "name": "python",
   "nbconvert_exporter": "python",
   "pygments_lexer": "ipython3"
  }
 },
 "nbformat": 4,
 "nbformat_minor": 5
}
