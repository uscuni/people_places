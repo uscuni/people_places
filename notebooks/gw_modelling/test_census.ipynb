{
 "cells": [
  {
   "cell_type": "code",
   "execution_count": null,
   "metadata": {},
   "outputs": [],
   "source": [
    "import geopandas as gpd\n",
    "import pandas as pd\n",
    "from sklearn import preprocessing\n",
    "\n",
    "from core.gw import BandwidthSearch\n",
    "from core.gw.ensemble import GWGradientBoostingClassifier, GWRandomForestClassifier\n",
    "from core.gw.linear_model import GWLogisticRegression"
   ]
  },
  {
   "cell_type": "code",
   "execution_count": null,
   "metadata": {},
   "outputs": [],
   "source": [
    "from glob import glob\n",
    "\n",
    "glob(\"/data/uscuni-restricted/05_pcs/*\")"
   ]
  },
  {
   "cell_type": "code",
   "execution_count": null,
   "metadata": {},
   "outputs": [],
   "source": [
    "census = gpd.read_parquet(\n",
    "    \"/data/uscuni-restricted/04_spatial_census/nadzsjd_education_2021.parquet\",\n",
    "    columns=[\"nadzsjd\", \"geometry\"],\n",
    ")"
   ]
  },
  {
   "cell_type": "code",
   "execution_count": null,
   "metadata": {},
   "outputs": [],
   "source": [
    "census.plot()"
   ]
  },
  {
   "cell_type": "code",
   "execution_count": null,
   "metadata": {},
   "outputs": [],
   "source": [
    "pcas = pd.read_parquet(\"/data/uscuni-restricted/05_pcs/pcs_of_pcs.parquet\")"
   ]
  },
  {
   "cell_type": "code",
   "execution_count": null,
   "metadata": {},
   "outputs": [],
   "source": [
    "data = census.join(pcas).dropna()"
   ]
  },
  {
   "cell_type": "code",
   "execution_count": null,
   "metadata": {},
   "outputs": [],
   "source": [
    "data.plot()"
   ]
  },
  {
   "cell_type": "code",
   "execution_count": null,
   "metadata": {},
   "outputs": [],
   "source": [
    "clusters = pd.read_csv(\n",
    "    \"/data/uscuni-restricted/geometries/cluster_assignment_v3.csv\",\n",
    "    dtype={\"kod_nadzsj_d\": str},\n",
    ")\n",
    "cluster_mapping = pd.read_parquet(\n",
    "    \"/data/uscuni-ulce/processed_data/clusters/cluster_mapping_v3.pq\"\n",
    ")"
   ]
  },
  {
   "cell_type": "code",
   "execution_count": null,
   "metadata": {},
   "outputs": [],
   "source": [
    "cluster_mapping.loc[102]"
   ]
  },
  {
   "cell_type": "code",
   "execution_count": null,
   "metadata": {},
   "outputs": [],
   "source": [
    "data = data.merge(clusters, left_on=\"nadzsjd\", right_on=\"kod_nadzsj_d\")"
   ]
  },
  {
   "cell_type": "code",
   "execution_count": null,
   "metadata": {},
   "outputs": [],
   "source": [
    "variables = data.columns[data.columns.str.startswith(\"pca\")]"
   ]
  },
  {
   "cell_type": "code",
   "execution_count": null,
   "metadata": {},
   "outputs": [],
   "source": [
    "y = data[\"final_without_noise\"].map(cluster_mapping[3]) == 8"
   ]
  },
  {
   "cell_type": "code",
   "execution_count": null,
   "metadata": {},
   "outputs": [],
   "source": [
    "# search = BandwidthSearch(\n",
    "#     GWRandomForestClassifier,\n",
    "#     fixed=False,\n",
    "#     n_jobs=-1,\n",
    "#     search_method=\"golden_section\",\n",
    "#     criterion=\"aicc\",\n",
    "#     max_bandwidth=1000,\n",
    "#     max_iterations=10,\n",
    "#     tolerance=0.05,\n",
    "#     verbose=True,\n",
    "#     batch_size=500,\n",
    "#     min_proportion=0.05,\n",
    "#     class_weight=\"balanced\",\n",
    "# )\n",
    "# search.fit(\n",
    "#     non_na[variables],\n",
    "#     non_na[\"final_without_noise\"].map(cluster_mapping[3]) == 8,\n",
    "#     non_na.representative_point(),\n",
    "# )"
   ]
  },
  {
   "cell_type": "code",
   "execution_count": null,
   "metadata": {},
   "outputs": [],
   "source": [
    "# search.oob_scores.sort_index().plot()"
   ]
  },
  {
   "cell_type": "code",
   "execution_count": null,
   "metadata": {},
   "outputs": [],
   "source": [
    "# search.optimal_bandwidth"
   ]
  },
  {
   "cell_type": "code",
   "execution_count": null,
   "metadata": {},
   "outputs": [],
   "source": [
    "data[variables]"
   ]
  },
  {
   "cell_type": "code",
   "execution_count": null,
   "metadata": {},
   "outputs": [],
   "source": [
    "rf = GWRandomForestClassifier(\n",
    "    bandwidth=750,\n",
    "    fixed=False,\n",
    "    n_jobs=-1,\n",
    "    keep_models=False,\n",
    "    # temp_folder=\"/tmp\",\n",
    "    batch_size=1000,\n",
    "    min_proportion=0.05,\n",
    "    class_weight=\"balanced\",\n",
    ")\n",
    "rf.fit(\n",
    "    data[variables],\n",
    "    y,\n",
    "    data.representative_point(),\n",
    ")"
   ]
  },
  {
   "cell_type": "code",
   "execution_count": null,
   "metadata": {},
   "outputs": [],
   "source": [
    "rf.oob_score_"
   ]
  },
  {
   "cell_type": "code",
   "execution_count": null,
   "metadata": {},
   "outputs": [],
   "source": [
    "rf.score_"
   ]
  },
  {
   "cell_type": "code",
   "execution_count": null,
   "metadata": {},
   "outputs": [],
   "source": [
    "rf.oob_balanced_accuracy_"
   ]
  },
  {
   "cell_type": "code",
   "execution_count": null,
   "metadata": {},
   "outputs": [],
   "source": [
    "rf.balanced_accuracy_"
   ]
  },
  {
   "cell_type": "code",
   "execution_count": null,
   "metadata": {},
   "outputs": [],
   "source": [
    "data.plot(\n",
    "    rf.local_oob_score_,\n",
    "    legend=True,\n",
    "    figsize=(16, 8),\n",
    "    missing_kwds=dict(color=\"lightgray\"),\n",
    ").set_axis_off()"
   ]
  },
  {
   "cell_type": "code",
   "execution_count": null,
   "metadata": {},
   "outputs": [],
   "source": [
    "data.plot(\n",
    "    rf.local_oob_balanced_accuracy_,\n",
    "    legend=True,\n",
    "    figsize=(16, 8),\n",
    "    missing_kwds=dict(color=\"lightgray\"),\n",
    ").set_axis_off()"
   ]
  },
  {
   "cell_type": "code",
   "execution_count": null,
   "metadata": {},
   "outputs": [],
   "source": []
  },
  {
   "cell_type": "code",
   "execution_count": null,
   "metadata": {},
   "outputs": [],
   "source": [
    "data.plot(\n",
    "    rf.focal_proba_[True],\n",
    "    legend=True,\n",
    "    figsize=(16, 8),\n",
    "    missing_kwds=dict(color=\"lightgray\"),\n",
    ").set_axis_off()"
   ]
  },
  {
   "cell_type": "code",
   "execution_count": null,
   "metadata": {},
   "outputs": [],
   "source": [
    "data.plot(\n",
    "    rf.feature_importances_[\"pca_ 0\"],\n",
    "    legend=True,\n",
    "    figsize=(16, 8),\n",
    "    missing_kwds=dict(color=\"lightgray\"),\n",
    ").set_axis_off()"
   ]
  },
  {
   "cell_type": "code",
   "execution_count": null,
   "metadata": {},
   "outputs": [],
   "source": [
    "lr = GWLogisticRegression(\n",
    "    bandwidth=750,\n",
    "    fixed=False,\n",
    "    n_jobs=-1,\n",
    "    keep_models=False,\n",
    "    # temp_folder=\"/tmp\",\n",
    "    batch_size=1000,\n",
    "    min_proportion=0.05,\n",
    "    class_weight=\"balanced\",\n",
    "    max_iter=500,\n",
    ")\n",
    "lr.fit(\n",
    "    data[variables],\n",
    "    y,\n",
    "    data.representative_point(),\n",
    ")"
   ]
  },
  {
   "cell_type": "code",
   "execution_count": null,
   "metadata": {},
   "outputs": [],
   "source": [
    "lr.score_"
   ]
  },
  {
   "cell_type": "code",
   "execution_count": null,
   "metadata": {},
   "outputs": [],
   "source": [
    "lr.balanced_accuracy_"
   ]
  },
  {
   "cell_type": "code",
   "execution_count": null,
   "metadata": {},
   "outputs": [],
   "source": [
    "data.plot(\n",
    "    lr.local_pred_score_,\n",
    "    legend=True,\n",
    "    figsize=(16, 8),\n",
    "    missing_kwds=dict(color=\"lightgray\"),\n",
    ").set_axis_off()"
   ]
  },
  {
   "cell_type": "code",
   "execution_count": null,
   "metadata": {},
   "outputs": [],
   "source": [
    "data.plot(\n",
    "    lr.local_pred_balanced_accuracy_,\n",
    "    legend=True,\n",
    "    figsize=(16, 8),\n",
    "    missing_kwds=dict(color=\"lightgray\"),\n",
    ").set_axis_off()"
   ]
  },
  {
   "cell_type": "code",
   "execution_count": null,
   "metadata": {},
   "outputs": [],
   "source": []
  }
 ],
 "metadata": {
  "kernelspec": {
   "display_name": "default",
   "language": "python",
   "name": "python3"
  },
  "language_info": {
   "codemirror_mode": {
    "name": "ipython",
    "version": 3
   },
   "file_extension": ".py",
   "mimetype": "text/x-python",
   "name": "python",
   "nbconvert_exporter": "python",
   "pygments_lexer": "ipython3"
  }
 },
 "nbformat": 4,
 "nbformat_minor": 2
}
