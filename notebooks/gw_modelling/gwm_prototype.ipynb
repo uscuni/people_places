{
 "cells": [
  {
   "cell_type": "markdown",
   "metadata": {},
   "source": [
    "# Exploration of geographically weighted random forest classification modelling\n",
    "\n",
    "To-do:\n",
    "- [x] global model\n",
    "- [x] model evaluation\n",
    "- [x] bandwidth optimisation\n",
    "- [x] feature importances\n",
    "- [x] golden section bandwidth selection\n",
    "- [x] other metrics than accuracy\n",
    "- [x] generic support (logistic regression, gradient boosting)\n",
    "- [x] dedicated classes\n",
    "- [ ] local performance of models that do not support OOB\n",
    "    - [x] with logistic regression I guess we can do predict_proba and measure those on the full sample directly\n",
    "    - with gradient boosting we can't as the model has seen the data - might need to split to train/test to mimic OOB.\n",
    "- [x] logistic regression local coefficients\n",
    "- [x] (optionally) predict method"
   ]
  },
  {
   "cell_type": "code",
   "execution_count": null,
   "metadata": {},
   "outputs": [],
   "source": [
    "import geopandas as gpd\n",
    "import numpy as np\n",
    "import pandas as pd\n",
    "from geodatasets import get_path\n",
    "from sklearn import metrics, preprocessing\n",
    "\n",
    "from core.gw import BandwidthSearch\n",
    "from core.gw.ensemble import GWGradientBoostingClassifier, GWRandomForestClassifier\n",
    "from core.gw.linear_model import GWLogisticRegression"
   ]
  },
  {
   "cell_type": "markdown",
   "metadata": {},
   "source": [
    "Get sample data"
   ]
  },
  {
   "cell_type": "code",
   "execution_count": null,
   "metadata": {},
   "outputs": [],
   "source": [
    "gdf = gpd.read_file(get_path(\"geoda.ncovr\"))"
   ]
  },
  {
   "cell_type": "code",
   "execution_count": null,
   "metadata": {},
   "outputs": [],
   "source": [
    "gdf.shape"
   ]
  },
  {
   "cell_type": "code",
   "execution_count": null,
   "metadata": {},
   "outputs": [],
   "source": [
    "# It is in the geographic coords in the  US and we need to work with distances. Re-project and use only points as the graph builder will require points anyway.\n",
    "gdf = gdf.set_geometry(gdf.representative_point()).to_crs(5070)"
   ]
  },
  {
   "cell_type": "code",
   "execution_count": null,
   "metadata": {},
   "outputs": [],
   "source": [
    "y = gdf[\"FH90\"] > gdf[\"FH90\"].median()"
   ]
  },
  {
   "cell_type": "markdown",
   "metadata": {},
   "source": [
    "### Random forest"
   ]
  },
  {
   "cell_type": "code",
   "execution_count": null,
   "metadata": {},
   "outputs": [],
   "source": [
    "gwrf = GWRandomForestClassifier(\n",
    "    bandwidth=250,\n",
    "    fixed=False,\n",
    "    n_jobs=-1,\n",
    "    keep_models=False,\n",
    ")\n",
    "gwrf.fit(\n",
    "    gdf.iloc[:, 9:15],\n",
    "    y,\n",
    "    gdf.geometry,\n",
    ")"
   ]
  },
  {
   "cell_type": "markdown",
   "metadata": {},
   "source": [
    "Global OOB accuracy for the GW model measured based on OOB predictions from individual local trees."
   ]
  },
  {
   "cell_type": "code",
   "execution_count": null,
   "metadata": {},
   "outputs": [],
   "source": [
    "gwrf.oob_score_"
   ]
  },
  {
   "cell_type": "code",
   "execution_count": null,
   "metadata": {},
   "outputs": [],
   "source": [
    "gwrf.oob_precision_"
   ]
  },
  {
   "cell_type": "code",
   "execution_count": null,
   "metadata": {},
   "outputs": [],
   "source": [
    "gwrf.oob_recall_"
   ]
  },
  {
   "cell_type": "code",
   "execution_count": null,
   "metadata": {},
   "outputs": [],
   "source": [
    "gwrf.oob_balanced_accuracy_"
   ]
  },
  {
   "cell_type": "markdown",
   "metadata": {},
   "source": [
    "Local OOB accuracy."
   ]
  },
  {
   "cell_type": "code",
   "execution_count": null,
   "metadata": {},
   "outputs": [],
   "source": [
    "gdf.plot(gwrf.local_oob_score_, legend=True, s=2)"
   ]
  },
  {
   "cell_type": "code",
   "execution_count": null,
   "metadata": {},
   "outputs": [],
   "source": [
    "gdf.plot(gwrf.local_oob_precision_, legend=True, s=2)"
   ]
  },
  {
   "cell_type": "code",
   "execution_count": null,
   "metadata": {},
   "outputs": [],
   "source": [
    "gdf.plot(gwrf.local_oob_recall_, legend=True, s=2)"
   ]
  },
  {
   "cell_type": "code",
   "execution_count": null,
   "metadata": {},
   "outputs": [],
   "source": [
    "gdf.plot(gwrf.local_oob_balanced_accuracy_, legend=True, s=2)"
   ]
  },
  {
   "cell_type": "code",
   "execution_count": null,
   "metadata": {},
   "outputs": [],
   "source": [
    "gdf.plot(gwrf.local_oob_f1_macro_, legend=True, s=2)"
   ]
  },
  {
   "cell_type": "code",
   "execution_count": null,
   "metadata": {},
   "outputs": [],
   "source": [
    "gdf.plot(gwrf.local_oob_f1_micro_, legend=True, s=2)"
   ]
  },
  {
   "cell_type": "code",
   "execution_count": null,
   "metadata": {},
   "outputs": [],
   "source": [
    "gdf.plot(gwrf.local_oob_f1_weighted_, legend=True, s=2)"
   ]
  },
  {
   "cell_type": "code",
   "execution_count": null,
   "metadata": {},
   "outputs": [],
   "source": [
    "gdf.plot(gwrf.focal_proba_[True], legend=True, s=2)"
   ]
  },
  {
   "cell_type": "code",
   "execution_count": null,
   "metadata": {},
   "outputs": [],
   "source": [
    "gdf.plot(y, legend=True, s=2, cmap=\"Set1_r\")"
   ]
  },
  {
   "cell_type": "markdown",
   "metadata": {},
   "source": [
    "Global accuracy for the GW model measured based on prediction of focals."
   ]
  },
  {
   "cell_type": "code",
   "execution_count": null,
   "metadata": {},
   "outputs": [],
   "source": [
    "gwrf.score_"
   ]
  },
  {
   "cell_type": "markdown",
   "metadata": {},
   "source": [
    "F1 scores for the GW model measured based on prediction of focals. "
   ]
  },
  {
   "cell_type": "code",
   "execution_count": null,
   "metadata": {},
   "outputs": [],
   "source": [
    "gwrf.f1_macro_, gwrf.f1_micro_, gwrf.f1_weighted_"
   ]
  },
  {
   "cell_type": "markdown",
   "metadata": {},
   "source": [
    "OOB score (accuracy) of the global model."
   ]
  },
  {
   "cell_type": "code",
   "execution_count": null,
   "metadata": {},
   "outputs": [],
   "source": [
    "gwrf.global_model.oob_score_"
   ]
  },
  {
   "cell_type": "markdown",
   "metadata": {},
   "source": [
    "Get local feature importances."
   ]
  },
  {
   "cell_type": "code",
   "execution_count": null,
   "metadata": {},
   "outputs": [],
   "source": [
    "gwrf.feature_importances_"
   ]
  },
  {
   "cell_type": "code",
   "execution_count": null,
   "metadata": {},
   "outputs": [],
   "source": [
    "gdf.plot(gwrf.feature_importances_[\"HC60\"], legend=True, s=2)"
   ]
  },
  {
   "cell_type": "markdown",
   "metadata": {},
   "source": [
    "Compare to global feature importance."
   ]
  },
  {
   "cell_type": "code",
   "execution_count": null,
   "metadata": {},
   "outputs": [],
   "source": [
    "gwrf.global_model.feature_importances_"
   ]
  },
  {
   "cell_type": "markdown",
   "metadata": {},
   "source": [
    "### Gradient boosting"
   ]
  },
  {
   "cell_type": "code",
   "execution_count": null,
   "metadata": {},
   "outputs": [],
   "source": [
    "gwgb = GWGradientBoostingClassifier(\n",
    "    bandwidth=250,\n",
    "    fixed=False,\n",
    "    n_jobs=-1,\n",
    "    keep_models=False,\n",
    ")\n",
    "gwgb.fit(\n",
    "    gdf.iloc[:, 9:15],\n",
    "    y,\n",
    "    gdf.geometry,\n",
    ")"
   ]
  },
  {
   "cell_type": "markdown",
   "metadata": {},
   "source": [
    "Global score (accuracy) for the GW model measured based on prediction of focals."
   ]
  },
  {
   "cell_type": "code",
   "execution_count": null,
   "metadata": {},
   "outputs": [],
   "source": [
    "gwgb.score_"
   ]
  },
  {
   "cell_type": "markdown",
   "metadata": {},
   "source": [
    "F1 scores for the GW model measured based on prediction of focals. "
   ]
  },
  {
   "cell_type": "code",
   "execution_count": null,
   "metadata": {},
   "outputs": [],
   "source": [
    "gwgb.f1_macro_, gwgb.f1_micro_, gwgb.f1_weighted_"
   ]
  },
  {
   "cell_type": "markdown",
   "metadata": {},
   "source": [
    "Get local feature importances."
   ]
  },
  {
   "cell_type": "code",
   "execution_count": null,
   "metadata": {},
   "outputs": [],
   "source": [
    "gwgb.feature_importances_"
   ]
  },
  {
   "cell_type": "code",
   "execution_count": null,
   "metadata": {},
   "outputs": [],
   "source": [
    "gdf.plot(gwgb.feature_importances_[\"HR90\"], legend=True, s=2)"
   ]
  },
  {
   "cell_type": "markdown",
   "metadata": {},
   "source": [
    "Compare to global feature importance."
   ]
  },
  {
   "cell_type": "code",
   "execution_count": null,
   "metadata": {},
   "outputs": [],
   "source": [
    "gwgb.global_model.feature_importances_"
   ]
  },
  {
   "cell_type": "markdown",
   "metadata": {},
   "source": [
    "### Logistic regression"
   ]
  },
  {
   "cell_type": "code",
   "execution_count": null,
   "metadata": {},
   "outputs": [],
   "source": [
    "gwlr = GWLogisticRegression(\n",
    "    bandwidth=900_000,\n",
    "    fixed=True,\n",
    "    n_jobs=-1,\n",
    "    keep_models=True,\n",
    "    max_iter=500,\n",
    ")\n",
    "gwlr.fit(\n",
    "    pd.DataFrame(\n",
    "        preprocessing.scale(gdf.iloc[:, 9:15]), columns=gdf.iloc[:, 9:15].columns\n",
    "    ),\n",
    "    gdf[\"FH90\"] > gdf[\"FH90\"].median(),\n",
    "    gdf.geometry,\n",
    ")"
   ]
  },
  {
   "cell_type": "code",
   "execution_count": null,
   "metadata": {},
   "outputs": [],
   "source": [
    "gwlr.score_"
   ]
  },
  {
   "cell_type": "code",
   "execution_count": null,
   "metadata": {},
   "outputs": [],
   "source": [
    "gwlr.pred_f1_micro"
   ]
  },
  {
   "cell_type": "code",
   "execution_count": null,
   "metadata": {},
   "outputs": [],
   "source": [
    "gdf.plot(gwlr.local_pred_f1_micro_, legend=True, s=2)"
   ]
  },
  {
   "cell_type": "code",
   "execution_count": null,
   "metadata": {},
   "outputs": [],
   "source": [
    "gwlr.f1_macro_, gwlr.f1_micro_, gwlr.f1_weighted_"
   ]
  },
  {
   "cell_type": "markdown",
   "metadata": {},
   "source": [
    "Local coefficients"
   ]
  },
  {
   "cell_type": "code",
   "execution_count": null,
   "metadata": {},
   "outputs": [],
   "source": [
    "gwlr.local_coef_"
   ]
  },
  {
   "cell_type": "code",
   "execution_count": null,
   "metadata": {},
   "outputs": [],
   "source": [
    "gdf.plot(gwlr.local_coef_[\"HR90\"], legend=True, s=2)"
   ]
  },
  {
   "cell_type": "markdown",
   "metadata": {},
   "source": [
    "Local intercepts"
   ]
  },
  {
   "cell_type": "code",
   "execution_count": null,
   "metadata": {},
   "outputs": [],
   "source": [
    "gdf.plot(gwlr.local_intercept_, s=2, legend=True)"
   ]
  },
  {
   "cell_type": "markdown",
   "metadata": {},
   "source": [
    "## Bandwidth search"
   ]
  },
  {
   "cell_type": "markdown",
   "metadata": {},
   "source": [
    "Golden section search with a fixed distance bandwidth."
   ]
  },
  {
   "cell_type": "code",
   "execution_count": null,
   "metadata": {},
   "outputs": [],
   "source": [
    "search = BandwidthSearch(\n",
    "    GWRandomForestClassifier,\n",
    "    fixed=True,\n",
    "    n_jobs=-1,\n",
    "    search_method=\"golden_section\",\n",
    "    criterion=\"aic\",\n",
    "    max_iterations=10,\n",
    "    min_bandwidth=250_000,\n",
    "    max_bandwidth=2_000_000,\n",
    "    verbose=True,\n",
    ")\n",
    "search.fit(\n",
    "    gdf.iloc[:, 9:15],\n",
    "    y,\n",
    "    gdf.geometry,\n",
    ")"
   ]
  },
  {
   "cell_type": "markdown",
   "metadata": {},
   "source": [
    "Get the optimal one."
   ]
  },
  {
   "cell_type": "code",
   "execution_count": null,
   "metadata": {},
   "outputs": [],
   "source": [
    "search.optimal_bandwidth"
   ]
  },
  {
   "cell_type": "markdown",
   "metadata": {},
   "source": [
    "Golden section search with an adaptive KNN bandwidth."
   ]
  },
  {
   "cell_type": "code",
   "execution_count": null,
   "metadata": {},
   "outputs": [],
   "source": [
    "search = BandwidthSearch(\n",
    "    GWLogisticRegression,\n",
    "    fixed=False,\n",
    "    n_jobs=-1,\n",
    "    search_method=\"interval\",\n",
    "    min_bandwidth=10,\n",
    "    max_bandwidth=3084,\n",
    "    interval=200,\n",
    "    criterion=\"aic\",\n",
    "    verbose=True,\n",
    "    max_iter=500,  # passed to log regr\n",
    ")\n",
    "search.fit(\n",
    "    pd.DataFrame(\n",
    "        preprocessing.scale(gdf.iloc[:, 9:15]), columns=gdf.iloc[:, 9:15].columns\n",
    "    ),\n",
    "    y,\n",
    "    gdf.geometry,\n",
    ")"
   ]
  },
  {
   "cell_type": "code",
   "execution_count": null,
   "metadata": {},
   "outputs": [],
   "source": [
    "search.scores_.idxmin()"
   ]
  },
  {
   "cell_type": "code",
   "execution_count": null,
   "metadata": {},
   "outputs": [],
   "source": [
    "search.oob_scores.plot()"
   ]
  },
  {
   "cell_type": "markdown",
   "metadata": {},
   "source": [
    "Get the optimal one."
   ]
  },
  {
   "cell_type": "code",
   "execution_count": null,
   "metadata": {},
   "outputs": [],
   "source": [
    "search.optimal_bandwidth"
   ]
  },
  {
   "cell_type": "markdown",
   "metadata": {},
   "source": [
    "## Prediction\n",
    "\n",
    "If you want to use the model for prediction, all the local models need to be retained. That may require significant memory for RF."
   ]
  },
  {
   "cell_type": "code",
   "execution_count": null,
   "metadata": {},
   "outputs": [],
   "source": [
    "gwlr = GWLogisticRegression(\n",
    "    bandwidth=1210,\n",
    "    fixed=False,\n",
    "    n_jobs=-1,\n",
    "    # search_method=\"golden_section\",\n",
    "    # criterion=\"aic\",\n",
    "    # max_iterations=10,\n",
    "    # tolerance=0.1,\n",
    "    verbose=True,\n",
    "    max_iter=500,  # passed to log regr\n",
    "    measure_performance=False,\n",
    ")\n",
    "gwlr.fit(\n",
    "    pd.DataFrame(\n",
    "        preprocessing.scale(gdf.iloc[:, 9:15]), columns=gdf.iloc[:, 9:15].columns\n",
    "    ),\n",
    "    gdf[\"FH90\"] > gdf[\"FH90\"].median(),\n",
    "    gdf.geometry,\n",
    ")"
   ]
  },
  {
   "cell_type": "code",
   "execution_count": null,
   "metadata": {},
   "outputs": [],
   "source": [
    "all_data = pd.DataFrame(\n",
    "    preprocessing.scale(gdf.iloc[:, 9:15]), columns=gdf.iloc[:, 9:15].columns\n",
    ")"
   ]
  },
  {
   "cell_type": "markdown",
   "metadata": {},
   "source": [
    "Predict probabilities"
   ]
  },
  {
   "cell_type": "code",
   "execution_count": null,
   "metadata": {},
   "outputs": [],
   "source": [
    "pp = gwlr.predict_proba(all_data.iloc[:10], geometry=gdf.geometry.iloc[:10])\n",
    "pp"
   ]
  },
  {
   "cell_type": "markdown",
   "metadata": {},
   "source": [
    "Predict label (taking max of probabilities)"
   ]
  },
  {
   "cell_type": "code",
   "execution_count": null,
   "metadata": {},
   "outputs": [],
   "source": [
    "gwlr.predict(all_data.iloc[5:10], geometry=gdf.geometry.iloc[5:10])"
   ]
  }
 ],
 "metadata": {
  "kernelspec": {
   "display_name": "default",
   "language": "python",
   "name": "python3"
  },
  "language_info": {
   "codemirror_mode": {
    "name": "ipython",
    "version": 3
   },
   "file_extension": ".py",
   "mimetype": "text/x-python",
   "name": "python",
   "nbconvert_exporter": "python",
   "pygments_lexer": "ipython3"
  }
 },
 "nbformat": 4,
 "nbformat_minor": 2
}
