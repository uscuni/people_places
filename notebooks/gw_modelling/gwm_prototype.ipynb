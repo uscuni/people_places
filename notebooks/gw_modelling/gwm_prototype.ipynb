{
 "cells": [
  {
   "cell_type": "markdown",
   "metadata": {},
   "source": [
    "# Exploration of geographically weighted random forest classification modelling\n",
    "\n",
    "To-do:\n",
    "- [x] global model\n",
    "- [x] model evaluation\n",
    "- [ ] bandwidth optimisation\n",
    "- [ ] feature importances"
   ]
  },
  {
   "cell_type": "code",
   "execution_count": null,
   "metadata": {},
   "outputs": [],
   "source": [
    "import pandas as pd\n",
    "import numpy as np\n",
    "import warnings\n",
    "import geopandas as gpd\n",
    "from libpysal import graph\n",
    "from sklearn.ensemble import RandomForestClassifier\n",
    "from geodatasets import get_path\n",
    "from joblib import Parallel, delayed\n",
    "from typing import Hashable, Callable"
   ]
  },
  {
   "cell_type": "markdown",
   "metadata": {},
   "source": [
    "Get sample data"
   ]
  },
  {
   "cell_type": "code",
   "execution_count": null,
   "metadata": {},
   "outputs": [],
   "source": [
    "gdf = gpd.read_file(get_path(\"geoda.ncovr\"))"
   ]
  },
  {
   "cell_type": "markdown",
   "metadata": {},
   "source": [
    "It is in the geographic coords in the  US and we need to work with distances. Re-project and use only points as the graph builder will require points anyway."
   ]
  },
  {
   "cell_type": "code",
   "execution_count": null,
   "metadata": {},
   "outputs": [],
   "source": [
    "gdf = gdf.set_geometry(gdf.representative_point()).to_crs(5070)"
   ]
  },
  {
   "cell_type": "markdown",
   "metadata": {},
   "source": [
    "Define a base class for the heavy lifting."
   ]
  },
  {
   "cell_type": "code",
   "execution_count": null,
   "metadata": {},
   "outputs": [],
   "source": [
    "def _triangular(distances, bandwidth):\n",
    "    u = np.clip(distances / bandwidth, 0, 1)\n",
    "    return 1 - u\n",
    "\n",
    "\n",
    "def _parabolic(distances, bandwidth):\n",
    "    u = np.clip(distances / bandwidth, 0, 1)\n",
    "    return 0.75 * (1 - u**2)\n",
    "\n",
    "\n",
    "def _gaussian(distances, bandwidth):\n",
    "    u = distances / bandwidth\n",
    "    return np.exp(-((u / 2) ** 2)) / (np.sqrt(2) * np.pi)\n",
    "\n",
    "\n",
    "def _bisquare(distances, bandwidth):\n",
    "    u = np.clip(distances / bandwidth, 0, 1)\n",
    "    return (15 / 16) * (1 - u**2) ** 2\n",
    "\n",
    "\n",
    "def _cosine(distances, bandwidth):\n",
    "    u = np.clip(distances / bandwidth, 0, 1)\n",
    "    return (np.pi / 4) * np.cos(np.pi / 2 * u)\n",
    "\n",
    "\n",
    "def _exponential(distances, bandwidth):\n",
    "    u = distances / bandwidth\n",
    "    return np.exp(-u)\n",
    "\n",
    "\n",
    "def _boxcar(distances, bandwidth):\n",
    "    r = (distances < bandwidth).astype(int)\n",
    "    return r\n",
    "\n",
    "\n",
    "_kernel_functions = {\n",
    "    \"triangular\": _triangular,\n",
    "    \"parabolic\": _parabolic,\n",
    "    \"gaussian\": _gaussian,\n",
    "    \"bisquare\": _bisquare,\n",
    "    \"cosine\": _cosine,\n",
    "    \"boxcar\": _boxcar,\n",
    "    \"exponential\": _exponential,\n",
    "}"
   ]
  },
  {
   "cell_type": "code",
   "execution_count": null,
   "metadata": {},
   "outputs": [],
   "source": [
    "class GWM:\n",
    "    \"\"\"Generic geographically weighted modelling meta-class\n",
    "\n",
    "    Parameters\n",
    "    ----------\n",
    "    model :  model class\n",
    "        Scikit-learn model class\n",
    "    bandwidth : int | float\n",
    "        bandwidth value consisting of either a distance or N nearest neighbors\n",
    "    fixed : bool, optional\n",
    "        True for distance based bandwidth and False for adaptive (nearest neighbor) bandwidth, by default False\n",
    "    kernel : str, optional\n",
    "        type of kernel function used to weight observations, by default \"bisquare\"\n",
    "    n_jobs : int, optional\n",
    "        The number of jobs to run in parallel. ``-1`` means using all processors by default ``-1``\n",
    "    **kwargs\n",
    "        Additional keyword arguments passed to ``model`` initialisation\n",
    "    \"\"\"\n",
    "\n",
    "    def __init__(\n",
    "        self,\n",
    "        model,\n",
    "        bandwidth: int | float,\n",
    "        fixed: bool = False,\n",
    "        kernel: str | Callable = \"bisquare\",\n",
    "        n_jobs: int = -1,\n",
    "        compute_global_model=True,\n",
    "        **kwargs,\n",
    "    ) -> None:\n",
    "        self.model = model\n",
    "        self.bandwidth = bandwidth\n",
    "        self.kernel = kernel\n",
    "        self.fixed = fixed\n",
    "        self.model_kwargs = kwargs\n",
    "        self.n_jobs = n_jobs\n",
    "        self.compute_global_model = compute_global_model\n",
    "\n",
    "    def fit(self, X: pd.DataFrame, y: pd.Series, geometry: gpd.GeoSeries) -> None:\n",
    "        \"\"\"Fit the geographically weighted model\n",
    "\n",
    "        Parameters\n",
    "        ----------\n",
    "        X : pd.DataFrame\n",
    "            Independent variables\n",
    "        y : pd.Series\n",
    "            Dependent variable\n",
    "        geometry : gpd.GeoSeries\n",
    "            Geographic location\n",
    "        \"\"\"\n",
    "        # build graph\n",
    "        if self.fixed:  # fixed distance\n",
    "            self.weights = graph.Graph.build_kernel(\n",
    "                geometry, kernel=self.kernel, bandwidth=self.bandwidth\n",
    "            )\n",
    "        else:  # adaptive KNN\n",
    "            weights = graph.Graph.build_kernel(\n",
    "                geometry, kernel=\"identity\", k=self.bandwidth\n",
    "            )\n",
    "            # post-process identity weights by the selected kernel\n",
    "            # and kernel bandwidth derived from each neighborhood\n",
    "            bandwidth = weights._adjacency.groupby(level=0).transform(\"max\")\n",
    "            self.weights = graph.Graph(\n",
    "                adjacency=_kernel_functions[self.kernel](weights._adjacency, bandwidth),\n",
    "                is_sorted=True,\n",
    "            )\n",
    "\n",
    "        # fit the models\n",
    "        data = X.copy()\n",
    "        data[\"_y\"] = y\n",
    "        data = data.loc[self.weights._adjacency.index.get_level_values(1)]\n",
    "        data[\"_weight\"] = self.weights._adjacency.values\n",
    "        grouper = data.groupby(self.weights._adjacency.index.get_level_values(0))\n",
    "\n",
    "        # models are fit in parallel\n",
    "        local_models = Parallel(n_jobs=self.n_jobs)(\n",
    "            delayed(self._fit_local)(self.model, group, name, self.model_kwargs)\n",
    "            for name, group in grouper\n",
    "        )\n",
    "        names, models = zip(*local_models)\n",
    "        self.local_models = pd.Series(models, index=names)\n",
    "\n",
    "        if self.compute_global_model:\n",
    "            # fit global model as a baseline\n",
    "            self.global_model = self.model(\n",
    "                n_jobs=self.n_jobs, oob_score=True, **self.model_kwargs\n",
    "            )\n",
    "            self.global_model.fit(X=X, y=y)\n",
    "\n",
    "        # global GW accuracy\n",
    "        accuracy_data = self.local_models.apply(lambda x: x.oob_score_)\n",
    "        true, n = zip(*accuracy_data)\n",
    "        self.oob_score_ = sum(true) / sum(n)\n",
    "        self.local_oob_score_ = accuracy_data.apply(lambda x: x[0] / x[1])\n",
    "\n",
    "    def _fit_local(\n",
    "        self, model, data: pd.DataFrame, name: Hashable, model_kwargs: dict\n",
    "    ) -> tuple:\n",
    "        \"\"\"Fit individual local model\n",
    "\n",
    "        Parameters\n",
    "        ----------\n",
    "        model : model class\n",
    "            Scikit-learn model class\n",
    "        data : pd.DataFrame\n",
    "            data for training\n",
    "        name : Hashable\n",
    "            group name, matching the index of the focal geometry\n",
    "        model_kwargs : dict\n",
    "            additional keyword arguments for the model init\n",
    "\n",
    "        Returns\n",
    "        -------\n",
    "        tuple\n",
    "            name, fitted model\n",
    "        \"\"\"\n",
    "        if data[\"_y\"].nunique() == 1:\n",
    "            warnings.warn(f\"y at location {name} is invariant.\")\n",
    "        local_model = model(oob_score=self._accuracy_data, **model_kwargs)\n",
    "        local_model.fit(\n",
    "            X=data.drop(columns=[\"_y\", \"_weight\"]),\n",
    "            y=data[\"_y\"],\n",
    "            sample_weight=data[\"_weight\"],\n",
    "        )\n",
    "        return name, local_model\n",
    "\n",
    "    def _accuracy_data(self, true, pred):\n",
    "        return sum(true.flatten() == pred), len(pred)"
   ]
  },
  {
   "cell_type": "markdown",
   "metadata": {},
   "source": [
    "Try with RF Classifier"
   ]
  },
  {
   "cell_type": "code",
   "execution_count": null,
   "metadata": {},
   "outputs": [],
   "source": [
    "gwrf = GWM(RandomForestClassifier, bandwidth=50, fixed=False, n_jobs=-1)\n",
    "gwrf.fit(\n",
    "    gdf.iloc[:, 9:15],\n",
    "    gdf[\"STATE_NAME\"],\n",
    "    gdf.geometry,\n",
    ")"
   ]
  },
  {
   "cell_type": "markdown",
   "metadata": {},
   "source": [
    "Global OOB score (accuracy) for the GW model."
   ]
  },
  {
   "cell_type": "code",
   "execution_count": null,
   "metadata": {},
   "outputs": [],
   "source": [
    "gwrf.oob_score_"
   ]
  },
  {
   "cell_type": "markdown",
   "metadata": {},
   "source": [
    "Local OOB score."
   ]
  },
  {
   "cell_type": "code",
   "execution_count": null,
   "metadata": {},
   "outputs": [],
   "source": [
    "gdf.plot(gwrf.local_oob_score_, legend=True, s=2)"
   ]
  },
  {
   "cell_type": "markdown",
   "metadata": {},
   "source": [
    "OOB score of the global model."
   ]
  },
  {
   "cell_type": "code",
   "execution_count": null,
   "metadata": {},
   "outputs": [],
   "source": [
    "gwrf.global_model.oob_score_"
   ]
  }
 ],
 "metadata": {
  "kernelspec": {
   "display_name": "default",
   "language": "python",
   "name": "python3"
  },
  "language_info": {
   "codemirror_mode": {
    "name": "ipython",
    "version": 3
   },
   "file_extension": ".py",
   "mimetype": "text/x-python",
   "name": "python",
   "nbconvert_exporter": "python",
   "pygments_lexer": "ipython3"
  }
 },
 "nbformat": 4,
 "nbformat_minor": 2
}
