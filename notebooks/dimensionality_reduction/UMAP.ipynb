{
 "cells": [
  {
   "cell_type": "markdown",
   "id": "259b587f-0924-4083-81f8-4c1ee923759f",
   "metadata": {},
   "source": [
    "# UMAP Visualisations"
   ]
  },
  {
   "cell_type": "code",
   "execution_count": null,
   "id": "a8c5ca8c-53c0-4198-a3d6-b12cec5f0020",
   "metadata": {},
   "outputs": [],
   "source": [
    "import geopandas as gpd\n",
    "import jscatter\n",
    "import matplotlib.pyplot as plt\n",
    "import numpy as np\n",
    "import pandas as pd\n",
    "import seaborn as sns\n",
    "import umap\n",
    "import umap.plot"
   ]
  },
  {
   "cell_type": "code",
   "execution_count": null,
   "id": "b8b2b3b9-d79b-4da7-a5f8-773f552edc31",
   "metadata": {},
   "outputs": [],
   "source": [
    "def process_file(path, path_total):\n",
    "    total = pd.read_csv(path_total, dtype={\"nadzsjd\": str}, index_col=0)\n",
    "    data = gpd.read_parquet(path)\n",
    "\n",
    "    data_total = pd.merge(data, total, on=\"nadzsjd\", how=\"left\")\n",
    "\n",
    "    data_census = data_total.drop(data.columns[:13], axis=1)\n",
    "    data_relative = data_census.drop(columns=\"geometry\")\n",
    "    cols_to_normalize = data_relative.columns.difference([\"Obyvatelstvo celkem\"])\n",
    "    data_total[cols_to_normalize] = data_relative[cols_to_normalize].div(\n",
    "        data_relative[\"Obyvatelstvo celkem\"], axis=0\n",
    "    )\n",
    "\n",
    "    clusters = pd.read_csv(\n",
    "        \"/data/uscuni-restricted/geometries/cluster_assignment_v3.csv\",\n",
    "        dtype={\"kod_nadzsj_d\": str},\n",
    "    )\n",
    "\n",
    "    data_total = data_total.merge(\n",
    "        clusters, how=\"left\", left_on=data_total.nadzsjd, right_on=clusters.kod_nadzsj_d\n",
    "    )\n",
    "\n",
    "    data_census = data_total.drop(data.columns[:13], axis=1)\n",
    "\n",
    "    return data_total"
   ]
  },
  {
   "cell_type": "markdown",
   "id": "e1c4f358-9653-4a87-a5b2-635b04dadae3",
   "metadata": {},
   "source": [
    "## UMAP on one category"
   ]
  },
  {
   "cell_type": "code",
   "execution_count": null,
   "id": "7226e235-0311-4787-9bf6-2413b5ab59ec",
   "metadata": {},
   "outputs": [],
   "source": [
    "path = \"/data/uscuni-restricted/04_spatial_census/nadzsjd_pop_residence_gender_2021.parquet\"\n",
    "path_total = \"/data/uscuni-restricted/04_spatial_census/total.csv\""
   ]
  },
  {
   "cell_type": "code",
   "execution_count": null,
   "id": "2f034609-b83a-4de2-860b-7aee97ab9ee0",
   "metadata": {},
   "outputs": [],
   "source": [
    "clusters = pd.read_csv(\n",
    "    \"/data/uscuni-restricted/geometries/cluster_assignment_v3.csv\",\n",
    "    dtype={\"kod_nadzsj_d\": str},\n",
    ")\n",
    "cluster_mapping = pd.read_parquet(\n",
    "    \"/data/uscuni-ulce/processed_data/clusters/cluster_mapping_v3.pq\"\n",
    ")"
   ]
  },
  {
   "cell_type": "code",
   "execution_count": null,
   "id": "9a90d95d-b6d2-45fd-b05d-7857f0a0e1b4",
   "metadata": {},
   "outputs": [],
   "source": [
    "data_rel = process_file(path, path_total)"
   ]
  },
  {
   "cell_type": "code",
   "execution_count": null,
   "id": "4e1f84bd-b3c6-4530-a67e-8644cb7dad6a",
   "metadata": {},
   "outputs": [],
   "source": [
    "data_umap = (\n",
    "    data_rel.drop(data_rel.columns[:14], axis=1)\n",
    "    .drop(columns=[\"geometry\", \"Obyvatelstvo celkem\"])\n",
    "    .dropna()\n",
    ")"
   ]
  },
  {
   "cell_type": "code",
   "execution_count": null,
   "id": "e34bb675-e60f-4baa-aca5-9534d3f4f684",
   "metadata": {},
   "outputs": [],
   "source": [
    "corr = data_umap.iloc[:, :-2].corr()"
   ]
  },
  {
   "cell_type": "code",
   "execution_count": null,
   "id": "61cff5f4-fe91-4675-a772-b8d9a0422c5b",
   "metadata": {},
   "outputs": [],
   "source": [
    "sns.heatmap(corr, cmap=\"coolwarm\")"
   ]
  },
  {
   "cell_type": "code",
   "execution_count": null,
   "id": "e6814ec4-cfbe-4b5a-ab50-a3babca77445",
   "metadata": {},
   "outputs": [],
   "source": [
    "sns.pairplot(data_umap.iloc[:, :-2])"
   ]
  },
  {
   "cell_type": "code",
   "execution_count": null,
   "id": "b33d8cf4-f245-4582-a89a-1029b2790ff9",
   "metadata": {},
   "outputs": [],
   "source": [
    "data_umap.iloc[:, :-2]"
   ]
  },
  {
   "cell_type": "code",
   "execution_count": null,
   "id": "7e0a35cb-5880-4382-a873-19066ab6766d",
   "metadata": {},
   "outputs": [],
   "source": [
    "reducer = umap.UMAP(n_neighbors=5, n_components=2)"
   ]
  },
  {
   "cell_type": "code",
   "execution_count": null,
   "id": "6ae2e0ce-08f2-45a7-b1d5-ec2ec5ea17f5",
   "metadata": {},
   "outputs": [],
   "source": [
    "reducer.fit_transform(data_umap.iloc[:, :-2])"
   ]
  },
  {
   "cell_type": "code",
   "execution_count": null,
   "id": "78e55c50-9f96-4780-b61c-18bc62786939",
   "metadata": {},
   "outputs": [],
   "source": [
    "umap.plot.points(\n",
    "    reducer, labels=data_umap[\"final_without_noise\"].map(cluster_mapping[3].to_dict())\n",
    ")"
   ]
  },
  {
   "cell_type": "code",
   "execution_count": null,
   "id": "0ec3e992-f955-4239-b785-34e19cc1ddf8",
   "metadata": {},
   "outputs": [],
   "source": [
    "df = pd.DataFrame(reducer.embedding_, columns=[\"x\", \"y\"])"
   ]
  },
  {
   "cell_type": "code",
   "execution_count": null,
   "id": "20757549-082f-4951-8f8f-f0e7b135c57a",
   "metadata": {},
   "outputs": [],
   "source": [
    "df[\"cluster\"] = data_umap[\"final_without_noise\"].map(cluster_mapping[3].to_dict())"
   ]
  },
  {
   "cell_type": "code",
   "execution_count": null,
   "id": "d0195fca-f3f0-4da3-ac96-3e36d78fe2a0",
   "metadata": {},
   "outputs": [],
   "source": [
    "scatter = jscatter.Scatter(\n",
    "    data=df,\n",
    "    x=\"x\",\n",
    "    y=\"y\",\n",
    "    color_by=\"cluster\",\n",
    "    size=8,\n",
    "    tooltip=True,\n",
    "    tooltip_properties=[\"cluster\"],\n",
    ")\n",
    "scatter.color(map=\"magma\")\n",
    "scatter.show()"
   ]
  },
  {
   "cell_type": "markdown",
   "id": "0de33e2a-060f-4986-b575-b3b14f889fab",
   "metadata": {},
   "source": [
    "## UMAP on all raw data"
   ]
  },
  {
   "cell_type": "code",
   "execution_count": null,
   "id": "3c4e51b9-b6a5-4ffc-8e9f-1b910fd0d533",
   "metadata": {},
   "outputs": [],
   "source": [
    "file_list = [\n",
    "    \"nadzsjd_education_2021.parquet\",\n",
    "    \"nadzsjd_emp_ea_age_2021.parquet\",\n",
    "    \"nadzsjd_emp_employed_2021.parquet\",\n",
    "    \"nadzsjd_emp_type_age_2021.parquet\",\n",
    "    \"nadzsjd_households_2021.parquet\",\n",
    "    \"nadzsjd_households_2021_.parquet\",\n",
    "    \"nadzsjd_housing_flats_2021.parquet\",\n",
    "    \"nadzsjd_housing_houses_2021.parquet\",\n",
    "    \"nadzsjd_housing_size_facilities_2021.parquet\",\n",
    "    \"nadzsjd_pop_age_gender_2021.parquet\",\n",
    "    \"nadzsjd_pop_ea_gender_2021.parquet\",\n",
    "    \"nadzsjd_pop_nationality_2021.parquet\",\n",
    "    \"nadzsjd_pop_religion_gender_2021.parquet\",\n",
    "    \"nadzsjd_pop_residence_gender_2021.parquet\",\n",
    "    \"nadzsjd_pop_status_gender_2021.parquet\",\n",
    "]"
   ]
  },
  {
   "cell_type": "code",
   "execution_count": null,
   "id": "46c23332-19cd-4da5-95b9-adc91181bdd7",
   "metadata": {},
   "outputs": [],
   "source": [
    "def process_file(path, path_total):\n",
    "    total = pd.read_csv(path_total, dtype={\"nadzsjd\": str}, index_col=0)\n",
    "    data = gpd.read_parquet(path)\n",
    "\n",
    "    if path == \"nadzsjd_housing_size_facilities_2021.parquet\":\n",
    "        data = data.drop(\n",
    "            columns=\"Průměrná plocha 1 obydleného bytu v m2 v domech celkem\"\n",
    "        )\n",
    "\n",
    "    data_total = pd.merge(data, total, on=\"nadzsjd\", how=\"left\")\n",
    "\n",
    "    data_census = data_total.drop(data.columns[:13], axis=1)\n",
    "    data_relative = data_census.drop(columns=\"geometry\")\n",
    "    data_relative = data_relative.replace(\"d\", np.nan)\n",
    "    data_relative = data_relative.dropna(axis=0).apply(pd.to_numeric)\n",
    "    cols_to_normalize = data_relative.columns.difference([\"Obyvatelstvo celkem\"])\n",
    "    data_total[cols_to_normalize] = data_relative[cols_to_normalize].div(\n",
    "        data_relative[\"Obyvatelstvo celkem\"], axis=0\n",
    "    )\n",
    "\n",
    "    clusters = pd.read_csv(\n",
    "        \"/data/uscuni-restricted/geometries/cluster_assignment_v3.csv\",\n",
    "        dtype={\"kod_nadzsj_d\": str},\n",
    "    )\n",
    "\n",
    "    data_total = data_total.merge(\n",
    "        clusters, how=\"left\", left_on=data_total.nadzsjd, right_on=clusters.kod_nadzsj_d\n",
    "    )\n",
    "\n",
    "    data_census = data_total.drop(data.columns[:13], axis=1)\n",
    "\n",
    "    return data_total"
   ]
  },
  {
   "cell_type": "code",
   "execution_count": null,
   "id": "ecfe47d5-92ca-4046-85bc-0045e5f36298",
   "metadata": {},
   "outputs": [],
   "source": [
    "df_list = []\n",
    "for i in file_list:\n",
    "    path = \"/data/uscuni-restricted/04_spatial_census/\" + i\n",
    "\n",
    "    data_total = process_file(path, path_total)\n",
    "    dt = (\n",
    "        data_total.drop(data_total.columns[:14], axis=1)\n",
    "        .drop(columns=[\"Obyvatelstvo celkem\", \"geometry\", \"final_without_noise\"])\n",
    "        .dropna()\n",
    "        .set_index(\"kod_nadzsj_d\")\n",
    "    )\n",
    "    df_list.append(dt)"
   ]
  },
  {
   "cell_type": "code",
   "execution_count": null,
   "id": "36bb0964-88e3-4638-8388-307d47870da3",
   "metadata": {},
   "outputs": [],
   "source": [
    "df_concat = pd.concat(df_list, axis=1).dropna()"
   ]
  },
  {
   "cell_type": "code",
   "execution_count": null,
   "id": "91648314-2e58-45b0-b461-111d9a82fef0",
   "metadata": {},
   "outputs": [],
   "source": [
    "df_concat"
   ]
  },
  {
   "cell_type": "code",
   "execution_count": null,
   "id": "7e80104d-59ad-439a-9dd9-48083ebe694e",
   "metadata": {},
   "outputs": [],
   "source": [
    "df_concat_clusters = df_concat.merge(\n",
    "    clusters, how=\"left\", left_on=df_concat.index, right_on=\"kod_nadzsj_d\"\n",
    ")"
   ]
  },
  {
   "cell_type": "code",
   "execution_count": null,
   "id": "853c31e6-9c9d-438c-bafa-39a9661ceab2",
   "metadata": {},
   "outputs": [],
   "source": [
    "reducer = umap.UMAP(n_neighbors=5, n_components=2)\n",
    "reducer.fit_transform(df_concat)\n",
    "umap.plot.points(\n",
    "    reducer,\n",
    "    labels=df_concat_clusters[\"final_without_noise\"].map(cluster_mapping[3].to_dict()),\n",
    ")"
   ]
  },
  {
   "cell_type": "code",
   "execution_count": null,
   "id": "ca3f32ea-33ad-413d-9e02-36f2bb83d066",
   "metadata": {},
   "outputs": [],
   "source": [
    "reducer = umap.UMAP(n_neighbors=15, n_components=2, metric=\"correlation\")\n",
    "reducer.fit_transform(df_concat)\n",
    "umap.plot.points(\n",
    "    reducer,\n",
    "    labels=df_concat_clusters[\"final_without_noise\"].map(cluster_mapping[3].to_dict()),\n",
    ")"
   ]
  },
  {
   "cell_type": "code",
   "execution_count": null,
   "id": "78ac413d-52e1-4846-b127-62df685de9a3",
   "metadata": {},
   "outputs": [],
   "source": [
    "reducer = umap.UMAP(n_neighbors=15, n_components=2, metric=\"cosine\")\n",
    "reducer.fit_transform(df_concat)\n",
    "umap.plot.points(\n",
    "    reducer,\n",
    "    labels=df_concat_clusters[\"final_without_noise\"].map(cluster_mapping[3].to_dict()),\n",
    ")"
   ]
  },
  {
   "cell_type": "code",
   "execution_count": null,
   "id": "cb79cd7f-c69a-4dfa-8065-149362b458a7",
   "metadata": {},
   "outputs": [],
   "source": [
    "reducer = umap.UMAP(n_neighbors=15, n_components=2, metric=\"canberra\")\n",
    "reducer.fit_transform(df_concat)\n",
    "umap.plot.points(\n",
    "    reducer,\n",
    "    labels=df_concat_clusters[\"final_without_noise\"].map(cluster_mapping[3].to_dict()),\n",
    ")"
   ]
  },
  {
   "cell_type": "code",
   "execution_count": null,
   "id": "32d0d9d6-1756-44c9-b782-fa43fbf5b8f9",
   "metadata": {},
   "outputs": [],
   "source": [
    "reducer = umap.UMAP(n_neighbors=15, n_components=2, metric=\"minkowski\")\n",
    "reducer.fit_transform(df_concat)\n",
    "umap.plot.points(\n",
    "    reducer,\n",
    "    labels=df_concat_clusters[\"final_without_noise\"].map(cluster_mapping[3].to_dict()),\n",
    ")"
   ]
  },
  {
   "cell_type": "code",
   "execution_count": null,
   "id": "a9aeb82b-b8eb-4682-8bf2-191af42abde8",
   "metadata": {},
   "outputs": [],
   "source": [
    "reducer = umap.UMAP(n_neighbors=30, n_components=2, metric=\"canberra\")\n",
    "reducer.fit_transform(df_concat)\n",
    "umap.plot.points(\n",
    "    reducer,\n",
    "    labels=df_concat_clusters[\"final_without_noise\"].map(cluster_mapping[3].to_dict()),\n",
    ")"
   ]
  },
  {
   "cell_type": "code",
   "execution_count": null,
   "id": "e98fa923-9b93-4cff-bb5a-5b33a420971e",
   "metadata": {},
   "outputs": [],
   "source": [
    "reducer = umap.UMAP(n_neighbors=50, n_components=2)\n",
    "reducer.fit_transform(df_concat)\n",
    "umap.plot.points(\n",
    "    reducer,\n",
    "    labels=df_concat_clusters[\"final_without_noise\"].map(cluster_mapping[3].to_dict()),\n",
    ")"
   ]
  },
  {
   "cell_type": "code",
   "execution_count": null,
   "id": "863da965-0e50-4c0b-9785-4d51eeeb77ef",
   "metadata": {},
   "outputs": [],
   "source": [
    "reducer = umap.UMAP(n_neighbors=100, n_components=2)\n",
    "reducer.fit_transform(df_concat)\n",
    "umap.plot.points(\n",
    "    reducer,\n",
    "    labels=df_concat_clusters[\"final_without_noise\"].map(cluster_mapping[3].to_dict()),\n",
    ")"
   ]
  },
  {
   "cell_type": "markdown",
   "id": "7a53b416-5eba-42cb-9bd1-1a0317def176",
   "metadata": {},
   "source": [
    "## UMAP on PC data"
   ]
  },
  {
   "cell_type": "code",
   "execution_count": null,
   "id": "e0ef1839-74ae-4f43-976b-c5241fe46a6b",
   "metadata": {},
   "outputs": [],
   "source": [
    "pcs = pd.read_parquet(\"/data/uscuni-restricted/05_pcs/pcs_of_pcs.parquet\")"
   ]
  },
  {
   "cell_type": "code",
   "execution_count": null,
   "id": "78082ace-7939-4e88-bbfe-64ab3827bf9a",
   "metadata": {},
   "outputs": [],
   "source": [
    "pcs_merged = pcs.reset_index().merge(\n",
    "    clusters.reset_index(),\n",
    "    left_on=\"index\",\n",
    "    right_on=\"index\",\n",
    ")"
   ]
  },
  {
   "cell_type": "code",
   "execution_count": null,
   "id": "5bf6685f-db8d-42a9-9898-559b86705980",
   "metadata": {},
   "outputs": [],
   "source": [
    "reducer = umap.UMAP(n_neighbors=50, n_components=2)\n",
    "reducer.fit_transform(\n",
    "    pcs_merged.drop(columns=[\"index\", \"kod_nadzsj_d\", \"final_without_noise\"])\n",
    ")\n",
    "umap.plot.points(\n",
    "    reducer, labels=pcs_merged[\"final_without_noise\"].map(cluster_mapping[3].to_dict())\n",
    ")"
   ]
  },
  {
   "cell_type": "code",
   "execution_count": null,
   "id": "d29a4087-75b8-419d-a1ec-40a5f27e32aa",
   "metadata": {},
   "outputs": [],
   "source": []
  }
 ],
 "metadata": {
  "kernelspec": {
   "display_name": "Python 3 (ipykernel)",
   "language": "python",
   "name": "python3"
  },
  "language_info": {
   "codemirror_mode": {
    "name": "ipython",
    "version": 3
   },
   "file_extension": ".py",
   "mimetype": "text/x-python",
   "name": "python",
   "nbconvert_exporter": "python",
   "pygments_lexer": "ipython3"
  }
 },
 "nbformat": 4,
 "nbformat_minor": 5
}
