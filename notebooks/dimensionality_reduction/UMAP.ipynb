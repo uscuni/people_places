{
 "cells": [
  {
   "cell_type": "markdown",
   "id": "259b587f-0924-4083-81f8-4c1ee923759f",
   "metadata": {},
   "source": [
    "# UMAP Visualisations"
   ]
  },
  {
   "cell_type": "code",
   "execution_count": null,
   "id": "a8c5ca8c-53c0-4198-a3d6-b12cec5f0020",
   "metadata": {},
   "outputs": [],
   "source": [
    "from glob import glob\n",
    "\n",
    "import geopandas as gpd\n",
    "import jscatter\n",
    "import matplotlib.pyplot as plt\n",
    "import numpy as np\n",
    "import pandas as pd\n",
    "import seaborn as sns\n",
    "import umap\n",
    "import umap.plot"
   ]
  },
  {
   "cell_type": "code",
   "execution_count": null,
   "id": "04ff9e9a-3009-4831-9a9b-f15fe3f03507",
   "metadata": {},
   "outputs": [],
   "source": [
    "def process_file(path, path_total):\n",
    "    total = pd.read_csv(path_total, dtype={\"nadzsjd\": str}, index_col=0).set_index(\n",
    "        \"nadzsjd\"\n",
    "    )\n",
    "    data = gpd.read_parquet(path).set_index(\"nadzsjd\")\n",
    "\n",
    "    data_total = data.join(total)\n",
    "\n",
    "    data_relative = data_total.drop(data.columns[:12], axis=1)\n",
    "\n",
    "    if (\n",
    "        path\n",
    "        == \"/data/uscuni-restricted/04_spatial_census/nadzsjd_households_2021.parquet\"\n",
    "    ):\n",
    "        data_relative = data_relative.replace(\"d\", np.nan).dropna(axis=0)\n",
    "        data_relative[data_relative.columns.drop(\"geometry\")] = data_relative[\n",
    "            data_relative.columns.drop(\"geometry\")\n",
    "        ].astype(float)\n",
    "    elif (\n",
    "        path\n",
    "        == \"/data/uscuni-restricted/04_spatial_census/nadzsjd_housing_size_facilities_2021.parquet\"\n",
    "    ):\n",
    "        data_relative = data_relative.drop(\n",
    "            columns=[\n",
    "                \"Průměrná plocha 1 obydleného bytu v m2 v domech celkem\",\n",
    "                \"Počet obytných místností(4 m2 a více) obydlených bytů v domech celkem\",\n",
    "                \"Celková plocha obydlených bytů v m2 v domech celkem\",\n",
    "            ]\n",
    "        )\n",
    "    elif (\n",
    "        path\n",
    "        == \"/data/uscuni-restricted/04_spatial_census/nadzsjd_housing_flats_2021.parquet\"\n",
    "    ):\n",
    "        data_relative = data_relative.drop(columns=\"Neobydlené byty celkem\")\n",
    "\n",
    "    cols_to_normalize = data_relative.columns.drop([\"Obyvatelstvo celkem\", \"geometry\"])\n",
    "    data_relative[cols_to_normalize] = data_relative[cols_to_normalize].div(\n",
    "        data_relative[\"Obyvatelstvo celkem\"], axis=0\n",
    "    )\n",
    "\n",
    "    data_relative = data_relative.dropna(axis=0)\n",
    "\n",
    "    return data_relative"
   ]
  },
  {
   "cell_type": "markdown",
   "id": "e1c4f358-9653-4a87-a5b2-635b04dadae3",
   "metadata": {},
   "source": [
    "## UMAP on one category"
   ]
  },
  {
   "cell_type": "code",
   "execution_count": null,
   "id": "7226e235-0311-4787-9bf6-2413b5ab59ec",
   "metadata": {},
   "outputs": [],
   "source": [
    "path = \"/data/uscuni-restricted/04_spatial_census/nadzsjd_pop_residence_gender_2021.parquet\"\n",
    "path_total = \"/data/uscuni-restricted/04_spatial_census/total.csv\""
   ]
  },
  {
   "cell_type": "code",
   "execution_count": null,
   "id": "2f034609-b83a-4de2-860b-7aee97ab9ee0",
   "metadata": {},
   "outputs": [],
   "source": [
    "clusters = pd.read_csv(\n",
    "    \"/data/uscuni-restricted/geometries/cluster_assignment_v3.csv\",\n",
    "    dtype={\"kod_nadzsj_d\": str},\n",
    ")\n",
    "cluster_mapping = pd.read_parquet(\n",
    "    \"/data/uscuni-ulce/processed_data/clusters/cluster_mapping_v3.pq\"\n",
    ")"
   ]
  },
  {
   "cell_type": "code",
   "execution_count": null,
   "id": "9a90d95d-b6d2-45fd-b05d-7857f0a0e1b4",
   "metadata": {},
   "outputs": [],
   "source": [
    "data_rel = process_file(path, path_total)"
   ]
  },
  {
   "cell_type": "code",
   "execution_count": null,
   "id": "18d43682-6e01-4a81-a16c-fcaee75b8d01",
   "metadata": {},
   "outputs": [],
   "source": [
    "data_rel"
   ]
  },
  {
   "cell_type": "code",
   "execution_count": null,
   "id": "4e1f84bd-b3c6-4530-a67e-8644cb7dad6a",
   "metadata": {},
   "outputs": [],
   "source": [
    "data_umap = data_rel.drop(columns=[\"geometry\", \"Obyvatelstvo celkem\"]).dropna()"
   ]
  },
  {
   "cell_type": "code",
   "execution_count": null,
   "id": "e34bb675-e60f-4baa-aca5-9534d3f4f684",
   "metadata": {},
   "outputs": [],
   "source": [
    "corr = data_umap.corr()"
   ]
  },
  {
   "cell_type": "code",
   "execution_count": null,
   "id": "61cff5f4-fe91-4675-a772-b8d9a0422c5b",
   "metadata": {},
   "outputs": [],
   "source": [
    "sns.heatmap(corr, cmap=\"coolwarm\")"
   ]
  },
  {
   "cell_type": "code",
   "execution_count": null,
   "id": "e6814ec4-cfbe-4b5a-ab50-a3babca77445",
   "metadata": {},
   "outputs": [],
   "source": [
    "sns.pairplot(data_umap)"
   ]
  },
  {
   "cell_type": "code",
   "execution_count": null,
   "id": "7e0a35cb-5880-4382-a873-19066ab6766d",
   "metadata": {},
   "outputs": [],
   "source": [
    "reducer = umap.UMAP(n_neighbors=5, n_components=2)"
   ]
  },
  {
   "cell_type": "code",
   "execution_count": null,
   "id": "6ae2e0ce-08f2-45a7-b1d5-ec2ec5ea17f5",
   "metadata": {},
   "outputs": [],
   "source": [
    "reducer.fit_transform(data_umap)"
   ]
  },
  {
   "cell_type": "code",
   "execution_count": null,
   "id": "e229b830-cff3-4b60-90dc-ddcf1623a253",
   "metadata": {},
   "outputs": [],
   "source": [
    "data_umap = data_umap.merge(\n",
    "    clusters, how=\"left\", left_on=\"nadzsjd\", right_on=\"kod_nadzsj_d\"\n",
    ")"
   ]
  },
  {
   "cell_type": "code",
   "execution_count": null,
   "id": "78e55c50-9f96-4780-b61c-18bc62786939",
   "metadata": {},
   "outputs": [],
   "source": [
    "umap.plot.points(\n",
    "    reducer, labels=data_umap[\"final_without_noise\"].map(cluster_mapping[3].to_dict())\n",
    ")"
   ]
  },
  {
   "cell_type": "code",
   "execution_count": null,
   "id": "48b2a3ab-d308-4e7b-a002-a676a1bd7d50",
   "metadata": {},
   "outputs": [],
   "source": [
    "df = pd.DataFrame(reducer.embedding_, columns=[\"x\", \"y\"])\n",
    "df[\"cluster\"] = data_umap[\"final_without_noise\"].map(cluster_mapping[3].to_dict())"
   ]
  },
  {
   "cell_type": "code",
   "execution_count": null,
   "id": "d0195fca-f3f0-4da3-ac96-3e36d78fe2a0",
   "metadata": {},
   "outputs": [],
   "source": [
    "scatter = jscatter.Scatter(\n",
    "    data=df,\n",
    "    x=\"x\",\n",
    "    y=\"y\",\n",
    "    color_by=\"cluster\",\n",
    "    size=8,\n",
    "    tooltip=True,\n",
    "    tooltip_properties=[\"cluster\"],\n",
    ")\n",
    "scatter.color(map=\"magma\")\n",
    "scatter.show()"
   ]
  },
  {
   "cell_type": "markdown",
   "id": "0de33e2a-060f-4986-b575-b3b14f889fab",
   "metadata": {},
   "source": [
    "## UMAP on all raw data"
   ]
  },
  {
   "cell_type": "markdown",
   "id": "afa9ff70-50ab-47ee-ab34-186bdb778b9f",
   "metadata": {},
   "source": [
    "### Merge Raw Data"
   ]
  },
  {
   "cell_type": "code",
   "execution_count": null,
   "id": "90628a5e-6253-43a2-a70e-a23a22cad0ef",
   "metadata": {},
   "outputs": [],
   "source": [
    "files = glob(\"/data/uscuni-restricted/04_spatial_census/*\")"
   ]
  },
  {
   "cell_type": "code",
   "execution_count": null,
   "id": "8baa2594-6759-4215-9d71-70433d4e0169",
   "metadata": {},
   "outputs": [],
   "source": [
    "files"
   ]
  },
  {
   "cell_type": "code",
   "execution_count": null,
   "id": "3c4e51b9-b6a5-4ffc-8e9f-1b910fd0d533",
   "metadata": {},
   "outputs": [],
   "source": [
    "file_list = [\n",
    "    \"/data/uscuni-restricted/04_spatial_census/nadzsjd_pop_age_gender_2021.parquet\",\n",
    "    \"/data/uscuni-restricted/04_spatial_census/nadzsjd_pop_ea_gender_2021.parquet\",\n",
    "    \"/data/uscuni-restricted/04_spatial_census/nadzsjd_housing_flats_2021.parquet\",\n",
    "    \"/data/uscuni-restricted/04_spatial_census/nadzsjd_pop_residence_gender_2021.parquet\",\n",
    "    \"/data/uscuni-restricted/04_spatial_census/nadzsjd_emp_type_age_2021.parquet\",\n",
    "    \"/data/uscuni-restricted/04_spatial_census/nadzsjd_education_2021.parquet\",\n",
    "    \"/data/uscuni-restricted/04_spatial_census/nadzsjd_pop_status_gender_2021.parquet\",\n",
    "    \"/data/uscuni-restricted/04_spatial_census/nadzsjd_housing_houses_2021.parquet\",\n",
    "    \"/data/uscuni-restricted/04_spatial_census/nadzsjd_emp_ea_age_2021.parquet\",\n",
    "    \"/data/uscuni-restricted/04_spatial_census/nadzsjd_emp_employed_2021.parquet\",\n",
    "    \"/data/uscuni-restricted/04_spatial_census/nadzsjd_pop_nationality_2021.parquet\",\n",
    "    \"/data/uscuni-restricted/04_spatial_census/nadzsjd_households_2021.parquet\",\n",
    "    \"/data/uscuni-restricted/04_spatial_census/nadzsjd_pop_religion_gender_2021.parquet\",\n",
    "    \"/data/uscuni-restricted/04_spatial_census/nadzsjd_housing_size_facilities_2021.parquet\",\n",
    "]"
   ]
  },
  {
   "cell_type": "code",
   "execution_count": null,
   "id": "ecfe47d5-92ca-4046-85bc-0045e5f36298",
   "metadata": {},
   "outputs": [],
   "source": [
    "df_list = []\n",
    "for i in file_list:\n",
    "    data_total = process_file(i, path_total)\n",
    "    dt = data_total.drop(columns=[\"Obyvatelstvo celkem\", \"geometry\"])\n",
    "\n",
    "    df_list.append(dt)"
   ]
  },
  {
   "cell_type": "code",
   "execution_count": null,
   "id": "23835934-4476-425f-8d44-968de22556b2",
   "metadata": {},
   "outputs": [],
   "source": [
    "df_concat = pd.concat(df_list, axis=1).dropna()"
   ]
  },
  {
   "cell_type": "code",
   "execution_count": null,
   "id": "ead86e1f-8026-4a85-87c0-546e5fe20e52",
   "metadata": {},
   "outputs": [],
   "source": [
    "geometries = process_file(i, path_total)[[\"geometry\"]]"
   ]
  },
  {
   "cell_type": "code",
   "execution_count": null,
   "id": "92c2e94c-e113-45aa-a71f-d967183d2cdc",
   "metadata": {},
   "outputs": [],
   "source": [
    "geometries.crs"
   ]
  },
  {
   "cell_type": "code",
   "execution_count": null,
   "id": "4246da32-2c22-4609-9631-e907466a6e13",
   "metadata": {},
   "outputs": [],
   "source": [
    "gdf_concat = gpd.GeoDataFrame(\n",
    "    df_concat.merge(geometries, how=\"left\", left_on=\"nadzsjd\", right_on=\"nadzsjd\")\n",
    ")"
   ]
  },
  {
   "cell_type": "code",
   "execution_count": null,
   "id": "f92df802-0e69-4bca-97b5-1f8f0ab38ff8",
   "metadata": {},
   "outputs": [],
   "source": [
    "gdf_concat.to_parquet(\n",
    "    \"/data/uscuni-restricted/04_spatial_census/nadzsjd_raw_data.parquet\"\n",
    ")"
   ]
  },
  {
   "cell_type": "markdown",
   "id": "697107a0-b203-420d-97c2-7fd9866ea544",
   "metadata": {},
   "source": [
    "## Colour by cluster"
   ]
  },
  {
   "cell_type": "code",
   "execution_count": null,
   "id": "82ef262e-6120-4c5f-bd49-08301fa1379e",
   "metadata": {},
   "outputs": [],
   "source": [
    "gdf_concat_cluster = gdf_concat.merge(\n",
    "    clusters, how=\"left\", left_on=\"nadzsjd\", right_on=\"kod_nadzsj_d\"\n",
    ")"
   ]
  },
  {
   "cell_type": "markdown",
   "id": "1cc41e7d-3276-454b-89f3-1c62f6a29698",
   "metadata": {},
   "source": [
    "### Euclidean metric"
   ]
  },
  {
   "cell_type": "code",
   "execution_count": null,
   "id": "853c31e6-9c9d-438c-bafa-39a9661ceab2",
   "metadata": {},
   "outputs": [],
   "source": [
    "reducer = umap.UMAP(n_neighbors=5, n_components=2)\n",
    "reducer.fit_transform(gdf_concat.drop(columns=\"geometry\"))\n",
    "umap.plot.points(\n",
    "    reducer,\n",
    "    labels=gdf_concat_cluster[\"final_without_noise\"].map(cluster_mapping[3].to_dict()),\n",
    ")"
   ]
  },
  {
   "cell_type": "code",
   "execution_count": null,
   "id": "6a059a99-08fc-493d-93f0-bdc44edca084",
   "metadata": {},
   "outputs": [],
   "source": [
    "reducer = umap.UMAP(n_neighbors=10, n_components=2)\n",
    "reducer.fit_transform(gdf_concat.drop(columns=\"geometry\"))\n",
    "umap.plot.points(\n",
    "    reducer,\n",
    "    labels=gdf_concat_cluster[\"final_without_noise\"].map(cluster_mapping[3].to_dict()),\n",
    ")"
   ]
  },
  {
   "cell_type": "code",
   "execution_count": null,
   "id": "d18a7859-3dad-409a-927f-730a5af55827",
   "metadata": {},
   "outputs": [],
   "source": [
    "reducer = umap.UMAP(n_neighbors=100, n_components=2)\n",
    "reducer.fit_transform(gdf_concat.drop(columns=\"geometry\"))\n",
    "umap.plot.points(\n",
    "    reducer,\n",
    "    labels=gdf_concat_cluster[\"final_without_noise\"].map(cluster_mapping[3].to_dict()),\n",
    ")"
   ]
  },
  {
   "cell_type": "markdown",
   "id": "45849a56-9285-4d86-97b9-310eeb68de33",
   "metadata": {},
   "source": [
    "### Correlation metric"
   ]
  },
  {
   "cell_type": "code",
   "execution_count": null,
   "id": "ca3f32ea-33ad-413d-9e02-36f2bb83d066",
   "metadata": {},
   "outputs": [],
   "source": [
    "reducer = umap.UMAP(n_neighbors=15, n_components=2, metric=\"correlation\")\n",
    "reducer.fit_transform(gdf_concat.drop(columns=\"geometry\"))\n",
    "umap.plot.points(\n",
    "    reducer,\n",
    "    labels=gdf_concat_cluster[\"final_without_noise\"].map(cluster_mapping[3].to_dict()),\n",
    ")"
   ]
  },
  {
   "cell_type": "code",
   "execution_count": null,
   "id": "9a74ad6e-0f30-4ab2-a5b9-cd36a0f5e50c",
   "metadata": {},
   "outputs": [],
   "source": [
    "reducer = umap.UMAP(n_neighbors=100, n_components=2, metric=\"correlation\")\n",
    "reducer.fit_transform(gdf_concat.drop(columns=\"geometry\"))\n",
    "umap.plot.points(\n",
    "    reducer,\n",
    "    labels=gdf_concat_cluster[\"final_without_noise\"].map(cluster_mapping[3].to_dict()),\n",
    ")"
   ]
  },
  {
   "cell_type": "markdown",
   "id": "9c4d6f5f-da27-491b-a6b9-9827baf841c4",
   "metadata": {},
   "source": [
    "### Cosine metric"
   ]
  },
  {
   "cell_type": "code",
   "execution_count": null,
   "id": "f97b5d57-cf23-4fb5-88ee-eab7ed1d4fcf",
   "metadata": {},
   "outputs": [],
   "source": [
    "reducer = umap.UMAP(n_neighbors=15, n_components=2, metric=\"cosine\")\n",
    "reducer.fit_transform(gdf_concat.drop(columns=\"geometry\"))\n",
    "umap.plot.points(\n",
    "    reducer,\n",
    "    labels=gdf_concat_cluster[\"final_without_noise\"].map(cluster_mapping[3].to_dict()),\n",
    ")"
   ]
  },
  {
   "cell_type": "markdown",
   "id": "d2f0a1e2-e532-41e7-ba9f-cb20bdbe776c",
   "metadata": {},
   "source": [
    "### Canberra metric"
   ]
  },
  {
   "cell_type": "code",
   "execution_count": null,
   "id": "cb79cd7f-c69a-4dfa-8065-149362b458a7",
   "metadata": {},
   "outputs": [],
   "source": [
    "reducer = umap.UMAP(n_neighbors=15, n_components=2, metric=\"canberra\")\n",
    "reducer.fit_transform(gdf_concat.drop(columns=\"geometry\"))\n",
    "umap.plot.points(\n",
    "    reducer,\n",
    "    labels=gdf_concat_cluster[\"final_without_noise\"].map(cluster_mapping[3].to_dict()),\n",
    ")"
   ]
  },
  {
   "cell_type": "code",
   "execution_count": null,
   "id": "cb5c3897-4efc-41a2-ad04-3bc6b44458cd",
   "metadata": {},
   "outputs": [],
   "source": [
    "reducer = umap.UMAP(n_neighbors=100, n_components=2, metric=\"canberra\")\n",
    "reducer.fit_transform(gdf_concat.drop(columns=\"geometry\"))\n",
    "umap.plot.points(\n",
    "    reducer,\n",
    "    labels=gdf_concat_cluster[\"final_without_noise\"].map(cluster_mapping[3].to_dict()),\n",
    ")"
   ]
  },
  {
   "cell_type": "markdown",
   "id": "549567a2-2832-4dc4-a099-4b4c7ec95f17",
   "metadata": {},
   "source": [
    "### Minkowski metric"
   ]
  },
  {
   "cell_type": "code",
   "execution_count": null,
   "id": "32d0d9d6-1756-44c9-b782-fa43fbf5b8f9",
   "metadata": {},
   "outputs": [],
   "source": [
    "reducer = umap.UMAP(n_neighbors=15, n_components=2, metric=\"minkowski\")\n",
    "reducer.fit_transform(gdf_concat.drop(columns=\"geometry\"))\n",
    "umap.plot.points(\n",
    "    reducer,\n",
    "    labels=gdf_concat_cluster[\"final_without_noise\"].map(cluster_mapping[3].to_dict()),\n",
    ")"
   ]
  },
  {
   "cell_type": "markdown",
   "id": "3bf840af-b917-4c86-91a4-8970bc91e4cc",
   "metadata": {},
   "source": [
    "# Create UMAP projected data files in loop"
   ]
  },
  {
   "cell_type": "code",
   "execution_count": null,
   "id": "91be4074-0499-4eb5-9fd1-14ac5e9fe519",
   "metadata": {},
   "outputs": [],
   "source": [
    "n_components = 2"
   ]
  },
  {
   "cell_type": "code",
   "execution_count": null,
   "id": "6b26a031-7a6a-4ce1-a0ee-40f15cd6a185",
   "metadata": {},
   "outputs": [],
   "source": [
    "n_components = [5, 10, 20, 30]\n",
    "n_neighbors = [5, 10, 20, 50, 100]\n",
    "metrics = [\"euclidean\", \"canberra\", \"correlation\"]\n",
    "\n",
    "for i in n_components:\n",
    "    for j in n_neighbors:\n",
    "        for k in metrics:\n",
    "            reducer = umap.UMAP(n_neighbors=j, n_components=i, metric=k)\n",
    "            reducer.fit_transform(gdf_concat.drop(columns=\"geometry\"))\n",
    "            umap_gdf = gpd.GeoDataFrame(\n",
    "                reducer.embedding_,\n",
    "                columns=[str(n) for n in range(i)],\n",
    "                index=gdf_concat.index,\n",
    "                geometry=gdf_concat.geometry,\n",
    "            )\n",
    "            umap_gdf.to_parquet(\n",
    "                f\"/data/uscuni-restricted/05_umap/umap_dim{i}_nb{j}_{k}.parquet\"\n",
    "            )"
   ]
  },
  {
   "cell_type": "code",
   "execution_count": null,
   "id": "a8fa3186-4291-41bc-8f84-1fe0ccf7d64c",
   "metadata": {},
   "outputs": [],
   "source": [
    "%%time\n",
    "reducer = umap.UMAP(n_neighbors=5, n_components=2, metric=k)\n",
    "reducer.fit_transform(gdf_concat.drop(columns=\"geometry\"))"
   ]
  },
  {
   "cell_type": "markdown",
   "id": "7a53b416-5eba-42cb-9bd1-1a0317def176",
   "metadata": {},
   "source": [
    "## UMAP on PC data"
   ]
  },
  {
   "cell_type": "code",
   "execution_count": null,
   "id": "e0ef1839-74ae-4f43-976b-c5241fe46a6b",
   "metadata": {},
   "outputs": [],
   "source": [
    "pcs = gpd.read_parquet(\"/data/uscuni-restricted/05_pcs/pcs_of_pcs_geometries.parquet\")"
   ]
  },
  {
   "cell_type": "code",
   "execution_count": null,
   "id": "78082ace-7939-4e88-bbfe-64ab3827bf9a",
   "metadata": {},
   "outputs": [],
   "source": [
    "pcs_merged = pcs.merge(\n",
    "    clusters,\n",
    "    left_on=pcs.index,\n",
    "    right_on=\"kod_nadzsj_d\",\n",
    ")"
   ]
  },
  {
   "cell_type": "code",
   "execution_count": null,
   "id": "5bf6685f-db8d-42a9-9898-559b86705980",
   "metadata": {},
   "outputs": [],
   "source": [
    "reducer = umap.UMAP(n_neighbors=10, n_components=2)\n",
    "reducer.fit_transform(\n",
    "    pcs_merged.drop(columns=[\"geometry\", \"kod_nadzsj_d\", \"final_without_noise\"])\n",
    ")\n",
    "umap.plot.points(\n",
    "    reducer, labels=pcs_merged[\"final_without_noise\"].map(cluster_mapping[3].to_dict())\n",
    ")"
   ]
  },
  {
   "cell_type": "code",
   "execution_count": null,
   "id": "753ecb65-2bbf-46d6-a326-5be9a323d9ac",
   "metadata": {},
   "outputs": [],
   "source": [
    "reducer = umap.UMAP(n_neighbors=100, n_components=2)\n",
    "reducer.fit_transform(\n",
    "    pcs_merged.drop(columns=[\"geometry\", \"kod_nadzsj_d\", \"final_without_noise\"])\n",
    ")\n",
    "umap.plot.points(\n",
    "    reducer, labels=pcs_merged[\"final_without_noise\"].map(cluster_mapping[3].to_dict())\n",
    ")"
   ]
  },
  {
   "cell_type": "code",
   "execution_count": null,
   "id": "d29a4087-75b8-419d-a1ec-40a5f27e32aa",
   "metadata": {},
   "outputs": [],
   "source": []
  }
 ],
 "metadata": {
  "kernelspec": {
   "display_name": "Python 3 (ipykernel)",
   "language": "python",
   "name": "python3"
  },
  "language_info": {
   "codemirror_mode": {
    "name": "ipython",
    "version": 3
   },
   "file_extension": ".py",
   "mimetype": "text/x-python",
   "name": "python",
   "nbconvert_exporter": "python",
   "pygments_lexer": "ipython3"
  }
 },
 "nbformat": 4,
 "nbformat_minor": 5
}
