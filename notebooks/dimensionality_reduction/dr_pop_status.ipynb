{
 "cells": [
  {
   "cell_type": "code",
   "execution_count": null,
   "id": "4f88b7b6-b6f4-457a-9219-2d1e7be31dfd",
   "metadata": {},
   "outputs": [],
   "source": [
    "import geopandas as gpd\n",
    "import matplotlib.pyplot as plt\n",
    "import numpy as np\n",
    "import pandas as pd\n",
    "from sklearn.decomposition import PCA, FactorAnalysis\n",
    "from sklearn.preprocessing import StandardScaler"
   ]
  },
  {
   "cell_type": "code",
   "execution_count": null,
   "id": "4359b75b-0ad3-4d55-bdd2-4bd52b97770f",
   "metadata": {},
   "outputs": [],
   "source": [
    "total = pd.read_csv(\n",
    "    \"/data/uscuni-restricted/04_spatial_census/total.csv\",\n",
    "    dtype={\"nadzsjd\": str},\n",
    "    index_col=0,\n",
    ")\n",
    "data = gpd.read_parquet(\n",
    "    \"/data/uscuni-restricted/04_spatial_census/nadzsjd_pop_status_gender_2021.parquet\"\n",
    ")"
   ]
  },
  {
   "cell_type": "code",
   "execution_count": null,
   "id": "700464d1-75dc-4a50-9043-1018d0f6ac61",
   "metadata": {},
   "outputs": [],
   "source": [
    "data.columns[:13]"
   ]
  },
  {
   "cell_type": "code",
   "execution_count": null,
   "id": "c6004222-bc9d-45a8-97d5-eee8dc4a2b7e",
   "metadata": {},
   "outputs": [],
   "source": [
    "data_total = pd.merge(\n",
    "    data,\n",
    "    total,\n",
    "    on=\"nadzsjd\",\n",
    "    how=\"left\",\n",
    ")"
   ]
  },
  {
   "cell_type": "code",
   "execution_count": null,
   "id": "5e60aca0-1d5e-4629-8ddd-a8721cdef88d",
   "metadata": {},
   "outputs": [],
   "source": [
    "data_census = data_total.drop(data.columns[:13], axis=1)"
   ]
  },
  {
   "cell_type": "code",
   "execution_count": null,
   "id": "523804a0-176b-49f5-b24c-e74d55ecaed8",
   "metadata": {},
   "outputs": [],
   "source": [
    "data_census"
   ]
  },
  {
   "cell_type": "code",
   "execution_count": null,
   "id": "3797982b-abfe-4949-a8b8-dbe4717a8e3b",
   "metadata": {},
   "outputs": [],
   "source": [
    "data_sum = data_census.iloc[:, 12:-2].sum(axis=1)"
   ]
  },
  {
   "cell_type": "code",
   "execution_count": null,
   "id": "9847606d-e02f-4dc3-896f-cbc82ab2fb18",
   "metadata": {},
   "outputs": [],
   "source": [
    "data_census[\"Obyvatelstvo celkem\"]"
   ]
  },
  {
   "cell_type": "code",
   "execution_count": null,
   "id": "7d6eb36c-91eb-4bf5-b985-7d1f6cecc943",
   "metadata": {},
   "outputs": [],
   "source": [
    "data_relative = data_census.drop(columns=\"geometry\")"
   ]
  },
  {
   "cell_type": "code",
   "execution_count": null,
   "id": "d232af8e-2c66-49d7-82f7-286225ecbbab",
   "metadata": {},
   "outputs": [],
   "source": [
    "cols_to_normalize = data_relative.columns.difference([\"Obyvatelstvo celkem\"])\n",
    "data_relative[cols_to_normalize] = data_relative[cols_to_normalize].div(\n",
    "    data_relative[\"Obyvatelstvo celkem\"], axis=0\n",
    ")\n",
    "\n",
    "data_relative"
   ]
  },
  {
   "cell_type": "code",
   "execution_count": null,
   "id": "e5a22023-bf0d-49ce-b0d1-8f0322891f1d",
   "metadata": {},
   "outputs": [],
   "source": [
    "data_relative = data_relative.dropna(axis=0)"
   ]
  },
  {
   "cell_type": "code",
   "execution_count": null,
   "id": "9bb45c82-32e0-42c2-8cdf-7a8d0ad6470d",
   "metadata": {},
   "outputs": [],
   "source": [
    "data_relative"
   ]
  },
  {
   "cell_type": "code",
   "execution_count": null,
   "id": "63a604ce-4957-48ba-92cc-5a1fed5bc9b0",
   "metadata": {},
   "outputs": [],
   "source": [
    "scaler = StandardScaler()\n",
    "data_relative = pd.DataFrame(\n",
    "    scaler.fit_transform(data_relative),\n",
    "    columns=data_relative.columns,\n",
    "    index=data_relative.index,\n",
    ")"
   ]
  },
  {
   "cell_type": "code",
   "execution_count": null,
   "id": "d0cefa60-5a22-4bd0-b66b-0a3b133e2471",
   "metadata": {},
   "outputs": [],
   "source": [
    "# Factor Analysis\n"
   ]
  },
  {
   "cell_type": "code",
   "execution_count": null,
   "id": "c0c38d1b-2aa9-4abe-9dc6-d0efd2754023",
   "metadata": {},
   "outputs": [],
   "source": [
    "pca5 = PCA(n_components=5)\n",
    "pca5.fit(data_relative.iloc[:, :-1])"
   ]
  },
  {
   "cell_type": "code",
   "execution_count": null,
   "id": "2b55bcd6-2ff5-4ce6-9998-baeaef0d1345",
   "metadata": {},
   "outputs": [],
   "source": [
    "print(pca5.explained_variance_ratio_)\n",
    "print(np.cumsum(pca5.explained_variance_ratio_))"
   ]
  },
  {
   "cell_type": "code",
   "execution_count": null,
   "id": "566fca3f-192a-4157-bb62-b07c1b203fc2",
   "metadata": {},
   "outputs": [],
   "source": [
    "pca10 = PCA(n_components=10)\n",
    "pca10.fit(data_relative.iloc[:, :-1])"
   ]
  },
  {
   "cell_type": "code",
   "execution_count": null,
   "id": "aa4333db-cd3e-413c-b13e-91dbc0449d51",
   "metadata": {},
   "outputs": [],
   "source": [
    "print(pca10.explained_variance_ratio_)\n",
    "print(np.cumsum(pca10.explained_variance_ratio_))"
   ]
  }
 ],
 "metadata": {
  "kernelspec": {
   "display_name": "Python 3 (ipykernel)",
   "language": "python",
   "name": "python3"
  },
  "language_info": {
   "codemirror_mode": {
    "name": "ipython",
    "version": 3
   },
   "file_extension": ".py",
   "mimetype": "text/x-python",
   "name": "python",
   "nbconvert_exporter": "python",
   "pygments_lexer": "ipython3"
  }
 },
 "nbformat": 4,
 "nbformat_minor": 5
}
