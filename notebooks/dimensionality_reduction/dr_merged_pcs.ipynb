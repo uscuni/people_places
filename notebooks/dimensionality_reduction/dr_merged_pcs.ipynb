{
 "cells": [
  {
   "cell_type": "code",
   "execution_count": null,
   "id": "4f88b7b6-b6f4-457a-9219-2d1e7be31dfd",
   "metadata": {},
   "outputs": [],
   "source": [
    "import geopandas as gpd\n",
    "import matplotlib.pyplot as plt\n",
    "import numpy as np\n",
    "import pandas as pd\n",
    "from sklearn.decomposition import PCA, FactorAnalysis\n",
    "from sklearn.preprocessing import StandardScaler"
   ]
  },
  {
   "cell_type": "code",
   "execution_count": null,
   "id": "4359b75b-0ad3-4d55-bdd2-4bd52b97770f",
   "metadata": {},
   "outputs": [],
   "source": [
    "data = gpd.read_parquet(\"/data/uscuni-restricted/05_pcs/merged_pcs.parquet\")"
   ]
  },
  {
   "cell_type": "code",
   "execution_count": null,
   "id": "0ed7b984-b66c-41a2-9ff2-a0fb0981a101",
   "metadata": {},
   "outputs": [],
   "source": [
    "data = data.dropna(axis=0)"
   ]
  },
  {
   "cell_type": "code",
   "execution_count": null,
   "id": "c0c38d1b-2aa9-4abe-9dc6-d0efd2754023",
   "metadata": {},
   "outputs": [],
   "source": [
    "pca5 = PCA(n_components=30)\n",
    "pca5.fit(data.drop(columns=\"geometry\"))"
   ]
  },
  {
   "cell_type": "code",
   "execution_count": null,
   "id": "2b55bcd6-2ff5-4ce6-9998-baeaef0d1345",
   "metadata": {},
   "outputs": [],
   "source": [
    "print(pca5.explained_variance_ratio_ * 100)\n",
    "print(np.cumsum(pca5.explained_variance_ratio_ * 100))"
   ]
  },
  {
   "cell_type": "code",
   "execution_count": null,
   "id": "797b9f00-44cc-492c-b6f1-8aa642e9aef7",
   "metadata": {},
   "outputs": [],
   "source": [
    "plt.plot(np.cumsum(pca5.explained_variance_ratio_), marker=\"o\")"
   ]
  },
  {
   "cell_type": "code",
   "execution_count": null,
   "id": "0b7bc35c-ef45-46e1-8675-3f6e1aaaccb7",
   "metadata": {},
   "outputs": [],
   "source": [
    "pca = PCA(n_components=30)\n",
    "pca.fit(data.drop(columns=\"geometry\"))\n",
    "# Compute Loadings\n",
    "loadings = pca.components_.T * np.sqrt(pca.explained_variance_)\n",
    "\n",
    "# Convert to DataFrame for readability\n",
    "loadings_df = pd.DataFrame(\n",
    "    loadings.T,\n",
    "    index=[f\"PC{i + 1}\" for i in range(pca.explained_variance_.shape[0])],\n",
    ")\n",
    "loadings_df"
   ]
  },
  {
   "cell_type": "code",
   "execution_count": null,
   "id": "e164073d-a20a-4771-95ed-b74ab4b8f3a9",
   "metadata": {},
   "outputs": [],
   "source": [
    "transformed = pca.transform(data.drop(columns=\"geometry\"))\n",
    "\n",
    "df_pca = pd.DataFrame(\n",
    "    transformed,\n",
    "    index=data.drop(columns=\"geometry\").index,\n",
    ").set_geometry(data.geometry)\n",
    "\n",
    "df_pca.columns = df_pca.columns.astype(str)\n",
    "df_pca.to_parquet(\"/data/uscuni-restricted/05_pcs/pcs_of_pcs_geoemtries.parquet\")"
   ]
  }
 ],
 "metadata": {
  "kernelspec": {
   "display_name": "Python 3 (ipykernel)",
   "language": "python",
   "name": "python3"
  },
  "language_info": {
   "codemirror_mode": {
    "name": "ipython",
    "version": 3
   },
   "file_extension": ".py",
   "mimetype": "text/x-python",
   "name": "python",
   "nbconvert_exporter": "python",
   "pygments_lexer": "ipython3"
  }
 },
 "nbformat": 4,
 "nbformat_minor": 5
}
