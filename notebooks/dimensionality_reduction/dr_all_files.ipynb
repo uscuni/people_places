{
 "cells": [
  {
   "cell_type": "code",
   "execution_count": null,
   "id": "1895aa2a-5835-4c93-882e-c3abb0dd9942",
   "metadata": {},
   "outputs": [],
   "source": [
    "from glob import glob\n",
    "from pathlib import Path\n",
    "\n",
    "import geopandas as gpd\n",
    "import matplotlib.pyplot as plt\n",
    "import numpy as np\n",
    "import pandas as pd\n",
    "from sklearn.decomposition import PCA, FactorAnalysis\n",
    "from sklearn.preprocessing import StandardScaler"
   ]
  },
  {
   "cell_type": "code",
   "execution_count": null,
   "id": "89a4dba9-f6d6-4fb0-b8b4-18be0fdf4dc4",
   "metadata": {},
   "outputs": [],
   "source": [
    "def process_file(path, path_total):\n",
    "    total = pd.read_csv(path_total, dtype={\"nadzsjd\": str}, index_col=0).set_index(\n",
    "        \"nadzsjd\"\n",
    "    )\n",
    "    data = gpd.read_parquet(path).set_index(\"nadzsjd\")\n",
    "\n",
    "    data_total = data.join(total)\n",
    "\n",
    "    data_relative = data_total.drop(data.columns[:12], axis=1)\n",
    "\n",
    "    if (\n",
    "        path\n",
    "        == \"/data/uscuni-restricted/04_spatial_census/nadzsjd_households_2021.parquet\"\n",
    "    ):\n",
    "        data_relative = data_relative.replace(\"d\", np.nan).dropna(axis=0)\n",
    "        data_relative[data_relative.columns.drop(\"geometry\")] = data_relative[\n",
    "            data_relative.columns.drop(\"geometry\")\n",
    "        ].astype(float)\n",
    "    elif (\n",
    "        path\n",
    "        == \"/data/uscuni-restricted/04_spatial_census/nadzsjd_housing_size_facilities_2021.parquet\"\n",
    "    ):\n",
    "        data_relative = data_relative.drop(\n",
    "            columns=\"Průměrná plocha 1 obydleného bytu v m2 v domech celkem\"\n",
    "        )\n",
    "\n",
    "    cols_to_normalize = data_relative.columns.drop([\"Obyvatelstvo celkem\", \"geometry\"])\n",
    "    data_relative[cols_to_normalize] = data_relative[cols_to_normalize].div(\n",
    "        data_relative[\"Obyvatelstvo celkem\"], axis=0\n",
    "    )\n",
    "\n",
    "    data_relative = data_relative.dropna(axis=0)\n",
    "\n",
    "    scaler = StandardScaler()\n",
    "    data_relative[data_relative.columns.drop(\"geometry\")] = scaler.fit_transform(\n",
    "        data_relative.drop(columns=\"geometry\")\n",
    "    )\n",
    "    return data_relative"
   ]
  },
  {
   "cell_type": "code",
   "execution_count": null,
   "id": "057ad1ac-e4da-449f-aff7-4da42353d991",
   "metadata": {},
   "outputs": [],
   "source": [
    "path_total = \"/data/uscuni-restricted/04_spatial_census/total.csv\""
   ]
  },
  {
   "cell_type": "code",
   "execution_count": null,
   "id": "ecca20be-a8c2-4adf-ae3c-ed066a30de47",
   "metadata": {},
   "outputs": [],
   "source": [
    "files = [\n",
    "    \"/data/uscuni-restricted/04_spatial_census/nadzsjd_pop_age_gender_2021.parquet\",\n",
    "    \"/data/uscuni-restricted/04_spatial_census/nadzsjd_pop_ea_gender_2021.parquet\",\n",
    "    \"/data/uscuni-restricted/04_spatial_census/nadzsjd_housing_flats_2021.parquet\",\n",
    "    \"/data/uscuni-restricted/04_spatial_census/nadzsjd_pop_residence_gender_2021.parquet\",\n",
    "    \"/data/uscuni-restricted/04_spatial_census/nadzsjd_emp_type_age_2021.parquet\",\n",
    "    \"/data/uscuni-restricted/04_spatial_census/nadzsjd_education_2021.parquet\",\n",
    "    \"/data/uscuni-restricted/04_spatial_census/nadzsjd_pop_status_gender_2021.parquet\",\n",
    "    \"/data/uscuni-restricted/04_spatial_census/nadzsjd_housing_houses_2021.parquet\",\n",
    "    \"/data/uscuni-restricted/04_spatial_census/nadzsjd_emp_ea_age_2021.parquet\",\n",
    "    \"/data/uscuni-restricted/04_spatial_census/nadzsjd_emp_employed_2021.parquet\",\n",
    "    \"/data/uscuni-restricted/04_spatial_census/nadzsjd_households_2021.parquet\",\n",
    "    \"/data/uscuni-restricted/04_spatial_census/nadzsjd_pop_nationality_2021.parquet\",\n",
    "    \"/data/uscuni-restricted/04_spatial_census/nadzsjd_pop_religion_gender_2021.parquet\",\n",
    "    \"/data/uscuni-restricted/04_spatial_census/nadzsjd_housing_size_facilities_2021.parquet\",\n",
    "]"
   ]
  },
  {
   "cell_type": "code",
   "execution_count": null,
   "id": "db87e360-e415-496e-acb7-7cb33addf561",
   "metadata": {},
   "outputs": [],
   "source": [
    "dfs = {}\n",
    "for file in files:\n",
    "    stem = Path(file).stem\n",
    "    data_relative = process_file(file, path_total)\n",
    "    dfs[stem] = data_relative"
   ]
  },
  {
   "cell_type": "code",
   "execution_count": null,
   "id": "860c5daf-6bf6-479f-9ae2-f8e27ee4d6ba",
   "metadata": {},
   "outputs": [],
   "source": [
    "pca_dict = {\n",
    "    \"nadzsjd_pop_age_gender_2021\": 30,\n",
    "    \"nadzsjd_pop_ea_gender_2021\": 15,\n",
    "    \"nadzsjd_housing_flats_2021\": 4,\n",
    "    \"nadzsjd_pop_residence_gender_2021\": 5,\n",
    "    \"nadzsjd_emp_type_age_2021\": 9,\n",
    "    \"nadzsjd_education_2021\": 7,\n",
    "    \"nadzsjd_pop_status_gender_2021\": 7,\n",
    "    \"nadzsjd_housing_houses_2021\": 3,\n",
    "    \"nadzsjd_emp_ea_age_2021\": 16,\n",
    "    \"nadzsjd_emp_employed_2021\": 16,\n",
    "    \"nadzsjd_households_2021\": 20,\n",
    "    \"nadzsjd_pop_nationality_2021\": 5,\n",
    "    \"nadzsjd_pop_religion_gender_2021\": 5,\n",
    "    \"nadzsjd_housing_size_facilities_2021\": 5,\n",
    "}"
   ]
  },
  {
   "cell_type": "code",
   "execution_count": null,
   "id": "dcd96e13-121b-4a1d-a26e-6828371dec27",
   "metadata": {},
   "outputs": [],
   "source": [
    "for i, j in pca_dict.items():\n",
    "    pca = PCA(n_components=j)\n",
    "    pca.fit(dfs[i].iloc[:, :-2])\n",
    "\n",
    "    # Compute Loadings\n",
    "    loadings = pca.components_.T * np.sqrt(pca.explained_variance_)\n",
    "\n",
    "    # Convert to DataFrame for readability\n",
    "    loadings_df = pd.DataFrame(\n",
    "        loadings.T,\n",
    "        index=[f\"PC{k + 1}\" for k in range(pca.explained_variance_.shape[0])],\n",
    "        columns=dfs[i].iloc[:, :-2].columns,\n",
    "    )\n",
    "\n",
    "    # Transform and build DataFrame\n",
    "    transformed = pca.transform(dfs[i].iloc[:, :-2])\n",
    "    df_pca = pd.DataFrame(\n",
    "        transformed,\n",
    "        index=dfs[i].iloc[:, :-2].index,\n",
    "        columns=[f\"{i}_PC{k + 1}\" for k in range(transformed.shape[1])],\n",
    "    ).set_geometry(dfs[i].geometry)\n",
    "\n",
    "    # Save to Parquet\n",
    "    df_pca.to_parquet(f\"/data/uscuni-restricted/05_pcs/{i}.parquet\")"
   ]
  }
 ],
 "metadata": {
  "kernelspec": {
   "display_name": "Python 3 (ipykernel)",
   "language": "python",
   "name": "python3"
  },
  "language_info": {
   "codemirror_mode": {
    "name": "ipython",
    "version": 3
   },
   "file_extension": ".py",
   "mimetype": "text/x-python",
   "name": "python",
   "nbconvert_exporter": "python",
   "pygments_lexer": "ipython3"
  }
 },
 "nbformat": 4,
 "nbformat_minor": 5
}
