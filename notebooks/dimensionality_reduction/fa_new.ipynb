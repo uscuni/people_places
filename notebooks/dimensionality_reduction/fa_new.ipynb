{
 "cells": [
  {
   "cell_type": "code",
   "execution_count": null,
   "id": "1895aa2a-5835-4c93-882e-c3abb0dd9942",
   "metadata": {},
   "outputs": [],
   "source": [
    "from glob import glob\n",
    "from pathlib import Path\n",
    "\n",
    "import geopandas as gpd\n",
    "import matplotlib.pyplot as plt\n",
    "import numpy as np\n",
    "import pandas as pd\n",
    "from factor_analyzer import FactorAnalyzer\n",
    "from sklearn.decomposition import PCA, FactorAnalysis\n",
    "from sklearn.preprocessing import StandardScaler"
   ]
  },
  {
   "cell_type": "code",
   "execution_count": null,
   "id": "89a4dba9-f6d6-4fb0-b8b4-18be0fdf4dc4",
   "metadata": {},
   "outputs": [],
   "source": [
    "def process_file(path, path_total):\n",
    "    # Open data for total population\n",
    "    total = pd.read_csv(path_total, dtype={\"nadzsjd\": str}, index_col=0).set_index(\n",
    "        \"nadzsjd\"\n",
    "    )\n",
    "    # Open data diles\n",
    "    data = gpd.read_parquet(path).set_index(\"nadzsjd\")\n",
    "    # Merge data\n",
    "    data_total = data.join(total)\n",
    "    # Remove unnecessary columns\n",
    "    data_relative = data_total.drop(data.columns[:12], axis=1)\n",
    "    # Do some preprocessing\n",
    "    data_relative = data_relative.replace(\"d\", np.nan).dropna(axis=0)\n",
    "    data_relative[data_relative.columns.drop(\"geometry\")] = data_relative[\n",
    "        data_relative.columns.drop(\"geometry\")\n",
    "    ].astype(float)\n",
    "\n",
    "    # Normalize the data\n",
    "    cols_to_normalize = data_relative.columns.drop([\"Obyvatelstvo celkem\", \"geometry\"])\n",
    "    data_relative[cols_to_normalize] = data_relative[cols_to_normalize].div(\n",
    "        data_relative[\"Obyvatelstvo celkem\"], axis=0\n",
    "    )\n",
    "\n",
    "    # Drop NaN values\n",
    "    data_relative = data_relative.dropna(axis=0)\n",
    "\n",
    "    scaler = StandardScaler()\n",
    "    data_relative[cols_to_normalize] = scaler.fit_transform(\n",
    "        data_relative[cols_to_normalize]\n",
    "    )\n",
    "\n",
    "    return data_relative"
   ]
  },
  {
   "cell_type": "code",
   "execution_count": null,
   "id": "057ad1ac-e4da-449f-aff7-4da42353d991",
   "metadata": {},
   "outputs": [],
   "source": [
    "path_total = \"/data/uscuni-restricted/04_spatial_census/total.csv\""
   ]
  },
  {
   "cell_type": "code",
   "execution_count": null,
   "id": "816f9058-f338-4673-a583-4d16f090622d",
   "metadata": {},
   "outputs": [],
   "source": [
    "file = \"/data/uscuni-restricted/04_spatial_census_2/_merged_census_2021.parquet\""
   ]
  },
  {
   "cell_type": "code",
   "execution_count": null,
   "id": "7e77554f-2076-4a9f-aa6b-fa9163838f24",
   "metadata": {},
   "outputs": [],
   "source": [
    "data_relative = process_file(file, path_total)"
   ]
  },
  {
   "cell_type": "code",
   "execution_count": null,
   "id": "e9ef5c3d-29d1-4a72-8541-fe6cb83b2be4",
   "metadata": {},
   "outputs": [],
   "source": [
    "fa = FactorAnalyzer()\n",
    "fa.fit(data_relative.drop(columns=[\"Obyvatelstvo celkem\", \"geometry\"]))"
   ]
  },
  {
   "cell_type": "code",
   "execution_count": null,
   "id": "854fc56b-30d8-4148-af95-f94f57e49a97",
   "metadata": {},
   "outputs": [],
   "source": []
  },
  {
   "cell_type": "code",
   "execution_count": null,
   "id": "5cb9afb3-3ce7-49f6-a649-5c763006a4a0",
   "metadata": {},
   "outputs": [],
   "source": [
    "ev, _ = fa.get_eigenvalues()"
   ]
  },
  {
   "cell_type": "code",
   "execution_count": null,
   "id": "fbe15b55-5c81-49d9-89d7-15a2c66b81bf",
   "metadata": {},
   "outputs": [],
   "source": [
    "# Plot factors and eigenvalues\n",
    "plt.plot(range(1, len(ev) + 1), ev, marker=\"o\")\n",
    "\n",
    "plt.axhline(1, color=\"r\", linestyle=\"--\")\n",
    "\n",
    "plt.xlabel(\"Factors\")\n",
    "plt.ylabel(\"Eigenvalue\")\n",
    "plt.grid()\n",
    "plt.show()"
   ]
  },
  {
   "cell_type": "code",
   "execution_count": null,
   "id": "e64be636-ddfa-4122-87b9-f7e48c0d396d",
   "metadata": {},
   "outputs": [],
   "source": [
    "suggested = sum(ev > 1)\n",
    "print(f\" Suggested number of components (eigenvalue > 1): {suggested}\")"
   ]
  },
  {
   "cell_type": "code",
   "execution_count": null,
   "id": "e988d2c5-ad5e-4a40-af08-659fb7de5c4e",
   "metadata": {},
   "outputs": [],
   "source": [
    "fa = FactorAnalysis(n_components=35, max_iter=10000)\n",
    "fa.fit(data_relative.drop(columns=[\"Obyvatelstvo celkem\", \"geometry\"]))\n",
    "# Get Loadings directly from components_\n",
    "loadings = fa.components_.T\n",
    "\n",
    "# Convert to DataFrame for readability\n",
    "loadings_df = pd.DataFrame(\n",
    "    loadings.T,\n",
    "    columns=data_relative.drop(columns=[\"Obyvatelstvo celkem\", \"geometry\"]).columns,\n",
    ")\n",
    "loadings_df"
   ]
  },
  {
   "cell_type": "code",
   "execution_count": null,
   "id": "2e4acaa2-ce47-441a-8f64-b24e43f5102e",
   "metadata": {},
   "outputs": [],
   "source": [
    "# Transform and build DataFrame\n",
    "transformed = fa.transform(\n",
    "    data_relative.drop(columns=[\"Obyvatelstvo celkem\", \"geometry\"])\n",
    ")\n",
    "\n",
    "df_fa = pd.DataFrame(\n",
    "    transformed,\n",
    "    index=data_relative.drop(columns=[\"Obyvatelstvo celkem\", \"geometry\"]).index,\n",
    ").set_geometry(data_relative.geometry)\n",
    "\n",
    "df_fa.columns = df_fa.columns.astype(str)\n",
    "# Save to Parquet\n",
    "df_fa.to_parquet(\"/data/uscuni-restricted/05_fa/fa_new35.parquet\")"
   ]
  },
  {
   "cell_type": "code",
   "execution_count": null,
   "id": "44ecf30e-d668-45cc-a0bd-e2290f518332",
   "metadata": {},
   "outputs": [],
   "source": []
  }
 ],
 "metadata": {
  "kernelspec": {
   "display_name": "Python 3 (ipykernel)",
   "language": "python",
   "name": "python3"
  },
  "language_info": {
   "codemirror_mode": {
    "name": "ipython",
    "version": 3
   },
   "file_extension": ".py",
   "mimetype": "text/x-python",
   "name": "python",
   "nbconvert_exporter": "python",
   "pygments_lexer": "ipython3"
  }
 },
 "nbformat": 4,
 "nbformat_minor": 5
}
