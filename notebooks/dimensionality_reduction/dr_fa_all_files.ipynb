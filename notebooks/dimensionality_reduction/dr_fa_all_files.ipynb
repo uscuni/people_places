{
 "cells": [
  {
   "cell_type": "code",
   "execution_count": null,
   "id": "1895aa2a-5835-4c93-882e-c3abb0dd9942",
   "metadata": {},
   "outputs": [],
   "source": [
    "from glob import glob\n",
    "from pathlib import Path\n",
    "\n",
    "import geopandas as gpd\n",
    "import matplotlib.pyplot as plt\n",
    "import numpy as np\n",
    "import pandas as pd\n",
    "from factor_analyzer import FactorAnalyzer\n",
    "from sklearn.decomposition import PCA, FactorAnalysis\n",
    "from sklearn.preprocessing import StandardScaler"
   ]
  },
  {
   "cell_type": "code",
   "execution_count": null,
   "id": "89a4dba9-f6d6-4fb0-b8b4-18be0fdf4dc4",
   "metadata": {},
   "outputs": [],
   "source": [
    "def process_file(path, path_total):\n",
    "    total = pd.read_csv(path_total, dtype={\"nadzsjd\": str}, index_col=0).set_index(\n",
    "        \"nadzsjd\"\n",
    "    )\n",
    "    data = gpd.read_parquet(path).set_index(\"nadzsjd\")\n",
    "\n",
    "    data_total = data.join(total)\n",
    "\n",
    "    data_relative = data_total.drop(data.columns[:12], axis=1)\n",
    "\n",
    "    if (\n",
    "        path\n",
    "        == \"/data/uscuni-restricted/04_spatial_census/nadzsjd_households_2021.parquet\"\n",
    "    ):\n",
    "        data_relative = data_relative.replace(\"d\", np.nan).dropna(axis=0)\n",
    "        data_relative[data_relative.columns.drop(\"geometry\")] = data_relative[\n",
    "            data_relative.columns.drop(\"geometry\")\n",
    "        ].astype(float)\n",
    "    elif (\n",
    "        path\n",
    "        == \"/data/uscuni-restricted/04_spatial_census/nadzsjd_housing_size_facilities_2021.parquet\"\n",
    "    ):\n",
    "        data_relative = data_relative.drop(\n",
    "            columns=[\n",
    "                \"Průměrná plocha 1 obydleného bytu v m2 v domech celkem\",\n",
    "                \"Počet obytných místností(4 m2 a více) obydlených bytů v domech celkem\",\n",
    "                \"Celková plocha obydlených bytů v m2 v domech celkem\",\n",
    "            ]\n",
    "        )\n",
    "    elif (\n",
    "        path\n",
    "        == \"/data/uscuni-restricted/04_spatial_census/nadzsjd_housing_flats_2021.parquet\"\n",
    "    ):\n",
    "        data_relative = data_relative.drop(columns=\"Neobydlené byty celkem\")\n",
    "\n",
    "    cols_to_normalize = data_relative.columns.drop([\"Obyvatelstvo celkem\", \"geometry\"])\n",
    "    data_relative[cols_to_normalize] = data_relative[cols_to_normalize].div(\n",
    "        data_relative[\"Obyvatelstvo celkem\"], axis=0\n",
    "    )\n",
    "\n",
    "    data_relative = data_relative.dropna(axis=0)\n",
    "\n",
    "    return data_relative"
   ]
  },
  {
   "cell_type": "code",
   "execution_count": null,
   "id": "057ad1ac-e4da-449f-aff7-4da42353d991",
   "metadata": {},
   "outputs": [],
   "source": [
    "path_total = \"/data/uscuni-restricted/04_spatial_census/total.csv\""
   ]
  },
  {
   "cell_type": "code",
   "execution_count": null,
   "id": "ecca20be-a8c2-4adf-ae3c-ed066a30de47",
   "metadata": {},
   "outputs": [],
   "source": [
    "files = [\n",
    "    \"/data/uscuni-restricted/04_spatial_census/nadzsjd_pop_age_gender_2021.parquet\",\n",
    "    \"/data/uscuni-restricted/04_spatial_census/nadzsjd_pop_ea_gender_2021.parquet\",\n",
    "    \"/data/uscuni-restricted/04_spatial_census/nadzsjd_housing_flats_2021.parquet\",\n",
    "    \"/data/uscuni-restricted/04_spatial_census/nadzsjd_pop_residence_gender_2021.parquet\",\n",
    "    \"/data/uscuni-restricted/04_spatial_census/nadzsjd_emp_type_age_2021.parquet\",\n",
    "    \"/data/uscuni-restricted/04_spatial_census/nadzsjd_education_2021.parquet\",\n",
    "    \"/data/uscuni-restricted/04_spatial_census/nadzsjd_pop_status_gender_2021.parquet\",\n",
    "    \"/data/uscuni-restricted/04_spatial_census/nadzsjd_housing_houses_2021.parquet\",\n",
    "    \"/data/uscuni-restricted/04_spatial_census/nadzsjd_emp_ea_age_2021.parquet\",\n",
    "    \"/data/uscuni-restricted/04_spatial_census/nadzsjd_emp_employed_2021.parquet\",\n",
    "    \"/data/uscuni-restricted/04_spatial_census/nadzsjd_households_2021.parquet\",\n",
    "    \"/data/uscuni-restricted/04_spatial_census/nadzsjd_pop_nationality_2021.parquet\",\n",
    "    \"/data/uscuni-restricted/04_spatial_census/nadzsjd_pop_religion_gender_2021.parquet\",\n",
    "    \"/data/uscuni-restricted/04_spatial_census/nadzsjd_housing_size_facilities_2021.parquet\",\n",
    "]"
   ]
  },
  {
   "cell_type": "code",
   "execution_count": null,
   "id": "db87e360-e415-496e-acb7-7cb33addf561",
   "metadata": {},
   "outputs": [],
   "source": [
    "dfs = {}\n",
    "for file in files:\n",
    "    stem = Path(file).stem\n",
    "    data_relative = process_file(file, path_total)\n",
    "    dfs[stem] = data_relative"
   ]
  },
  {
   "cell_type": "code",
   "execution_count": null,
   "id": "8a6bf4ee-272e-477f-85d7-308a30e6fcd2",
   "metadata": {},
   "outputs": [],
   "source": [
    "fa_dict = {\n",
    "    \"nadzsjd_pop_age_gender_2021\": 0,\n",
    "    \"nadzsjd_pop_ea_gender_2021\": 0,\n",
    "    \"nadzsjd_housing_flats_2021\": 0,\n",
    "    \"nadzsjd_pop_residence_gender_2021\": 0,\n",
    "    \"nadzsjd_emp_type_age_2021\": 0,\n",
    "    \"nadzsjd_education_2021\": 0,\n",
    "    \"nadzsjd_pop_status_gender_2021\": 0,\n",
    "    \"nadzsjd_housing_houses_2021\": 0,\n",
    "    \"nadzsjd_emp_ea_age_2021\": 0,\n",
    "    \"nadzsjd_emp_employed_2021\": 0,\n",
    "    \"nadzsjd_households_2021\": 0,\n",
    "    \"nadzsjd_pop_nationality_2021\": 0,\n",
    "    \"nadzsjd_pop_religion_gender_2021\": 0,\n",
    "    \"nadzsjd_housing_size_facilities_2021\": 0,\n",
    "}"
   ]
  },
  {
   "cell_type": "code",
   "execution_count": null,
   "id": "e9ef5c3d-29d1-4a72-8541-fe6cb83b2be4",
   "metadata": {},
   "outputs": [],
   "source": [
    "for i in dfs:\n",
    "    fa = FactorAnalyzer()\n",
    "    fa.fit(dfs[i].iloc[:, :-2])\n",
    "    ev, _ = fa.get_eigenvalues()\n",
    "\n",
    "    plt.plot(range(1, len(ev) + 1), ev, marker=\"o\")\n",
    "    plt.axhline(1, color=\"r\", linestyle=\"--\")\n",
    "    plt.title(f\"Scree Plot for {i}\")\n",
    "    plt.xlabel(\"Factors\")\n",
    "    plt.ylabel(\"Eigenvalue\")\n",
    "    plt.grid()\n",
    "    plt.show()\n",
    "\n",
    "    suggested = sum(ev > 1)\n",
    "    print(f\"{i}: Suggested number of components (eigenvalue > 1): {suggested}\")\n",
    "\n",
    "    # Append the suggested number of components to the dictionary\n",
    "    fa_dict[i] = suggested + 1\n",
    "\n",
    "fa_dict"
   ]
  },
  {
   "cell_type": "code",
   "execution_count": null,
   "id": "307012c5-52fb-4c0a-bc49-bf3c154262be",
   "metadata": {},
   "outputs": [],
   "source": [
    "for i, j in fa_dict.items():\n",
    "    fa = FactorAnalysis(n_components=j, max_iter=10000)\n",
    "    fa.fit(dfs[i].iloc[:, :-2])\n",
    "\n",
    "    # Get Loadings directly from components_\n",
    "    loadings = fa.components_.T\n",
    "\n",
    "    # Convert to DataFrame for readability\n",
    "    loadings_df = pd.DataFrame(\n",
    "        loadings.T,\n",
    "        index=[f\"Factor{k + 1}\" for k in range(j)],\n",
    "        columns=dfs[i].iloc[:, :-2].columns,\n",
    "    )\n",
    "\n",
    "    # Transform and build DataFrame\n",
    "    transformed = fa.transform(dfs[i].iloc[:, :-2])\n",
    "    df_fa = pd.DataFrame(\n",
    "        transformed,\n",
    "        index=dfs[i].iloc[:, :-2].index,\n",
    "        columns=[f\"{i}_Factor{k + 1}\" for k in range(transformed.shape[1])],\n",
    "    ).set_geometry(dfs[i].geometry)\n",
    "\n",
    "    # Save to Parquet\n",
    "    df_fa.to_parquet(f\"/data/uscuni-restricted/05_fa/{i}.parquet\")"
   ]
  },
  {
   "cell_type": "code",
   "execution_count": null,
   "id": "64dad8ca-46d6-46fe-9b86-e0854becd7a4",
   "metadata": {},
   "outputs": [],
   "source": [
    "all_files = glob(\"/data/uscuni-restricted/05_fa/*.parquet\")"
   ]
  },
  {
   "cell_type": "code",
   "execution_count": null,
   "id": "6ac13243-923d-4587-befe-1e8dda94ccb1",
   "metadata": {},
   "outputs": [],
   "source": [
    "all_files = [\n",
    "    \"/data/uscuni-restricted/05_fa/nadzsjd_pop_age_gender_2021.parquet\",\n",
    "    \"/data/uscuni-restricted/05_fa/nadzsjd_pop_ea_gender_2021.parquet\",\n",
    "    \"/data/uscuni-restricted/05_fa/nadzsjd_housing_flats_2021.parquet\",\n",
    "    \"/data/uscuni-restricted/05_fa/nadzsjd_pop_residence_gender_2021.parquet\",\n",
    "    \"/data/uscuni-restricted/05_fa/nadzsjd_emp_type_age_2021.parquet\",\n",
    "    \"/data/uscuni-restricted/05_fa/nadzsjd_education_2021.parquet\",\n",
    "    \"/data/uscuni-restricted/05_fa/nadzsjd_pop_status_gender_2021.parquet\",\n",
    "    \"/data/uscuni-restricted/05_fa/nadzsjd_housing_houses_2021.parquet\",\n",
    "    \"/data/uscuni-restricted/05_fa/nadzsjd_emp_ea_age_2021.parquet\",\n",
    "    \"/data/uscuni-restricted/05_fa/nadzsjd_emp_employed_2021.parquet\",\n",
    "    \"/data/uscuni-restricted/05_fa/nadzsjd_pop_nationality_2021.parquet\",\n",
    "    \"/data/uscuni-restricted/05_fa/nadzsjd_households_2021.parquet\",\n",
    "    \"/data/uscuni-restricted/05_fa/nadzsjd_pop_religion_gender_2021.parquet\",\n",
    "    \"/data/uscuni-restricted/05_fa/nadzsjd_housing_size_facilities_2021.parquet\",\n",
    "]"
   ]
  },
  {
   "cell_type": "code",
   "execution_count": null,
   "id": "a0fa634d-8c2e-4fdb-a465-bf8fa08e4b8e",
   "metadata": {},
   "outputs": [],
   "source": [
    "dfs = []\n",
    "\n",
    "# Process all files\n",
    "for file in all_files:\n",
    "    dfs.append(gpd.read_parquet(file))"
   ]
  },
  {
   "cell_type": "code",
   "execution_count": null,
   "id": "64e66518-f2a2-484b-a2c1-40858b2e0c5a",
   "metadata": {},
   "outputs": [],
   "source": [
    "dfs = [df.set_geometry(df.geometry) for df in dfs]\n",
    "\n",
    "# Drop additional geometry columns before concatenation\n",
    "for i in range(1, len(dfs)):\n",
    "    dfs[i] = dfs[i].drop(columns=[\"geometry\"])\n",
    "\n",
    "# Concatenate along columns\n",
    "concat_df = pd.concat(dfs, axis=1)\n",
    "\n",
    "# Reassign geometry column after concatenation\n",
    "concat_df = gpd.GeoDataFrame(concat_df, geometry=dfs[0].geometry)"
   ]
  },
  {
   "cell_type": "code",
   "execution_count": null,
   "id": "a82f392d-002c-4333-9cbb-b011b0bc790e",
   "metadata": {},
   "outputs": [],
   "source": [
    "# Concatenate all datasets\n",
    "concat_df = pd.concat(dfs, axis=1)"
   ]
  },
  {
   "cell_type": "code",
   "execution_count": null,
   "id": "bb206d40-b833-4ab4-8df2-d50c753d211a",
   "metadata": {},
   "outputs": [],
   "source": [
    "concat_df.to_parquet(\"/data/uscuni-restricted/05_fa/merged_fa.parquet\")"
   ]
  },
  {
   "cell_type": "code",
   "execution_count": null,
   "id": "b4bc3c6a-2732-45d9-97ea-49dff9f925bc",
   "metadata": {},
   "outputs": [],
   "source": []
  }
 ],
 "metadata": {
  "kernelspec": {
   "display_name": "Python 3 (ipykernel)",
   "language": "python",
   "name": "python3"
  },
  "language_info": {
   "codemirror_mode": {
    "name": "ipython",
    "version": 3
   },
   "file_extension": ".py",
   "mimetype": "text/x-python",
   "name": "python",
   "nbconvert_exporter": "python",
   "pygments_lexer": "ipython3"
  }
 },
 "nbformat": 4,
 "nbformat_minor": 5
}
