{
 "cells": [
  {
   "cell_type": "code",
   "execution_count": null,
   "id": "1895aa2a-5835-4c93-882e-c3abb0dd9942",
   "metadata": {},
   "outputs": [],
   "source": [
    "from glob import glob\n",
    "from pathlib import Path\n",
    "\n",
    "import geopandas as gpd\n",
    "import matplotlib.pyplot as plt\n",
    "import numpy as np\n",
    "import pandas as pd\n",
    "from sklearn.decomposition import PCA, FactorAnalysis\n",
    "from sklearn.preprocessing import StandardScaler"
   ]
  },
  {
   "cell_type": "code",
   "execution_count": null,
   "id": "89a4dba9-f6d6-4fb0-b8b4-18be0fdf4dc4",
   "metadata": {},
   "outputs": [],
   "source": [
    "def process_file(path, path_total):\n",
    "    total = pd.read_csv(path_total, dtype={\"nadzsjd\": str}, index_col=0).set_index(\n",
    "        \"nadzsjd\"\n",
    "    )\n",
    "    data = gpd.read_parquet(path).set_index(\"nadzsjd\")\n",
    "\n",
    "    data_total = data.join(total)\n",
    "\n",
    "    data_relative = data_total.drop(data.columns[:12], axis=1)\n",
    "\n",
    "    if (\n",
    "        path\n",
    "        == \"/data/uscuni-restricted/04_spatial_census/nadzsjd_households_2021.parquet\"\n",
    "    ):\n",
    "        data_relative = data_relative.replace(\"d\", np.nan).dropna(axis=0)\n",
    "        data_relative[data_relative.columns.drop(\"geometry\")] = data_relative[\n",
    "            data_relative.columns.drop(\"geometry\")\n",
    "        ].astype(float)\n",
    "    elif (\n",
    "        path\n",
    "        == \"/data/uscuni-restricted/04_spatial_census/nadzsjd_housing_size_facilities_2021.parquet\"\n",
    "    ):\n",
    "        data_relative = data_relative.drop(\n",
    "            columns=[\n",
    "                \"Průměrná plocha 1 obydleného bytu v m2 v domech celkem\",\n",
    "                \"Počet obytných místností(4 m2 a více) obydlených bytů v domech celkem\",\n",
    "                \"Celková plocha obydlených bytů v m2 v domech celkem\",\n",
    "            ]\n",
    "        )\n",
    "    elif (\n",
    "        path\n",
    "        == \"/data/uscuni-restricted/04_spatial_census/nadzsjd_housing_flats_2021.parquet\"\n",
    "    ):\n",
    "        data_relative = data_relative.drop(columns=\"Neobydlené byty celkem\")\n",
    "\n",
    "    cols_to_normalize = data_relative.columns.drop([\"Obyvatelstvo celkem\", \"geometry\"])\n",
    "    data_relative[cols_to_normalize] = data_relative[cols_to_normalize].div(\n",
    "        data_relative[\"Obyvatelstvo celkem\"], axis=0\n",
    "    )\n",
    "\n",
    "    data_relative = data_relative.dropna(axis=0)\n",
    "\n",
    "    return data_relative"
   ]
  },
  {
   "cell_type": "code",
   "execution_count": null,
   "id": "057ad1ac-e4da-449f-aff7-4da42353d991",
   "metadata": {},
   "outputs": [],
   "source": [
    "path_total = \"/data/uscuni-restricted/04_spatial_census/total.csv\""
   ]
  },
  {
   "cell_type": "code",
   "execution_count": null,
   "id": "ecca20be-a8c2-4adf-ae3c-ed066a30de47",
   "metadata": {},
   "outputs": [],
   "source": [
    "files = [\n",
    "    \"/data/uscuni-restricted/04_spatial_census/nadzsjd_pop_age_gender_2021.parquet\",\n",
    "    \"/data/uscuni-restricted/04_spatial_census/nadzsjd_pop_ea_gender_2021.parquet\",\n",
    "    \"/data/uscuni-restricted/04_spatial_census/nadzsjd_housing_flats_2021.parquet\",\n",
    "    \"/data/uscuni-restricted/04_spatial_census/nadzsjd_pop_residence_gender_2021.parquet\",\n",
    "    \"/data/uscuni-restricted/04_spatial_census/nadzsjd_emp_type_age_2021.parquet\",\n",
    "    \"/data/uscuni-restricted/04_spatial_census/nadzsjd_education_2021.parquet\",\n",
    "    \"/data/uscuni-restricted/04_spatial_census/nadzsjd_pop_status_gender_2021.parquet\",\n",
    "    \"/data/uscuni-restricted/04_spatial_census/nadzsjd_housing_houses_2021.parquet\",\n",
    "    \"/data/uscuni-restricted/04_spatial_census/nadzsjd_emp_ea_age_2021.parquet\",\n",
    "    \"/data/uscuni-restricted/04_spatial_census/nadzsjd_emp_employed_2021.parquet\",\n",
    "    \"/data/uscuni-restricted/04_spatial_census/nadzsjd_households_2021.parquet\",\n",
    "    \"/data/uscuni-restricted/04_spatial_census/nadzsjd_pop_nationality_2021.parquet\",\n",
    "    \"/data/uscuni-restricted/04_spatial_census/nadzsjd_pop_religion_gender_2021.parquet\",\n",
    "    \"/data/uscuni-restricted/04_spatial_census/nadzsjd_housing_size_facilities_2021.parquet\",\n",
    "]"
   ]
  },
  {
   "cell_type": "code",
   "execution_count": null,
   "id": "db87e360-e415-496e-acb7-7cb33addf561",
   "metadata": {},
   "outputs": [],
   "source": [
    "dfs = {}\n",
    "for file in files:\n",
    "    stem = Path(file).stem\n",
    "    data_relative = process_file(file, path_total)\n",
    "    dfs[stem] = data_relative"
   ]
  },
  {
   "cell_type": "code",
   "execution_count": null,
   "id": "20d0e8b5-3af0-4e70-bde0-9bc029bdaed5",
   "metadata": {},
   "outputs": [],
   "source": [
    "# Iterate over the processed data in dfs\n",
    "for i, df in dfs.items():\n",
    "    pca = PCA()\n",
    "    pca.fit(df.iloc[:, :-2])\n",
    "\n",
    "    # Calculate cumulative explained variance\n",
    "    cumulative_variance = np.cumsum(pca.explained_variance_ratio_)\n",
    "\n",
    "    # Find the number of components that explain at least 85% of the variance\n",
    "    n_components_85 = np.argmax(cumulative_variance >= 0.85) + 1\n",
    "\n",
    "    # Fit PCA again with the optimal number of components\n",
    "    pca = PCA(n_components=n_components_85)\n",
    "    pca.fit(df.iloc[:, :-2])\n",
    "\n",
    "    # Compute Loadings\n",
    "    loadings = pca.components_.T * np.sqrt(pca.explained_variance_)\n",
    "\n",
    "    # Convert to DataFrame for readability\n",
    "    loadings_df = pd.DataFrame(\n",
    "        loadings.T,\n",
    "        index=[f\"PC{k + 1}\" for k in range(pca.explained_variance_.shape[0])],\n",
    "        columns=df.iloc[:, :-2].columns,\n",
    "    )\n",
    "\n",
    "    # Transform and build DataFrame\n",
    "    transformed = pca.transform(df.iloc[:, :-2])\n",
    "    df_pca = pd.DataFrame(\n",
    "        transformed,\n",
    "        index=df.iloc[:, :-2].index,\n",
    "        columns=[f\"{i}_PC{k + 1}\" for k in range(transformed.shape[1])],\n",
    "    ).set_geometry(df.geometry)\n",
    "\n",
    "    # Save to Parquet\n",
    "    df_pca.to_parquet(f\"/data/uscuni-restricted/05_pcs/{i}.parquet\")"
   ]
  },
  {
   "cell_type": "code",
   "execution_count": null,
   "id": "961b2a12-3e24-4f64-a0d0-817181e72da1",
   "metadata": {},
   "outputs": [],
   "source": [
    "all_files = glob(\"/data/uscuni-restricted/05_pcs/*.parquet\")"
   ]
  },
  {
   "cell_type": "code",
   "execution_count": null,
   "id": "216e94de-b749-41fb-83ec-c7476cad4270",
   "metadata": {},
   "outputs": [],
   "source": [
    "all_files = [\n",
    "    \"/data/uscuni-restricted/05_pcs/nadzsjd_pop_age_gender_2021.parquet\",\n",
    "    \"/data/uscuni-restricted/05_pcs/nadzsjd_pop_ea_gender_2021.parquet\",\n",
    "    \"/data/uscuni-restricted/05_pcs/nadzsjd_housing_flats_2021.parquet\",\n",
    "    \"/data/uscuni-restricted/05_pcs/nadzsjd_pop_residence_gender_2021.parquet\",\n",
    "    \"/data/uscuni-restricted/05_pcs/nadzsjd_emp_type_age_2021.parquet\",\n",
    "    \"/data/uscuni-restricted/05_pcs/nadzsjd_education_2021.parquet\",\n",
    "    \"/data/uscuni-restricted/05_pcs/nadzsjd_pop_status_gender_2021.parquet\",\n",
    "    \"/data/uscuni-restricted/05_pcs/nadzsjd_housing_houses_2021.parquet\",\n",
    "    \"/data/uscuni-restricted/05_pcs/nadzsjd_emp_ea_age_2021.parquet\",\n",
    "    \"/data/uscuni-restricted/05_pcs/nadzsjd_emp_employed_2021.parquet\",\n",
    "    \"/data/uscuni-restricted/05_pcs/nadzsjd_pop_nationality_2021.parquet\",\n",
    "    \"/data/uscuni-restricted/05_pcs/nadzsjd_households_2021.parquet\",\n",
    "    \"/data/uscuni-restricted/05_pcs/nadzsjd_pop_religion_gender_2021.parquet\",\n",
    "    \"/data/uscuni-restricted/05_pcs/nadzsjd_housing_size_facilities_2021.parquet\",\n",
    "]"
   ]
  },
  {
   "cell_type": "code",
   "execution_count": null,
   "id": "2fd773ca-1d39-4e99-a9ba-3308e3b37ac4",
   "metadata": {},
   "outputs": [],
   "source": [
    "dfs = []\n",
    "\n",
    "# Process all files\n",
    "for file in all_files:\n",
    "    dfs.append(gpd.read_parquet(file))"
   ]
  },
  {
   "cell_type": "code",
   "execution_count": null,
   "id": "3f30eb65-866b-44ff-9fd4-93e9b96e3798",
   "metadata": {},
   "outputs": [],
   "source": [
    "dfs = [df.set_geometry(df.geometry) for df in dfs]\n",
    "\n",
    "# Drop additional geometry columns before concatenation\n",
    "for i in range(1, len(dfs)):\n",
    "    dfs[i] = dfs[i].drop(columns=[\"geometry\"])\n",
    "\n",
    "# Concatenate along columns\n",
    "concat_df = pd.concat(dfs, axis=1)\n",
    "\n",
    "# Reassign geometry column after concatenation\n",
    "concat_df = gpd.GeoDataFrame(concat_df, geometry=dfs[0].geometry)"
   ]
  },
  {
   "cell_type": "code",
   "execution_count": null,
   "id": "24bc8284-01d9-441c-bca7-4b33db83f8a6",
   "metadata": {},
   "outputs": [],
   "source": [
    "# Concatenate all datasets\n",
    "concat_df = pd.concat(dfs, axis=1)"
   ]
  },
  {
   "cell_type": "code",
   "execution_count": null,
   "id": "02c569b7-5dbf-47b3-b24e-eba571cb96d4",
   "metadata": {},
   "outputs": [],
   "source": [
    "concat_df.to_parquet(\"/data/uscuni-restricted/05_pcs/merged_pcs.parquet\")"
   ]
  },
  {
   "cell_type": "code",
   "execution_count": null,
   "id": "c43da0bd-c7a5-4d6f-86f0-c98f7edd32c7",
   "metadata": {},
   "outputs": [],
   "source": []
  }
 ],
 "metadata": {
  "kernelspec": {
   "display_name": "Python 3 (ipykernel)",
   "language": "python",
   "name": "python3"
  },
  "language_info": {
   "codemirror_mode": {
    "name": "ipython",
    "version": 3
   },
   "file_extension": ".py",
   "mimetype": "text/x-python",
   "name": "python",
   "nbconvert_exporter": "python",
   "pygments_lexer": "ipython3"
  }
 },
 "nbformat": 4,
 "nbformat_minor": 5
}
