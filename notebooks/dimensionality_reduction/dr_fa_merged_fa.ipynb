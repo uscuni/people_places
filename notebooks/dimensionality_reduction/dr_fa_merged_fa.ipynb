{
 "cells": [
  {
   "cell_type": "code",
   "execution_count": null,
   "id": "4f88b7b6-b6f4-457a-9219-2d1e7be31dfd",
   "metadata": {},
   "outputs": [],
   "source": [
    "import geopandas as gpd\n",
    "import matplotlib.pyplot as plt\n",
    "import numpy as np\n",
    "import pandas as pd\n",
    "from sklearn.decomposition import PCA, FactorAnalysis\n",
    "from sklearn.preprocessing import StandardScaler"
   ]
  },
  {
   "cell_type": "code",
   "execution_count": null,
   "id": "4359b75b-0ad3-4d55-bdd2-4bd52b97770f",
   "metadata": {},
   "outputs": [],
   "source": [
    "data = gpd.read_parquet(\"/data/uscuni-restricted/05_fa/merged_fa.parquet\")"
   ]
  },
  {
   "cell_type": "code",
   "execution_count": null,
   "id": "0ed7b984-b66c-41a2-9ff2-a0fb0981a101",
   "metadata": {},
   "outputs": [],
   "source": [
    "data = data.dropna(axis=0)"
   ]
  },
  {
   "cell_type": "code",
   "execution_count": null,
   "id": "c0c38d1b-2aa9-4abe-9dc6-d0efd2754023",
   "metadata": {},
   "outputs": [],
   "source": [
    "X = data.drop(columns=\"geometry\")\n",
    "\n",
    "pca = PCA().fit(data.drop(columns=\"geometry\"))\n",
    "eigenvalues = pca.explained_variance_\n",
    "\n",
    "# Scree plot\n",
    "plt.figure(figsize=(15, 15))\n",
    "plt.plot(range(1, len(eigenvalues) + 1), eigenvalues, marker=\"o\")\n",
    "plt.axhline(1, color=\"r\", linestyle=\"--\", label=\"Eigenvalue = 1\")\n",
    "plt.title(\"Scree Plot for components of components\")\n",
    "plt.xlabel(\"Component Number\")\n",
    "plt.ylabel(\"Eigenvalue\")\n",
    "plt.legend()\n",
    "plt.grid()\n",
    "plt.show()\n",
    "\n",
    "# Print suggested number of components (Kaiser rule)\n",
    "suggested = sum(eigenvalues > 1)\n",
    "print(f\"Suggested number of components (eigenvalue > 1): {suggested}\")"
   ]
  },
  {
   "cell_type": "code",
   "execution_count": null,
   "id": "0b7bc35c-ef45-46e1-8675-3f6e1aaaccb7",
   "metadata": {},
   "outputs": [],
   "source": [
    "fa = FactorAnalysis(n_components=17, max_iter=10000)\n",
    "fa.fit(data.drop(columns=\"geometry\"))\n",
    "\n",
    "# Get Loadings directly from components_\n",
    "loadings = fa.components_.T\n",
    "\n",
    "# Convert to DataFrame for readability\n",
    "loadings_df = pd.DataFrame(\n",
    "    loadings.T,\n",
    "    columns=data.drop(columns=\"geometry\").columns,\n",
    ")\n",
    "loadings_df"
   ]
  },
  {
   "cell_type": "code",
   "execution_count": null,
   "id": "d9b78d49-af37-4135-9baf-d5da1b79d278",
   "metadata": {},
   "outputs": [],
   "source": [
    "# Transform and build DataFrame\n",
    "transformed = fa.transform(data.drop(columns=\"geometry\"))\n",
    "\n",
    "df_fa = pd.DataFrame(\n",
    "    transformed,\n",
    "    index=data.drop(columns=\"geometry\").index,\n",
    ").set_geometry(data.geometry)\n",
    "\n",
    "df_fa.columns = df_fa.columns.astype(str)\n",
    "# Save to Parquet\n",
    "df_fa.to_parquet(\"/data/uscuni-restricted/05_fa/fa_of_fa_geometries.parquet\")"
   ]
  },
  {
   "cell_type": "code",
   "execution_count": null,
   "id": "ec5f7c6e-f58c-438f-8f15-f9fc410e78c8",
   "metadata": {},
   "outputs": [],
   "source": [
    "df_fa"
   ]
  }
 ],
 "metadata": {
  "kernelspec": {
   "display_name": "Python 3 (ipykernel)",
   "language": "python",
   "name": "python3"
  },
  "language_info": {
   "codemirror_mode": {
    "name": "ipython",
    "version": 3
   },
   "file_extension": ".py",
   "mimetype": "text/x-python",
   "name": "python",
   "nbconvert_exporter": "python",
   "pygments_lexer": "ipython3"
  }
 },
 "nbformat": 4,
 "nbformat_minor": 5
}
