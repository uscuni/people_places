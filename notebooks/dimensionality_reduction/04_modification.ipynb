{
 "cells": [
  {
   "cell_type": "code",
   "execution_count": null,
   "id": "e69af4b7-f667-4401-9a79-c51848797c9c",
   "metadata": {},
   "outputs": [],
   "source": [
    "from glob import glob\n",
    "from pathlib import Path\n",
    "\n",
    "import geopandas as gpd\n",
    "import matplotlib.pyplot as plt\n",
    "import numpy as np\n",
    "import pandas as pd\n",
    "from factor_analyzer import FactorAnalyzer\n",
    "from sklearn.decomposition import PCA, FactorAnalysis\n",
    "from sklearn.preprocessing import StandardScaler"
   ]
  },
  {
   "cell_type": "code",
   "execution_count": null,
   "id": "ffc9fda9-7ca7-4c37-9e52-15d0c3eb0af6",
   "metadata": {},
   "outputs": [],
   "source": [
    "files = glob(\"/data/uscuni-restricted/04_spatial_census_2/*\")"
   ]
  },
  {
   "cell_type": "code",
   "execution_count": null,
   "id": "c02dc0df-5144-4d24-8a35-2448d84decf6",
   "metadata": {},
   "outputs": [],
   "source": [
    "files.remove(\"/data/uscuni-restricted/04_spatial_census_2/_merged_census_2021.parquet\")"
   ]
  },
  {
   "cell_type": "code",
   "execution_count": null,
   "id": "c4f62904-933c-43e8-834a-cd31e271ca01",
   "metadata": {},
   "outputs": [],
   "source": [
    "files"
   ]
  },
  {
   "cell_type": "code",
   "execution_count": null,
   "id": "76fcedf5-4c4a-4c25-8526-52b9191ac150",
   "metadata": {},
   "outputs": [],
   "source": [
    "data0 = gpd.read_parquet(files[0])"
   ]
  },
  {
   "cell_type": "code",
   "execution_count": null,
   "id": "5d2e5e8b-d062-41ec-aa54-4c224ad808b3",
   "metadata": {},
   "outputs": [],
   "source": [
    "data0[\"Obyvatelstvo - věk: 0 - 6  - celkem\"] = data0[\n",
    "    [\n",
    "        \"Obyvatelstvo - věk: 0 - 2  - celkem\",\n",
    "        \"Obyvatelstvo - věk: 3 - 4  - celkem\",\n",
    "        \"Obyvatelstvo - věk: 5  - 6 - celkem\",\n",
    "    ]\n",
    "].sum(axis=1)\n",
    "data0[\"Obyvatelstvo - věk: 7 - 14  - celkem\"] = data0[\n",
    "    [\"Obyvatelstvo - věk: 7 - 9  - celkem\", \"Obyvatelstvo - věk: 10 - 14  - celkem\"]\n",
    "].sum(axis=1)\n",
    "data0[\"Obyvatelstvo - věk: 15 - 24  - celkem\"] = data0[\n",
    "    [\n",
    "        \"Obyvatelstvo - věk: 15 - 17  - celkem\",\n",
    "        \"Obyvatelstvo - věk: 18 - 19  - celkem\",\n",
    "        \"Obyvatelstvo - věk: 20 - 24  - celkem\",\n",
    "    ]\n",
    "].sum(axis=1)\n",
    "data0[\"Obyvatelstvo - věk: 25 - 34  - celkem\"] = data0[\n",
    "    [\"Obyvatelstvo - věk: 25 - 29  - celkem\", \"Obyvatelstvo - věk: 30 - 34  - celkem\"]\n",
    "].sum(axis=1)\n",
    "data0[\"Obyvatelstvo - věk: 35 - 54  - celkem\"] = data0[\n",
    "    [\n",
    "        \"Obyvatelstvo - věk: 35 - 39  - celkem\",\n",
    "        \"Obyvatelstvo - věk: 40 - 44  - celkem\",\n",
    "        \"Obyvatelstvo - věk: 45 - 49  - celkem\",\n",
    "        \"Obyvatelstvo - věk: 50 - 54  - celkem\",\n",
    "    ]\n",
    "].sum(axis=1)\n",
    "data0[\"Obyvatelstvo - věk: 55 - 64  - celkem\"] = data0[\n",
    "    [\"Obyvatelstvo - věk: 55 - 59  - celkem\", \"Obyvatelstvo - věk: 60 - 64  - celkem\"]\n",
    "].sum(axis=1)\n",
    "data0[\"Obyvatelstvo - věk: 65 - 85  - celkem\"] = data0[\n",
    "    [\n",
    "        \"Obyvatelstvo - věk: 65 - 69  - celkem\",\n",
    "        \"Obyvatelstvo - věk: 70 - 74  - celkem\",\n",
    "        \"Obyvatelstvo - věk: 75 - 79  - celkem\",\n",
    "        \"Obyvatelstvo - věk: 80 - 84  - celkem\",\n",
    "        \"Obyvatelstvo - věk: 85 a více  - celkem\",\n",
    "    ]\n",
    "].sum(axis=1)"
   ]
  },
  {
   "cell_type": "code",
   "execution_count": null,
   "id": "3e3fe364-ede5-4256-9705-5397b043f3dc",
   "metadata": {},
   "outputs": [],
   "source": [
    "data0 = data0.drop(\n",
    "    columns=data0.loc[\n",
    "        :,\n",
    "        \"Obyvatelstvo - věk: 0 - 2  - celkem\":\"Obyvatelstvo - věk: 85 a více  - celkem\",\n",
    "    ].columns\n",
    ")"
   ]
  },
  {
   "cell_type": "code",
   "execution_count": null,
   "id": "b9bcea13-0cd3-4b73-8f40-8ba0e0b1dcb9",
   "metadata": {},
   "outputs": [],
   "source": [
    "data0.to_parquet(\n",
    "    \"/data/uscuni-restricted/04_spatial_census_2/nadzsjd_pop_age_gender_2021.parquet\"\n",
    ")"
   ]
  },
  {
   "cell_type": "code",
   "execution_count": null,
   "id": "80d53c65-0a43-428e-b347-c3a4d1b6533a",
   "metadata": {},
   "outputs": [],
   "source": [
    "data1 = gpd.read_parquet(files[1])"
   ]
  },
  {
   "cell_type": "code",
   "execution_count": null,
   "id": "6fa5347f-7185-41e2-9941-53a48047765a",
   "metadata": {},
   "outputs": [],
   "source": [
    "data1 = data1.drop(columns=\"Obyvatelstvo - pracovní síla - celkem\")"
   ]
  },
  {
   "cell_type": "code",
   "execution_count": null,
   "id": "12244744-68f9-4317-9d4a-9542fa2bbb40",
   "metadata": {},
   "outputs": [],
   "source": [
    "data1.to_parquet(\n",
    "    \"/data/uscuni-restricted/04_spatial_census_2/nadzsjd_pop_ea_gender_2021.parquet\"\n",
    ")"
   ]
  },
  {
   "cell_type": "code",
   "execution_count": null,
   "id": "a05ed452-e901-423c-9b93-d732e2789adc",
   "metadata": {},
   "outputs": [],
   "source": [
    "files[10]"
   ]
  },
  {
   "cell_type": "code",
   "execution_count": null,
   "id": "a1778527-2f4d-49db-bbb9-b6ee6d525c24",
   "metadata": {},
   "outputs": [],
   "source": [
    "data4 = gpd.read_parquet(files[4])\n",
    "data4 = data4.drop(columns=\"Obyvatelstvo - zaměstnaní - celkem\")\n",
    "data4.to_parquet(\n",
    "    \"/data/uscuni-restricted/04_spatial_census_2/nadzsjd_emp_type_age_2021.parquet\"\n",
    ")"
   ]
  },
  {
   "cell_type": "code",
   "execution_count": null,
   "id": "45b78a42-e587-473e-a07c-b1237de10b31",
   "metadata": {},
   "outputs": [],
   "source": [
    "data6 = gpd.read_parquet(files[6])\n",
    "data6"
   ]
  },
  {
   "cell_type": "code",
   "execution_count": null,
   "id": "87e9a78f-556e-426d-9033-fcac6074fd88",
   "metadata": {},
   "outputs": [],
   "source": [
    "data5 = gpd.read_parquet(files[6])\n",
    "data5 = data5.drop(columns=\"Obyvatelstvo - věk: 15 a více - celkem\")\n",
    "data5.to_parquet(\n",
    "    \"/data/uscuni-restricted/04_spatial_census_2/nadzsjd_education_2021.parquet\"\n",
    ")"
   ]
  },
  {
   "cell_type": "code",
   "execution_count": null,
   "id": "0e24e9af-45b6-42d3-b1a5-2c79800f357a",
   "metadata": {},
   "outputs": [],
   "source": [
    "data8 = gpd.read_parquet(files[9])\n",
    "data8 = data8.drop(columns=\"Obyvatelstvo - zaměstnaní - celkem\")\n",
    "data8.to_parquet(\n",
    "    \"/data/uscuni-restricted/04_spatial_census_2/nadzsjd_emp_ea_age_2021.parquet\"\n",
    ")"
   ]
  },
  {
   "cell_type": "code",
   "execution_count": null,
   "id": "dc9ead47-e2d9-48c0-bffe-a252d7179af3",
   "metadata": {},
   "outputs": [],
   "source": [
    "data9 = gpd.read_parquet(files[10])\n",
    "data9 = data9.drop(columns=\"Zaměstnaní celkem\")\n",
    "data9.to_parquet(\n",
    "    \"/data/uscuni-restricted/04_spatial_census_2/nadzsjd_emp_employed_2021.parquet\"\n",
    ")"
   ]
  },
  {
   "cell_type": "code",
   "execution_count": null,
   "id": "ad848188-4cbe-4d15-a770-a21c5fccd68a",
   "metadata": {},
   "outputs": [],
   "source": [
    "data10 = gpd.read_parquet(files[11])\n",
    "data10 = data10.drop(columns=\"Hospodařící domácnosti v bytech celkem\")\n",
    "data10.to_parquet(\n",
    "    \"/data/uscuni-restricted/04_spatial_census_2/nadzsjd_households_2021_.parquet\"\n",
    ")"
   ]
  },
  {
   "cell_type": "code",
   "execution_count": null,
   "id": "33f523d8-1f0e-43ca-ab80-37015105c57f",
   "metadata": {},
   "outputs": [],
   "source": []
  },
  {
   "cell_type": "code",
   "execution_count": null,
   "id": "52a419ac-97a7-4412-b002-b870328ce386",
   "metadata": {},
   "outputs": [],
   "source": []
  }
 ],
 "metadata": {
  "kernelspec": {
   "display_name": "Python 3 (ipykernel)",
   "language": "python",
   "name": "python3"
  },
  "language_info": {
   "codemirror_mode": {
    "name": "ipython",
    "version": 3
   },
   "file_extension": ".py",
   "mimetype": "text/x-python",
   "name": "python",
   "nbconvert_exporter": "python",
   "pygments_lexer": "ipython3"
  }
 },
 "nbformat": 4,
 "nbformat_minor": 5
}
