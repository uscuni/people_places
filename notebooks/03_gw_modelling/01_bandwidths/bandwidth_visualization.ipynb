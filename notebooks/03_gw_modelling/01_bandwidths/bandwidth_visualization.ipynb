{
 "cells": [
  {
   "cell_type": "markdown",
   "id": "03b98f95-7487-4bb6-8576-f0fa8e4b7b94",
   "metadata": {},
   "source": [
    "# Bandwidth search on Principal Component Analysis\n",
    "\n",
    "Find optimal bandwidth for each class using a PCA option as the reduction input."
   ]
  },
  {
   "cell_type": "code",
   "execution_count": null,
   "id": "ce3adc29-52b8-4c46-80e6-60e79265fb90",
   "metadata": {},
   "outputs": [],
   "source": [
    "import os\n",
    "import pathlib\n",
    "from glob import glob\n",
    "\n",
    "import geopandas as gpd\n",
    "import joblib\n",
    "import matplotlib.pyplot as plt\n",
    "import numpy as np\n",
    "import pandas as pd\n",
    "\n",
    "from gwlearn.ensemble import GWRandomForestClassifier\n",
    "from gwlearn.linear_model import GWLogisticRegression\n",
    "from gwlearn.search import BandwidthSearch"
   ]
  },
  {
   "cell_type": "code",
   "execution_count": null,
   "id": "a0df30a2-4932-41ab-81d1-9270dc289472",
   "metadata": {},
   "outputs": [],
   "source": [
    "# Open scores for adaptive bandwidth\n",
    "a_files = glob(\"/data/uscuni-restricted/06_bandwidths/*adaptive*.csv\")\n",
    "a_files = [f for f in a_files if \"pca\" in f]"
   ]
  },
  {
   "cell_type": "code",
   "execution_count": null,
   "id": "176bf0ab-0ab2-4448-a75b-4e9655100531",
   "metadata": {},
   "outputs": [],
   "source": [
    "a_files"
   ]
  },
  {
   "cell_type": "code",
   "execution_count": null,
   "id": "a176dc53-1117-439a-9076-0f941aa5be26",
   "metadata": {},
   "outputs": [],
   "source": [
    "pca_bw = {1: 1500, 2: 300, 3: 1900, 4: 1500, 5: 2100, 6: 700, 7: 2300, 8: 2500}"
   ]
  },
  {
   "cell_type": "code",
   "execution_count": null,
   "id": "f2703276-f4c2-4eaa-a98f-2f37c82eb771",
   "metadata": {},
   "outputs": [],
   "source": [
    "# Add all labels to one list\n",
    "a_files_list = []\n",
    "labels = []\n",
    "\n",
    "for i in a_files:\n",
    "    label = os.path.splitext(os.path.basename(i))\n",
    "    labels.append(label)\n",
    "    df = pd.read_csv(i, index_col=0).rename(columns={\"aic\": label})\n",
    "    a_files_list.append(df)\n",
    "a_data = pd.concat(a_files_list, axis=1)\n",
    "\n",
    "# Create plot\n",
    "fig, ax = plt.subplots(figsize=(10, 10))\n",
    "\n",
    "# Plot the lines\n",
    "a_data.plot(ax=ax)\n",
    "\n",
    "# Add nodes at minima\n",
    "for col in a_data:\n",
    "    min_idx = a_data[col].idxmin()\n",
    "    min_val = a_data[col].min()\n",
    "    print(col)\n",
    "    print(min_idx, min_val)\n",
    "    ax.plot(min_idx, min_val, \"o\")\n",
    "\n",
    "# Add grid: both major and minor lines\n",
    "ax.grid(which=\"major\", linestyle=\"-\", linewidth=0.5, color=\"gray\")\n",
    "ax.minorticks_on()\n",
    "ax.grid(which=\"minor\", linestyle=\":\", linewidth=0.3, color=\"gray\")\n",
    "\n",
    "# Customize minor ticks spacing (optional)\n",
    "ax.xaxis.set_minor_locator(plt.MultipleLocator(500))\n",
    "ax.yaxis.set_minor_locator(plt.MultipleLocator(0.5))  # every 0.5 on y-axis\n",
    "\n",
    "# Set plot limits\n",
    "plt.ylim(66, 72)\n",
    "plt.xlim(0, 12500)\n",
    "\n",
    "# Add legend\n",
    "plt.legend()\n",
    "\n",
    "plt.show()"
   ]
  },
  {
   "cell_type": "code",
   "execution_count": null,
   "id": "221b0593-c525-44e6-a31c-d3732fadbdbc",
   "metadata": {},
   "outputs": [],
   "source": [
    "label"
   ]
  },
  {
   "cell_type": "code",
   "execution_count": null,
   "id": "05942266-e194-4084-91f9-34649f2d2b59",
   "metadata": {},
   "outputs": [],
   "source": [
    "# Open scores for fixed bandwidth\n",
    "f_files = glob(\"*adaptive*.csv\")\n",
    "f_files = [f for f in f_files if \"fa\" in f]"
   ]
  },
  {
   "cell_type": "code",
   "execution_count": null,
   "id": "27f7a153-4d02-4a7c-9029-c2ab7454a3eb",
   "metadata": {},
   "outputs": [],
   "source": [
    "fa_bw = {1: 1300, 2: 300, 3: 2300, 4: 1500, 5: 1500, 6: 500, 7: 2300, 8: 2500}"
   ]
  },
  {
   "cell_type": "code",
   "execution_count": null,
   "id": "d5f62f5c-7447-4e7b-9bf4-21188e80145a",
   "metadata": {},
   "outputs": [],
   "source": [
    "# Add all labels to one list\n",
    "f_files_list = []\n",
    "for i in f_files:\n",
    "    f_files_list.append(pd.read_csv(i, index_col=0).rename(columns={\"aic\": i}))\n",
    "f_data = pd.concat(f_files_list, axis=1)\n",
    "\n",
    "# Plot and print the scores\n",
    "f_data.plot()\n",
    "for col in f_data:\n",
    "    print(col)\n",
    "    print(f_data.loc[:, col].idxmin(), np.min(f_data.loc[:, col]))"
   ]
  },
  {
   "cell_type": "code",
   "execution_count": null,
   "id": "3b443bd9-639d-48c8-8cbc-62c49369822e",
   "metadata": {},
   "outputs": [],
   "source": [
    "# Open scores for fixed bandwidth\n",
    "u_files = glob(\"*adaptive*.csv\")\n",
    "u_files = [f for f in u_files if \"no_dr\" in f]"
   ]
  },
  {
   "cell_type": "code",
   "execution_count": null,
   "id": "3558866d-5d4e-47e7-9849-295245aa9b5b",
   "metadata": {},
   "outputs": [],
   "source": [
    "umap_bw = {1: 1300, 2: 300, 3: 2100, 4: 1500, 5: 1700, 6: 700, 7: 2300, 8: 2500}"
   ]
  },
  {
   "cell_type": "code",
   "execution_count": null,
   "id": "336fe612-7bb2-4631-969d-e45dd127b423",
   "metadata": {},
   "outputs": [],
   "source": [
    "# Add all labels to one list\n",
    "u_files_list = []\n",
    "for i in u_files:\n",
    "    u_files_list.append(pd.read_csv(i, index_col=0).rename(columns={\"aic\": i}))\n",
    "u_data = pd.concat(u_files_list, axis=1)\n",
    "\n",
    "# Plot and print the scores\n",
    "plt.figure(figsize=(10, 6))\n",
    "ax = u_data.plot(ax=plt.gca())\n",
    "plt.legend(bbox_to_anchor=(1.05, 1), loc=\"upper left\", borderaxespad=0.0)\n",
    "\n",
    "for col in u_data:\n",
    "    print(col)\n",
    "    print(u_data.loc[:, col].idxmin(), np.min(u_data.loc[:, col]))"
   ]
  },
  {
   "cell_type": "code",
   "execution_count": null,
   "id": "ab997656-5672-47ff-b4dd-bb23167690d1",
   "metadata": {},
   "outputs": [],
   "source": []
  }
 ],
 "metadata": {
  "kernelspec": {
   "display_name": "Python 3 (ipykernel)",
   "language": "python",
   "name": "python3"
  },
  "language_info": {
   "codemirror_mode": {
    "name": "ipython",
    "version": 3
   },
   "file_extension": ".py",
   "mimetype": "text/x-python",
   "name": "python",
   "nbconvert_exporter": "python",
   "pygments_lexer": "ipython3"
  }
 },
 "nbformat": 4,
 "nbformat_minor": 5
}
