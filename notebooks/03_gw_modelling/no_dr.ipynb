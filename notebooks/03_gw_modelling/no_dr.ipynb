{
 "cells": [
  {
   "cell_type": "markdown",
   "id": "d97e0e71",
   "metadata": {},
   "source": [
    "# Train GW models based on UMAP\n",
    "\n",
    "Train models per class using a single UMAP option as the reduction input."
   ]
  },
  {
   "cell_type": "code",
   "execution_count": null,
   "id": "1e76f2c9",
   "metadata": {},
   "outputs": [],
   "source": [
    "import pathlib\n",
    "\n",
    "import geopandas as gpd\n",
    "import joblib\n",
    "import pandas as pd\n",
    "\n",
    "from gwlearn.ensemble import GWRandomForestClassifier\n",
    "from gwlearn.linear_model import GWLogisticRegression"
   ]
  },
  {
   "cell_type": "code",
   "execution_count": null,
   "id": "56ffed71-c9a4-43a2-8840-f8fdd5ec1653",
   "metadata": {},
   "outputs": [],
   "source": [
    "umap_option = \"umap_dim20_nb5_euclidean\""
   ]
  },
  {
   "cell_type": "code",
   "execution_count": null,
   "id": "881deec6-a10c-415e-8d9f-b228d6e2162a",
   "metadata": {},
   "outputs": [],
   "source": [
    "import os"
   ]
  },
  {
   "cell_type": "markdown",
   "id": "76a0a83b-9a58-420a-8cab-72db96dee7a9",
   "metadata": {},
   "source": [
    "We have many options for UMAP, let's pick some sensible default for now."
   ]
  },
  {
   "cell_type": "markdown",
   "id": "5bcc08a6",
   "metadata": {},
   "source": [
    "Prepare folders."
   ]
  },
  {
   "cell_type": "code",
   "execution_count": null,
   "id": "33378531",
   "metadata": {},
   "outputs": [],
   "source": [
    "pathlib.Path(\"/data/uscuni-restricted/06_models\").mkdir(exist_ok=True)\n",
    "pathlib.Path(\"/data/uscuni-restricted/06_models/umap_dim20_nb5_euclidean/\").mkdir(\n",
    "    exist_ok=True\n",
    ")"
   ]
  },
  {
   "cell_type": "markdown",
   "id": "eac69008",
   "metadata": {},
   "source": [
    "Read data."
   ]
  },
  {
   "cell_type": "code",
   "execution_count": null,
   "id": "78d124f4",
   "metadata": {},
   "outputs": [],
   "source": [
    "no_dr = gpd.read_parquet(\"/data/uscuni-restricted/05_umap/no_dr.parquet\")\n",
    "clusters = pd.read_csv(\n",
    "    \"/data/uscuni-restricted/04_spatial_census/cluster_assignment_v10.csv\",\n",
    "    dtype={\"kod_nadzsj_d\": str},\n",
    ")\n",
    "cluster_mapping = pd.read_parquet(\n",
    "    \"/data/uscuni-ulce/processed_data/clusters/cluster_mapping_v10.pq\"\n",
    ")\n",
    "data = no_dr.merge(clusters, left_on=\"nadzsjd\", right_on=\"kod_nadzsj_d\")\n",
    "variables = data.columns.drop([\"geometry\", \"kod_nadzsj_d\", \"final_without_noise\"])\n",
    "\n",
    "mapped = data[\"final_without_noise\"].map(cluster_mapping[3])"
   ]
  },
  {
   "cell_type": "code",
   "execution_count": null,
   "id": "520dc7c1-3e53-4c5c-bcf7-064b6922033f",
   "metadata": {},
   "outputs": [],
   "source": [
    "bandwidth_dict = {1: 1300, 2: 300, 3: 2100, 4: 1500, 5: 1700, 6: 700, 7: 2300, 8: 2500}"
   ]
  },
  {
   "cell_type": "markdown",
   "id": "68d0a990",
   "metadata": {},
   "source": [
    "Loop over cluster labels, train RF and LR and save them."
   ]
  },
  {
   "cell_type": "code",
   "execution_count": null,
   "id": "b591e5c2",
   "metadata": {},
   "outputs": [],
   "source": [
    "for label in mapped.unique():\n",
    "    p = pathlib.Path(\n",
    "        f\"/data/uscuni-restricted/06_models/umap_dim20_nb5_euclidean/label_{label}/\"\n",
    "    )\n",
    "    p.mkdir(exist_ok=True)\n",
    "    y = mapped == label\n",
    "    bandwidth = bandwidth_dict[label]\n",
    "\n",
    "    # RF\n",
    "    print(f\"Label: {label}, training RF.\")\n",
    "    rf_path = p.joinpath(\"rf\")\n",
    "    rf_path.mkdir(exist_ok=True)\n",
    "\n",
    "    rf_lm_path = rf_path.joinpath(\"local\")\n",
    "    rf_lm_path.mkdir(exist_ok=True)\n",
    "\n",
    "    rf = GWRandomForestClassifier(\n",
    "        bandwidth=bandwidth,\n",
    "        fixed=False,\n",
    "        n_jobs=-1,\n",
    "        keep_models=False,\n",
    "        batch_size=1000,\n",
    "        min_proportion=0.05,\n",
    "        class_weight=\"balanced\",\n",
    "        undersample=True,\n",
    "        min_samples_split=4,\n",
    "        min_samples_leaf=2,\n",
    "        n_estimators=100,\n",
    "        random_state=42,\n",
    "    )\n",
    "    rf.fit(\n",
    "        data[variables],\n",
    "        y,\n",
    "        data.representative_point(),\n",
    "    )\n",
    "    with open(rf_path.joinpath(\"model.joblib\"), \"wb\") as f:\n",
    "        joblib.dump(rf, f, protocol=5)\n",
    "    print(f\"Label: {label}, RF trained. Balanced accuracy: {rf.balanced_accuracy_:.3f}\")\n",
    "\n",
    "    # LR\n",
    "    print(f\"Label: {label}, training LR.\")\n",
    "    lr_path = p.joinpath(\"lr\")\n",
    "    lr_path.mkdir(exist_ok=True)\n",
    "\n",
    "    lr_lm_path = lr_path.joinpath(\"local\")\n",
    "    lr_lm_path.mkdir(exist_ok=True)\n",
    "\n",
    "    lr = GWLogisticRegression(\n",
    "        bandwidth=bandwidth,\n",
    "        fixed=False,\n",
    "        n_jobs=-1,\n",
    "        keep_models=lr_lm_path,\n",
    "        batch_size=1000,\n",
    "        min_proportion=0.05,\n",
    "        class_weight=\"balanced\",\n",
    "        max_iter=1000,\n",
    "        undersample=True,\n",
    "        random_state=42,\n",
    "    )\n",
    "    lr.fit(\n",
    "        data[variables],\n",
    "        y,\n",
    "        data.representative_point(),\n",
    "    )\n",
    "    with open(lr_path.joinpath(\"model.joblib\"), \"wb\") as f:\n",
    "        joblib.dump(lr, f, protocol=5)\n",
    "    print(f\"Label: {label}, LR trained. Balanced accuracy: {lr.balanced_accuracy_:.3f}\")"
   ]
  },
  {
   "cell_type": "code",
   "execution_count": null,
   "id": "56b89a87-4f95-4b30-8e09-b5232eee1e4b",
   "metadata": {},
   "outputs": [],
   "source": []
  }
 ],
 "metadata": {
  "kernelspec": {
   "display_name": "Python 3 (ipykernel)",
   "language": "python",
   "name": "python3"
  },
  "language_info": {
   "codemirror_mode": {
    "name": "ipython",
    "version": 3
   },
   "file_extension": ".py",
   "mimetype": "text/x-python",
   "name": "python",
   "nbconvert_exporter": "python",
   "pygments_lexer": "ipython3"
  }
 },
 "nbformat": 4,
 "nbformat_minor": 5
}
