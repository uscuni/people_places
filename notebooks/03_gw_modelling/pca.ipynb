{
 "cells": [
  {
   "cell_type": "markdown",
   "id": "db90e6f1",
   "metadata": {},
   "source": [
    "# Train GW models based on PCA\n",
    "\n",
    "Train models per class using PCA as the reduction input."
   ]
  },
  {
   "cell_type": "code",
   "execution_count": null,
   "id": "1e76f2c9",
   "metadata": {},
   "outputs": [],
   "source": [
    "import pathlib\n",
    "\n",
    "import geopandas as gpd\n",
    "import joblib\n",
    "import pandas as pd\n",
    "\n",
    "from gwlearn.ensemble import GWRandomForestClassifier\n",
    "from gwlearn.linear_model import GWLogisticRegression"
   ]
  },
  {
   "cell_type": "markdown",
   "id": "fa94edd4",
   "metadata": {},
   "source": [
    "Prepare folders."
   ]
  },
  {
   "cell_type": "code",
   "execution_count": null,
   "id": "33378531",
   "metadata": {},
   "outputs": [],
   "source": [
    "pathlib.Path(\"/data/uscuni-restricted/06_models\").mkdir(exist_ok=True)\n",
    "pathlib.Path(\"/data/uscuni-restricted/06_models/pca\").mkdir(exist_ok=True)"
   ]
  },
  {
   "cell_type": "markdown",
   "id": "131f728d",
   "metadata": {},
   "source": [
    "Read data."
   ]
  },
  {
   "cell_type": "code",
   "execution_count": null,
   "id": "78d124f4",
   "metadata": {},
   "outputs": [],
   "source": [
    "pcas = gpd.read_parquet(\"/data/uscuni-restricted/05_pcs/pcs_29.parquet\")\n",
    "clusters = pd.read_csv(\n",
    "    \"/data/uscuni-restricted/04_spatial_census/cluster_assignment_v10.csv\",\n",
    "    dtype={\"kod_nadzsj_d\": str},\n",
    ")\n",
    "cluster_mapping = pd.read_parquet(\n",
    "    \"/data/uscuni-ulce/processed_data/clusters/cluster_mapping_v10.pq\"\n",
    ")\n",
    "data = pcas.merge(clusters, left_on=\"nadzsjd\", right_on=\"kod_nadzsj_d\")\n",
    "variables = data.columns.drop([\"geometry\", \"kod_nadzsj_d\", \"final_without_noise\"])\n",
    "\n",
    "mapped = data[\"final_without_noise\"].map(cluster_mapping[3])"
   ]
  },
  {
   "cell_type": "code",
   "execution_count": null,
   "id": "20e71b68-7e7f-4816-892c-9cfe71289a57",
   "metadata": {},
   "outputs": [],
   "source": [
    "bandwidth_dict = {1: 1500, 2: 300, 3: 1900, 4: 1500, 5: 2100, 6: 700, 7: 2300, 8: 2500}"
   ]
  },
  {
   "cell_type": "markdown",
   "id": "12a05e1e",
   "metadata": {},
   "source": [
    "Loop over cluster labels, train RF and LR and save them."
   ]
  },
  {
   "cell_type": "code",
   "execution_count": null,
   "id": "b591e5c2",
   "metadata": {},
   "outputs": [],
   "source": [
    "for label in mapped.unique():\n",
    "    p = pathlib.Path(f\"/data/uscuni-restricted/06_models/pca/label_{label}/\")\n",
    "    p.mkdir(exist_ok=True)\n",
    "    y = mapped == label\n",
    "    bandwidth = bandwidth_dict[label]\n",
    "\n",
    "    # RF\n",
    "    print(f\"Label: {label}, training RF.\")\n",
    "    rf_path = p.joinpath(\"rf\")\n",
    "    rf_path.mkdir(exist_ok=True)\n",
    "\n",
    "    rf_lm_path = rf_path.joinpath(\"local\")\n",
    "    rf_lm_path.mkdir(exist_ok=True)\n",
    "\n",
    "    rf = GWRandomForestClassifier(\n",
    "        bandwidth=bandwidth,\n",
    "        fixed=False,\n",
    "        n_jobs=-1,\n",
    "        keep_models=False,\n",
    "        batch_size=1000,\n",
    "        min_proportion=0.05,\n",
    "        class_weight=\"balanced\",\n",
    "        undersample=True,\n",
    "        min_samples_split=4,\n",
    "        min_samples_leaf=2,\n",
    "        n_estimators=100,\n",
    "        random_state=42,\n",
    "    )\n",
    "    rf.fit(\n",
    "        data[variables],\n",
    "        y,\n",
    "        data.representative_point(),\n",
    "    )\n",
    "    with open(rf_path.joinpath(\"model.joblib\"), \"wb\") as f:\n",
    "        joblib.dump(rf, f, protocol=5)\n",
    "    print(f\"Label: {label}, RF trained. Balanced accuracy: {rf.balanced_accuracy_:.3f}\")\n",
    "\n",
    "    # LR\n",
    "    print(f\"Label: {label}, training LR.\")\n",
    "    lr_path = p.joinpath(\"lr\")\n",
    "    lr_path.mkdir(exist_ok=True)\n",
    "\n",
    "    lr_lm_path = lr_path.joinpath(\"local\")\n",
    "    lr_lm_path.mkdir(exist_ok=True)\n",
    "\n",
    "    lr = GWLogisticRegression(\n",
    "        bandwidth=bandwidth,\n",
    "        fixed=False,\n",
    "        n_jobs=-1,\n",
    "        keep_models=False,\n",
    "        batch_size=1000,\n",
    "        min_proportion=0.05,\n",
    "        class_weight=\"balanced\",\n",
    "        max_iter=1000,\n",
    "        undersample=True,\n",
    "        random_state=42,\n",
    "    )\n",
    "    lr.fit(\n",
    "        data[variables],\n",
    "        y,\n",
    "        data.representative_point(),\n",
    "    )\n",
    "    with open(lr_path.joinpath(\"model.joblib\"), \"wb\") as f:\n",
    "        joblib.dump(lr, f, protocol=5)\n",
    "    print(f\"Label: {label}, LR trained. Balanced accuracy: {lr.balanced_accuracy_:.3f}\")"
   ]
  },
  {
   "cell_type": "code",
   "execution_count": null,
   "id": "9d3b2b45-9028-43c7-a7ec-72d5e51e98ae",
   "metadata": {},
   "outputs": [],
   "source": []
  }
 ],
 "metadata": {
  "kernelspec": {
   "display_name": "Python 3 (ipykernel)",
   "language": "python",
   "name": "python3"
  },
  "language_info": {
   "codemirror_mode": {
    "name": "ipython",
    "version": 3
   },
   "file_extension": ".py",
   "mimetype": "text/x-python",
   "name": "python",
   "nbconvert_exporter": "python",
   "pygments_lexer": "ipython3"
  }
 },
 "nbformat": 4,
 "nbformat_minor": 5
}
