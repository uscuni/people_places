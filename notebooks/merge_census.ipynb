{
 "cells": [
  {
   "cell_type": "markdown",
   "id": "4f3f2e9c-88fb-4bdc-bd32-c090af8aa5cb",
   "metadata": {},
   "source": [
    "# Data merging\n",
    "\n",
    "This notebook merges all datasets from census and assigns each unit its cluster"
   ]
  },
  {
   "cell_type": "code",
   "execution_count": null,
   "id": "7025940f-e7c5-4ff7-8dd4-eb52f54cc79c",
   "metadata": {},
   "outputs": [],
   "source": [
    "import pandas as pd\n",
    "from glob import glob"
   ]
  },
  {
   "cell_type": "code",
   "execution_count": null,
   "id": "0b8ec00b-5277-4b55-bf39-fc484ba21970",
   "metadata": {},
   "outputs": [],
   "source": [
    "# Define path\n",
    "files = glob(\"/data/uscuni-restricted/geometries/*.parquet\")"
   ]
  },
  {
   "cell_type": "code",
   "execution_count": null,
   "id": "0b356991-530f-4e5e-b534-17277e9f0370",
   "metadata": {},
   "outputs": [],
   "source": [
    "# Create empty list to store all files\n",
    "dfs = []\n",
    "\n",
    "# Process all files\n",
    "for file in files:\n",
    "    dfs.append(pd.read_parquet(file))"
   ]
  },
  {
   "cell_type": "code",
   "execution_count": null,
   "id": "105052fb-1069-4623-a647-e1e2910c12bb",
   "metadata": {},
   "outputs": [],
   "source": [
    "# Concatenate all datasets\n",
    "concat_df = pd.concat(dfs, axis=1)"
   ]
  },
  {
   "cell_type": "code",
   "execution_count": null,
   "id": "424de58a-71f8-43b7-9db1-90c9fd277775",
   "metadata": {},
   "outputs": [],
   "source": [
    "# Remove duplicate columns\n",
    "merged_df = concat_df.loc[:, ~concat_df.columns.duplicated()]"
   ]
  },
  {
   "cell_type": "code",
   "execution_count": null,
   "id": "efeb750a-9ee1-463e-b8a4-6129c12325bf",
   "metadata": {},
   "outputs": [],
   "source": [
    "# Read cluster information\n",
    "clusters = pd.read_csv(\n",
    "    \"/data/uscuni-restricted/geometries/cluster_assignment_v3.csv\", index_col=0\n",
    ")"
   ]
  },
  {
   "cell_type": "code",
   "execution_count": null,
   "id": "74331608-64df-471e-b11f-65be5c617a93",
   "metadata": {},
   "outputs": [],
   "source": [
    "# Add column with cluster information\n",
    "merged_df[\"Cluster\"] = clusters[\"final_without_noise\"]"
   ]
  },
  {
   "cell_type": "code",
   "execution_count": null,
   "id": "c4627435-eb7a-4d44-b7a7-705db0678881",
   "metadata": {},
   "outputs": [],
   "source": [
    "# Safe dataset\n",
    "merged_df.to_parquet(\n",
    "    \"/data/uscuni-restricted/geometries/merged_census_2021_cluster.parquet\"\n",
    ")"
   ]
  }
 ],
 "metadata": {
  "kernelspec": {
   "display_name": "Python 3 (ipykernel)",
   "language": "python",
   "name": "python3"
  },
  "language_info": {
   "codemirror_mode": {
    "name": "ipython",
    "version": 3
   },
   "file_extension": ".py",
   "mimetype": "text/x-python",
   "name": "python",
   "nbconvert_exporter": "python",
   "pygments_lexer": "ipython3"
  }
 },
 "nbformat": 4,
 "nbformat_minor": 5
}
