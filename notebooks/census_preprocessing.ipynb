{
 "cells": [
  {
   "cell_type": "markdown",
   "id": "09630640-8ecd-41f4-bb89-aa40c66108a4",
   "metadata": {},
   "source": [
    "# Census data preprocessing\n",
    "\n",
    "This notebook preprocesses the original data into a csv format"
   ]
  },
  {
   "cell_type": "code",
   "execution_count": 1,
   "id": "d87f5141-0c7f-4351-baf2-26ab1e673b07",
   "metadata": {},
   "outputs": [],
   "source": [
    "from glob import glob\n",
    "import pandas as pd\n",
    "import geopandas as gpd\n",
    "import matplotlib.pyplot as plt\n",
    "import numpy as np\n",
    "from pathlib import Path"
   ]
  },
  {
   "cell_type": "code",
   "execution_count": 2,
   "id": "2f95ea88-36dc-4f08-b8c1-7c4848e919c0",
   "metadata": {},
   "outputs": [
    {
     "name": "stdout",
     "output_type": "stream",
     "text": [
      "_prevodnik_zsjd_nadzsjd.xlsx\n",
      "_sloucene_zsj_dily.docx\n",
      "_ukazatele_slouceneZSJD.xlsx\n",
      "nadzsjd_Byty_2021.xlsx\n",
      "nadzsjd_Byty_druh_obdobi_vystavby_2021.xlsx\n",
      "nadzsjd_Byty_velikost_vybaveni_2021.xlsx\n",
      "nadzsjd_Byty_vytapeni_2021.xlsx\n",
      "nadzsjd_D_Domy_2021.xlsx\n",
      "nadzsjd_Domacnosti_2021.xlsx\n",
      "nadzsjd_ekonomicka_aktivita_pohlavi_2021.xlsx\n",
      "nadzsjd_nabozenstvi_pohlavi_2021.xlsx\n",
      "nadzsjd_pobyt_pohlavi_2021.xlsx\n",
      "nadzsjd_rodinny_stav_pohlavi_2021.xlsx\n",
      "nadzsjd_statni_obcanstvi_2021.xlsx\n",
      "nadzsjd_statni_obcanstvi_narodnost_2021.xlsx\n",
      "nadzsjd_vek_pohlavi_2021.xlsx\n",
      "nadzsjd_vzdelani_pohlavi_2021.xlsx\n",
      "nadzsjd_zamestnani_2021.xlsx\n",
      "nadzsjd_zamestnani_ek_cinnost_pohlavi_2021.xlsx\n",
      "nadzsjd_zamestnani_postaveni_vek_2021.xlsx\n"
     ]
    }
   ],
   "source": [
    "ls /data/uscuni-restricted/Data_SLDB_2021/zsj_data/ZSJD_slouceneZSJD/sloucene"
   ]
  },
  {
   "cell_type": "code",
   "execution_count": 32,
   "id": "585c39bc-1a97-40be-987a-2055800a3d06",
   "metadata": {},
   "outputs": [],
   "source": [
    "# Define path\n",
    "files = glob('/data/uscuni-restricted/Data_SLDB_2021/zsj_data/ZSJD_slouceneZSJD/sloucene/*')\n",
    "\n",
    "# Process all files\n",
    "for file in files:\n",
    "    # Read path of the files\n",
    "    path = Path(file)\n",
    "    # Exclude files that start with _\n",
    "    if path.stem.startswith(\"_\"):\n",
    "        continue\n",
    "    # Open data on a correct sheet\n",
    "    data = pd.read_excel(path, sheet_name=0)\n",
    "    if data.shape[1] < 5:\n",
    "        data = pd.read_excel(path, sheet_name=1)\n",
    "    # Find first not NaN row and change the names bz the names of the row below\n",
    "    i = 0\n",
    "    for i, row in enumerate(data['Unnamed: 15']):\n",
    "        i = i\n",
    "        if not pd.isna(row):\n",
    "            break\n",
    "    data.iloc[i, 0:13] = data.iloc[i+1, 0:13]\n",
    "    # Rename columns\n",
    "    data.columns = data.iloc[i]\n",
    "    # Delete NaN rows\n",
    "    data = data.iloc[i+2:]\n",
    "    # Save the new dataset    \n",
    "    data.to_csv(f'/data/uscuni-restricted/preprocessed_census/{path.stem}.csv', index= False)"
   ]
  }
 ],
 "metadata": {
  "kernelspec": {
   "display_name": "Python 3 (ipykernel)",
   "language": "python",
   "name": "python3"
  },
  "language_info": {
   "codemirror_mode": {
    "name": "ipython",
    "version": 3
   },
   "file_extension": ".py",
   "mimetype": "text/x-python",
   "name": "python",
   "nbconvert_exporter": "python",
   "pygments_lexer": "ipython3",
   "version": "3.12.7"
  }
 },
 "nbformat": 4,
 "nbformat_minor": 5
}
