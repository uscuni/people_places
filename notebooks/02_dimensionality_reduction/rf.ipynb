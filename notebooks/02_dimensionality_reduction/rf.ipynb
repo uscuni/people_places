{
 "cells": [
  {
   "cell_type": "code",
   "execution_count": null,
   "id": "9fb51324-66aa-4356-9140-624380de3b7b",
   "metadata": {},
   "outputs": [],
   "source": [
    "import pathlib\n",
    "\n",
    "import geopandas as gpd\n",
    "import joblib\n",
    "import matplotlib.pyplot as plt\n",
    "import numpy as np\n",
    "import pandas as pd\n",
    "import shapely\n",
    "from libpysal import graph\n",
    "from sklearn import ensemble, metrics, model_selection\n",
    "from sklearn.ensemble import RandomForestClassifier\n",
    "from sklearn.preprocessing import StandardScaler"
   ]
  },
  {
   "cell_type": "code",
   "execution_count": null,
   "id": "dd833fa4-806d-45e2-bce5-5b708d722afa",
   "metadata": {},
   "outputs": [],
   "source": [
    "# Open data for total population\n",
    "total = pd.read_csv(\n",
    "    \"/data/uscuni-restricted/04_spatial_census/total.csv\",\n",
    "    dtype={\"nadzsjd\": str},\n",
    "    index_col=0,\n",
    ")\n",
    "# Open data diles\n",
    "data = gpd.read_parquet(\n",
    "    \"/data/uscuni-restricted/04_spatial_census/_merged_census_2021.parquet\"\n",
    ").set_index(\"nadzsjd\")\n",
    "# Merge data\n",
    "data_total = data.join(total)\n",
    "# Remove unnecessary columns\n",
    "\n",
    "data_relative = data_total.drop(\n",
    "    columns=[\n",
    "        \"NUTS_2\",\n",
    "        \"naz_oblast\",\n",
    "        \"NUTS_3\",\n",
    "        \"naz_kraj\",\n",
    "        \"kod_okres\",\n",
    "        \"naz_okres\",\n",
    "        \"naz_orp\",\n",
    "        \"kod_obec\",\n",
    "        \"naz_obec\",\n",
    "        \"kod_mco\",\n",
    "        \"nazev_mco\",\n",
    "    ]\n",
    ")\n",
    "\n",
    "# Do some preprocessing\n",
    "# data_relative = data_relative.replace(\"d\", np.nan).dropna(axis=0)\n",
    "data_relative[data_relative.columns.drop(\"geometry\")] = data_relative[\n",
    "    data_relative.columns.drop(\"geometry\")\n",
    "].astype(float)\n",
    "\n",
    "# Normalize the data\n",
    "cols_to_normalize = data_relative.columns.drop(\n",
    "    [\"Obyvatelstvo celkem\", \"geometry\", \"kod_orp\"]\n",
    ")\n",
    "data_relative[cols_to_normalize] = data_relative[cols_to_normalize].div(\n",
    "    data_relative[\"Obyvatelstvo celkem\"], axis=0\n",
    ")\n",
    "\n",
    "# Drop NaN values\n",
    "data_relative = data_relative.dropna(axis=0)\n",
    "\n",
    "scaler = StandardScaler()\n",
    "data_relative[cols_to_normalize] = scaler.fit_transform(\n",
    "    np.nan_to_num(data_relative[cols_to_normalize])\n",
    ")"
   ]
  },
  {
   "cell_type": "code",
   "execution_count": null,
   "id": "987dd944-dd18-4c09-833f-27b5b7226201",
   "metadata": {},
   "outputs": [],
   "source": [
    "data_r = data_relative[data_relative.columns.drop([\"Obyvatelstvo celkem\", \"kod_orp\"])]\n",
    "data_r.to_parquet(\"/data/uscuni-restricted/05_umap/no_dr.parquet\")"
   ]
  },
  {
   "cell_type": "code",
   "execution_count": null,
   "id": "dcccf6db-b608-48f4-9c60-bbd77f24b4e2",
   "metadata": {},
   "outputs": [],
   "source": [
    "clusters = pd.read_csv(\n",
    "    \"/data/uscuni-restricted/04_spatial_census/cluster_assignment_v10.csv\",\n",
    "    dtype={\"kod_nadzsj_d\": str},\n",
    ")\n",
    "cluster_mapping = pd.read_parquet(\n",
    "    \"/data/uscuni-ulce/processed_data/clusters/cluster_mapping_v10.pq\"\n",
    ")\n",
    "data = data_relative.merge(clusters, left_on=\"nadzsjd\", right_on=\"kod_nadzsj_d\")\n",
    "variables = data.columns.drop(\n",
    "    [\n",
    "        \"geometry\",\n",
    "        \"kod_nadzsj_d\",\n",
    "        \"final_without_noise\",\n",
    "        \"kod_orp\",\n",
    "        \"Obyvatelstvo celkem\",\n",
    "    ]\n",
    ")\n",
    "\n",
    "data[\"Cluster\"] = data[\"final_without_noise\"].map(cluster_mapping[3])"
   ]
  },
  {
   "cell_type": "code",
   "execution_count": null,
   "id": "f2abd086-458b-485b-810b-04f2fb913de4",
   "metadata": {},
   "outputs": [],
   "source": [
    "data[\"Cluster\"].unique()"
   ]
  },
  {
   "cell_type": "code",
   "execution_count": null,
   "id": "4fc3929f-9fc2-44a6-9ad2-d6664ecb2ea5",
   "metadata": {},
   "outputs": [],
   "source": [
    "independent = data[variables]\n",
    "target = data[\"Cluster\"]"
   ]
  },
  {
   "cell_type": "code",
   "execution_count": null,
   "id": "8377cc8f-4cf1-46c2-a00f-85d2adf0d93a",
   "metadata": {},
   "outputs": [],
   "source": [
    "X_train, X_test, y_train, y_test = model_selection.train_test_split(\n",
    "    independent, target, test_size=0.3, random_state=0\n",
    ")"
   ]
  },
  {
   "cell_type": "code",
   "execution_count": null,
   "id": "eabacba4-f4cb-4925-98de-e5c9bddf3fee",
   "metadata": {},
   "outputs": [],
   "source": [
    "model = RandomForestClassifier(random_state=0, n_jobs=-1)\n",
    "model.fit(X_train, y_train)"
   ]
  },
  {
   "cell_type": "code",
   "execution_count": null,
   "id": "a2ef856a-85f8-440a-840a-154ab4e79191",
   "metadata": {},
   "outputs": [],
   "source": [
    "pred = model.predict(X_test)\n",
    "pred"
   ]
  },
  {
   "cell_type": "code",
   "execution_count": null,
   "id": "ff4cbc6c-5d20-4120-861f-8f7473ed3209",
   "metadata": {},
   "outputs": [],
   "source": [
    "proba = model.predict_proba(X_test)\n",
    "proba"
   ]
  },
  {
   "cell_type": "code",
   "execution_count": null,
   "id": "0e8c4b8c-28cf-4cc4-a914-7b4eb3db1347",
   "metadata": {},
   "outputs": [],
   "source": [
    "model.classes_"
   ]
  },
  {
   "cell_type": "code",
   "execution_count": null,
   "id": "d49a98ef-35b7-45b2-abd4-9f7f03acf3d0",
   "metadata": {},
   "outputs": [],
   "source": [
    "pd.DataFrame(proba, columns=model.classes_, index=X_test.index)"
   ]
  },
  {
   "cell_type": "code",
   "execution_count": null,
   "id": "fd04a233-3619-4e04-9653-d6901a929dc4",
   "metadata": {},
   "outputs": [],
   "source": [
    "accuracy = metrics.accuracy_score(pred, y_test)\n",
    "kappa = metrics.cohen_kappa_score(pred, y_test)\n",
    "\n",
    "summary = f\"\"\"\\\n",
    "Evaluation metrics\n",
    "==================\n",
    "Basic model:\n",
    "  Accuracy: {round(accuracy, 3)}\n",
    "  Kappa:    {round(kappa, 3)}\n",
    "\"\"\"\n",
    "\n",
    "print(summary)"
   ]
  },
  {
   "cell_type": "code",
   "execution_count": null,
   "id": "42c2b082-352b-4c43-bccd-5118d00ebd94",
   "metadata": {},
   "outputs": [],
   "source": [
    "predicted = model_selection.cross_val_predict(\n",
    "    model, independent, target, cv=4, n_jobs=-1\n",
    ")\n",
    "\n",
    "ax = data.plot(predicted, legend=True, figsize=(9, 9), markersize=0.1, categorical=True)\n",
    "ax.set_axis_off()"
   ]
  },
  {
   "cell_type": "code",
   "execution_count": null,
   "id": "2956b59d-16ad-48e1-b2af-2b593f8f1b58",
   "metadata": {},
   "outputs": [],
   "source": [
    "ax = data.plot(\n",
    "    predicted == target,\n",
    "    categorical=True,\n",
    "    figsize=(9, 9),\n",
    "    markersize=0.1,\n",
    "    cmap=\"bwr_r\",\n",
    "    legend=True,\n",
    ")\n",
    "ax.set_axis_off()"
   ]
  },
  {
   "cell_type": "code",
   "execution_count": null,
   "id": "2bef5dbb-0c61-4f9b-ae85-68e6e33d2982",
   "metadata": {},
   "outputs": [],
   "source": [
    "feat_importances = pd.Series(\n",
    "    model.feature_importances_, index=X_train.columns\n",
    ").sort_values()\n",
    "plt.figure(figsize=(5, 20))\n",
    "\n",
    "feat_importances.plot(kind=\"barh\")"
   ]
  },
  {
   "cell_type": "code",
   "execution_count": null,
   "id": "04299c08-f99e-4069-b234-b3443fb84ac9",
   "metadata": {},
   "outputs": [],
   "source": [
    "gkf = model_selection.StratifiedGroupKFold(n_splits=5)\n",
    "splits = gkf.split(\n",
    "    independent,\n",
    "    target,\n",
    "    groups=data.kod_orp,\n",
    ")"
   ]
  },
  {
   "cell_type": "code",
   "execution_count": null,
   "id": "8182cde5-6ca1-4150-aba4-168edac5d2ec",
   "metadata": {},
   "outputs": [],
   "source": [
    "split_label = np.empty(len(data), dtype=float)\n",
    "for i, (test) in enumerate(splits):\n",
    "    split_label[test] = i\n",
    "data[\"split\"] = split_label"
   ]
  },
  {
   "cell_type": "code",
   "execution_count": null,
   "id": "5825ddc3-9ebe-48b3-88bb-272fd30947ec",
   "metadata": {},
   "outputs": [],
   "source": [
    "ax = data.plot(\"split\", categorical=True, figsize=(9, 9), markersize=0.1, legend=True)\n",
    "data.dissolve(\"kod_orp\").convex_hull.boundary.plot(\n",
    "    ax=ax, color=\"k\", linewidth=0.5, markersize=0\n",
    ")\n",
    "ax.set_axis_off()"
   ]
  },
  {
   "cell_type": "code",
   "execution_count": null,
   "id": "e01ef9b4-3f86-4f88-bb60-082e5c736143",
   "metadata": {},
   "outputs": [],
   "source": [
    "train = data[\"split\"] != 0\n",
    "X_train = independent.loc[train]\n",
    "y_train = data[\"Cluster\"].loc[train]\n",
    "\n",
    "test = data[\"split\"] == 0\n",
    "X_test = independent.loc[test]\n",
    "y_test = data[\"Cluster\"].loc[test]"
   ]
  },
  {
   "cell_type": "code",
   "execution_count": null,
   "id": "adafc5f1-b98f-4bd7-819d-82a60cccdb90",
   "metadata": {},
   "outputs": [],
   "source": [
    "rf_spatial_cv = RandomForestClassifier(random_state=0, n_jobs=-1)\n",
    "rf_spatial_cv.fit(X_train, y_train)"
   ]
  },
  {
   "cell_type": "code",
   "execution_count": null,
   "id": "e6497571-5757-4f60-9337-cb25a423d639",
   "metadata": {},
   "outputs": [],
   "source": [
    "pred = rf_spatial_cv.predict(X_test)\n",
    "\n",
    "accuracy_spatial_cv = metrics.accuracy_score(pred, y_test)\n",
    "kappa_spatial_cv = metrics.cohen_kappa_score(pred, y_test)\n",
    "\n",
    "summary += f\"\"\"\\\n",
    "Basic model with spatial cross-validation:\n",
    "  Accuracy: {round(accuracy_spatial_cv, 3)}\n",
    "  Kappa:    {round(kappa_spatial_cv, 3)}\n",
    "\"\"\"\n",
    "\n",
    "print(summary)"
   ]
  },
  {
   "cell_type": "code",
   "execution_count": null,
   "id": "e4602ecb-e25c-42c2-826c-a9ebb8ccba55",
   "metadata": {},
   "outputs": [],
   "source": [
    "predicted = model_selection.cross_val_predict(\n",
    "    rf_spatial_cv, independent, target, cv=4, n_jobs=-1\n",
    ")\n",
    "\n",
    "ax = data.plot(predicted, legend=True, figsize=(9, 9), markersize=0.1, categorical=True)\n",
    "ax.set_axis_off()"
   ]
  },
  {
   "cell_type": "code",
   "execution_count": null,
   "id": "1e022a54-b058-4a0a-bb8e-5baaa5670bfc",
   "metadata": {},
   "outputs": [],
   "source": [
    "feat_importances = pd.Series(\n",
    "    model.feature_importances_, index=X_train.columns\n",
    ").sort_values()\n",
    "plt.figure(figsize=(5, 20))\n",
    "\n",
    "feat_importances.plot(kind=\"barh\")"
   ]
  },
  {
   "cell_type": "code",
   "execution_count": null,
   "id": "c9ce4aa7-8d9c-4013-9e32-1d5e76b74dee",
   "metadata": {},
   "outputs": [],
   "source": []
  },
  {
   "cell_type": "code",
   "execution_count": null,
   "id": "62aa26cd-a754-46e6-ac69-a8ecdb01da9d",
   "metadata": {},
   "outputs": [],
   "source": []
  },
  {
   "cell_type": "code",
   "execution_count": null,
   "id": "f008505c-a4ac-46ef-9da9-495df2f8482f",
   "metadata": {},
   "outputs": [],
   "source": []
  }
 ],
 "metadata": {
  "kernelspec": {
   "display_name": "Python 3 (ipykernel)",
   "language": "python",
   "name": "python3"
  },
  "language_info": {
   "codemirror_mode": {
    "name": "ipython",
    "version": 3
   },
   "file_extension": ".py",
   "mimetype": "text/x-python",
   "name": "python",
   "nbconvert_exporter": "python",
   "pygments_lexer": "ipython3"
  }
 },
 "nbformat": 4,
 "nbformat_minor": 5
}
