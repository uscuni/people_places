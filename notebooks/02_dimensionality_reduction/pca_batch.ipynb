{
 "cells": [
  {
   "cell_type": "code",
   "execution_count": null,
   "id": "1895aa2a-5835-4c93-882e-c3abb0dd9942",
   "metadata": {},
   "outputs": [],
   "source": [
    "from glob import glob\n",
    "from pathlib import Path\n",
    "\n",
    "import geopandas as gpd\n",
    "import matplotlib.pyplot as plt\n",
    "import numpy as np\n",
    "import pandas as pd\n",
    "from factor_analyzer import FactorAnalyzer\n",
    "from sklearn.decomposition import PCA, FactorAnalysis\n",
    "from sklearn.preprocessing import StandardScaler"
   ]
  },
  {
   "cell_type": "code",
   "execution_count": null,
   "id": "89a4dba9-f6d6-4fb0-b8b4-18be0fdf4dc4",
   "metadata": {},
   "outputs": [],
   "source": [
    "def process_file(path, path_total):\n",
    "    # Open data for total population\n",
    "    total = pd.read_csv(path_total, dtype={\"nadzsjd\": str}, index_col=0)\n",
    "    # Open data diles\n",
    "    data = gpd.read_parquet(path).set_index(\"nadzsjd\")\n",
    "    # Merge data\n",
    "    data_total = data.join(total)\n",
    "    # Remove unnecessary columns\n",
    "    data_relative = data_total.drop(data.columns[:12], axis=1)\n",
    "    data_relative = data_relative.drop(columns=\"Cluster\")\n",
    "\n",
    "    # Do some preprocessing\n",
    "    # data_relative = data_relative.replace(\"d\", np.nan).dropna(axis=0)\n",
    "    data_relative[data_relative.columns.drop(\"geometry\")] = data_relative[\n",
    "        data_relative.columns.drop(\"geometry\")\n",
    "    ].astype(float)\n",
    "\n",
    "    # Normalize the data\n",
    "    cols_to_normalize = data_relative.columns.drop([\"Obyvatelstvo celkem\", \"geometry\"])\n",
    "    data_relative[cols_to_normalize] = data_relative[cols_to_normalize].div(\n",
    "        data_relative[\"Obyvatelstvo celkem\"], axis=0\n",
    "    )\n",
    "\n",
    "    # Drop NaN values\n",
    "    data_relative = data_relative.dropna(axis=0)\n",
    "\n",
    "    scaler = StandardScaler()\n",
    "    data_relative[cols_to_normalize] = scaler.fit_transform(\n",
    "        np.nan_to_num(data_relative[cols_to_normalize])\n",
    "    )\n",
    "\n",
    "    return data_relative"
   ]
  },
  {
   "cell_type": "code",
   "execution_count": null,
   "id": "057ad1ac-e4da-449f-aff7-4da42353d991",
   "metadata": {},
   "outputs": [],
   "source": [
    "path_total = \"/data/uscuni-restricted/04_spatial_census/total.csv\""
   ]
  },
  {
   "cell_type": "code",
   "execution_count": null,
   "id": "816f9058-f338-4673-a583-4d16f090622d",
   "metadata": {},
   "outputs": [],
   "source": [
    "path = glob(\"/data/uscuni-restricted/04_spatial_census/*nadzsj*.parquet\")\n",
    "path"
   ]
  },
  {
   "cell_type": "code",
   "execution_count": null,
   "id": "5b8c5779-2de2-4c0c-8f43-9f237e1a5dde",
   "metadata": {},
   "outputs": [],
   "source": [
    "path.remove(\n",
    "    \"/data/uscuni-restricted/04_spatial_census/nadzsjd_statni_obcanstvi_narodnost_2021.parquet\"\n",
    ")"
   ]
  },
  {
   "cell_type": "code",
   "execution_count": null,
   "id": "e46018f7-ff24-4ec0-8d86-b0e93d09f196",
   "metadata": {},
   "outputs": [],
   "source": [
    "path"
   ]
  },
  {
   "cell_type": "code",
   "execution_count": null,
   "id": "3f1deee2-3ad2-4162-bf04-3b547c9b9253",
   "metadata": {},
   "outputs": [],
   "source": [
    "a = gpd.read_parquet(path[9]).set_index(\"nadzsjd\").sort_index()\n",
    "a.iloc[:, 12:]"
   ]
  },
  {
   "cell_type": "code",
   "execution_count": null,
   "id": "003d99e1-4888-4103-b91e-434b2657df74",
   "metadata": {},
   "outputs": [],
   "source": [
    "a = gpd.read_parquet(path[8]).set_index(\"nadzsjd\").sort_index()\n",
    "a.iloc[:, 12:]"
   ]
  },
  {
   "cell_type": "code",
   "execution_count": null,
   "id": "7e77554f-2076-4a9f-aa6b-fa9163838f24",
   "metadata": {},
   "outputs": [],
   "source": [
    "data_relative = process_file(path, path_total)"
   ]
  },
  {
   "cell_type": "code",
   "execution_count": null,
   "id": "e9ef5c3d-29d1-4a72-8541-fe6cb83b2be4",
   "metadata": {},
   "outputs": [],
   "source": [
    "pca = PCA()\n",
    "pca.fit(data_relative.drop(columns=[\"Obyvatelstvo celkem\", \"geometry\"]))"
   ]
  },
  {
   "cell_type": "code",
   "execution_count": null,
   "id": "5cb9afb3-3ce7-49f6-a649-5c763006a4a0",
   "metadata": {},
   "outputs": [],
   "source": [
    "plt.figure(figsize=(20, 10))\n",
    "plt.plot(np.cumsum(pca.explained_variance_ratio_), marker=\"o\")"
   ]
  },
  {
   "cell_type": "code",
   "execution_count": null,
   "id": "0e251ab1-c6c5-4ab9-bdc0-0a53f04b0213",
   "metadata": {},
   "outputs": [],
   "source": [
    "cumulative_variance = np.cumsum(pca.explained_variance_ratio_)\n",
    "n_components_80 = np.argmax(cumulative_variance >= 0.80)"
   ]
  },
  {
   "cell_type": "code",
   "execution_count": null,
   "id": "e64be636-ddfa-4122-87b9-f7e48c0d396d",
   "metadata": {},
   "outputs": [],
   "source": [
    "n_components_80"
   ]
  },
  {
   "cell_type": "code",
   "execution_count": null,
   "id": "28e04571-0093-4942-9cee-e18c61731167",
   "metadata": {},
   "outputs": [],
   "source": [
    "pca = PCA(n_components=29)\n",
    "pca.fit(data_relative.drop(columns=[\"Obyvatelstvo celkem\", \"geometry\"]))"
   ]
  },
  {
   "cell_type": "code",
   "execution_count": null,
   "id": "fb5ff598-44c0-48eb-88de-b774aee53261",
   "metadata": {},
   "outputs": [],
   "source": [
    "loadings = pca.components_.T * np.sqrt(pca.explained_variance_)\n",
    "loadings_df = pd.DataFrame(\n",
    "    loadings.T,\n",
    "    index=[f\"PC{i + 1}\" for i in range(pca.explained_variance_.shape[0])],\n",
    "    columns=(data_relative.drop(columns=[\"Obyvatelstvo celkem\", \"geometry\"])).columns,\n",
    ")\n",
    "loadings_df.T.style.background_gradient(cmap=\"RdBu\", vmin=-1, vmax=1)"
   ]
  },
  {
   "cell_type": "code",
   "execution_count": null,
   "id": "16a3bb7c-1c0d-4bfc-921f-944329d4e230",
   "metadata": {},
   "outputs": [],
   "source": [
    "loadings_df.T.to_csv(\"loadings_pca.txt\")"
   ]
  },
  {
   "cell_type": "code",
   "execution_count": null,
   "id": "4f08ebfd-0ea4-4632-a29f-ab5de14007d8",
   "metadata": {},
   "outputs": [],
   "source": [
    "transformed = pca.transform(\n",
    "    data_relative.drop(columns=[\"Obyvatelstvo celkem\", \"geometry\"])\n",
    ")\n",
    "\n",
    "df_pca = pd.DataFrame(\n",
    "    transformed,\n",
    "    index=data_relative.drop(columns=[\"Obyvatelstvo celkem\", \"geometry\"]).index,\n",
    ").set_geometry(data_relative.geometry)\n",
    "\n",
    "df_pca.columns = df_pca.columns.astype(str)\n",
    "df_pca.to_parquet(\"/data/uscuni-restricted/05_pcs/pcs_29.parquet\")"
   ]
  },
  {
   "cell_type": "code",
   "execution_count": null,
   "id": "ff3395e9-296e-41e0-b532-d564f83a32e8",
   "metadata": {},
   "outputs": [],
   "source": []
  },
  {
   "cell_type": "markdown",
   "id": "44c3fd06-c8b1-47db-84ee-cb78aa711311",
   "metadata": {},
   "source": [
    "## Merge factors from all files together\n",
    "If applied for multiple seperate files"
   ]
  },
  {
   "cell_type": "code",
   "execution_count": null,
   "id": "64e66518-f2a2-484b-a2c1-40858b2e0c5a",
   "metadata": {},
   "outputs": [],
   "source": [
    "dfs = []\n",
    "dfs = [df.set_geometry(df.geometry) for df in dfs]\n",
    "\n",
    "# Drop additional geometry columns before concatenation\n",
    "for i in range(1, len(dfs)):\n",
    "    dfs[i] = dfs[i].drop(columns=[\"geometry\"])\n",
    "\n",
    "# Concatenate along columns\n",
    "concat_df = pd.concat(dfs, axis=1)\n",
    "\n",
    "# Reassign geometry column after concatenation\n",
    "concat_df = gpd.GeoDataFrame(concat_df, geometry=dfs[0].geometry)"
   ]
  },
  {
   "cell_type": "code",
   "execution_count": null,
   "id": "a82f392d-002c-4333-9cbb-b011b0bc790e",
   "metadata": {},
   "outputs": [],
   "source": [
    "# Concatenate all datasets\n",
    "concat_df = pd.concat(dfs, axis=1)"
   ]
  },
  {
   "cell_type": "code",
   "execution_count": null,
   "id": "bb206d40-b833-4ab4-8df2-d50c753d211a",
   "metadata": {},
   "outputs": [],
   "source": [
    "concat_df.to_parquet(\"/data/uscuni-restricted/05_fa/merged_fa.parquet\")"
   ]
  }
 ],
 "metadata": {
  "kernelspec": {
   "display_name": "Python 3 (ipykernel)",
   "language": "python",
   "name": "python3"
  },
  "language_info": {
   "codemirror_mode": {
    "name": "ipython",
    "version": 3
   },
   "file_extension": ".py",
   "mimetype": "text/x-python",
   "name": "python",
   "nbconvert_exporter": "python",
   "pygments_lexer": "ipython3"
  }
 },
 "nbformat": 4,
 "nbformat_minor": 5
}
