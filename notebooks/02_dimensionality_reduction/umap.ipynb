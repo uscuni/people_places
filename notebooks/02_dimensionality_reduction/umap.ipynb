{
 "cells": [
  {
   "cell_type": "code",
   "execution_count": null,
   "id": "1895aa2a-5835-4c93-882e-c3abb0dd9942",
   "metadata": {},
   "outputs": [],
   "source": [
    "from glob import glob\n",
    "from pathlib import Path\n",
    "\n",
    "import geopandas as gpd\n",
    "import matplotlib.pyplot as plt\n",
    "import numpy as np\n",
    "import pandas as pd\n",
    "import umap\n",
    "from factor_analyzer import FactorAnalyzer\n",
    "from sklearn.decomposition import PCA, FactorAnalysis\n",
    "from sklearn.preprocessing import StandardScaler"
   ]
  },
  {
   "cell_type": "code",
   "execution_count": null,
   "id": "89a4dba9-f6d6-4fb0-b8b4-18be0fdf4dc4",
   "metadata": {},
   "outputs": [],
   "source": [
    "def process_file(path, path_total):\n",
    "    # Open data for total population\n",
    "    total = pd.read_csv(path_total, dtype={\"nadzsjd\": str}, index_col=0).set_index(\n",
    "        \"nadzsjd\"\n",
    "    )\n",
    "    # Open data diles\n",
    "    data = gpd.read_parquet(path).set_index(\"nadzsjd\")\n",
    "    # Merge data\n",
    "    data_total = data.join(total)\n",
    "    # Remove unnecessary columns\n",
    "    data_relative = data_total.drop(data.columns[:12], axis=1)\n",
    "    # Do some preprocessing\n",
    "    data_relative = data_relative.replace(\"d\", np.nan).dropna(axis=0)\n",
    "    data_relative[data_relative.columns.drop(\"geometry\")] = data_relative[\n",
    "        data_relative.columns.drop(\"geometry\")\n",
    "    ].astype(float)\n",
    "\n",
    "    # Normalize the data\n",
    "    cols_to_normalize = data_relative.columns.drop([\"Obyvatelstvo celkem\", \"geometry\"])\n",
    "    data_relative[cols_to_normalize] = data_relative[cols_to_normalize].div(\n",
    "        data_relative[\"Obyvatelstvo celkem\"], axis=0\n",
    "    )\n",
    "\n",
    "    # Drop NaN values\n",
    "    data_relative = data_relative.dropna(axis=0)\n",
    "\n",
    "    scaler = StandardScaler()\n",
    "    data_relative[cols_to_normalize] = scaler.fit_transform(\n",
    "        data_relative[cols_to_normalize]\n",
    "    )\n",
    "\n",
    "    return data_relative"
   ]
  },
  {
   "cell_type": "code",
   "execution_count": null,
   "id": "057ad1ac-e4da-449f-aff7-4da42353d991",
   "metadata": {},
   "outputs": [],
   "source": [
    "path_total = \"/data/uscuni-restricted/04_spatial_census/total.csv\""
   ]
  },
  {
   "cell_type": "code",
   "execution_count": null,
   "id": "816f9058-f338-4673-a583-4d16f090622d",
   "metadata": {},
   "outputs": [],
   "source": [
    "file = \"/data/uscuni-restricted/04_spatial_census_2/_merged_census_2021.parquet\""
   ]
  },
  {
   "cell_type": "code",
   "execution_count": null,
   "id": "7e77554f-2076-4a9f-aa6b-fa9163838f24",
   "metadata": {},
   "outputs": [],
   "source": [
    "data_relative = process_file(file, path_total)"
   ]
  },
  {
   "cell_type": "code",
   "execution_count": null,
   "id": "ab23a0c4-5260-46a5-999f-07a22ce8550b",
   "metadata": {},
   "outputs": [],
   "source": [
    "clusters = pd.read_csv(\n",
    "    \"/data/uscuni-restricted/geometries/cluster_assignment_v3.csv\",\n",
    "    dtype={\"kod_nadzsj_d\": str},\n",
    ")\n",
    "cluster_mapping = pd.read_parquet(\n",
    "    \"/data/uscuni-ulce/processed_data/clusters/cluster_mapping_v3.pq\"\n",
    ")"
   ]
  },
  {
   "cell_type": "code",
   "execution_count": null,
   "id": "1b3ac2b4-9644-480b-97ce-0eec4ca8e420",
   "metadata": {},
   "outputs": [],
   "source": [
    "data_relative = data_relative.merge(\n",
    "    clusters, how=\"left\", left_on=\"nadzsjd\", right_on=\"kod_nadzsj_d\"\n",
    ")"
   ]
  },
  {
   "cell_type": "code",
   "execution_count": null,
   "id": "f5eac601-bbbf-4d79-b64c-1a9b4ce9281e",
   "metadata": {},
   "outputs": [],
   "source": [
    "data_relative[\"cluster\"] = data_relative[\"final_without_noise\"].map(\n",
    "    cluster_mapping[3].to_dict()\n",
    ")"
   ]
  },
  {
   "cell_type": "code",
   "execution_count": null,
   "id": "9915d757-41dd-4918-83fe-2e87f8c1e20f",
   "metadata": {},
   "outputs": [],
   "source": [
    "data_relative = data_relative.dropna()"
   ]
  },
  {
   "cell_type": "code",
   "execution_count": null,
   "id": "e9ef5c3d-29d1-4a72-8541-fe6cb83b2be4",
   "metadata": {},
   "outputs": [],
   "source": [
    "umap = umap.UMAP(\n",
    "    n_neighbors=5, min_dist=0.0, n_components=20, metric=\"euclidean\", random_state=42\n",
    ")"
   ]
  },
  {
   "cell_type": "code",
   "execution_count": null,
   "id": "834fbc5f-bc95-46b9-9478-4a7126df46f4",
   "metadata": {},
   "outputs": [],
   "source": [
    "umap"
   ]
  },
  {
   "cell_type": "code",
   "execution_count": null,
   "id": "8de06fb0-cf20-4407-a76a-8e493cd2e14f",
   "metadata": {},
   "outputs": [],
   "source": [
    "embedding = umap.fit_transform(\n",
    "    data_relative.drop(columns=[\"Obyvatelstvo celkem\", \"geometry\", \"cluster\"]),\n",
    "    y=data_relative[\"cluster\"],\n",
    ")"
   ]
  },
  {
   "cell_type": "code",
   "execution_count": null,
   "id": "9c8bba3e-06c0-43e9-9029-4cd6471e05e3",
   "metadata": {},
   "outputs": [],
   "source": [
    "plt.figure(figsize=(8, 6))\n",
    "plt.scatter(\n",
    "    embedding[:, 0], embedding[:, 1], c=data_relative[\"cluster\"], cmap=\"Spectral\", s=10\n",
    ")\n",
    "plt.title(\"Supervised UMAP Projection\")\n",
    "plt.colorbar()\n",
    "plt.show()"
   ]
  },
  {
   "cell_type": "code",
   "execution_count": null,
   "id": "4b1c3abf-099d-4e7f-8ace-134bab1d5f9b",
   "metadata": {},
   "outputs": [],
   "source": [
    "umap_gdf = gpd.GeoDataFrame(\n",
    "    umap.embedding_,\n",
    "    index=data_relative.drop(columns=[\"Obyvatelstvo celkem\", \"geometry\"]).index,\n",
    ").set_geometry(data_relative.geometry)\n",
    "umap_gdf.columns = umap_gdf.columns.astype(str)\n",
    "\n",
    "umap_gdf.to_parquet(\"/data/uscuni-restricted/05_umap/umap_new.parquet\")"
   ]
  }
 ],
 "metadata": {
  "kernelspec": {
   "display_name": "Python 3 (ipykernel)",
   "language": "python",
   "name": "python3"
  },
  "language_info": {
   "codemirror_mode": {
    "name": "ipython",
    "version": 3
   },
   "file_extension": ".py",
   "mimetype": "text/x-python",
   "name": "python",
   "nbconvert_exporter": "python",
   "pygments_lexer": "ipython3"
  }
 },
 "nbformat": 4,
 "nbformat_minor": 5
}
