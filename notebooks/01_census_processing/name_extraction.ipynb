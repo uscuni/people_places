{
 "cells": [
  {
   "cell_type": "markdown",
   "id": "1b7f1f52-c366-4261-8c04-8bc558da3fd1",
   "metadata": {},
   "source": [
    "# Column names extraction\n",
    "\n",
    "This notebook extracts column names"
   ]
  },
  {
   "cell_type": "code",
   "execution_count": null,
   "id": "e3cccbf1-dc4c-4edf-ba4e-077d294f2017",
   "metadata": {},
   "outputs": [],
   "source": [
    "import glob\n",
    "import os\n",
    "\n",
    "import pandas as pd"
   ]
  },
  {
   "cell_type": "code",
   "execution_count": null,
   "id": "804b9fc8-ea1f-41c5-88fe-54c15a4b8bdf",
   "metadata": {},
   "outputs": [],
   "source": [
    "# ls \"/data/uscuni-restricted/01_preprocessed_census/\""
   ]
  },
  {
   "cell_type": "code",
   "execution_count": null,
   "id": "f24da404-9e25-425f-be50-384a10f32779",
   "metadata": {},
   "outputs": [],
   "source": [
    "os.getcwd()"
   ]
  },
  {
   "cell_type": "code",
   "execution_count": null,
   "id": "d909d23f-4846-48e6-973c-cdbe82ab80aa",
   "metadata": {},
   "outputs": [],
   "source": [
    "# Path to your directory containing the CSV files\n",
    "path = \"/data/uscuni-restricted/03_ready_census/*.csv\"\n",
    "\n",
    "# Get all CSV files from the directory\n",
    "csv_files = glob.glob(path)"
   ]
  },
  {
   "cell_type": "code",
   "execution_count": null,
   "id": "9ff10db8-c67b-44e5-8485-0cda2fac03d6",
   "metadata": {},
   "outputs": [],
   "source": [
    "csv_files"
   ]
  },
  {
   "cell_type": "code",
   "execution_count": null,
   "id": "59738cd5-4f94-4e7a-b389-eb8950bc6b48",
   "metadata": {},
   "outputs": [],
   "source": [
    "# List to store column names\n",
    "all_columns = []\n",
    "\n",
    "# Loop through each file and collect column names\n",
    "for file in csv_files:\n",
    "    # Read the file\n",
    "    df = pd.read_csv(file)\n",
    "\n",
    "    # Extract column names and append to the list\n",
    "    all_columns.extend(df.columns.tolist())\n",
    "\n",
    "# Remove duplicates if needed\n",
    "all_columns = list(set(all_columns))\n",
    "\n",
    "# Create a DataFrame with one column for the column names\n",
    "df_columns = pd.DataFrame(all_columns, columns=[\"Column Names\"])\n",
    "\n",
    "# Save to a new CSV\n",
    "df_columns.to_csv(\n",
    "    \"/data/uscuni-restricted/03_ready_census/column_names.csv\", index=False\n",
    ")"
   ]
  }
 ],
 "metadata": {
  "kernelspec": {
   "display_name": "Python 3 (ipykernel)",
   "language": "python",
   "name": "python3"
  },
  "language_info": {
   "codemirror_mode": {
    "name": "ipython",
    "version": 3
   },
   "file_extension": ".py",
   "mimetype": "text/x-python",
   "name": "python",
   "nbconvert_exporter": "python",
   "pygments_lexer": "ipython3"
  }
 },
 "nbformat": 4,
 "nbformat_minor": 5
}
