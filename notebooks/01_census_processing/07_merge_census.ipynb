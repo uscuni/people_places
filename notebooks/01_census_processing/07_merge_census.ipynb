{
 "cells": [
  {
   "cell_type": "markdown",
   "id": "4f3f2e9c-88fb-4bdc-bd32-c090af8aa5cb",
   "metadata": {},
   "source": [
    "# Data merging\n",
    "\n",
    "This notebook merges all datasets from census and assigns each unit its cluster"
   ]
  },
  {
   "cell_type": "code",
   "execution_count": null,
   "id": "7025940f-e7c5-4ff7-8dd4-eb52f54cc79c",
   "metadata": {},
   "outputs": [],
   "source": [
    "from glob import glob\n",
    "\n",
    "import geopandas as gpd\n",
    "import pandas as pd"
   ]
  },
  {
   "cell_type": "code",
   "execution_count": null,
   "id": "0b8ec00b-5277-4b55-bf39-fc484ba21970",
   "metadata": {},
   "outputs": [],
   "source": [
    "# Define path\n",
    "files = glob(\"/data/uscuni-restricted/04_spatial_census/*nadzsj*.parquet\")"
   ]
  },
  {
   "cell_type": "code",
   "execution_count": null,
   "id": "c2a6d55d-fd28-4029-8cc6-0690f9c53ccf",
   "metadata": {},
   "outputs": [],
   "source": [
    "files.remove(\n",
    "    \"/data/uscuni-restricted/04_spatial_census/nadzsjd_statni_obcanstvi_narodnost_2021.parquet\"\n",
    ")"
   ]
  },
  {
   "cell_type": "code",
   "execution_count": null,
   "id": "3cdfbc7e-06e9-4996-ae05-11d60435a29a",
   "metadata": {},
   "outputs": [],
   "source": [
    "files"
   ]
  },
  {
   "cell_type": "code",
   "execution_count": null,
   "id": "0b356991-530f-4e5e-b534-17277e9f0370",
   "metadata": {},
   "outputs": [],
   "source": [
    "# Create empty list to store all files\n",
    "dfs = []\n",
    "\n",
    "# Process all files\n",
    "for file in files:\n",
    "    dfs.append(gpd.read_parquet(file))"
   ]
  },
  {
   "cell_type": "code",
   "execution_count": null,
   "id": "b61d1dee-b027-4b55-a549-2b3515e519e1",
   "metadata": {},
   "outputs": [],
   "source": [
    "dfs = [df.set_geometry(df.geometry) for df in dfs]\n",
    "\n",
    "# Drop additional geometry columns before concatenation\n",
    "for i in range(1, len(dfs)):\n",
    "    dfs[i] = dfs[i].drop(columns=[\"geometry\"])\n",
    "\n",
    "# Concatenate along columns\n",
    "concat_df = pd.concat(dfs, axis=1)\n",
    "\n",
    "# Reassign geometry column after concatenation\n",
    "concat_df = gpd.GeoDataFrame(concat_df, geometry=dfs[0].geometry)"
   ]
  },
  {
   "cell_type": "code",
   "execution_count": null,
   "id": "f8b6b12d-ab3a-4910-91f6-f4a74783f401",
   "metadata": {},
   "outputs": [],
   "source": [
    "concat_df = pd.concat(dfs, axis=1)"
   ]
  },
  {
   "cell_type": "code",
   "execution_count": null,
   "id": "424de58a-71f8-43b7-9db1-90c9fd277775",
   "metadata": {},
   "outputs": [],
   "source": [
    "# Remove duplicate columns\n",
    "merged_df = concat_df.loc[:, ~concat_df.columns.duplicated()]"
   ]
  },
  {
   "cell_type": "code",
   "execution_count": null,
   "id": "c4627435-eb7a-4d44-b7a7-705db0678881",
   "metadata": {},
   "outputs": [],
   "source": [
    "# Save dataset\n",
    "merged_df.to_parquet(\n",
    "    \"/data/uscuni-restricted/04_spatial_census/_merged_census_2021.parquet\"\n",
    ")"
   ]
  },
  {
   "cell_type": "code",
   "execution_count": null,
   "id": "de942f9d-dee8-4f86-9eb7-8b0b3d4476d1",
   "metadata": {},
   "outputs": [],
   "source": [
    "for col in merged_df.columns:\n",
    "    print(col)"
   ]
  },
  {
   "cell_type": "code",
   "execution_count": null,
   "id": "0e710093-6432-4095-b4ec-b8e10ac42228",
   "metadata": {},
   "outputs": [],
   "source": []
  }
 ],
 "metadata": {
  "kernelspec": {
   "display_name": "Python 3 (ipykernel)",
   "language": "python",
   "name": "python3"
  },
  "language_info": {
   "codemirror_mode": {
    "name": "ipython",
    "version": 3
   },
   "file_extension": ".py",
   "mimetype": "text/x-python",
   "name": "python",
   "nbconvert_exporter": "python",
   "pygments_lexer": "ipython3"
  }
 },
 "nbformat": 4,
 "nbformat_minor": 5
}
