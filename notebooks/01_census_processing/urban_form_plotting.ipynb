{
 "cells": [
  {
   "cell_type": "markdown",
   "id": "b466f4d1-38e8-4606-9e16-122e68ebaeff",
   "metadata": {},
   "source": [
    "# Urban form plotting\n",
    "\n",
    "This ntb plots all Czech ZSJ and its most common urban form type"
   ]
  },
  {
   "cell_type": "code",
   "execution_count": null,
   "id": "b9cef64c-8637-4ba4-8a91-3f92b0a82efa",
   "metadata": {},
   "outputs": [],
   "source": [
    "import geopandas as gpd\n",
    "import pandas as pd"
   ]
  },
  {
   "cell_type": "code",
   "execution_count": null,
   "id": "80383ba9-8bd5-421b-a6e9-305927bdce81",
   "metadata": {},
   "outputs": [],
   "source": [
    "zsj = gpd.read_parquet(\n",
    "    \"/data/uscuni-restricted/04_spatial_census_2/nadzsjd_education_2021.parquet\"\n",
    ")"
   ]
  },
  {
   "cell_type": "code",
   "execution_count": null,
   "id": "5248648d-2fbb-430b-9790-44293a082c3c",
   "metadata": {},
   "outputs": [],
   "source": [
    "zsj.columns"
   ]
  },
  {
   "cell_type": "code",
   "execution_count": null,
   "id": "c92882c6-2f54-407c-b0d3-535753a626e7",
   "metadata": {},
   "outputs": [],
   "source": [
    "clusters = pd.read_csv(\n",
    "    \"/data/uscuni-restricted/geometries/cluster_assignment_v3.csv\",\n",
    "    dtype={\"kod_nadzsj_d\": str},\n",
    ")\n",
    "cluster_mapping = pd.read_parquet(\n",
    "    \"/data/uscuni-ulce/processed_data/clusters/cluster_mapping_v3.pq\"\n",
    ")\n",
    "data = zsj.merge(clusters, left_on=\"nadzsjd\", right_on=\"kod_nadzsj_d\")\n",
    "# variables = data.columns.drop([\"geometry\", \"kod_nadzsj_d\", \"final_without_noise\"])\n",
    "\n",
    "mapped = data[\"final_without_noise\"].map(cluster_mapping[3])\n",
    "data[\"cluster\"] = mapped"
   ]
  },
  {
   "cell_type": "code",
   "execution_count": null,
   "id": "44636630-1c6b-4f98-8161-380404c8b9a7",
   "metadata": {},
   "outputs": [],
   "source": [
    "import matplotlib.pyplot as plt\n",
    "\n",
    "# Define your custom color mapping\n",
    "cluster_colors = {\n",
    "    8: \"khaki\",\n",
    "    7: \"violet\",\n",
    "    1: \"dodgerblue\",\n",
    "    3: \"seagreen\",\n",
    "    4: \"firebrick\",\n",
    "    6: \"white\",\n",
    "    5: \"mediumpurple\",\n",
    "}\n",
    "\n",
    "# Map the colors to a new column\n",
    "data[\"cluster_color\"] = data[\"cluster\"].map(cluster_colors)\n",
    "\n",
    "# Plot with the colors\n",
    "data.plot(color=data[\"cluster_color\"], figsize=(15, 10)).set_axis_off()"
   ]
  },
  {
   "cell_type": "code",
   "execution_count": null,
   "id": "1d672ea1-ee70-4969-af3c-6f5debb736c5",
   "metadata": {},
   "outputs": [],
   "source": [
    "data[\"cluster\"].unique()"
   ]
  },
  {
   "cell_type": "code",
   "execution_count": null,
   "id": "7768dc04-d88d-4e82-a39f-c1e2d55b1b21",
   "metadata": {},
   "outputs": [],
   "source": [
    "# Plot with solid fill color (non-transparent)\n",
    "data.explore(\n",
    "    color=data[\"cluster_color\"],  # fill color\n",
    "    tiles=\"CartoDB positron\",\n",
    "    style_kwds={\n",
    "        \"color\": \"black\",  # border color\n",
    "        \"weight\": 0.9,  # border weight\n",
    "        \"fillOpacity\": 0.8,  # non-transparent fill\n",
    "    },\n",
    ")"
   ]
  },
  {
   "cell_type": "code",
   "execution_count": null,
   "id": "bb3e7ecf-eaf9-46e0-bf80-2ef3dce219a4",
   "metadata": {},
   "outputs": [],
   "source": [
    "data.plot(column=\"cluster_color\")"
   ]
  }
 ],
 "metadata": {
  "kernelspec": {
   "display_name": "Python 3 (ipykernel)",
   "language": "python",
   "name": "python3"
  },
  "language_info": {
   "codemirror_mode": {
    "name": "ipython",
    "version": 3
   },
   "file_extension": ".py",
   "mimetype": "text/x-python",
   "name": "python",
   "nbconvert_exporter": "python",
   "pygments_lexer": "ipython3"
  }
 },
 "nbformat": 4,
 "nbformat_minor": 5
}
