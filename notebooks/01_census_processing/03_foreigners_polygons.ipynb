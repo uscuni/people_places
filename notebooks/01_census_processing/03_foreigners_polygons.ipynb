{
 "cells": [
  {
   "cell_type": "markdown",
   "id": "09630640-8ecd-41f4-bb89-aa40c66108a4",
   "metadata": {},
   "source": [
    "# 03 Census data merging\n",
    "\n",
    "This notebook merges preprocessed and cleaned data from CSU with polygons"
   ]
  },
  {
   "cell_type": "code",
   "execution_count": null,
   "id": "d87f5141-0c7f-4351-baf2-26ab1e673b07",
   "metadata": {},
   "outputs": [],
   "source": [
    "from glob import glob\n",
    "from pathlib import Path\n",
    "\n",
    "import geopandas as gpd\n",
    "import geoplanar\n",
    "import pandas as pd\n",
    "from libpysal.cg import voronoi_frames"
   ]
  },
  {
   "cell_type": "code",
   "execution_count": null,
   "id": "c762bb5a-29cd-42e2-9dbc-e3680df6f580",
   "metadata": {},
   "outputs": [],
   "source": []
  },
  {
   "cell_type": "code",
   "execution_count": null,
   "id": "d8e30191-510c-4440-bf1c-e93fd9edd41c",
   "metadata": {},
   "outputs": [],
   "source": [
    "# Read polygons\n",
    "polygons = gpd.read_file(\"d_zsj_010122_join.shp\", driver=\"ESRI Shapefile\")\n",
    "polygons.head(2)"
   ]
  },
  {
   "cell_type": "code",
   "execution_count": null,
   "id": "371a1331-4691-4a29-af48-c2dc0dcea3f8",
   "metadata": {},
   "outputs": [],
   "source": []
  },
  {
   "cell_type": "code",
   "execution_count": null,
   "id": "ea0d21e1-c466-4584-ad14-197116bed203",
   "metadata": {},
   "outputs": [],
   "source": [
    "# Prepare data for merging\n",
    "# polygons = polygons.iloc[:, [0, 1, -1]]\n",
    "polygons[\"geometry\"] = polygons.geometry.force_2d()\n",
    "polygons.head(2)"
   ]
  },
  {
   "cell_type": "code",
   "execution_count": null,
   "id": "6e3037c6-c3d7-471a-9cae-7da734eb6886",
   "metadata": {},
   "outputs": [],
   "source": [
    "# Read data for converting between zsj and nadzsj\n",
    "converter = pd.read_excel(\n",
    "    \"/data/uscuni-restricted/Data_SLDB_2021/zsj_data/ZSJD_slouceneZSJD/sloucene/_prevodnik_zsjd_nadzsjd.xlsx\"\n",
    ")"
   ]
  },
  {
   "cell_type": "code",
   "execution_count": null,
   "id": "ad1dc82e-057c-4865-8c86-58387375ab1c",
   "metadata": {},
   "outputs": [],
   "source": [
    "# Prepare data for merging\n",
    "converter.columns = converter.iloc[2]\n",
    "converter = converter.iloc[4:]\n",
    "converter = converter.iloc[:, 18:]\n",
    "# converter[\"kod_nadzsj_d\"] = converter[\"kod_nadzsj_d\"].astype(int)\n",
    "converter.head(5)"
   ]
  },
  {
   "cell_type": "code",
   "execution_count": null,
   "id": "60891544",
   "metadata": {},
   "outputs": [],
   "source": [
    "mapping = converter.set_index(\"kod_zsj_d\")[\"kod_nadzsj_d\"]"
   ]
  },
  {
   "cell_type": "code",
   "execution_count": null,
   "id": "aa3faa8a",
   "metadata": {},
   "outputs": [],
   "source": [
    "mapping.head()"
   ]
  },
  {
   "cell_type": "code",
   "execution_count": null,
   "id": "87029e76",
   "metadata": {},
   "outputs": [],
   "source": [
    "polygons[\"kod_nadzsj_d\"] = polygons[\"KOD_ZSJ_D\"].map(mapping)"
   ]
  },
  {
   "cell_type": "code",
   "execution_count": null,
   "id": "afbb1928",
   "metadata": {},
   "outputs": [],
   "source": [
    "polygons[\"kod_nadzsj_d\"].isna().sum()"
   ]
  },
  {
   "cell_type": "code",
   "execution_count": null,
   "id": "3767500a",
   "metadata": {},
   "outputs": [],
   "source": [
    "polygons.loc[158, \"kod_nadzsj_d\"] = \"53806003\""
   ]
  },
  {
   "cell_type": "code",
   "execution_count": null,
   "id": "41e432c0-50b9-424c-8099-3c3b8c4c0521",
   "metadata": {},
   "outputs": [],
   "source": [
    "polygons = polygons.replace({None: 0})"
   ]
  },
  {
   "cell_type": "code",
   "execution_count": null,
   "id": "44b86fd8-82f1-4326-835c-bec25852f8bd",
   "metadata": {},
   "outputs": [],
   "source": [
    "polygons[\"Bulgaria\"] = polygons[\"Bulgaria\"].astype(float)\n",
    "polygons[\"USA\"] = polygons[\"USA\"].astype(float)"
   ]
  },
  {
   "cell_type": "code",
   "execution_count": null,
   "id": "72b193bc",
   "metadata": {},
   "outputs": [],
   "source": [
    "nadzjs_polygons = polygons.dissolve(\"kod_nadzsj_d\")"
   ]
  },
  {
   "cell_type": "code",
   "execution_count": null,
   "id": "e6db1951-1e58-42cc-b99b-50ab0d1cfc67",
   "metadata": {},
   "outputs": [],
   "source": [
    "nadzjs_polygons"
   ]
  },
  {
   "cell_type": "markdown",
   "id": "b0544df1",
   "metadata": {},
   "source": [
    "## Link to data files"
   ]
  },
  {
   "cell_type": "code",
   "execution_count": null,
   "id": "1cc21cc8-bd75-4093-a9f4-ce5924ff8801",
   "metadata": {},
   "outputs": [],
   "source": [
    "nadzjs_polygons = nadzjs_polygons.drop(\n",
    "    columns=[\n",
    "        \"OBJECTID\",\n",
    "        \"KOD_ZSJ_D\",\n",
    "        \"NAZ_ZSJ_D\",\n",
    "        \"KOD_ZSJ\",\n",
    "        \"NAZ_ZSJ\",\n",
    "        \"KOD_CAST_D\",\n",
    "        \"NAZ_CAST_D\",\n",
    "        \"KOD_UTJ\",\n",
    "        \"NAZ_UTJ\",\n",
    "        \"KOD_KU\",\n",
    "        \"KOD_KRAJ\",\n",
    "        \"NAZ_KU\",\n",
    "        \"KOD_ZUJ\",\n",
    "        \"NAZ_ZUJ\",\n",
    "        \"LAU1\",\n",
    "        \"PLATIOD\",\n",
    "        \"NEPLATIPO\",\n",
    "        \"Shape_Leng\",\n",
    "        \"Shape_Area\",\n",
    "        \"OBJECTID_1\",\n",
    "        \"kod_d_zsj_\",\n",
    "        \"kod_d_zsj1\",\n",
    "    ]\n",
    ")"
   ]
  },
  {
   "cell_type": "code",
   "execution_count": null,
   "id": "c7a9afc2-6dcf-44e9-adc2-85d8ffb38c60",
   "metadata": {},
   "outputs": [],
   "source": [
    "nadzjs_polygons = nadzjs_polygons.rename(\n",
    "    columns={\n",
    "        \"NUTS3_KRAJ\": \"NUTS_3\",\n",
    "        \"KOD_KRAJ\": \"kod_kraj\",\n",
    "        \"NAZ_KRAJ\": \"naz_kraj\",\n",
    "        \"NAZ_OKRES\": \"naz_okres\",\n",
    "        \"KOD_OKRES\": \"kod_okres\",\n",
    "        \"NAZ_OBEC\": \"naz_obec\",\n",
    "        \"KOD_OBEC\": \"kod_obec\",\n",
    "    }\n",
    ")"
   ]
  },
  {
   "cell_type": "code",
   "execution_count": null,
   "id": "4824d8cc-49e0-4b34-93a6-b4586a14d5b5",
   "metadata": {},
   "outputs": [],
   "source": [
    "nadzjs_polygons.to_parquet(\n",
    "    \"/data/uscuni-restricted/04_spatial_census/nadzsjd_foreigners.parquet\", index=False\n",
    ")"
   ]
  },
  {
   "cell_type": "code",
   "execution_count": null,
   "id": "7ec22e74-10b7-4b26-9800-e94768a1e369",
   "metadata": {},
   "outputs": [],
   "source": []
  },
  {
   "cell_type": "code",
   "execution_count": null,
   "id": "f7afe950-72d0-403f-8109-5221bd3747b7",
   "metadata": {},
   "outputs": [],
   "source": []
  },
  {
   "cell_type": "code",
   "execution_count": null,
   "id": "f0558dc1-5a22-4340-8198-3d67bdc74653",
   "metadata": {},
   "outputs": [],
   "source": []
  },
  {
   "cell_type": "code",
   "execution_count": null,
   "id": "ff9f6310-e2d6-4b3f-9f4a-8461c34b80a6",
   "metadata": {},
   "outputs": [],
   "source": []
  }
 ],
 "metadata": {
  "kernelspec": {
   "display_name": "Python 3 (ipykernel)",
   "language": "python",
   "name": "python3"
  },
  "language_info": {
   "codemirror_mode": {
    "name": "ipython",
    "version": 3
   },
   "file_extension": ".py",
   "mimetype": "text/x-python",
   "name": "python",
   "nbconvert_exporter": "python",
   "pygments_lexer": "ipython3"
  }
 },
 "nbformat": 4,
 "nbformat_minor": 5
}
