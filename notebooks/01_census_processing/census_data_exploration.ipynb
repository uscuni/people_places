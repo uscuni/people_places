{
 "cells": [
  {
   "cell_type": "markdown",
   "id": "09630640-8ecd-41f4-bb89-aa40c66108a4",
   "metadata": {},
   "source": [
    "# Czech Census data\n",
    "\n",
    "This notebook explores data from CSU"
   ]
  },
  {
   "cell_type": "code",
   "execution_count": null,
   "id": "d87f5141-0c7f-4351-baf2-26ab1e673b07",
   "metadata": {},
   "outputs": [],
   "source": [
    "import geopandas as gpd\n",
    "import pandas as pd"
   ]
  },
  {
   "cell_type": "code",
   "execution_count": null,
   "id": "d8e30191-510c-4440-bf1c-e93fd9edd41c",
   "metadata": {},
   "outputs": [],
   "source": [
    "polygons = gpd.read_file(\n",
    "    \"/data/uscuni-restricted/Data_SLDB_2021/zsj_sldb_2021_-7697413790081074647.zip\"\n",
    ")"
   ]
  },
  {
   "cell_type": "code",
   "execution_count": null,
   "id": "e11956aa-0f03-4ed1-9dba-c7710aa635ff",
   "metadata": {},
   "outputs": [],
   "source": [
    "polygons.head(2)"
   ]
  },
  {
   "cell_type": "code",
   "execution_count": null,
   "id": "6e3037c6-c3d7-471a-9cae-7da734eb6886",
   "metadata": {},
   "outputs": [],
   "source": [
    "prevodnik = pd.read_excel(\n",
    "    \"/data/uscuni-restricted/Data_SLDB_2021/zsj_data/ZSJD_slouceneZSJD/sloucene/_prevodnik_zsjd_nadzsjd.xlsx\"\n",
    ")"
   ]
  },
  {
   "cell_type": "code",
   "execution_count": null,
   "id": "441f1cb2-5bb2-431a-92f9-369128c54d3e",
   "metadata": {},
   "outputs": [],
   "source": [
    "prevodnik.head(5)"
   ]
  },
  {
   "cell_type": "code",
   "execution_count": null,
   "id": "b5b3362e-fa4a-473e-b9cd-95d4a4154314",
   "metadata": {},
   "outputs": [],
   "source": [
    "prevodnik.columns = prevodnik.iloc[2]\n",
    "prevodnik = prevodnik.iloc[4:]\n",
    "prevodnik = prevodnik.iloc[:, 18:]"
   ]
  },
  {
   "cell_type": "code",
   "execution_count": null,
   "id": "106eb548-0a10-49ec-872b-4a630eb83883",
   "metadata": {},
   "outputs": [],
   "source": [
    "pol = polygons.iloc[:, [0, 1, -1]]\n",
    "pol = pol.rename(columns={\"KOD_ZSJ_P\": \"kod_zsj\"})\n",
    "pol.head(2)"
   ]
  },
  {
   "cell_type": "code",
   "execution_count": null,
   "id": "36facdc7-fa99-4305-8cb2-0e774b0a434d",
   "metadata": {},
   "outputs": [],
   "source": [
    "# force_2d"
   ]
  },
  {
   "cell_type": "code",
   "execution_count": null,
   "id": "7c021db9-afd5-49d4-b518-b288a8388c98",
   "metadata": {},
   "outputs": [],
   "source": [
    "data = pd.read_excel(\n",
    "    \"/data/uscuni-restricted/Data_SLDB_2021/zsj_data/ZSJD_slouceneZSJD/sloucene/nadzsjd_zamestnani_2021.xlsx\"\n",
    ")"
   ]
  },
  {
   "cell_type": "code",
   "execution_count": null,
   "id": "a82f1788-393f-4962-b039-5c56f55aadfa",
   "metadata": {},
   "outputs": [],
   "source": [
    "data.head(5)"
   ]
  },
  {
   "cell_type": "code",
   "execution_count": null,
   "id": "522af711-8bd6-4f9a-b822-21505ddcbeac",
   "metadata": {},
   "outputs": [],
   "source": [
    "data.iloc[3, 0:13] = data.iloc[4, 0:13]\n",
    "data.columns = data.iloc[3]\n",
    "data.head(5)"
   ]
  },
  {
   "cell_type": "code",
   "execution_count": null,
   "id": "4be67aab-2524-4897-b9e8-8313f5de1b32",
   "metadata": {},
   "outputs": [],
   "source": [
    "data = data.iloc[5:]\n",
    "data.head(3)"
   ]
  },
  {
   "cell_type": "code",
   "execution_count": null,
   "id": "cb4eb65c-d087-4738-b3a5-ffd999fbb987",
   "metadata": {},
   "outputs": [],
   "source": [
    "data = data.iloc[:, 12:]"
   ]
  },
  {
   "cell_type": "code",
   "execution_count": null,
   "id": "e4fe4dc9-e437-487e-9483-ed9085b6121b",
   "metadata": {},
   "outputs": [],
   "source": [
    "data"
   ]
  },
  {
   "cell_type": "code",
   "execution_count": null,
   "id": "9830195c-630d-491c-8078-ab882bd97a4d",
   "metadata": {},
   "outputs": [],
   "source": [
    "prevodnik"
   ]
  },
  {
   "cell_type": "code",
   "execution_count": null,
   "id": "48b47aff-7779-4207-81b5-e27646a3e922",
   "metadata": {},
   "outputs": [],
   "source": [
    "data = data.rename(columns={\"nadzsjd\": \"kod_nadzsj_d\"})"
   ]
  },
  {
   "cell_type": "code",
   "execution_count": null,
   "id": "32d12f79-a80f-4fd5-8834-335b486e9c31",
   "metadata": {},
   "outputs": [],
   "source": [
    "data_p = pd.merge(\n",
    "    data, prevodnik[[\"kod_zsj\", \"kod_nadzsj_d\"]], on=\"kod_nadzsj_d\", how=\"left\"\n",
    ")"
   ]
  },
  {
   "cell_type": "code",
   "execution_count": null,
   "id": "72344a2f-59d5-4fdd-999c-007ba6f8227c",
   "metadata": {},
   "outputs": [],
   "source": [
    "data_p"
   ]
  },
  {
   "cell_type": "code",
   "execution_count": null,
   "id": "d7935bdb-4815-41ab-8936-521a67fdd908",
   "metadata": {},
   "outputs": [],
   "source": [
    "data_df = pd.merge(data_p, pol, on=\"kod_zsj\", how=\"left\")"
   ]
  },
  {
   "cell_type": "code",
   "execution_count": null,
   "id": "a25abe7f-111e-4dc9-a182-ee91c00fdfcb",
   "metadata": {},
   "outputs": [],
   "source": [
    "data_gdf = gpd.GeoDataFrame(data_df, geometry=\"geometry\", crs=pol.crs)"
   ]
  },
  {
   "cell_type": "code",
   "execution_count": null,
   "id": "b5d3eb06-6fe5-4fc8-b798-dbfb550689e7",
   "metadata": {},
   "outputs": [],
   "source": [
    "data_dissolved = data_gdf.dissolve(by=\"kod_nadzsj_d\", aggfunc=\"first\", as_index=False)"
   ]
  },
  {
   "cell_type": "code",
   "execution_count": null,
   "id": "c5618730-8c32-4362-b88b-2a73179b2e49",
   "metadata": {},
   "outputs": [],
   "source": [
    "data_dissolved"
   ]
  },
  {
   "cell_type": "code",
   "execution_count": null,
   "id": "5f51409b-bdeb-4989-977b-b7181bc5c272",
   "metadata": {},
   "outputs": [],
   "source": [
    "data.iloc[10000]"
   ]
  },
  {
   "cell_type": "code",
   "execution_count": null,
   "id": "c16cc5e8-b30e-4a7f-beee-6d35b257e3ca",
   "metadata": {},
   "outputs": [],
   "source": [
    "data_dissolved.iloc[10000]"
   ]
  },
  {
   "cell_type": "code",
   "execution_count": null,
   "id": "984d112a-81c9-42fe-809b-289ad020368e",
   "metadata": {},
   "outputs": [],
   "source": [
    "data_dissolved.plot()"
   ]
  },
  {
   "cell_type": "code",
   "execution_count": null,
   "id": "bf8ae2f4-6c5f-4d53-9375-93b5e0c06b30",
   "metadata": {},
   "outputs": [],
   "source": []
  },
  {
   "cell_type": "code",
   "execution_count": null,
   "id": "26254b5d-3634-4a41-bef1-072e6a53a041",
   "metadata": {},
   "outputs": [],
   "source": []
  }
 ],
 "metadata": {
  "kernelspec": {
   "display_name": "Python 3 (ipykernel)",
   "language": "python",
   "name": "python3"
  },
  "language_info": {
   "codemirror_mode": {
    "name": "ipython",
    "version": 3
   },
   "file_extension": ".py",
   "mimetype": "text/x-python",
   "name": "python",
   "nbconvert_exporter": "python",
   "pygments_lexer": "ipython3"
  }
 },
 "nbformat": 4,
 "nbformat_minor": 5
}
