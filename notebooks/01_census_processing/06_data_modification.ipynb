{
 "cells": [
  {
   "cell_type": "code",
   "execution_count": null,
   "id": "e69af4b7-f667-4401-9a79-c51848797c9c",
   "metadata": {},
   "outputs": [],
   "source": [
    "from glob import glob\n",
    "from pathlib import Path\n",
    "\n",
    "import geopandas as gpd\n",
    "import matplotlib.pyplot as plt\n",
    "import numpy as np\n",
    "import pandas as pd\n",
    "from factor_analyzer import FactorAnalyzer\n",
    "from sklearn.decomposition import PCA, FactorAnalysis\n",
    "from sklearn.preprocessing import StandardScaler"
   ]
  },
  {
   "cell_type": "code",
   "execution_count": null,
   "id": "ffc9fda9-7ca7-4c37-9e52-15d0c3eb0af6",
   "metadata": {},
   "outputs": [],
   "source": [
    "files = glob(\"/data/uscuni-restricted/04_spatial_census/*nadzsj*\")"
   ]
  },
  {
   "cell_type": "code",
   "execution_count": null,
   "id": "76fcedf5-4c4a-4c25-8526-52b9191ac150",
   "metadata": {},
   "outputs": [],
   "source": [
    "data0 = gpd.read_parquet(files[0])\n",
    "data0.columns"
   ]
  },
  {
   "cell_type": "code",
   "execution_count": null,
   "id": "0cefe0a2-308f-4053-a622-b47ebca9f074",
   "metadata": {},
   "outputs": [],
   "source": [
    "total = data0[[\"nadzsjd\", \"Obyvatelstvo celkem\"]].set_index(\"nadzsjd\")"
   ]
  },
  {
   "cell_type": "code",
   "execution_count": null,
   "id": "c9cc4807-93d9-4be4-9b36-d4b592310210",
   "metadata": {},
   "outputs": [],
   "source": [
    "total.to_csv(\"/data/uscuni-restricted/04_spatial_census/total.csv\", index=True)"
   ]
  },
  {
   "cell_type": "code",
   "execution_count": null,
   "id": "f867b3ca-0a08-4957-8da2-da5922c972f5",
   "metadata": {},
   "outputs": [],
   "source": [
    "data0.columns"
   ]
  },
  {
   "cell_type": "code",
   "execution_count": null,
   "id": "5d2e5e8b-d062-41ec-aa54-4c224ad808b3",
   "metadata": {},
   "outputs": [],
   "source": [
    "data0[\"Obyvatelstvo - věk: 0 - 6  - celkem\"] = data0[\n",
    "    [\n",
    "        \"Obyvatelstvo - věk: 0 - 2  - celkem\",\n",
    "        \"Obyvatelstvo - věk: 3 - 4  - celkem\",\n",
    "        \"Obyvatelstvo - věk: 5  - 6 - celkem\",\n",
    "    ]\n",
    "].sum(axis=1)\n",
    "data0[\"Obyvatelstvo - věk: 7 - 14  - celkem\"] = data0[\n",
    "    [\"Obyvatelstvo - věk: 7 - 9  - celkem\", \"Obyvatelstvo - věk: 10 - 14  - celkem\"]\n",
    "].sum(axis=1)\n",
    "data0[\"Obyvatelstvo - věk: 15 - 24  - celkem\"] = data0[\n",
    "    [\n",
    "        \"Obyvatelstvo - věk: 15 - 17  - celkem\",\n",
    "        \"Obyvatelstvo - věk: 18 - 19  - celkem\",\n",
    "        \"Obyvatelstvo - věk: 20 - 24  - celkem\",\n",
    "    ]\n",
    "].sum(axis=1)\n",
    "data0[\"Obyvatelstvo - věk: 25 - 34  - celkem\"] = data0[\n",
    "    [\"Obyvatelstvo - věk: 25 - 29  - celkem\", \"Obyvatelstvo - věk: 30 - 34  - celkem\"]\n",
    "].sum(axis=1)\n",
    "data0[\"Obyvatelstvo - věk: 35 - 44  - celkem\"] = data0[\n",
    "    [\n",
    "        \"Obyvatelstvo - věk: 35 - 39  - celkem\",\n",
    "        \"Obyvatelstvo - věk: 40 - 44  - celkem\",\n",
    "    ]\n",
    "].sum(axis=1)\n",
    "data0[\"Obyvatelstvo - věk: 45 - 54  - celkem\"] = data0[\n",
    "    [\n",
    "        \"Obyvatelstvo - věk: 45 - 49  - celkem\",\n",
    "        \"Obyvatelstvo - věk: 50 - 54  - celkem\",\n",
    "    ]\n",
    "].sum(axis=1)\n",
    "data0[\"Obyvatelstvo - věk: 55 - 64  - celkem\"] = data0[\n",
    "    [\"Obyvatelstvo - věk: 55 - 59  - celkem\", \"Obyvatelstvo - věk: 60 - 64  - celkem\"]\n",
    "].sum(axis=1)\n",
    "data0[\"Obyvatelstvo - věk: 65 - 74  - celkem\"] = data0[\n",
    "    [\n",
    "        \"Obyvatelstvo - věk: 65 - 69  - celkem\",\n",
    "        \"Obyvatelstvo - věk: 70 - 74  - celkem\",\n",
    "    ]\n",
    "].sum(axis=1)\n",
    "data0[\"Obyvatelstvo - věk: 75 - 84  - celkem\"] = data0[\n",
    "    [\n",
    "        \"Obyvatelstvo - věk: 75 - 79  - celkem\",\n",
    "        \"Obyvatelstvo - věk: 80 - 84  - celkem\",\n",
    "    ]\n",
    "].sum(axis=1)"
   ]
  },
  {
   "cell_type": "code",
   "execution_count": null,
   "id": "3e3fe364-ede5-4256-9705-5397b043f3dc",
   "metadata": {},
   "outputs": [],
   "source": [
    "data0 = data0.drop(\n",
    "    columns=data0.loc[\n",
    "        :, \"Obyvatelstvo - věk: 0 - 2  - celkem\":\"Obyvatelstvo - věk: 80 - 84  - celkem\"\n",
    "    ].columns\n",
    ")"
   ]
  },
  {
   "cell_type": "code",
   "execution_count": null,
   "id": "5d9621ff-e52a-4597-b1d0-6e7856621dbe",
   "metadata": {},
   "outputs": [],
   "source": [
    "data0 = data0.drop(columns=\"Obyvatelstvo celkem\")"
   ]
  },
  {
   "cell_type": "code",
   "execution_count": null,
   "id": "b9bcea13-0cd3-4b73-8f40-8ba0e0b1dcb9",
   "metadata": {},
   "outputs": [],
   "source": [
    "data0.to_parquet(\n",
    "    \"/data/uscuni-restricted/04_spatial_census/nadzsjd_pop_age_gender_2021.parquet\"\n",
    ")"
   ]
  },
  {
   "cell_type": "code",
   "execution_count": null,
   "id": "33f523d8-1f0e-43ca-ab80-37015105c57f",
   "metadata": {},
   "outputs": [],
   "source": [
    "for file in files:\n",
    "    df = gpd.read_parquet(file)\n",
    "    if \"Obyvatelstvo celkem\" in df.columns:\n",
    "        df = df.drop(columns=\"Obyvatelstvo celkem\")\n",
    "        df.to_parquet(file)"
   ]
  },
  {
   "cell_type": "code",
   "execution_count": null,
   "id": "7f747eff-ef3e-4a88-ba7f-eac927b8dd73",
   "metadata": {},
   "outputs": [],
   "source": []
  }
 ],
 "metadata": {
  "kernelspec": {
   "display_name": "Python 3 (ipykernel)",
   "language": "python",
   "name": "python3"
  },
  "language_info": {
   "codemirror_mode": {
    "name": "ipython",
    "version": 3
   },
   "file_extension": ".py",
   "mimetype": "text/x-python",
   "name": "python",
   "nbconvert_exporter": "python",
   "pygments_lexer": "ipython3"
  }
 },
 "nbformat": 4,
 "nbformat_minor": 5
}
