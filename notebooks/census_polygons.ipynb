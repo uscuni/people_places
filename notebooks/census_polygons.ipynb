{
 "cells": [
  {
   "cell_type": "markdown",
   "id": "09630640-8ecd-41f4-bb89-aa40c66108a4",
   "metadata": {},
   "source": [
    "# Census data merging\n",
    "\n",
    "This notebook merges preprocessed and cleaned data from CSU with polygons"
   ]
  },
  {
   "cell_type": "code",
   "execution_count": null,
   "id": "d87f5141-0c7f-4351-baf2-26ab1e673b07",
   "metadata": {},
   "outputs": [],
   "source": [
    "from glob import glob\n",
    "import pandas as pd\n",
    "import geopandas as gpd\n",
    "from pathlib import Path"
   ]
  },
  {
   "cell_type": "code",
   "execution_count": null,
   "id": "d8e30191-510c-4440-bf1c-e93fd9edd41c",
   "metadata": {},
   "outputs": [],
   "source": [
    "# Read polygons\n",
    "polygons = gpd.read_file(\n",
    "    \"/data/uscuni-restricted/Data_SLDB_2021/zsj_sldb_2021_-7697413790081074647.zip\"\n",
    ")\n",
    "polygons.head(2)"
   ]
  },
  {
   "cell_type": "code",
   "execution_count": null,
   "id": "ea0d21e1-c466-4584-ad14-197116bed203",
   "metadata": {},
   "outputs": [],
   "source": [
    "# Prepare data for merging\n",
    "polygons = polygons.iloc[:, [0, 1, -1]]\n",
    "polygons = polygons.rename(columns={\"KOD_ZSJ_P\": \"kod_zsj\"})\n",
    "polygons[\"geometry\"] = polygons.geometry.force_2d()\n",
    "polygons.head(2)"
   ]
  },
  {
   "cell_type": "code",
   "execution_count": null,
   "id": "6e3037c6-c3d7-471a-9cae-7da734eb6886",
   "metadata": {},
   "outputs": [],
   "source": [
    "# Read data for converting between zsj and nadzsj\n",
    "converter = pd.read_excel(\n",
    "    \"/data/uscuni-restricted/Data_SLDB_2021/zsj_data/ZSJD_slouceneZSJD/sloucene/_prevodnik_zsjd_nadzsjd.xlsx\"\n",
    ")"
   ]
  },
  {
   "cell_type": "code",
   "execution_count": null,
   "id": "ad1dc82e-057c-4865-8c86-58387375ab1c",
   "metadata": {},
   "outputs": [],
   "source": [
    "# Prepare data for merging\n",
    "converter.columns = converter.iloc[2]\n",
    "converter = converter.iloc[4:]\n",
    "converter = converter.iloc[:, 18:]\n",
    "converter[\"kod_nadzsj_d\"] = converter[\"kod_nadzsj_d\"].astype(int)\n",
    "converter.head(5)"
   ]
  },
  {
   "cell_type": "code",
   "execution_count": null,
   "id": "836c5194-6995-4f34-8d8e-82f7433608be",
   "metadata": {},
   "outputs": [],
   "source": [
    "# Read processed data\n",
    "files = glob(\"/data/uscuni-restricted/ready_census/*.csv\")"
   ]
  },
  {
   "cell_type": "code",
   "execution_count": null,
   "id": "030e4d58-e4c7-4498-8fb3-c2c7d8f2c7eb",
   "metadata": {},
   "outputs": [],
   "source": [
    "# Process all files\n",
    "for file in files:\n",
    "    # Read path of the files\n",
    "    path = Path(file)\n",
    "    # Open data\n",
    "    data = pd.read_csv(path)\n",
    "    # Merge data\n",
    "    data_c = pd.merge(\n",
    "        data,\n",
    "        converter[[\"kod_zsj\", \"kod_nadzsj_d\"]],\n",
    "        left_on=\"nadzsjd\",\n",
    "        right_on=\"kod_nadzsj_d\",\n",
    "        how=\"left\",\n",
    "    )\n",
    "    data_df = pd.merge(data_c, polygons, on=\"kod_zsj\", how=\"left\")\n",
    "    # Convert to gdf\n",
    "    data_gdf = gpd.GeoDataFrame(data_df, geometry=\"geometry\", crs=polygons.crs)\n",
    "    # Dissolve the merged zsj\n",
    "    data_dissolved = data_gdf.dissolve(\n",
    "        by=\"kod_nadzsj_d\", aggfunc=\"first\", as_index=False\n",
    "    )\n",
    "    # Save the new dataset\n",
    "    data_dissolved.to_parquet(\n",
    "        f\"/data/uscuni-restricted/geometries/{path.stem}.parquet\", index=False\n",
    "    )"
   ]
  }
 ],
 "metadata": {
  "kernelspec": {
   "display_name": "Python 3 (ipykernel)",
   "language": "python",
   "name": "python3"
  },
  "language_info": {
   "codemirror_mode": {
    "name": "ipython",
    "version": 3
   },
   "file_extension": ".py",
   "mimetype": "text/x-python",
   "name": "python",
   "nbconvert_exporter": "python",
   "pygments_lexer": "ipython3"
  }
 },
 "nbformat": 4,
 "nbformat_minor": 5
}
