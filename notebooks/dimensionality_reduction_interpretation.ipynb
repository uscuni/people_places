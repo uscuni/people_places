{
 "cells": [
  {
   "cell_type": "markdown",
   "id": "617e19cb-cb8a-4d34-80da-564648888eeb",
   "metadata": {},
   "source": [
    "# Interpreting PCAs \n"
   ]
  },
  {
   "cell_type": "code",
   "execution_count": null,
   "id": "dd5c37be-996d-42bc-b1db-7dbbc0110cad",
   "metadata": {},
   "outputs": [],
   "source": [
    "import geopandas as gpd\n",
    "import matplotlib.pyplot as plt\n",
    "import numpy as np\n",
    "import pandas as pd\n",
    "import seaborn as sns\n",
    "from sklearn.decomposition import PCA, FactorAnalysis\n",
    "from sklearn.preprocessing import StandardScaler"
   ]
  },
  {
   "cell_type": "code",
   "execution_count": null,
   "id": "cd4f217d-7405-4574-b96b-4df4112e05d2",
   "metadata": {},
   "outputs": [],
   "source": [
    "total = pd.read_csv(\n",
    "    \"/data/uscuni-restricted/01_preprocessed_census/nadzsjd_vek_pohlavi_2021.csv\",\n",
    "    dtype={\"nadzsjd\": str},\n",
    ")"
   ]
  },
  {
   "cell_type": "code",
   "execution_count": null,
   "id": "5a865a22-65c2-4ca8-af79-5edc0496234d",
   "metadata": {},
   "outputs": [],
   "source": [
    "total = total.iloc[:, 12:14]\n",
    "total"
   ]
  },
  {
   "cell_type": "code",
   "execution_count": null,
   "id": "d076b26b-07a2-4ed3-9dd4-6b378aa79c1a",
   "metadata": {},
   "outputs": [],
   "source": [
    "data = gpd.read_parquet(\n",
    "    \"/data/uscuni-restricted/04_spatial_census/nadzsjd_pop_status_gender_2021.parquet\"\n",
    ")\n",
    "data_total = pd.merge(\n",
    "    data,\n",
    "    total,\n",
    "    on=\"nadzsjd\",\n",
    "    how=\"left\",\n",
    ")"
   ]
  },
  {
   "cell_type": "code",
   "execution_count": null,
   "id": "8cb641fc-7102-41ad-9aed-a16e4a12b1ff",
   "metadata": {},
   "outputs": [],
   "source": [
    "data_census = data_total.drop(data.columns[:13], axis=1)"
   ]
  },
  {
   "cell_type": "code",
   "execution_count": null,
   "id": "30fb6255-003b-445e-9326-0e3438564c69",
   "metadata": {},
   "outputs": [],
   "source": [
    "data_sum = data_census.iloc[:, 12:-2].sum(axis=1)"
   ]
  },
  {
   "cell_type": "code",
   "execution_count": null,
   "id": "435fb0d1-f5d0-4b86-93db-a39a462a3999",
   "metadata": {},
   "outputs": [],
   "source": [
    "data_relative = data_census.drop(columns=\"geometry\")"
   ]
  },
  {
   "cell_type": "code",
   "execution_count": null,
   "id": "6b15f70f-9c15-4582-9a69-f6bf64161ab7",
   "metadata": {},
   "outputs": [],
   "source": [
    "cols_to_normalize = data_relative.columns.difference([\"Obyvatelstvo celkem\"])\n",
    "data_relative[cols_to_normalize] = data_relative[cols_to_normalize].div(\n",
    "    data_relative[\"Obyvatelstvo celkem\"], axis=0\n",
    ")\n",
    "\n",
    "data_relative"
   ]
  },
  {
   "cell_type": "code",
   "execution_count": null,
   "id": "a2052a03-ca3e-4291-b7ab-ec9039476645",
   "metadata": {},
   "outputs": [],
   "source": [
    "data_relative = data_relative.dropna(axis=0)"
   ]
  },
  {
   "cell_type": "code",
   "execution_count": null,
   "id": "bb8f0da8-d812-4e1f-aeee-284c12cab47a",
   "metadata": {},
   "outputs": [],
   "source": [
    "data_relative"
   ]
  },
  {
   "cell_type": "code",
   "execution_count": null,
   "id": "eef51168-5c43-4bb2-ae8b-7ad15f2986bd",
   "metadata": {},
   "outputs": [],
   "source": [
    "scaler = StandardScaler()\n",
    "data_relative = pd.DataFrame(\n",
    "    scaler.fit_transform(data_relative),\n",
    "    columns=data_relative.columns,\n",
    "    index=data_relative.index,\n",
    ")"
   ]
  },
  {
   "cell_type": "code",
   "execution_count": null,
   "id": "90e8acd9-d43a-4dfe-ac1a-2689ce6bb060",
   "metadata": {},
   "outputs": [],
   "source": [
    "data_relative"
   ]
  },
  {
   "cell_type": "markdown",
   "id": "7bf0dac6-ae95-4873-bdac-7f8b5851b018",
   "metadata": {},
   "source": [
    "## Perform PCA"
   ]
  },
  {
   "cell_type": "code",
   "execution_count": null,
   "id": "c7ff6541-296a-4796-aac0-804b5590caaa",
   "metadata": {},
   "outputs": [],
   "source": [
    "pca = PCA(n_components=7)\n",
    "pca.fit(data_relative.iloc[:, :-1])\n",
    "pca.explained_variance_ratio_"
   ]
  },
  {
   "cell_type": "code",
   "execution_count": null,
   "id": "033796b8-daab-4cb1-a475-7a265f42aa1a",
   "metadata": {},
   "outputs": [],
   "source": [
    "np.cumsum(pca.explained_variance_ratio_)"
   ]
  },
  {
   "cell_type": "code",
   "execution_count": null,
   "id": "e273608c-65a0-4d46-9c7d-b990f0775095",
   "metadata": {},
   "outputs": [],
   "source": [
    "plt.plot(np.cumsum(pca.explained_variance_ratio_), marker=\"o\")"
   ]
  },
  {
   "cell_type": "code",
   "execution_count": null,
   "id": "183e8617-3843-4232-bc99-e9ac1f78c29e",
   "metadata": {},
   "outputs": [],
   "source": [
    "# Compute Loadings\n",
    "loadings = pca.components_.T * np.sqrt(pca.explained_variance_)\n",
    "\n",
    "# Convert to DataFrame for readability\n",
    "loadings_df = pd.DataFrame(\n",
    "    loadings.T,\n",
    "    index=[f\"PC{i + 1}\" for i in range(pca.explained_variance_.shape[0])],\n",
    "    columns=data_relative.iloc[:, :-1].columns,\n",
    ")"
   ]
  },
  {
   "cell_type": "code",
   "execution_count": null,
   "id": "767af2b7-3503-4057-9fa2-4d2d99efd596",
   "metadata": {},
   "outputs": [],
   "source": [
    "loadings_df"
   ]
  },
  {
   "cell_type": "markdown",
   "id": "92e61eca-bf75-40f2-a6b1-963a53443e9d",
   "metadata": {},
   "source": [
    "# Plot"
   ]
  },
  {
   "cell_type": "code",
   "execution_count": null,
   "id": "c0382f08-6d23-4ce1-961d-72188bcb5525",
   "metadata": {},
   "outputs": [],
   "source": [
    "import matplotlib.pyplot as plt\n",
    "\n",
    "# unused but required import for doing 3d projections with matplotlib < 3.2\n",
    "import mpl_toolkits.mplot3d  # noqa: F401\n",
    "from sklearn.decomposition import PCA\n",
    "\n",
    "fig = plt.figure(1, figsize=(8, 6))\n",
    "ax = fig.add_subplot(111, projection=\"3d\", elev=-150, azim=110)\n",
    "\n",
    "X_reduced = pca.fit_transform(data_relative.iloc[:, :-1])\n",
    "scatter = ax.scatter(\n",
    "    X_reduced[:, 0],\n",
    "    X_reduced[:, 1],\n",
    "    X_reduced[:, 2],\n",
    "    s=40,\n",
    ")\n",
    "\n",
    "ax.set(\n",
    "    title=\"First three PCA dimensions\",\n",
    "    xlabel=\"1st Eigenvector\",\n",
    "    ylabel=\"2nd Eigenvector\",\n",
    "    zlabel=\"3rd Eigenvector\",\n",
    ")\n",
    "ax.xaxis.set_ticklabels([])\n",
    "ax.yaxis.set_ticklabels([])\n",
    "ax.zaxis.set_ticklabels([])\n",
    "\n",
    "plt.show()"
   ]
  },
  {
   "cell_type": "code",
   "execution_count": null,
   "id": "187ec0be-ca07-4e58-a81d-558b7d0fa0d5",
   "metadata": {},
   "outputs": [],
   "source": [
    "pca_scores = pca.fit_transform(data_relative.iloc[:, :-1])"
   ]
  },
  {
   "cell_type": "code",
   "execution_count": null,
   "id": "2845a1fb-e712-48c1-a062-9a7adf36952e",
   "metadata": {},
   "outputs": [],
   "source": [
    "# Scatter plot of PC1 vs PC2\n",
    "plt.figure(figsize=(8, 6))\n",
    "sns.scatterplot(x=pca_scores[:, 0], y=pca_scores[:, 1])\n",
    "plt.xlabel(\"PC1\")\n",
    "plt.ylabel(\"PC2\")\n",
    "plt.title(\"PCA: PC1 vs PC2\")\n",
    "plt.axhline(0, color=\"gray\", linestyle=\"--\")\n",
    "plt.axvline(0, color=\"gray\", linestyle=\"--\")\n",
    "plt.show()"
   ]
  },
  {
   "cell_type": "code",
   "execution_count": null,
   "id": "551bb631-41e7-4cdb-9bf8-53714099fe97",
   "metadata": {},
   "outputs": [],
   "source": [
    "def biplot(pca_scores, feature_names):\n",
    "    plt.figure(figsize=(8, 6))\n",
    "    plt.scatter(pca_scores[:, 0], pca_scores[:, 1], alpha=0.5)\n",
    "    scaling_factor1 = 10  # Adjust the scale of arrows\n",
    "    scaling_factor2 = 20\n",
    "\n",
    "    for i, feature in enumerate(feature_names):\n",
    "        plt.arrow(\n",
    "            0,\n",
    "            0,\n",
    "            loadings[i, 0] * scaling_factor1,\n",
    "            loadings[i, 1] * scaling_factor2,\n",
    "            color=\"red\",\n",
    "            alpha=1,\n",
    "            head_width=1,\n",
    "            head_length=1,\n",
    "        )\n",
    "        plt.text(\n",
    "            loadings[i, 0] * scaling_factor1 * 1.1,\n",
    "            loadings[i, 1] * scaling_factor2 * 1.1,\n",
    "            s=feature,\n",
    "            color=\"black\",\n",
    "            ha=\"center\",\n",
    "            va=\"center\",\n",
    "        )\n",
    "\n",
    "    plt.xlabel(\"PC1\")\n",
    "    plt.ylabel(\"PC2\")\n",
    "    plt.axhline(0, color=\"gray\", linestyle=\"--\")\n",
    "    plt.axvline(0, color=\"gray\", linestyle=\"--\")\n",
    "    plt.title(\"PCA Biplot (PC1 vs PC2)\")\n",
    "    plt.show()\n",
    "\n",
    "\n",
    "biplot(pca, pca_scores, data_relative.iloc[:, :-1].columns)"
   ]
  },
  {
   "cell_type": "markdown",
   "id": "747b14b1-cc8f-4694-a4e6-87602cf065e6",
   "metadata": {},
   "source": [
    "# Save PCs"
   ]
  },
  {
   "cell_type": "code",
   "execution_count": null,
   "id": "aef812b6-7df4-4a52-a508-a1f1d973af3c",
   "metadata": {},
   "outputs": [],
   "source": [
    "pca.transform(data_relative)"
   ]
  },
  {
   "cell_type": "code",
   "execution_count": null,
   "id": "07744650-d9b6-42c3-b2ff-3d21741603bf",
   "metadata": {},
   "outputs": [],
   "source": [
    "columns = [f\"pca_ {i}\" for i in range(pca.explained_variance_.shape[0])]\n",
    "df_pca = pd.DataFrame(\n",
    "    pca.transform(data_relative.iloc[:, :-1]),\n",
    "    columns=columns,\n",
    "    index=data_relative.iloc[:, :-1].index,\n",
    ")"
   ]
  },
  {
   "cell_type": "code",
   "execution_count": null,
   "id": "cc9603f7-3e7a-44f3-b01a-0d4860d5bd77",
   "metadata": {},
   "outputs": [],
   "source": [
    "df_pca"
   ]
  },
  {
   "cell_type": "code",
   "execution_count": null,
   "id": "ef571b4e-a6a0-4d52-9971-f45982907567",
   "metadata": {},
   "outputs": [],
   "source": [
    "df_pca.to_parquet(\n",
    "    \"/data/uscuni-restricted/05_pcs/nadzsjd_pop_status_gender_2021.parquet\"\n",
    ")"
   ]
  },
  {
   "cell_type": "code",
   "execution_count": null,
   "id": "cb195388-f110-446d-a5d7-514711e3a382",
   "metadata": {},
   "outputs": [],
   "source": []
  }
 ],
 "metadata": {
  "kernelspec": {
   "display_name": "Python 3 (ipykernel)",
   "language": "python",
   "name": "python3"
  },
  "language_info": {
   "codemirror_mode": {
    "name": "ipython",
    "version": 3
   },
   "file_extension": ".py",
   "mimetype": "text/x-python",
   "name": "python",
   "nbconvert_exporter": "python",
   "pygments_lexer": "ipython3"
  }
 },
 "nbformat": 4,
 "nbformat_minor": 5
}
