{
 "cells": [
  {
   "cell_type": "markdown",
   "id": "d1dc4f80-8b0b-4078-945a-de6872b33648",
   "metadata": {},
   "source": [
    "# Column names correction\n",
    "\n",
    "This notebook corrects the column names"
   ]
  },
  {
   "cell_type": "code",
   "execution_count": null,
   "id": "cb056b56-11dc-4ce4-b431-7b5f44376645",
   "metadata": {},
   "outputs": [],
   "source": [
    "import pandas as pd\n",
    "from glob import glob"
   ]
  },
  {
   "cell_type": "code",
   "execution_count": null,
   "id": "32428ab1-c306-4304-8f2c-b082bd525e22",
   "metadata": {},
   "outputs": [],
   "source": [
    "files = glob(\"/data/uscuni-restricted/geometries/*.parquet\")\n",
    "# Process all files\n",
    "for path in files:\n",
    "    # Read path of the files\n",
    "    data = pd.read_parquet(path)\n",
    "    series = data.columns\n",
    "    series = series.str.lstrip(\" \")\n",
    "    data.columns = series\n",
    "    data.to_parquet(path, index=False)"
   ]
  }
 ],
 "metadata": {
  "kernelspec": {
   "display_name": "Python 3 (ipykernel)",
   "language": "python",
   "name": "python3"
  },
  "language_info": {
   "codemirror_mode": {
    "name": "ipython",
    "version": 3
   },
   "file_extension": ".py",
   "mimetype": "text/x-python",
   "name": "python",
   "nbconvert_exporter": "python",
   "pygments_lexer": "ipython3"
  }
 },
 "nbformat": 4,
 "nbformat_minor": 5
}
